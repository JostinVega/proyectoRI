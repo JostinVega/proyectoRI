{
 "cells": [
  {
   "cell_type": "markdown",
   "metadata": {},
   "source": [
    "# Proyecto Segundo Bimestre: Desarrollo de un sistema de generación aumentada por recuperación RAG "
   ]
  },
  {
   "cell_type": "markdown",
   "metadata": {},
   "source": [
    "Nombres:\n",
    "Jostin Vega,\n",
    "Gabriela Salazar,\n",
    "Vickiann Jiménez\n",
    "\n",
    "El presente proyecto busca desarrollar un sistema RAG que permita la recuperación de información de los 16 candidatos presidenciales y sus propuestas de campaña previo a los comisios electorales en Ecuador del 09 de febrero del 2025\n",
    "A continuación, se presenta los códigos utilizados para el desarrollo del proyecto. "
   ]
  },
  {
   "cell_type": "markdown",
   "metadata": {},
   "source": [
    "## 0. Construcción del Corpus\n",
    "### Obtención de entrevistas\n",
    "Extracción del audio de las entrevistas realizadas a los candidatos presidenciales. Los audios fueron extraidos a partir de videos en Youtube para posteriormente se pasados a texto, ser procesados y formar parte del corpus del presente proyecto."
   ]
  },
  {
   "cell_type": "markdown",
   "metadata": {},
   "source": [
    "#### Instalaciones necesarias"
   ]
  },
  {
   "cell_type": "code",
   "execution_count": null,
   "metadata": {
    "colab": {
     "background_save": true,
     "base_uri": "https://localhost:8080/"
    },
    "id": "XncqB5WvoBsd",
    "outputId": "d057bbbc-3ac2-4fca-c66d-38cf34e099be"
   },
   "outputs": [
    {
     "name": "stdout",
     "output_type": "stream",
     "text": [
      "Collecting git+https://github.com/openai/whisper\n",
      "  Cloning https://github.com/openai/whisper to /tmp/pip-req-build-bo219cr1\n",
      "  Running command git clone --filter=blob:none --quiet https://github.com/openai/whisper /tmp/pip-req-build-bo219cr1\n",
      "  Resolved https://github.com/openai/whisper to commit 517a43ecd132a2089d85f4ebc044728a71d49f6e\n",
      "  Installing build dependencies ... \u001b[?25l\u001b[?25hdone\n",
      "  Getting requirements to build wheel ... \u001b[?25l\u001b[?25hdone\n",
      "  Preparing metadata (pyproject.toml) ... \u001b[?25l\u001b[?25hdone\n",
      "Requirement already satisfied: more-itertools in /usr/local/lib/python3.11/dist-packages (from openai-whisper==20240930) (10.5.0)\n",
      "Requirement already satisfied: numba in /usr/local/lib/python3.11/dist-packages (from openai-whisper==20240930) (0.60.0)\n",
      "Requirement already satisfied: numpy in /usr/local/lib/python3.11/dist-packages (from openai-whisper==20240930) (1.26.4)\n",
      "Collecting tiktoken (from openai-whisper==20240930)\n",
      "  Downloading tiktoken-0.8.0-cp311-cp311-manylinux_2_17_x86_64.manylinux2014_x86_64.whl.metadata (6.6 kB)\n",
      "Requirement already satisfied: torch in /usr/local/lib/python3.11/dist-packages (from openai-whisper==20240930) (2.5.1+cu124)\n",
      "Requirement already satisfied: tqdm in /usr/local/lib/python3.11/dist-packages (from openai-whisper==20240930) (4.67.1)\n",
      "Requirement already satisfied: triton>=2 in /usr/local/lib/python3.11/dist-packages (from openai-whisper==20240930) (3.1.0)\n",
      "Requirement already satisfied: filelock in /usr/local/lib/python3.11/dist-packages (from triton>=2->openai-whisper==20240930) (3.17.0)\n",
      "Requirement already satisfied: llvmlite<0.44,>=0.43.0dev0 in /usr/local/lib/python3.11/dist-packages (from numba->openai-whisper==20240930) (0.43.0)\n",
      "Requirement already satisfied: regex>=2022.1.18 in /usr/local/lib/python3.11/dist-packages (from tiktoken->openai-whisper==20240930) (2024.11.6)\n",
      "Requirement already satisfied: requests>=2.26.0 in /usr/local/lib/python3.11/dist-packages (from tiktoken->openai-whisper==20240930) (2.32.3)\n",
      "Requirement already satisfied: typing-extensions>=4.8.0 in /usr/local/lib/python3.11/dist-packages (from torch->openai-whisper==20240930) (4.12.2)\n",
      "Requirement already satisfied: networkx in /usr/local/lib/python3.11/dist-packages (from torch->openai-whisper==20240930) (3.4.2)\n",
      "Requirement already satisfied: jinja2 in /usr/local/lib/python3.11/dist-packages (from torch->openai-whisper==20240930) (3.1.5)\n",
      "Requirement already satisfied: fsspec in /usr/local/lib/python3.11/dist-packages (from torch->openai-whisper==20240930) (2024.10.0)\n",
      "Collecting nvidia-cuda-nvrtc-cu12==12.4.127 (from torch->openai-whisper==20240930)\n",
      "  Downloading nvidia_cuda_nvrtc_cu12-12.4.127-py3-none-manylinux2014_x86_64.whl.metadata (1.5 kB)\n",
      "Collecting nvidia-cuda-runtime-cu12==12.4.127 (from torch->openai-whisper==20240930)\n",
      "  Downloading nvidia_cuda_runtime_cu12-12.4.127-py3-none-manylinux2014_x86_64.whl.metadata (1.5 kB)\n",
      "Collecting nvidia-cuda-cupti-cu12==12.4.127 (from torch->openai-whisper==20240930)\n",
      "  Downloading nvidia_cuda_cupti_cu12-12.4.127-py3-none-manylinux2014_x86_64.whl.metadata (1.6 kB)\n",
      "Collecting nvidia-cudnn-cu12==9.1.0.70 (from torch->openai-whisper==20240930)\n",
      "  Downloading nvidia_cudnn_cu12-9.1.0.70-py3-none-manylinux2014_x86_64.whl.metadata (1.6 kB)\n",
      "Collecting nvidia-cublas-cu12==12.4.5.8 (from torch->openai-whisper==20240930)\n",
      "  Downloading nvidia_cublas_cu12-12.4.5.8-py3-none-manylinux2014_x86_64.whl.metadata (1.5 kB)\n",
      "Collecting nvidia-cufft-cu12==11.2.1.3 (from torch->openai-whisper==20240930)\n",
      "  Downloading nvidia_cufft_cu12-11.2.1.3-py3-none-manylinux2014_x86_64.whl.metadata (1.5 kB)\n",
      "Collecting nvidia-curand-cu12==10.3.5.147 (from torch->openai-whisper==20240930)\n",
      "  Downloading nvidia_curand_cu12-10.3.5.147-py3-none-manylinux2014_x86_64.whl.metadata (1.5 kB)\n",
      "Collecting nvidia-cusolver-cu12==11.6.1.9 (from torch->openai-whisper==20240930)\n",
      "  Downloading nvidia_cusolver_cu12-11.6.1.9-py3-none-manylinux2014_x86_64.whl.metadata (1.6 kB)\n",
      "Collecting nvidia-cusparse-cu12==12.3.1.170 (from torch->openai-whisper==20240930)\n",
      "  Downloading nvidia_cusparse_cu12-12.3.1.170-py3-none-manylinux2014_x86_64.whl.metadata (1.6 kB)\n",
      "Requirement already satisfied: nvidia-nccl-cu12==2.21.5 in /usr/local/lib/python3.11/dist-packages (from torch->openai-whisper==20240930) (2.21.5)\n",
      "Requirement already satisfied: nvidia-nvtx-cu12==12.4.127 in /usr/local/lib/python3.11/dist-packages (from torch->openai-whisper==20240930) (12.4.127)\n",
      "Collecting nvidia-nvjitlink-cu12==12.4.127 (from torch->openai-whisper==20240930)\n",
      "  Downloading nvidia_nvjitlink_cu12-12.4.127-py3-none-manylinux2014_x86_64.whl.metadata (1.5 kB)\n",
      "Requirement already satisfied: sympy==1.13.1 in /usr/local/lib/python3.11/dist-packages (from torch->openai-whisper==20240930) (1.13.1)\n",
      "Requirement already satisfied: mpmath<1.4,>=1.1.0 in /usr/local/lib/python3.11/dist-packages (from sympy==1.13.1->torch->openai-whisper==20240930) (1.3.0)\n",
      "Requirement already satisfied: charset-normalizer<4,>=2 in /usr/local/lib/python3.11/dist-packages (from requests>=2.26.0->tiktoken->openai-whisper==20240930) (3.4.1)\n",
      "Requirement already satisfied: idna<4,>=2.5 in /usr/local/lib/python3.11/dist-packages (from requests>=2.26.0->tiktoken->openai-whisper==20240930) (3.10)\n",
      "Requirement already satisfied: urllib3<3,>=1.21.1 in /usr/local/lib/python3.11/dist-packages (from requests>=2.26.0->tiktoken->openai-whisper==20240930) (2.3.0)\n",
      "Requirement already satisfied: certifi>=2017.4.17 in /usr/local/lib/python3.11/dist-packages (from requests>=2.26.0->tiktoken->openai-whisper==20240930) (2024.12.14)\n",
      "Requirement already satisfied: MarkupSafe>=2.0 in /usr/local/lib/python3.11/dist-packages (from jinja2->torch->openai-whisper==20240930) (3.0.2)\n",
      "Downloading tiktoken-0.8.0-cp311-cp311-manylinux_2_17_x86_64.manylinux2014_x86_64.whl (1.2 MB)\n",
      "\u001b[2K   \u001b[90m━━━━━━━━━━━━━━━━━━━━━━━━━━━━━━━━━━━━━━━━\u001b[0m \u001b[32m1.2/1.2 MB\u001b[0m \u001b[31m24.9 MB/s\u001b[0m eta \u001b[36m0:00:00\u001b[0m\n",
      "\u001b[?25hDownloading nvidia_cublas_cu12-12.4.5.8-py3-none-manylinux2014_x86_64.whl (363.4 MB)\n",
      "\u001b[2K   \u001b[90m━━━━━━━━━━━━━━━━━━━━━━━━━━━━━━━━━━━━━━━━\u001b[0m \u001b[32m363.4/363.4 MB\u001b[0m \u001b[31m3.9 MB/s\u001b[0m eta \u001b[36m0:00:00\u001b[0m\n",
      "\u001b[?25hDownloading nvidia_cuda_cupti_cu12-12.4.127-py3-none-manylinux2014_x86_64.whl (13.8 MB)\n",
      "\u001b[2K   \u001b[90m━━━━━━━━━━━━━━━━━━━━━━━━━━━━━━━━━━━━━━━━\u001b[0m \u001b[32m13.8/13.8 MB\u001b[0m \u001b[31m89.4 MB/s\u001b[0m eta \u001b[36m0:00:00\u001b[0m\n",
      "\u001b[?25hDownloading nvidia_cuda_nvrtc_cu12-12.4.127-py3-none-manylinux2014_x86_64.whl (24.6 MB)\n",
      "\u001b[2K   \u001b[90m━━━━━━━━━━━━━━━━━━━━━━━━━━━━━━━━━━━━━━━━\u001b[0m \u001b[32m24.6/24.6 MB\u001b[0m \u001b[31m77.9 MB/s\u001b[0m eta \u001b[36m0:00:00\u001b[0m\n",
      "\u001b[?25hDownloading nvidia_cuda_runtime_cu12-12.4.127-py3-none-manylinux2014_x86_64.whl (883 kB)\n",
      "\u001b[2K   \u001b[90m━━━━━━━━━━━━━━━━━━━━━━━━━━━━━━━━━━━━━━━━\u001b[0m \u001b[32m883.7/883.7 kB\u001b[0m \u001b[31m46.5 MB/s\u001b[0m eta \u001b[36m0:00:00\u001b[0m\n",
      "\u001b[?25hDownloading nvidia_cudnn_cu12-9.1.0.70-py3-none-manylinux2014_x86_64.whl (664.8 MB)\n",
      "\u001b[2K   \u001b[90m━━━━━━━━━━━━━━━━━━━━━━━━━━━━━━━━━━━━━━━━\u001b[0m \u001b[32m664.8/664.8 MB\u001b[0m \u001b[31m2.0 MB/s\u001b[0m eta \u001b[36m0:00:00\u001b[0m\n",
      "\u001b[?25hDownloading nvidia_cufft_cu12-11.2.1.3-py3-none-manylinux2014_x86_64.whl (211.5 MB)\n",
      "\u001b[2K   \u001b[90m━━━━━━━━━━━━━━━━━━━━━━━━━━━━━━━━━━━━━━━━\u001b[0m \u001b[32m211.5/211.5 MB\u001b[0m \u001b[31m5.9 MB/s\u001b[0m eta \u001b[36m0:00:00\u001b[0m\n",
      "\u001b[?25hDownloading nvidia_curand_cu12-10.3.5.147-py3-none-manylinux2014_x86_64.whl (56.3 MB)\n",
      "\u001b[2K   \u001b[90m━━━━━━━━━━━━━━━━━━━━━━━━━━━━━━━━━━━━━━━━\u001b[0m \u001b[32m56.3/56.3 MB\u001b[0m \u001b[31m10.6 MB/s\u001b[0m eta \u001b[36m0:00:00\u001b[0m\n",
      "\u001b[?25hDownloading nvidia_cusolver_cu12-11.6.1.9-py3-none-manylinux2014_x86_64.whl (127.9 MB)\n",
      "\u001b[2K   \u001b[90m━━━━━━━━━━━━━━━━━━━━━━━━━━━━━━━━━━━━━━━━\u001b[0m \u001b[32m127.9/127.9 MB\u001b[0m \u001b[31m8.1 MB/s\u001b[0m eta \u001b[36m0:00:00\u001b[0m\n",
      "\u001b[?25hDownloading nvidia_cusparse_cu12-12.3.1.170-py3-none-manylinux2014_x86_64.whl (207.5 MB)\n",
      "\u001b[2K   \u001b[90m━━━━━━━━━━━━━━━━━━━━━━━━━━━━━━━━━━━━━━━━\u001b[0m \u001b[32m207.5/207.5 MB\u001b[0m \u001b[31m5.6 MB/s\u001b[0m eta \u001b[36m0:00:00\u001b[0m\n",
      "\u001b[?25hDownloading nvidia_nvjitlink_cu12-12.4.127-py3-none-manylinux2014_x86_64.whl (21.1 MB)\n",
      "\u001b[2K   \u001b[90m━━━━━━━━━━━━━━━━━━━━━━━━━━━━━━━━━━━━━━━━\u001b[0m \u001b[32m21.1/21.1 MB\u001b[0m \u001b[31m24.6 MB/s\u001b[0m eta \u001b[36m0:00:00\u001b[0m\n",
      "\u001b[?25hBuilding wheels for collected packages: openai-whisper\n",
      "  Building wheel for openai-whisper (pyproject.toml) ... \u001b[?25l\u001b[?25hdone\n",
      "  Created wheel for openai-whisper: filename=openai_whisper-20240930-py3-none-any.whl size=803669 sha256=702763e7f13c30c63dd91002c101c4fec9d575dabc1a11843c8fbc99aad81d57\n",
      "  Stored in directory: /tmp/pip-ephem-wheel-cache-_gxsy9t2/wheels/51/d4/af/7f87f0769301da47905e3197b7fca6593e58dc0ea98997f9d3\n",
      "Successfully built openai-whisper\n",
      "Installing collected packages: nvidia-nvjitlink-cu12, nvidia-curand-cu12, nvidia-cufft-cu12, nvidia-cuda-runtime-cu12, nvidia-cuda-nvrtc-cu12, nvidia-cuda-cupti-cu12, nvidia-cublas-cu12, tiktoken, nvidia-cusparse-cu12, nvidia-cudnn-cu12, nvidia-cusolver-cu12, openai-whisper\n",
      "  Attempting uninstall: nvidia-nvjitlink-cu12\n",
      "    Found existing installation: nvidia-nvjitlink-cu12 12.5.82\n",
      "    Uninstalling nvidia-nvjitlink-cu12-12.5.82:\n",
      "      Successfully uninstalled nvidia-nvjitlink-cu12-12.5.82\n",
      "  Attempting uninstall: nvidia-curand-cu12\n",
      "    Found existing installation: nvidia-curand-cu12 10.3.6.82\n",
      "    Uninstalling nvidia-curand-cu12-10.3.6.82:\n",
      "      Successfully uninstalled nvidia-curand-cu12-10.3.6.82\n",
      "  Attempting uninstall: nvidia-cufft-cu12\n",
      "    Found existing installation: nvidia-cufft-cu12 11.2.3.61\n",
      "    Uninstalling nvidia-cufft-cu12-11.2.3.61:\n",
      "      Successfully uninstalled nvidia-cufft-cu12-11.2.3.61\n",
      "  Attempting uninstall: nvidia-cuda-runtime-cu12\n",
      "    Found existing installation: nvidia-cuda-runtime-cu12 12.5.82\n",
      "    Uninstalling nvidia-cuda-runtime-cu12-12.5.82:\n",
      "      Successfully uninstalled nvidia-cuda-runtime-cu12-12.5.82\n",
      "  Attempting uninstall: nvidia-cuda-nvrtc-cu12\n",
      "    Found existing installation: nvidia-cuda-nvrtc-cu12 12.5.82\n",
      "    Uninstalling nvidia-cuda-nvrtc-cu12-12.5.82:\n",
      "      Successfully uninstalled nvidia-cuda-nvrtc-cu12-12.5.82\n",
      "  Attempting uninstall: nvidia-cuda-cupti-cu12\n",
      "    Found existing installation: nvidia-cuda-cupti-cu12 12.5.82\n",
      "    Uninstalling nvidia-cuda-cupti-cu12-12.5.82:\n",
      "      Successfully uninstalled nvidia-cuda-cupti-cu12-12.5.82\n",
      "  Attempting uninstall: nvidia-cublas-cu12\n",
      "    Found existing installation: nvidia-cublas-cu12 12.5.3.2\n",
      "    Uninstalling nvidia-cublas-cu12-12.5.3.2:\n",
      "      Successfully uninstalled nvidia-cublas-cu12-12.5.3.2\n",
      "  Attempting uninstall: nvidia-cusparse-cu12\n",
      "    Found existing installation: nvidia-cusparse-cu12 12.5.1.3\n",
      "    Uninstalling nvidia-cusparse-cu12-12.5.1.3:\n",
      "      Successfully uninstalled nvidia-cusparse-cu12-12.5.1.3\n",
      "  Attempting uninstall: nvidia-cudnn-cu12\n",
      "    Found existing installation: nvidia-cudnn-cu12 9.3.0.75\n",
      "    Uninstalling nvidia-cudnn-cu12-9.3.0.75:\n",
      "      Successfully uninstalled nvidia-cudnn-cu12-9.3.0.75\n",
      "  Attempting uninstall: nvidia-cusolver-cu12\n",
      "    Found existing installation: nvidia-cusolver-cu12 11.6.3.83\n",
      "    Uninstalling nvidia-cusolver-cu12-11.6.3.83:\n",
      "      Successfully uninstalled nvidia-cusolver-cu12-11.6.3.83\n",
      "Successfully installed nvidia-cublas-cu12-12.4.5.8 nvidia-cuda-cupti-cu12-12.4.127 nvidia-cuda-nvrtc-cu12-12.4.127 nvidia-cuda-runtime-cu12-12.4.127 nvidia-cudnn-cu12-9.1.0.70 nvidia-cufft-cu12-11.2.1.3 nvidia-curand-cu12-10.3.5.147 nvidia-cusolver-cu12-11.6.1.9 nvidia-cusparse-cu12-12.3.1.170 nvidia-nvjitlink-cu12-12.4.127 openai-whisper-20240930 tiktoken-0.8.0\n"
     ]
    }
   ],
   "source": [
    "#Instalación de Whisper, modelo de reconocimiento automático de voz desarrollado por OpenAI. \n",
    "# Se utiliza la la transcripción y traducción de audio a texto\n",
    "pip install git+https://github.com/openai/whisper"
   ]
  },
  {
   "cell_type": "code",
   "execution_count": null,
   "metadata": {
    "colab": {
     "background_save": true,
     "base_uri": "https://localhost:8080/"
    },
    "id": "HzVtG2aIoCrn",
    "outputId": "f44225f1-ec16-4164-dd48-57f029abcf3c"
   },
   "outputs": [
    {
     "name": "stdout",
     "output_type": "stream",
     "text": [
      "Collecting pytube\n",
      "  Downloading pytube-15.0.0-py3-none-any.whl.metadata (5.0 kB)\n",
      "Downloading pytube-15.0.0-py3-none-any.whl (57 kB)\n",
      "\u001b[2K   \u001b[90m━━━━━━━━━━━━━━━━━━━━━━━━━━━━━━━━━━━━━━━━\u001b[0m \u001b[32m57.6/57.6 kB\u001b[0m \u001b[31m3.5 MB/s\u001b[0m eta \u001b[36m0:00:00\u001b[0m\n",
      "\u001b[?25hInstalling collected packages: pytube\n",
      "Successfully installed pytube-15.0.0\n"
     ]
    }
   ],
   "source": [
    "# Instalación de la librería Pytube, \n",
    "# biblioteca de Python que permite la descarga de videos de YouTube \n",
    "# y la extracción de sus audios.\n",
    "pip install pytube"
   ]
  },
  {
   "cell_type": "code",
   "execution_count": null,
   "metadata": {
    "colab": {
     "background_save": true,
     "base_uri": "https://localhost:8080/"
    },
    "id": "K2O_NtPNoEvI",
    "outputId": "a2bf7b01-6699-4ae1-fbe0-1bc8f142d392"
   },
   "outputs": [
    {
     "name": "stdout",
     "output_type": "stream",
     "text": [
      "Requirement already satisfied: pytube in /usr/local/lib/python3.11/dist-packages (15.0.0)\n"
     ]
    }
   ],
   "source": [
    "pip install --upgrade pytube"
   ]
  },
  {
   "cell_type": "code",
   "execution_count": null,
   "metadata": {
    "colab": {
     "background_save": true,
     "base_uri": "https://localhost:8080/"
    },
    "id": "ah14NxX8oHKg",
    "outputId": "65c21d49-6f5a-4545-e685-dffb024e7268"
   },
   "outputs": [
    {
     "name": "stdout",
     "output_type": "stream",
     "text": [
      "Collecting yt-dlp\n",
      "  Downloading yt_dlp-2025.1.26-py3-none-any.whl.metadata (172 kB)\n",
      "\u001b[2K     \u001b[90m━━━━━━━━━━━━━━━━━━━━━━━━━━━━━━━━━━━━━━━━\u001b[0m \u001b[32m172.0/172.0 kB\u001b[0m \u001b[31m5.6 MB/s\u001b[0m eta \u001b[36m0:00:00\u001b[0m\n",
      "\u001b[?25hDownloading yt_dlp-2025.1.26-py3-none-any.whl (3.2 MB)\n",
      "\u001b[2K   \u001b[90m━━━━━━━━━━━━━━━━━━━━━━━━━━━━━━━━━━━━━━━━\u001b[0m \u001b[32m3.2/3.2 MB\u001b[0m \u001b[31m62.8 MB/s\u001b[0m eta \u001b[36m0:00:00\u001b[0m\n",
      "\u001b[?25hInstalling collected packages: yt-dlp\n",
      "Successfully installed yt-dlp-2025.1.26\n"
     ]
    }
   ],
   "source": [
    "# Librería que permite\n",
    "# la descarga de videos y audios de múltiples plataformas\n",
    "pip install yt-dlp"
   ]
  },
  {
   "cell_type": "code",
   "execution_count": null,
   "metadata": {
    "colab": {
     "background_save": true,
     "base_uri": "https://localhost:8080/"
    },
    "id": "-Q5fsDF7oHNm",
    "outputId": "9aaf2857-7112-4071-f174-b59b6a8bf0d7"
   },
   "outputs": [
    {
     "name": "stdout",
     "output_type": "stream",
     "text": [
      "Collecting noisereduce\n",
      "  Downloading noisereduce-3.0.3-py3-none-any.whl.metadata (14 kB)\n",
      "Requirement already satisfied: scipy in /usr/local/lib/python3.11/dist-packages (1.13.1)\n",
      "Collecting pydub\n",
      "  Downloading pydub-0.25.1-py2.py3-none-any.whl.metadata (1.4 kB)\n",
      "Requirement already satisfied: soundfile in /usr/local/lib/python3.11/dist-packages (0.13.1)\n",
      "Requirement already satisfied: numpy in /usr/local/lib/python3.11/dist-packages (1.26.4)\n",
      "Requirement already satisfied: matplotlib in /usr/local/lib/python3.11/dist-packages (from noisereduce) (3.10.0)\n",
      "Requirement already satisfied: tqdm in /usr/local/lib/python3.11/dist-packages (from noisereduce) (4.67.1)\n",
      "Requirement already satisfied: joblib in /usr/local/lib/python3.11/dist-packages (from noisereduce) (1.4.2)\n",
      "Requirement already satisfied: cffi>=1.0 in /usr/local/lib/python3.11/dist-packages (from soundfile) (1.17.1)\n",
      "Requirement already satisfied: pycparser in /usr/local/lib/python3.11/dist-packages (from cffi>=1.0->soundfile) (2.22)\n",
      "Requirement already satisfied: contourpy>=1.0.1 in /usr/local/lib/python3.11/dist-packages (from matplotlib->noisereduce) (1.3.1)\n",
      "Requirement already satisfied: cycler>=0.10 in /usr/local/lib/python3.11/dist-packages (from matplotlib->noisereduce) (0.12.1)\n",
      "Requirement already satisfied: fonttools>=4.22.0 in /usr/local/lib/python3.11/dist-packages (from matplotlib->noisereduce) (4.55.7)\n",
      "Requirement already satisfied: kiwisolver>=1.3.1 in /usr/local/lib/python3.11/dist-packages (from matplotlib->noisereduce) (1.4.8)\n",
      "Requirement already satisfied: packaging>=20.0 in /usr/local/lib/python3.11/dist-packages (from matplotlib->noisereduce) (24.2)\n",
      "Requirement already satisfied: pillow>=8 in /usr/local/lib/python3.11/dist-packages (from matplotlib->noisereduce) (11.1.0)\n",
      "Requirement already satisfied: pyparsing>=2.3.1 in /usr/local/lib/python3.11/dist-packages (from matplotlib->noisereduce) (3.2.1)\n",
      "Requirement already satisfied: python-dateutil>=2.7 in /usr/local/lib/python3.11/dist-packages (from matplotlib->noisereduce) (2.8.2)\n",
      "Requirement already satisfied: six>=1.5 in /usr/local/lib/python3.11/dist-packages (from python-dateutil>=2.7->matplotlib->noisereduce) (1.17.0)\n",
      "Downloading noisereduce-3.0.3-py3-none-any.whl (22 kB)\n",
      "Downloading pydub-0.25.1-py2.py3-none-any.whl (32 kB)\n",
      "Installing collected packages: pydub, noisereduce\n",
      "Successfully installed noisereduce-3.0.3 pydub-0.25.1\n"
     ]
    }
   ],
   "source": [
    "# Instalación de bibliotecas Python \n",
    "# Procesamiento de audio, reducción de ruido y manipulación de archivos sonoros\n",
    "pip install noisereduce scipy pydub soundfile numpy"
   ]
  },
  {
   "cell_type": "code",
   "execution_count": null,
   "metadata": {
    "id": "-fxH83gYoHQV"
   },
   "outputs": [],
   "source": [
    "#Importación de bibliotecas\n",
    "import pytube\n",
    "import os\n",
    "import numpy as np\n",
    "import soundfile as sf\n",
    "import noisereduce as nr\n",
    "from scipy.io import wavfile\n",
    "from pydub import AudioSegment\n",
    "import re"
   ]
  },
  {
   "cell_type": "markdown",
   "metadata": {},
   "source": [
    "#### Definición de funciones\n"
   ]
  },
  {
   "cell_type": "markdown",
   "metadata": {},
   "source": [
    "Función de descarga del audio de las entrevistas"
   ]
  },
  {
   "cell_type": "code",
   "execution_count": null,
   "metadata": {
    "id": "EfEmH-Gst1YQ"
   },
   "outputs": [],
   "source": [
    "#Función utilizada para la descarga del audio de las entrevistas de Youtube\n",
    "def descargar_audio_youtube(url, output_file=\"audio.mp4\"):\n",
    "    \"\"\"\n",
    "    Descarga solo el audio de un video de YouTube en formato MP4\n",
    "     Parámetros:\n",
    "    -----------\n",
    "    - url (str): URL del video de YouTube del cual se desea extraer el audio.\n",
    "    - output_file (str, opcional): Nombre del archivo de salida (por defecto \"audio.mp4\").\n",
    "\n",
    "    Retorna:\n",
    "    --------\n",
    "    - str: Nombre del archivo de audio descargado si la operación es exitosa.\n",
    "    - None: En caso de error, devuelve None e imprime el mensaje de error.\n",
    "    \"\"\"\n",
    "    try:\n",
    "        #Limpia el nombre del archivo y se elimina caracteres no permitidos\n",
    "        nombre_limpio = re.sub(r'[<>:\"/\\\\|?*]', '', output_file)\n",
    "        #Verifica la extención .mp4 en el nombre del archivo\n",
    "        if not nombre_limpio.lower().endswith('.mp4'):\n",
    "            nombre_limpio += '.mp4'\n",
    "\n",
    "        #Comando txt para ejecución\n",
    "        #Descarga el formato de audio disponible y lo guarda en un archivo\n",
    "        comando = f'yt-dlp -f \"bestaudio\" -o \"{nombre_limpio}\" {url}'\n",
    "        #Ejecucion del comando\n",
    "        resultado = os.system(comando)\n",
    "\n",
    "        if resultado == 0:\n",
    "            return nombre_limpio\n",
    "        else:\n",
    "            raise Exception(\"Error en la descarga del audio\")\n",
    "\n",
    "    except Exception as e:\n",
    "        print(f\"Error en la descarga: {str(e)}\")\n",
    "        return None"
   ]
  },
  {
   "cell_type": "markdown",
   "metadata": {},
   "source": [
    "Función de conversión de audio a formato WAV"
   ]
  },
  {
   "cell_type": "code",
   "execution_count": null,
   "metadata": {
    "id": "xe-AR11jt3S8"
   },
   "outputs": [],
   "source": [
    "def convertir_a_wav(input_file, output_file=\"temp.wav\"):\n",
    "    \"\"\"Convierte el archivo de audio a formato WAV\n",
    "    Parámetros:\n",
    "    -----------\n",
    "    - input_file (str): Ruta del archivo de audio de entrada en cualquier formato compatible (MP3, AAC, FLAC, etc.).\n",
    "    - output_file (str, opcional): Nombre del archivo de salida en formato WAV (por defecto \"temp.wav\").\n",
    "\n",
    "    Retorna:\n",
    "    --------\n",
    "    - str: Nombre del archivo de salida en formato WAV si la conversión es exitosa.\n",
    "    - None: En caso de error, devuelve None e imprime el mensaje de error.\"\"\"\n",
    "    try:\n",
    "        #Carga el archivo de audio a memoria\n",
    "        audio = AudioSegment.from_file(input_file)\n",
    "        #Convierte y guarda el archivo de audio en formato WAV\n",
    "        audio.export(output_file, format=\"wav\")\n",
    "        return output_file\n",
    "    except Exception as e:\n",
    "        print(f\"Error en la conversión: {str(e)}\")\n",
    "        return None"
   ]
  },
  {
   "cell_type": "markdown",
   "metadata": {},
   "source": [
    "Función de limpieza para la reducción de ruido en los archivos de audio\n"
   ]
  },
  {
   "cell_type": "code",
   "execution_count": null,
   "metadata": {
    "id": "i2CGhYVMt6JU"
   },
   "outputs": [],
   "source": [
    "def limpiar_ruido(archivo_entrada, archivo_salida=\"audio_limpio.wav\", reduccion_ruido=0.5):\n",
    "    \"\"\"\n",
    "    Limpia el ruido del archivo de audio\n",
    "    Parámetros:\n",
    "    -----------\n",
    "    - archivo_entrada (str): Ruta del archivo de audio de entrada.\n",
    "    - archivo_salida (str, opcional): Nombre del archivo de salida con el audio limpio (por defecto \"audio_limpio.wav\").\n",
    "    - reduccion_ruido (float, opcional): Nivel de reducción de ruido (valor entre 0 y 1, por defecto 0.5).\n",
    "\n",
    "    Retorna:\n",
    "    --------\n",
    "    - str: Ruta del archivo de audio limpio si el proceso es exitoso.\n",
    "    - None: En caso de error, devuelve None e imprime el mensaje de error.\n",
    "    \"\"\"\n",
    "    try:\n",
    "        if not os.path.exists(archivo_entrada):\n",
    "            raise FileNotFoundError(f\"No se encuentra el archivo: {archivo_entrada}\")\n",
    "\n",
    "        # Si el archivo no está en formato WAV, convertirlo\n",
    "        if not archivo_entrada.endswith('.wav'):\n",
    "            archivo_wav = convertir_a_wav(archivo_entrada)\n",
    "            if not archivo_wav:\n",
    "                raise Exception(\"Error en la conversión a WAV\")\n",
    "        else:\n",
    "            archivo_wav = archivo_entrada\n",
    "\n",
    "        # Cargar el archivo de audio\n",
    "        rate, data = wavfile.read(archivo_wav)\n",
    "\n",
    "        # Convertir a float para el procesamiento\n",
    "        data = data.astype(float)\n",
    "\n",
    "        # Si el audio es estéreo, convertirlo a mono\n",
    "        if len(data.shape) > 1:\n",
    "            data = np.mean(data, axis=1)\n",
    "\n",
    "        # Aplicar reducción de ruido\n",
    "        audio_limpio = nr.reduce_noise(\n",
    "            y=data,\n",
    "            sr=rate,\n",
    "            prop_decrease=reduccion_ruido,\n",
    "            stationary=True\n",
    "        )\n",
    "\n",
    "        # Normalizar el audio\n",
    "        audio_limpio = audio_limpio / np.max(np.abs(audio_limpio))\n",
    "\n",
    "        # Guardar el resultado\n",
    "        sf.write(archivo_salida, audio_limpio, rate)\n",
    "\n",
    "        # Limpiar archivo temporal si se creó\n",
    "        if archivo_wav != archivo_entrada:\n",
    "            os.remove(archivo_wav)\n",
    "\n",
    "        return archivo_salida\n",
    "\n",
    "    except Exception as e:\n",
    "        print(f\"Error al procesar el audio: {str(e)}\")\n",
    "        return None\n"
   ]
  },
  {
   "cell_type": "markdown",
   "metadata": {},
   "source": []
  },
  {
   "cell_type": "markdown",
   "metadata": {},
   "source": [
    "Función de descarga de audio del video de YouTube y aplica la reducción de ruido usando las funciones definidas con anterioridad."
   ]
  },
  {
   "cell_type": "code",
   "execution_count": null,
   "metadata": {
    "id": "3UZMK1PlpO1g"
   },
   "outputs": [],
   "source": [
    "def procesar_audio_youtube(url, nombre_archivo_original=\"audio.mp4\", nombre_archivo_limpio=\"audio_limpio.wav\"):\n",
    "    \"\"\"\n",
    "    Descarga y procesa un audio de YouTube\n",
    "\n",
    "    Parámetros:\n",
    "    - url: URL del video de YouTube\n",
    "    - nombre_archivo_original: Nombre para guardar el archivo descargado\n",
    "    - nombre_archivo_limpio: Nombre para guardar el archivo procesado\n",
    "\n",
    "    Retorna:\n",
    "    - Ruta del archivo de audio limpio o None si hay error\n",
    "    \"\"\"\n",
    "    # Descargar audio\n",
    "    archivo_original = descargar_audio_youtube(url, nombre_archivo_original)\n",
    "    if not archivo_original:\n",
    "        print(\"Error: No se pudo descargar el audio\")\n",
    "        return None\n",
    "\n",
    "    print(f\"Audio descargado como: {archivo_original}\")\n",
    "\n",
    "    # Verificar que el archivo existe\n",
    "    if not os.path.exists(archivo_original):\n",
    "        print(f\"Error: No se encuentra el archivo {archivo_original}\")\n",
    "        return None\n",
    "\n",
    "    # Limpiar el audio\n",
    "    archivo_limpio = limpiar_ruido(archivo_original, nombre_archivo_limpio, reduccion_ruido=0.5)\n",
    "\n",
    "    if archivo_limpio:\n",
    "        print(f\"Audio procesado guardado en: {archivo_limpio}\")\n",
    "        # Opcionalmente, eliminar el archivo original\n",
    "        # os.remove(archivo_original)\n",
    "    else:\n",
    "        print(\"Error al procesar el audio\")\n",
    "\n",
    "    return archivo_limpio"
   ]
  },
  {
   "cell_type": "markdown",
   "metadata": {},
   "source": [
    "Importación de la biblioteca Whisper, se usa el modelo preentrenado \"small\" que ofrece mejor presición con tiempo de procesamiento no tan grandes."
   ]
  },
  {
   "cell_type": "code",
   "execution_count": null,
   "metadata": {
    "colab": {
     "base_uri": "https://localhost:8080/"
    },
    "id": "bLe0qjHquEio",
    "outputId": "3e0160a5-8178-442b-a475-9ca8302bac92"
   },
   "outputs": [
    {
     "name": "stderr",
     "output_type": "stream",
     "text": [
      "100%|███████████████████████████████████████| 461M/461M [00:12<00:00, 37.6MiB/s]\n",
      "/usr/local/lib/python3.11/dist-packages/whisper/__init__.py:150: FutureWarning: You are using `torch.load` with `weights_only=False` (the current default value), which uses the default pickle module implicitly. It is possible to construct malicious pickle data which will execute arbitrary code during unpickling (See https://github.com/pytorch/pytorch/blob/main/SECURITY.md#untrusted-models for more details). In a future release, the default value for `weights_only` will be flipped to `True`. This limits the functions that could be executed during unpickling. Arbitrary objects will no longer be allowed to be loaded via this mode unless they are explicitly allowlisted by the user via `torch.serialization.add_safe_globals`. We recommend you start setting `weights_only=True` for any use case where you don't have full control of the loaded file. Please open an issue on GitHub for any issues related to this experimental feature.\n",
      "  checkpoint = torch.load(fp, map_location=device)\n"
     ]
    }
   ],
   "source": [
    "import whisper\n",
    "\n",
    "# Cargar el modelo (puede ser 'tiny', 'base', 'small', 'medium' o 'large')\n",
    "modelo = whisper.load_model(\"small\")"
   ]
  },
  {
   "cell_type": "markdown",
   "metadata": {},
   "source": [
    "Función que mediante el uso de Whisper transcribe los archivos de audio y los guarda en un archivo con extenció .txt"
   ]
  },
  {
   "cell_type": "code",
   "execution_count": null,
   "metadata": {
    "id": "GjCKxbJ-rvwQ"
   },
   "outputs": [],
   "source": [
    "def transcribir_audio(archivo_limpio=\"audio_limpio.wav\", archivo_transcripcion=\"transcripcion.txt\"):\n",
    "    \"\"\"\n",
    "    Transcribe un archivo de audio con Whisper y guarda el resultado\n",
    "\n",
    "    Parámetros:\n",
    "    - archivo_limpio: Ruta del archivo de audio limpio a transcribir\n",
    "    - archivo_transcripcion: Nombre del archivo donde se guardará la transcripción\n",
    "\n",
    "    Retorna:\n",
    "    - El texto transcrito\n",
    "    \"\"\"\n",
    "    try:\n",
    "        print(f\"Iniciando transcripción del archivo: {archivo_limpio}\")\n",
    "        resultado = modelo.transcribe(archivo_limpio)\n",
    "        texto_transcrito = resultado[\"text\"]\n",
    "\n",
    "        # Guardar la transcripción en un archivo de texto\n",
    "        with open(archivo_transcripcion, \"w\", encoding=\"utf-8\") as f:\n",
    "            f.write(texto_transcrito)\n",
    "\n",
    "        print(f\"Transcripción guardada en: {archivo_transcripcion}\")\n",
    "        print(\"\\nPrimeras líneas de la transcripción:\")\n",
    "        print(\"-\" * 50)\n",
    "        print(texto_transcrito[:500] + \"...\")  # Mostrar las primeras 500 caracteres\n",
    "\n",
    "        return texto_transcrito\n",
    "\n",
    "    except Exception as e:\n",
    "        print(f\"Error durante la transcripción: {str(e)}\")\n",
    "        return None\n"
   ]
  },
  {
   "cell_type": "markdown",
   "metadata": {},
   "source": [
    "#### Conversión de las entrevistas por candidato"
   ]
  },
  {
   "cell_type": "markdown",
   "metadata": {
    "id": "zVbBqbCHbrui"
   },
   "source": [
    "#### Henry Cucalon"
   ]
  },
  {
   "cell_type": "markdown",
   "metadata": {},
   "source": [
    "Entrevista #1\n"
   ]
  },
  {
   "cell_type": "code",
   "execution_count": null,
   "metadata": {
    "colab": {
     "base_uri": "https://localhost:8080/"
    },
    "id": "_IxIatdQrsa-",
    "outputId": "6e29163e-9adf-4157-898a-d1cd8527073b"
   },
   "outputs": [
    {
     "name": "stdout",
     "output_type": "stream",
     "text": [
      "Audio descargado como: entrevista_Henry_Cucalon_Teleamazonas.mp4\n",
      "Audio procesado guardado en: entrevista_limpia_Henry_Cucalon_Teleamazonas.wav\n"
     ]
    }
   ],
   "source": [
    "#Obtención y procesamiento del audio\n",
    "audio = procesar_audio_youtube(\"https://www.youtube.com/watch?v=yH6iLzk9QmE&list=PLwtmRZw8oM40RDj9c5VRIhDQN0mo0ANgb&index=1\", \"entrevista_Henry_Cucalon_Teleamazonas.mp4\", \"entrevista_limpia_Henry_Cucalon_Teleamazonas.wav\")"
   ]
  },
  {
   "cell_type": "code",
   "execution_count": null,
   "metadata": {
    "colab": {
     "base_uri": "https://localhost:8080/"
    },
    "id": "s2gRJxd7tODP",
    "outputId": "dd129aba-eb2f-4ed2-df5c-08e3ef110b05"
   },
   "outputs": [
    {
     "name": "stdout",
     "output_type": "stream",
     "text": [
      "Iniciando transcripción del archivo: entrevista_limpia_Henry_Cucalon_Teleamazonas.wav\n"
     ]
    },
    {
     "name": "stderr",
     "output_type": "stream",
     "text": [
      "/usr/local/lib/python3.11/dist-packages/whisper/transcribe.py:132: UserWarning: FP16 is not supported on CPU; using FP32 instead\n",
      "  warnings.warn(\"FP16 is not supported on CPU; using FP32 instead\")\n"
     ]
    },
    {
     "name": "stdout",
     "output_type": "stream",
     "text": [
      "Transcripción guardada en: transcripcion_entrevista_Henry_Cucalon_Teleamazonas.txt\n",
      "\n",
      "Primeras líneas de la transcripción:\n",
      "--------------------------------------------------\n",
      " Le doy la bienvenida formalmente. Gracias por acompañarnos esta mañana. Buenos días. Un gusto. Buenos días, buenos días con todos los televidentes. A propósito de varios sucesos, quiero empezar, quizás, conociendo su opinión sobre temas de política exterior. Empezar por estas acciones y decisiones de Donald Trump, con lo ocurrido este impase diplomático con Colombia, que además se convierte como una advertencia, ¿no? Al resto de países que no quieran ajustarse a las políticas del nuevo gobierno...\n"
     ]
    }
   ],
   "source": [
    "# Transcripción a texto\n",
    "texto = transcribir_audio(\"entrevista_limpia_Henry_Cucalon_Teleamazonas.wav\", \"transcripcion_entrevista_Henry_Cucalon_Teleamazonas.txt\")"
   ]
  },
  {
   "cell_type": "markdown",
   "metadata": {},
   "source": [
    "Entrevista #2 "
   ]
  },
  {
   "cell_type": "code",
   "execution_count": null,
   "metadata": {
    "colab": {
     "base_uri": "https://localhost:8080/"
    },
    "id": "GO_LgflotSJ9",
    "outputId": "73431e5e-8315-4fb4-a338-9130f36d17c9"
   },
   "outputs": [
    {
     "name": "stdout",
     "output_type": "stream",
     "text": [
      "Audio descargado como: entrevista_Henry_Cucalon_Ecuavisa.mp4\n",
      "Audio procesado guardado en: entrevista_limpia_Henry_Cucalon_Ecuavisa.wav\n"
     ]
    }
   ],
   "source": [
    "audio0 = procesar_audio_youtube(\"https://www.youtube.com/watch?v=T2qCXLaqJ9c&list=PLhiHxCJzb9eYHj1Yu-wZKUShSuc6-jnBC&index=1\", \"entrevista_Henry_Cucalon_Ecuavisa.mp4\", \"entrevista_limpia_Henry_Cucalon_Ecuavisa.wav\")"
   ]
  },
  {
   "cell_type": "code",
   "execution_count": null,
   "metadata": {
    "colab": {
     "base_uri": "https://localhost:8080/"
    },
    "id": "tTcQvWq-0GJ1",
    "outputId": "233986ed-d71a-46f6-c3ae-6b857699408f"
   },
   "outputs": [
    {
     "name": "stdout",
     "output_type": "stream",
     "text": [
      "Iniciando transcripción del archivo: entrevista_limpia_Henry_Cucalon_Ecuavisa.wav\n"
     ]
    },
    {
     "name": "stderr",
     "output_type": "stream",
     "text": [
      "/usr/local/lib/python3.11/dist-packages/whisper/transcribe.py:132: UserWarning: FP16 is not supported on CPU; using FP32 instead\n",
      "  warnings.warn(\"FP16 is not supported on CPU; using FP32 instead\")\n"
     ]
    },
    {
     "name": "stdout",
     "output_type": "stream",
     "text": [
      "Transcripción guardada en: transcripcion_entrevista_Henry_Cucalon_Ecuavisa.txt\n",
      "\n",
      "Primeras líneas de la transcripción:\n",
      "--------------------------------------------------\n",
      " Hoy cerramos el especial elecciones 2025 los presidenciables con el último candidato que aparecerá en la papeleta Henry Cucalón, cuyo biromio se completa con Carla Larrea. La vida política del guayaquileño de 51 años estuvo ligada en gran parte al partido social cristiano. Luego fue funcionario del gobierno de Creo y ahora lo impulsa, construye Asia Carondellet. En su experiencia destacan cuatro años en la Procuraduría General del Estado de 2003 a 2012 estuvo en el municipio de Guayaquil junto ...\n"
     ]
    }
   ],
   "source": [
    "texto0 = transcribir_audio(\"entrevista_limpia_Henry_Cucalon_Ecuavisa.wav\", \"transcripcion_entrevista_Henry_Cucalon_Ecuavisa.txt\")"
   ]
  },
  {
   "cell_type": "markdown",
   "metadata": {},
   "source": [
    "Entrevista #3"
   ]
  },
  {
   "cell_type": "code",
   "execution_count": null,
   "metadata": {
    "colab": {
     "base_uri": "https://localhost:8080/"
    },
    "id": "URvlyhkh0bNr",
    "outputId": "5607b301-1dad-4df6-840d-b8c3ce416264"
   },
   "outputs": [
    {
     "name": "stdout",
     "output_type": "stream",
     "text": [
      "Audio descargado como: entrevista_Henry_Cucalon_RevistaVistazo.mp4\n",
      "Audio procesado guardado en: entrevista_limpia_Henry_Cucalon_RevistaVistazo.wav\n"
     ]
    }
   ],
   "source": [
    "audio1 = procesar_audio_youtube(\"https://www.youtube.com/watch?v=gpn9gksBsuU&list=PL4ukCuVPXaeymuyrMV2QFdhBlKRcpNZ76&index=1\", \"entrevista_Henry_Cucalon_RevistaVistazo.mp4\", \"entrevista_limpia_Henry_Cucalon_RevistaVistazo.wav\")"
   ]
  },
  {
   "cell_type": "code",
   "execution_count": null,
   "metadata": {
    "colab": {
     "background_save": true,
     "base_uri": "https://localhost:8080/"
    },
    "id": "d_mMk8iJ04Ey",
    "outputId": "49bd3f54-d5f6-43c3-c21c-9d6b50c538a2"
   },
   "outputs": [
    {
     "name": "stdout",
     "output_type": "stream",
     "text": [
      "Iniciando transcripción del archivo: entrevista_limpia_Henry_Cucalon_RevistaVistazo.wav\n"
     ]
    },
    {
     "name": "stderr",
     "output_type": "stream",
     "text": [
      "/usr/local/lib/python3.11/dist-packages/whisper/transcribe.py:132: UserWarning: FP16 is not supported on CPU; using FP32 instead\n",
      "  warnings.warn(\"FP16 is not supported on CPU; using FP32 instead\")\n"
     ]
    },
    {
     "name": "stdout",
     "output_type": "stream",
     "text": [
      "Transcripción guardada en: transcripcion_entrevista_Henry_Cucalon_RevistaVistazo.txt\n",
      "\n",
      "Primeras líneas de la transcripción:\n",
      "--------------------------------------------------\n",
      " He considerado que uno no puede construir su propio futuro si no ayuda a otros a construir el suyo. Tengo una vocación por el Servicio Público, he hecho una carrera en el Servicio Público en la política peldaño a peldaño y considero que desde la Presidencia de la República, el primer servidor de la nación es el espacio de acuerdo ahora para poder ayudar a cambiar los destinos de la nación. Por eso quiero ser presidente del acuerdo. ¿Usted ha hecho una carrera política peldaño a peldaño? Pero la...\n"
     ]
    }
   ],
   "source": [
    "texto1 = transcribir_audio(\"entrevista_limpia_Henry_Cucalon_RevistaVistazo.wav\", \"transcripcion_entrevista_Henry_Cucalon_RevistaVistazo.txt\")"
   ]
  },
  {
   "cell_type": "markdown",
   "metadata": {
    "id": "-ZFKdFVyblGM"
   },
   "source": [
    "#### Ivan Saquicela"
   ]
  },
  {
   "cell_type": "markdown",
   "metadata": {},
   "source": [
    "Entrevista #1"
   ]
  },
  {
   "cell_type": "code",
   "execution_count": null,
   "metadata": {
    "colab": {
     "base_uri": "https://localhost:8080/"
    },
    "id": "u-TkR4788-wn",
    "outputId": "7a4e9849-ecf8-47e6-89cc-2c716caf0418"
   },
   "outputs": [
    {
     "name": "stdout",
     "output_type": "stream",
     "text": [
      "Audio descargado como: entrevista_Ivan_Saquicela_Teleamazonas.mp4\n",
      "Audio procesado guardado en: entrevista_limpia_Ivan_Saquicela_Teleamazonas.wav\n"
     ]
    }
   ],
   "source": [
    "audio2 = procesar_audio_youtube(\"https://www.youtube.com/watch?v=rVy8BAA-Zvw&list=PLwtmRZw8oM40RDj9c5VRIhDQN0mo0ANgb&index=8\", \"entrevista_Ivan_Saquicela_Teleamazonas.mp4\", \"entrevista_limpia_Ivan_Saquicela_Teleamazonas.wav\")"
   ]
  },
  {
   "cell_type": "code",
   "execution_count": null,
   "metadata": {
    "colab": {
     "base_uri": "https://localhost:8080/"
    },
    "id": "MXSVXMU8JHgn",
    "outputId": "b0baecc6-f253-484e-e6d8-ae38d177de0b"
   },
   "outputs": [
    {
     "name": "stdout",
     "output_type": "stream",
     "text": [
      "Iniciando transcripción del archivo: entrevista_limpia_Ivan_Saquicela_Teleamazonas.wav\n"
     ]
    },
    {
     "name": "stderr",
     "output_type": "stream",
     "text": [
      "/usr/local/lib/python3.11/dist-packages/whisper/transcribe.py:132: UserWarning: FP16 is not supported on CPU; using FP32 instead\n",
      "  warnings.warn(\"FP16 is not supported on CPU; using FP32 instead\")\n"
     ]
    },
    {
     "name": "stdout",
     "output_type": "stream",
     "text": [
      "Transcripción guardada en: transcripcion_entrevista_Ivan_Saquicela_Teleamazonas.txt\n",
      "\n",
      "Primeras líneas de la transcripción:\n",
      "--------------------------------------------------\n",
      " doctor Zagaysela, gracias por acompañarnos, presentamos una encuesta hace un momento. Prácticamente está todo repartido, nadie más tiene chance de unos que pase una catombe, que Luisa González o Daniel Loboa, Daniel Loboa y Luisa González. Buenos días Milton, gracias por el diálogo. Bueno, yo lo que creo es que está por vez. Hay dos datos muy interesantes. La gran mayoría de los ecuatorianos está pendiente del debate, lo cual los complace porque significa que la gente quiere escuchar la poción,...\n"
     ]
    }
   ],
   "source": [
    "texto2 = transcribir_audio(\"entrevista_limpia_Ivan_Saquicela_Teleamazonas.wav\", \"transcripcion_entrevista_Ivan_Saquicela_Teleamazonas.txt\")"
   ]
  },
  {
   "cell_type": "markdown",
   "metadata": {},
   "source": [
    "Entrevista #2"
   ]
  },
  {
   "cell_type": "code",
   "execution_count": null,
   "metadata": {
    "colab": {
     "base_uri": "https://localhost:8080/"
    },
    "id": "fnoJ3RubJV3G",
    "outputId": "b77028d4-d1ab-4de8-dcfa-6675002d369c"
   },
   "outputs": [
    {
     "name": "stdout",
     "output_type": "stream",
     "text": [
      "Audio descargado como: entrevista_Ivan_Saquicela_Ecuavisa.mp4\n",
      "Audio procesado guardado en: entrevista_limpia_Ivan_Saquicela_Ecuavisa.wav\n"
     ]
    }
   ],
   "source": [
    "audio3 = procesar_audio_youtube(\"https://www.youtube.com/watch?v=oCDMtxkYRPo&list=PLhiHxCJzb9eYHj1Yu-wZKUShSuc6-jnBC&index=4\", \"entrevista_Ivan_Saquicela_Ecuavisa.mp4\", \"entrevista_limpia_Ivan_Saquicela_Ecuavisa.wav\")"
   ]
  },
  {
   "cell_type": "code",
   "execution_count": null,
   "metadata": {
    "colab": {
     "base_uri": "https://localhost:8080/"
    },
    "id": "i9Q_yNqNNfk6",
    "outputId": "a6ae6fee-86d3-40bf-c485-d0568a5aacaa"
   },
   "outputs": [
    {
     "name": "stdout",
     "output_type": "stream",
     "text": [
      "Iniciando transcripción del archivo: entrevista_limpia_Ivan_Saquicela_Ecuavisa.wav\n"
     ]
    },
    {
     "name": "stderr",
     "output_type": "stream",
     "text": [
      "/usr/local/lib/python3.11/dist-packages/whisper/transcribe.py:132: UserWarning: FP16 is not supported on CPU; using FP32 instead\n",
      "  warnings.warn(\"FP16 is not supported on CPU; using FP32 instead\")\n"
     ]
    },
    {
     "name": "stdout",
     "output_type": "stream",
     "text": [
      "Transcripción guardada en: transcripcion_entrevista_Ivan_Saquicela_Ecuavisa.txt\n",
      "\n",
      "Primeras líneas de la transcripción:\n",
      "--------------------------------------------------\n",
      " Ahora una nueva entrevista dentro de la Especial Elecciones 2025 Los Presidenciables. Iván Saquicela conforma el binomio de democracia así, junto a María Luisa Cuello para participar en los comicios. Saquicela renunció hace cinco meses a la Corte Nacional de Justicia, organismo que también presidió. Fue consejal de cuenca entre 2013 y 2007, luego fue fiscal hasta el año 2015. Además, es docente, universitario, abogado y criminólogo. En el servicio de rentas internas, suma el pago de 46.700 dóla...\n"
     ]
    }
   ],
   "source": [
    "texto3 = transcribir_audio(\"entrevista_limpia_Ivan_Saquicela_Ecuavisa.wav\", \"transcripcion_entrevista_Ivan_Saquicela_Ecuavisa.txt\")"
   ]
  },
  {
   "cell_type": "markdown",
   "metadata": {
    "id": "G2NVwgMDbIOl"
   },
   "source": [
    "#### Francesco Tabacchi"
   ]
  },
  {
   "cell_type": "markdown",
   "metadata": {},
   "source": [
    "Entrevista #1"
   ]
  },
  {
   "cell_type": "code",
   "execution_count": null,
   "metadata": {
    "colab": {
     "base_uri": "https://localhost:8080/"
    },
    "id": "t9l_6PcGNsox",
    "outputId": "61f02ecb-0af7-454c-a8bd-1d4a05125465"
   },
   "outputs": [
    {
     "name": "stdout",
     "output_type": "stream",
     "text": [
      "Audio descargado como: entrevista_Francesco_Tabacchi_Teleamazonas.mp4\n",
      "Audio procesado guardado en: entrevista_limpia_Francesco_Tabacchi_Teleamazonas.wav\n"
     ]
    }
   ],
   "source": [
    "audio4 = procesar_audio_youtube(\"https://www.youtube.com/watch?v=Yw9PoQGG1TU&list=PLwtmRZw8oM40RDj9c5VRIhDQN0mo0ANgb&index=4\", \"entrevista_Francesco_Tabacchi_Teleamazonas.mp4\", \"entrevista_limpia_Francesco_Tabacchi_Teleamazonas.wav\")"
   ]
  },
  {
   "cell_type": "code",
   "execution_count": null,
   "metadata": {
    "colab": {
     "base_uri": "https://localhost:8080/"
    },
    "id": "NMzV8RaTRIsw",
    "outputId": "0b12d92b-afce-47ff-a9ea-1969c8902510"
   },
   "outputs": [
    {
     "name": "stdout",
     "output_type": "stream",
     "text": [
      "Iniciando transcripción del archivo: entrevista_limpia_Francesco_Tabacchi_Teleamazonas.wav\n"
     ]
    },
    {
     "name": "stderr",
     "output_type": "stream",
     "text": [
      "/usr/local/lib/python3.11/dist-packages/whisper/transcribe.py:132: UserWarning: FP16 is not supported on CPU; using FP32 instead\n",
      "  warnings.warn(\"FP16 is not supported on CPU; using FP32 instead\")\n"
     ]
    },
    {
     "name": "stdout",
     "output_type": "stream",
     "text": [
      "Transcripción guardada en: transcripcion_entrevista_Francesco_Tabacchi_Teleamazonas.txt\n",
      "\n",
      "Primeras líneas de la transcripción:\n",
      "--------------------------------------------------\n",
      " Leo y la bienvenida formalmente a Francesco. Taba que gracias por estar aquí esta mañana. Buenos días. Buenos días. Gracias a usted por la invitación. Por ahí quiero empezar elema de su campaño Mano Dura, Mano Justa, Mano Inteligente. ¿Para qué? ¿Para quién es? Exactamente. Mano Dura para los delincuentes. Mano Dura para los terroristas. Mano Dura para los jueces y fiscales corruptos. Una mano justa para todas las personas del ecuador que necesitan oportunidades. Hasta para los hijos de los del...\n"
     ]
    }
   ],
   "source": [
    "texto4 = transcribir_audio(\"entrevista_limpia_Francesco_Tabacchi_Teleamazonas.wav\", \"transcripcion_entrevista_Francesco_Tabacchi_Teleamazonas.txt\")"
   ]
  },
  {
   "cell_type": "markdown",
   "metadata": {},
   "source": [
    "Entrevista #2"
   ]
  },
  {
   "cell_type": "code",
   "execution_count": null,
   "metadata": {
    "colab": {
     "base_uri": "https://localhost:8080/"
    },
    "id": "00JWQ23fRSUr",
    "outputId": "07a7579b-2480-4428-98cc-b27ea0d39723"
   },
   "outputs": [
    {
     "name": "stdout",
     "output_type": "stream",
     "text": [
      "Audio descargado como: entrevista_Francesco_Tabacchi_Ecuavisa.mp4\n",
      "Audio procesado guardado en: entrevista_limpia_Francesco_Tabacchi_Ecuavisa.wav\n"
     ]
    }
   ],
   "source": [
    "audio5 = procesar_audio_youtube(\"https://www.youtube.com/watch?v=PzsZxCG4Eds&list=PLhiHxCJzb9eYHj1Yu-wZKUShSuc6-jnBC&index=11\", \"entrevista_Francesco_Tabacchi_Ecuavisa.mp4\", \"entrevista_limpia_Francesco_Tabacchi_Ecuavisa.wav\")"
   ]
  },
  {
   "cell_type": "code",
   "execution_count": null,
   "metadata": {
    "colab": {
     "base_uri": "https://localhost:8080/"
    },
    "id": "Lrqj5fZ8Ro-y",
    "outputId": "6d54934a-cbee-45f6-8173-0f37b69471d7"
   },
   "outputs": [
    {
     "name": "stdout",
     "output_type": "stream",
     "text": [
      "Iniciando transcripción del archivo: entrevista_limpia_Francesco_Tabacchi_Ecuavisa.wav\n"
     ]
    },
    {
     "name": "stderr",
     "output_type": "stream",
     "text": [
      "/usr/local/lib/python3.11/dist-packages/whisper/transcribe.py:132: UserWarning: FP16 is not supported on CPU; using FP32 instead\n",
      "  warnings.warn(\"FP16 is not supported on CPU; using FP32 instead\")\n"
     ]
    },
    {
     "name": "stdout",
     "output_type": "stream",
     "text": [
      "Transcripción guardada en: transcripcion_entrevista_Francesco_Tabacchi_Ecuavisa.txt\n",
      "\n",
      "Primeras líneas de la transcripción:\n",
      "--------------------------------------------------\n",
      " en el especial elecciones, avanzamos en el diálogo con los candidatos, hoy está en contacto directo Francesco Tabaqui, el ganadero de 53 años, quien conforma con Blanca Saquicela, el binomio del movimiento Creo, Blanca Saquicela, Blanca Saquicela, su experiencia política, la de Francesco Tabaqui y Gremial, se resume a ser gobernador del guayas en 2023 y candidato a prefecto de guayas con la misma agrupación, además fue presidente de la asociación de ganaderos de litoral y Galápagos también enca...\n"
     ]
    }
   ],
   "source": [
    "texto5 = transcribir_audio(\"entrevista_limpia_Francesco_Tabacchi_Ecuavisa.wav\", \"transcripcion_entrevista_Francesco_Tabacchi_Ecuavisa.txt\")"
   ]
  },
  {
   "cell_type": "markdown",
   "metadata": {},
   "source": [
    "Entrevista #3"
   ]
  },
  {
   "cell_type": "code",
   "execution_count": null,
   "metadata": {
    "colab": {
     "base_uri": "https://localhost:8080/"
    },
    "id": "vezNHDVGSHyY",
    "outputId": "8b537452-bcf2-49f4-f6cb-a7577af3994d"
   },
   "outputs": [
    {
     "name": "stdout",
     "output_type": "stream",
     "text": [
      "Audio descargado como: entrevista_Francesco_Tabacchi_RevistaVistazo.mp4\n",
      "Audio procesado guardado en: entrevista_limpia_Francesco_Tabacchi_RevistaVistazo.wav\n"
     ]
    }
   ],
   "source": [
    "audio6 = procesar_audio_youtube(\"https://www.youtube.com/watch?v=C85olI5o3RA&list=PL4ukCuVPXaeymuyrMV2QFdhBlKRcpNZ76\", \"entrevista_Francesco_Tabacchi_RevistaVistazo.mp4\", \"entrevista_limpia_Francesco_Tabacchi_RevistaVistazo.wav\")"
   ]
  },
  {
   "cell_type": "code",
   "execution_count": null,
   "metadata": {
    "colab": {
     "base_uri": "https://localhost:8080/"
    },
    "id": "DkNypsSJSJ_3",
    "outputId": "673fd848-f957-49eb-8d97-41f5466a40b3"
   },
   "outputs": [
    {
     "name": "stdout",
     "output_type": "stream",
     "text": [
      "Iniciando transcripción del archivo: entrevista_limpia_Francesco_Tabacchi_RevistaVistazo.wav\n"
     ]
    },
    {
     "name": "stderr",
     "output_type": "stream",
     "text": [
      "/usr/local/lib/python3.11/dist-packages/whisper/transcribe.py:132: UserWarning: FP16 is not supported on CPU; using FP32 instead\n",
      "  warnings.warn(\"FP16 is not supported on CPU; using FP32 instead\")\n"
     ]
    },
    {
     "name": "stdout",
     "output_type": "stream",
     "text": [
      "Transcripción guardada en: transcripcion_entrevista_Francesco_Tabacchi_RevistaVistazo.txt\n",
      "\n",
      "Primeras líneas de la transcripción:\n",
      "--------------------------------------------------\n",
      " ¿Qué es lo que es la historia del país? ¿Qué es el país del país del país? ¿Qué es el país del país del país del país del país? ¿Qué es el país del país del país del país del país? La misma pregunta me hace mi familia, mi esposa, mis hijos, mis padres, me hacen mis socios. Y este país ha sido muy generoso conmigo. Me he caído, me he levantado. Pero, afinitivamente, este país ha sido bueno conmigo. Víe el momento y la forma de retribuírselo. Creo en mi país, creo en el Ecuador. Porque ahora, si ...\n"
     ]
    }
   ],
   "source": [
    "texto6 = transcribir_audio(\"entrevista_limpia_Francesco_Tabacchi_RevistaVistazo.wav\", \"transcripcion_entrevista_Francesco_Tabacchi_RevistaVistazo.txt\")"
   ]
  },
  {
   "cell_type": "markdown",
   "metadata": {
    "id": "chH5a5ZaEKUF"
   },
   "source": [
    "#### Andrea Gonzalez"
   ]
  },
  {
   "cell_type": "markdown",
   "metadata": {},
   "source": [
    "Entrevista #1"
   ]
  },
  {
   "cell_type": "code",
   "execution_count": null,
   "metadata": {
    "colab": {
     "base_uri": "https://localhost:8080/"
    },
    "id": "HKP7F56XX0Xw",
    "outputId": "d99db753-9fce-4d49-8088-1d4ecbcd175a"
   },
   "outputs": [
    {
     "name": "stdout",
     "output_type": "stream",
     "text": [
      "Audio descargado como: entrevista_Andrea_Gonzalez_Teleamazonas.mp4\n",
      "Audio procesado guardado en: entrevista_limpia_Andrea_Gonzalez_Teleamazonas.wav\n"
     ]
    }
   ],
   "source": [
    "audio7 = procesar_audio_youtube(\"https://www.youtube.com/watch?v=z-YfW2WLNeY&list=PLwtmRZw8oM40RDj9c5VRIhDQN0mo0ANgb&index=9\", \"entrevista_Andrea_Gonzalez_Teleamazonas.mp4\", \"entrevista_limpia_Andrea_Gonzalez_Teleamazonas.wav\")"
   ]
  },
  {
   "cell_type": "code",
   "execution_count": null,
   "metadata": {
    "colab": {
     "base_uri": "https://localhost:8080/"
    },
    "id": "j1XOkX2xW0wV",
    "outputId": "ddba898e-2308-4fba-a436-1799d59e2581"
   },
   "outputs": [
    {
     "name": "stdout",
     "output_type": "stream",
     "text": [
      "Iniciando transcripción del archivo: entrevista_limpia_Andrea_Gonzalez_Teleamazonas.wav\n"
     ]
    },
    {
     "name": "stderr",
     "output_type": "stream",
     "text": [
      "/usr/local/lib/python3.11/dist-packages/whisper/transcribe.py:132: UserWarning: FP16 is not supported on CPU; using FP32 instead\n",
      "  warnings.warn(\"FP16 is not supported on CPU; using FP32 instead\")\n"
     ]
    },
    {
     "name": "stdout",
     "output_type": "stream",
     "text": [
      "Transcripción guardada en: transcripcion_entrevista_Andrea_Gonzalez_Teleamazonas.txt\n",
      "\n",
      "Primeras líneas de la transcripción:\n",
      "--------------------------------------------------\n",
      " Y ya está con nosotros como lo ven aquí en el estudio en Waiquilandrea González. Bienvenida, gracias por acompañarnos. Muchísimas gracias Liz, me siento como en casa. Ya veíamos su perfil, usted ya es una figura política conocida, pero sin embargo lo que algunos cuestionan es que no ha ejercido dentro de la función pública y sin haberlo hecho, ¿cuál va a ser la experiencia para dirigir un país? Justamente el tema de ser de la clase trabajadora y entender que un gobierno cuando no ayuda estorba ...\n"
     ]
    }
   ],
   "source": [
    "texto7 = transcribir_audio(\"entrevista_limpia_Andrea_Gonzalez_Teleamazonas.wav\", \"transcripcion_entrevista_Andrea_Gonzalez_Teleamazonas.txt\")"
   ]
  },
  {
   "cell_type": "markdown",
   "metadata": {},
   "source": [
    "Entrevista #2"
   ]
  },
  {
   "cell_type": "code",
   "execution_count": null,
   "metadata": {
    "colab": {
     "base_uri": "https://localhost:8080/"
    },
    "id": "Pn9zLPbiXRtt",
    "outputId": "fb5e9b79-9fed-43c7-f024-4daf19b654ec"
   },
   "outputs": [
    {
     "name": "stdout",
     "output_type": "stream",
     "text": [
      "Audio descargado como: entrevista_Andrea_Gonzalez_Ecuavisa.mp4\n",
      "Audio procesado guardado en: entrevista_limpia_Andrea_Gonzalez_Ecuavisa.wav\n"
     ]
    }
   ],
   "source": [
    "audio8 = procesar_audio_youtube(\"https://www.youtube.com/watch?v=UQJ09FRKAZk&list=PLhiHxCJzb9eYHj1Yu-wZKUShSuc6-jnBC&index=12\", \"entrevista_Andrea_Gonzalez_Ecuavisa.mp4\", \"entrevista_limpia_Andrea_Gonzalez_Ecuavisa.wav\")"
   ]
  },
  {
   "cell_type": "code",
   "execution_count": null,
   "metadata": {
    "colab": {
     "base_uri": "https://localhost:8080/"
    },
    "id": "1LvoSh6VXmZH",
    "outputId": "49898cdc-510d-4c7e-b047-77f4cf6dec1d"
   },
   "outputs": [
    {
     "name": "stdout",
     "output_type": "stream",
     "text": [
      "Iniciando transcripción del archivo: entrevista_limpia_Andrea_Gonzalez_Ecuavisa.wav\n"
     ]
    },
    {
     "name": "stderr",
     "output_type": "stream",
     "text": [
      "/usr/local/lib/python3.11/dist-packages/whisper/transcribe.py:132: UserWarning: FP16 is not supported on CPU; using FP32 instead\n",
      "  warnings.warn(\"FP16 is not supported on CPU; using FP32 instead\")\n"
     ]
    },
    {
     "name": "stdout",
     "output_type": "stream",
     "text": [
      "Transcripción guardada en: transcripcion_entrevista_Andrea_Gonzalez_Ecuavisa.txt\n",
      "\n",
      "Primeras líneas de la transcripción:\n",
      "--------------------------------------------------\n",
      " En la especial elección es 2025 los presidenciables llegó el turno de conversar con Andrea González Nader, la guayaquileña de 37 años quien junto a Galo Munkayo conforman el binomio presidencial de Sociedad Patriótica. En la campaña anterior Andrea González fue la carta a la vicepresidencia de Construye con el activista Fernando Villavicencio quien fuera asesinado el 9 de agosto de 2023 pero no han sido esas sus únicas camisetas políticas. En 2019 patrocinada por unidad popular quiso ser vicepr...\n"
     ]
    }
   ],
   "source": [
    "texto8 = transcribir_audio(\"entrevista_limpia_Andrea_Gonzalez_Ecuavisa.wav\", \"transcripcion_entrevista_Andrea_Gonzalez_Ecuavisa.txt\")"
   ]
  },
  {
   "cell_type": "markdown",
   "metadata": {},
   "source": [
    "Entrevista #3"
   ]
  },
  {
   "cell_type": "code",
   "execution_count": null,
   "metadata": {
    "colab": {
     "base_uri": "https://localhost:8080/"
    },
    "id": "9thmUw38X1mq",
    "outputId": "1e6e8e4c-492e-4399-b3b4-895c676d16fb"
   },
   "outputs": [
    {
     "name": "stdout",
     "output_type": "stream",
     "text": [
      "Audio descargado como: entrevista_Andrea_Gonzalez_RevistaVistazo.mp4\n",
      "Audio procesado guardado en: entrevista_limpia_Andrea_Gonzalez_RevistaVistazo.wav\n"
     ]
    }
   ],
   "source": [
    "audio9 = procesar_audio_youtube(\"https://www.youtube.com/watch?v=b9DmUReNKNg&list=PL4ukCuVPXaeymuyrMV2QFdhBlKRcpNZ76&index=10\", \"entrevista_Andrea_Gonzalez_RevistaVistazo.mp4\", \"entrevista_limpia_Andrea_Gonzalez_RevistaVistazo.wav\")"
   ]
  },
  {
   "cell_type": "code",
   "execution_count": null,
   "metadata": {
    "colab": {
     "base_uri": "https://localhost:8080/"
    },
    "id": "rWrVwzUqX5C5",
    "outputId": "b91e96e1-5755-4350-89e4-3ed41fbd930a"
   },
   "outputs": [
    {
     "name": "stdout",
     "output_type": "stream",
     "text": [
      "Iniciando transcripción del archivo: entrevista_limpia_Andrea_Gonzalez_RevistaVistazo.wav\n"
     ]
    },
    {
     "name": "stderr",
     "output_type": "stream",
     "text": [
      "/usr/local/lib/python3.11/dist-packages/whisper/transcribe.py:132: UserWarning: FP16 is not supported on CPU; using FP32 instead\n",
      "  warnings.warn(\"FP16 is not supported on CPU; using FP32 instead\")\n"
     ]
    },
    {
     "name": "stdout",
     "output_type": "stream",
     "text": [
      "Transcripción guardada en: transcripcion_entrevista_Andrea_Gonzalez_RevistaVistazo.txt\n",
      "\n",
      "Primeras líneas de la transcripción:\n",
      "--------------------------------------------------\n",
      " ¿Por qué estos candidatos están en estos momentos participando? En mi caso es una continuidad de lo que fue el año pasado, no solamente de recorrer todo el territorio y aterrizar un plan de gobierno al que me dejaron construir como candidata a la vicepresidencia. Yo vengo de una vicepresidencia muy empoderada del año pasado con mi binomio y pude participar activamente en la construcción de ese plan de gobierno. Este año la responsabilidad fue netamente mía de construir este plan de gobierno que...\n"
     ]
    }
   ],
   "source": [
    "texto9 = transcribir_audio(\"entrevista_limpia_Andrea_Gonzalez_RevistaVistazo.wav\", \"transcripcion_entrevista_Andrea_Gonzalez_RevistaVistazo.txt\")"
   ]
  },
  {
   "cell_type": "markdown",
   "metadata": {
    "id": "vRTI1wNzEFX1"
   },
   "source": [
    "#### Juan Ivan Cueva"
   ]
  },
  {
   "cell_type": "markdown",
   "metadata": {},
   "source": [
    "Entrevista #1"
   ]
  },
  {
   "cell_type": "code",
   "execution_count": null,
   "metadata": {
    "colab": {
     "base_uri": "https://localhost:8080/"
    },
    "id": "sBqkiYnOjZSn",
    "outputId": "86023cd2-1383-4b0d-9bc6-cb2b744f8074"
   },
   "outputs": [
    {
     "name": "stdout",
     "output_type": "stream",
     "text": [
      "Audio descargado como: entrevista_Juan_Ivan_Cueva_Teleamazonas.mp4\n",
      "Audio procesado guardado en: entrevista_limpia_Juan_Ivan_Cueva_Teleamazonas.wav\n"
     ]
    }
   ],
   "source": [
    "audio10 = procesar_audio_youtube(\"https://www.youtube.com/watch?v=aC08x8rQ8Ts&list=PLwtmRZw8oM40RDj9c5VRIhDQN0mo0ANgb&index=15\", \"entrevista_Juan_Ivan_Cueva_Teleamazonas.mp4\", \"entrevista_limpia_Juan_Ivan_Cueva_Teleamazonas.wav\")"
   ]
  },
  {
   "cell_type": "code",
   "execution_count": null,
   "metadata": {
    "colab": {
     "base_uri": "https://localhost:8080/"
    },
    "id": "ApDC5Z0A2Lul",
    "outputId": "139dd927-3420-45af-c113-bd076899b74e"
   },
   "outputs": [
    {
     "name": "stdout",
     "output_type": "stream",
     "text": [
      "Iniciando transcripción del archivo: entrevista_limpia_Juan_Ivan_Cueva_Teleamazonas.wav\n"
     ]
    },
    {
     "name": "stderr",
     "output_type": "stream",
     "text": [
      "/usr/local/lib/python3.11/dist-packages/whisper/transcribe.py:132: UserWarning: FP16 is not supported on CPU; using FP32 instead\n",
      "  warnings.warn(\"FP16 is not supported on CPU; using FP32 instead\")\n"
     ]
    },
    {
     "name": "stdout",
     "output_type": "stream",
     "text": [
      "Transcripción guardada en: transcripcion_entrevista_Juan_Ivan_Cueva_Teleamazonas.txt\n",
      "\n",
      "Primeras líneas de la transcripción:\n",
      "--------------------------------------------------\n",
      " pero Juan Iván Cueva es el primer candidato que va a estar con nosotros, es el candidato del movimiento amigo. Veamos un pequeño reportaje de quién es el candidato presidencial de amigo. Con cerca de 10 años de experiencia como empresario pero con mucho menos, como político, Juan Iván Cueva Vivanco nacido en Lojas pira llegar al Palacio de Carondelet. Es ingeniero en electrónica y telecomunicaciones, rama en la que mejor se desenvolve según su perfil personal en el cual se detalla que es especi...\n"
     ]
    }
   ],
   "source": [
    "texto10 = transcribir_audio(\"entrevista_limpia_Juan_Ivan_Cueva_Teleamazonas.wav\", \"transcripcion_entrevista_Juan_Ivan_Cueva_Teleamazonas.txt\")"
   ]
  },
  {
   "cell_type": "markdown",
   "metadata": {},
   "source": [
    "Entrevista #2"
   ]
  },
  {
   "cell_type": "code",
   "execution_count": null,
   "metadata": {
    "colab": {
     "base_uri": "https://localhost:8080/"
    },
    "id": "lWm30z0b2igN",
    "outputId": "0eec19a0-e93f-42fd-baa2-a05fcf7b92b6"
   },
   "outputs": [
    {
     "name": "stdout",
     "output_type": "stream",
     "text": [
      "Audio descargado como: entrevista_Juan_Ivan_Cueva_Ecuavisa.mp4\n",
      "Audio procesado guardado en: entrevista_limpia_Juan_Ivan_Cueva_Ecuavisa.wav\n"
     ]
    }
   ],
   "source": [
    "audio11 = procesar_audio_youtube(\"https://www.youtube.com/watch?v=439W0-4DLlU&list=PLhiHxCJzb9eYHj1Yu-wZKUShSuc6-jnBC&index=3\", \"entrevista_Juan_Ivan_Cueva_Ecuavisa.mp4\", \"entrevista_limpia_Juan_Ivan_Cueva_Ecuavisa.wav\")"
   ]
  },
  {
   "cell_type": "code",
   "execution_count": null,
   "metadata": {
    "colab": {
     "base_uri": "https://localhost:8080/"
    },
    "id": "k-edWUos2x5I",
    "outputId": "31197301-3caa-473f-ff38-1c2428e58a65"
   },
   "outputs": [
    {
     "name": "stdout",
     "output_type": "stream",
     "text": [
      "Iniciando transcripción del archivo: entrevista_limpia_Juan_Ivan_Cueva_Ecuavisa.wav\n"
     ]
    },
    {
     "name": "stderr",
     "output_type": "stream",
     "text": [
      "/usr/local/lib/python3.11/dist-packages/whisper/transcribe.py:132: UserWarning: FP16 is not supported on CPU; using FP32 instead\n",
      "  warnings.warn(\"FP16 is not supported on CPU; using FP32 instead\")\n"
     ]
    },
    {
     "name": "stdout",
     "output_type": "stream",
     "text": [
      "Transcripción guardada en: transcripcion_entrevista_Juan_Ivan_Cueva_Ecuavisa.txt\n",
      "\n",
      "Primeras líneas de la transcripción:\n",
      "--------------------------------------------------\n",
      " En el especial de lecciones 2025 los presidenciables hoy estará aquí Juan Iván Cueva candidato por el movimiento Amigo en binomio con Cristina Reyes tiene experiencia en la función pública desde 2018 a 2019 en medios públicos luego en la corporación de telecomunicaciones y el año pasado estuvo en el ministerio de telecomunicaciones su patrimonio es de 526.295 dólares y figura como presidente de dos compañías y gerente general de una tercera por impuesto a la renta apagado 7.700 dólares desde 20...\n"
     ]
    }
   ],
   "source": [
    "texto11 = transcribir_audio(\"entrevista_limpia_Juan_Ivan_Cueva_Ecuavisa.wav\", \"transcripcion_entrevista_Juan_Ivan_Cueva_Ecuavisa.txt\")"
   ]
  },
  {
   "cell_type": "markdown",
   "metadata": {},
   "source": [
    "Entrevista #3\n"
   ]
  },
  {
   "cell_type": "code",
   "execution_count": null,
   "metadata": {
    "colab": {
     "base_uri": "https://localhost:8080/"
    },
    "id": "rso6aSMA2_b0",
    "outputId": "da7f31ba-9700-4f47-dc14-b84b37eba351"
   },
   "outputs": [
    {
     "name": "stdout",
     "output_type": "stream",
     "text": [
      "Audio descargado como: entrevista_Juan_Ivan_Cueva_RevistaVistazo.mp4\n",
      "Audio procesado guardado en: entrevista_limpia_Juan_Ivan_Cueva_RevistaVistazo.wav\n"
     ]
    }
   ],
   "source": [
    "audio12 = procesar_audio_youtube(\"https://www.youtube.com/watch?v=eoNipPmug5w&list=PL4ukCuVPXaeymuyrMV2QFdhBlKRcpNZ76&index=5\", \"entrevista_Juan_Ivan_Cueva_RevistaVistazo.mp4\", \"entrevista_limpia_Juan_Ivan_Cueva_RevistaVistazo.wav\")"
   ]
  },
  {
   "cell_type": "code",
   "execution_count": null,
   "metadata": {
    "colab": {
     "base_uri": "https://localhost:8080/"
    },
    "id": "hXk-QMsS3CH8",
    "outputId": "6bd70fa0-1c39-418e-b7e1-a6f22f5f3bf6"
   },
   "outputs": [
    {
     "name": "stdout",
     "output_type": "stream",
     "text": [
      "Iniciando transcripción del archivo: entrevista_limpia_Juan_Ivan_Cueva_RevistaVistazo.wav\n"
     ]
    },
    {
     "name": "stderr",
     "output_type": "stream",
     "text": [
      "/usr/local/lib/python3.11/dist-packages/whisper/transcribe.py:132: UserWarning: FP16 is not supported on CPU; using FP32 instead\n",
      "  warnings.warn(\"FP16 is not supported on CPU; using FP32 instead\")\n"
     ]
    },
    {
     "name": "stdout",
     "output_type": "stream",
     "text": [
      "Transcripción guardada en: transcripcion_entrevista_Juan_Ivan_Cueva_RevistaVistazo.txt\n",
      "\n",
      "Primeras líneas de la transcripción:\n",
      "--------------------------------------------------\n",
      " ¿Por qué soy un ciudadano al igual que la mayoría de cuatorianos, de los 18 millones de cuatorianos? Yo soy uno más de la ciudadanía que se ha preparado durante muchísimos años para correr por esta candidatura a la Presidencia para correr hacia el Palacio de Perón del Ed, lograr ese cambio profundo que necesitamos porque estoy aquí para defender al país de los corruptos del pasado y de los ineptos que hoy nos están gobernando. He decidido dar un paso hacia adelante y no dar un paso hacia el cos...\n"
     ]
    }
   ],
   "source": [
    "texto12 = transcribir_audio(\"entrevista_limpia_Juan_Ivan_Cueva_RevistaVistazo.wav\", \"transcripcion_entrevista_Juan_Ivan_Cueva_RevistaVistazo.txt\")"
   ]
  },
  {
   "cell_type": "markdown",
   "metadata": {
    "id": "OXBNUOm4DtUt"
   },
   "source": [
    "#### Carlos Rabascall"
   ]
  },
  {
   "cell_type": "markdown",
   "metadata": {},
   "source": [
    "Entrevista #1"
   ]
  },
  {
   "cell_type": "code",
   "execution_count": null,
   "metadata": {
    "colab": {
     "base_uri": "https://localhost:8080/"
    },
    "id": "7Q0FIhhABiPH",
    "outputId": "5bc06f53-0d4d-42e9-933e-92ed6e3ad403"
   },
   "outputs": [
    {
     "name": "stdout",
     "output_type": "stream",
     "text": [
      "Audio descargado como: entrevista_Carlos_Rabascall_Teleamazonas.mp4\n",
      "Audio procesado guardado en: entrevista_limpia_Carlos_Rabascall_Teleamazonas.wav\n"
     ]
    }
   ],
   "source": [
    "audio13 = procesar_audio_youtube(\"https://www.youtube.com/watch?v=tKOrCZnUI8A&list=PLwtmRZw8oM40RDj9c5VRIhDQN0mo0ANgb&index=6\", \"entrevista_Carlos_Rabascall_Teleamazonas.mp4\", \"entrevista_limpia_Carlos_Rabascall_Teleamazonas.wav\")"
   ]
  },
  {
   "cell_type": "code",
   "execution_count": null,
   "metadata": {
    "colab": {
     "base_uri": "https://localhost:8080/"
    },
    "id": "A6rfhUyIBidN",
    "outputId": "5dba8adc-839b-4ee6-8184-62c5721bf9c9"
   },
   "outputs": [
    {
     "name": "stdout",
     "output_type": "stream",
     "text": [
      "Iniciando transcripción del archivo: entrevista_limpia_Carlos_Rabascall_Teleamazonas.wav\n"
     ]
    },
    {
     "name": "stderr",
     "output_type": "stream",
     "text": [
      "/usr/local/lib/python3.11/dist-packages/whisper/transcribe.py:132: UserWarning: FP16 is not supported on CPU; using FP32 instead\n",
      "  warnings.warn(\"FP16 is not supported on CPU; using FP32 instead\")\n"
     ]
    },
    {
     "name": "stdout",
     "output_type": "stream",
     "text": [
      "Transcripción guardada en: transcripcion_entrevista_Carlos_Rabascall_Teleamazonas.txt\n",
      "\n",
      "Primeras líneas de la transcripción:\n",
      "--------------------------------------------------\n",
      " Le quiero dar la bienvenida formalmente al ingeniero Carlos Rabascar. Gracias por estar con nosotros esta mañana. Buenos días. Muy buenos días, Luis. Que gusto verte y felicitaciones por el estudio. Está precioso. Muchísimas gracias. No quiero engancharme mucho en este tema, pero no quiero tampoco dejar de preguntarle... La edad ya la dije. No, ya está. Más bien, su percepción del debate del domingo. A ver, yo creo que todo espacio es importante, por más que el formato es una camisa de fuerza c...\n"
     ]
    }
   ],
   "source": [
    "texto13 = transcribir_audio(\"entrevista_limpia_Carlos_Rabascall_Teleamazonas.wav\", \"transcripcion_entrevista_Carlos_Rabascall_Teleamazonas.txt\")"
   ]
  },
  {
   "cell_type": "markdown",
   "metadata": {},
   "source": [
    "Entrevista #2\n"
   ]
  },
  {
   "cell_type": "code",
   "execution_count": null,
   "metadata": {
    "colab": {
     "base_uri": "https://localhost:8080/"
    },
    "id": "nu1DfYuEBiqg",
    "outputId": "ab681fdb-1a5d-40bf-d3d4-ce36bfee1548"
   },
   "outputs": [
    {
     "name": "stdout",
     "output_type": "stream",
     "text": [
      "Audio descargado como: entrevista_Carlos_Rabascall_Ecuavisa.mp4\n",
      "Audio procesado guardado en: entrevista_limpia_Carlos_Rabascall_Ecuavisa.wav\n"
     ]
    }
   ],
   "source": [
    "audio14 = procesar_audio_youtube(\"https://www.youtube.com/watch?v=wUU6DbSs-7s&list=PLhiHxCJzb9eYHj1Yu-wZKUShSuc6-jnBC&index=7\", \"entrevista_Carlos_Rabascall_Ecuavisa.mp4\", \"entrevista_limpia_Carlos_Rabascall_Ecuavisa.wav\")"
   ]
  },
  {
   "cell_type": "code",
   "execution_count": null,
   "metadata": {
    "colab": {
     "base_uri": "https://localhost:8080/"
    },
    "id": "f7C98_TjBjAj",
    "outputId": "e4d3f819-a5b0-4d19-f634-27da2c5713df"
   },
   "outputs": [
    {
     "name": "stdout",
     "output_type": "stream",
     "text": [
      "Iniciando transcripción del archivo: entrevista_limpia_Carlos_Rabascall_Ecuavisa.wav\n"
     ]
    },
    {
     "name": "stderr",
     "output_type": "stream",
     "text": [
      "/usr/local/lib/python3.11/dist-packages/whisper/transcribe.py:132: UserWarning: FP16 is not supported on CPU; using FP32 instead\n",
      "  warnings.warn(\"FP16 is not supported on CPU; using FP32 instead\")\n"
     ]
    },
    {
     "name": "stdout",
     "output_type": "stream",
     "text": [
      "Transcripción guardada en: transcripcion_entrevista_Carlos_Rabascall_Ecuavisa.txt\n",
      "\n",
      "Primeras líneas de la transcripción:\n",
      "--------------------------------------------------\n",
      " en el especial elecciones dos mil veinticinco los presidenciables hoy la entrevista será a Carlos Ravascal quien conforme el binomio de izquierda democrática junto con Alejandra Rivas el ingeniero comercial de 64 años en 2021 fue candidato a la vicepresidencia por la alianza centro democrático fuerza compromiso social que apoyó al correismo con Andrés Arausa la cabeza el año pasado Ravascal se afilió a la izquierda democrática el fue presentador y entrevistador en ecuador tv entre 2004 y 2017 t...\n"
     ]
    }
   ],
   "source": [
    "texto14 = transcribir_audio(\"entrevista_limpia_Carlos_Rabascall_Ecuavisa.wav\", \"transcripcion_entrevista_Carlos_Rabascall_Ecuavisa.txt\")"
   ]
  },
  {
   "cell_type": "markdown",
   "metadata": {},
   "source": [
    "Entrevista #3"
   ]
  },
  {
   "cell_type": "code",
   "execution_count": null,
   "metadata": {
    "colab": {
     "base_uri": "https://localhost:8080/"
    },
    "id": "NPKHAjWHBjNi",
    "outputId": "46a45d10-4cd0-4728-b9c5-f77049678e67"
   },
   "outputs": [
    {
     "name": "stdout",
     "output_type": "stream",
     "text": [
      "Audio descargado como: entrevista_Carlos_Rabascall_RevistaVistazo.mp4\n",
      "Audio procesado guardado en: entrevista_limpia_Carlos_Rabascall_RevistaVistazo.wav\n"
     ]
    }
   ],
   "source": [
    "audio15 = procesar_audio_youtube(\"https://www.youtube.com/watch?v=d52jHpgBgOk&list=PL4ukCuVPXaeymuyrMV2QFdhBlKRcpNZ76&index=6\", \"entrevista_Carlos_Rabascall_RevistaVistazo.mp4\", \"entrevista_limpia_Carlos_Rabascall_RevistaVistazo.wav\")"
   ]
  },
  {
   "cell_type": "code",
   "execution_count": null,
   "metadata": {
    "colab": {
     "base_uri": "https://localhost:8080/"
    },
    "id": "GjKR3AQ_Cq5W",
    "outputId": "a566510c-9491-4067-c8e6-a09a9321f1b4"
   },
   "outputs": [
    {
     "name": "stdout",
     "output_type": "stream",
     "text": [
      "Iniciando transcripción del archivo: entrevista_limpia_Carlos_Rabascall_RevistaVistazo.wav\n"
     ]
    },
    {
     "name": "stderr",
     "output_type": "stream",
     "text": [
      "/usr/local/lib/python3.11/dist-packages/whisper/transcribe.py:132: UserWarning: FP16 is not supported on CPU; using FP32 instead\n",
      "  warnings.warn(\"FP16 is not supported on CPU; using FP32 instead\")\n"
     ]
    },
    {
     "name": "stdout",
     "output_type": "stream",
     "text": [
      "Transcripción guardada en: transcripcion_entrevista_Carlos_Rabascall_RevistaVistazo.txt\n",
      "\n",
      "Primeras líneas de la transcripción:\n",
      "--------------------------------------------------\n",
      " ¿Por qué quiero ser candidato? Porque soy muy malo para quedarme paralizado y para solamente ver cómo el país está destruyendo. Hace 45 años regresamos a la democracia ecotoriana luego de una dictadura y seguimos teniendo los mismos problemas, problemas estructurales, pero más agravado, más intensificado, débil estructura económica, débil estructura de las finanzas públicas, incapacidad para generar trabajo pleno, adecuado, formal, modelo educativo que no ha ido con la evolución del mundo conte...\n"
     ]
    }
   ],
   "source": [
    "texto15 = transcribir_audio(\"entrevista_limpia_Carlos_Rabascall_RevistaVistazo.wav\", \"transcripcion_entrevista_Carlos_Rabascall_RevistaVistazo.txt\")"
   ]
  },
  {
   "cell_type": "markdown",
   "metadata": {
    "id": "IzIRdJInEWfQ"
   },
   "source": [
    "#### Luis Felipe Tilleria"
   ]
  },
  {
   "cell_type": "markdown",
   "metadata": {},
   "source": [
    "Entrevista #1\n"
   ]
  },
  {
   "cell_type": "code",
   "execution_count": null,
   "metadata": {
    "colab": {
     "base_uri": "https://localhost:8080/"
    },
    "id": "pJ6s8hi2EkW9",
    "outputId": "7f8015eb-bf41-4b95-e003-74ebfa7b25a6"
   },
   "outputs": [
    {
     "name": "stdout",
     "output_type": "stream",
     "text": [
      "Audio descargado como: entrevista_Luis_Felipe_Tilleria_Teleamazonas.mp4\n",
      "Audio procesado guardado en: entrevista_limpia_Luis_Felipe_Tilleria_Teleamazonas.wav\n"
     ]
    }
   ],
   "source": [
    "audio16 = procesar_audio_youtube(\"https://www.youtube.com/watch?v=mde_6gkkrek&list=PLwtmRZw8oM40RDj9c5VRIhDQN0mo0ANgb&index=14\", \"entrevista_Luis_Felipe_Tilleria_Teleamazonas.mp4\", \"entrevista_limpia_Luis_Felipe_Tilleria_Teleamazonas.wav\")"
   ]
  },
  {
   "cell_type": "code",
   "execution_count": null,
   "metadata": {
    "colab": {
     "base_uri": "https://localhost:8080/"
    },
    "id": "MTi_f2J4FDeG",
    "outputId": "b4d6bbf8-5728-4437-d9e1-0fda5293c12c"
   },
   "outputs": [
    {
     "name": "stdout",
     "output_type": "stream",
     "text": [
      "Iniciando transcripción del archivo: entrevista_limpia_Luis_Felipe_Tilleria_Teleamazonas.wav\n"
     ]
    },
    {
     "name": "stderr",
     "output_type": "stream",
     "text": [
      "/usr/local/lib/python3.11/dist-packages/whisper/transcribe.py:132: UserWarning: FP16 is not supported on CPU; using FP32 instead\n",
      "  warnings.warn(\"FP16 is not supported on CPU; using FP32 instead\")\n"
     ]
    },
    {
     "name": "stdout",
     "output_type": "stream",
     "text": [
      "Transcripción guardada en: transcripcion_entrevista_Luis_Felipe_Tilleria_Teleamazonas.txt\n",
      "\n",
      "Primeras líneas de la transcripción:\n",
      "--------------------------------------------------\n",
      " Y le doy ya la bienvenida formalmente al Ifeleluipete Yería, candidato a la Presidencia por Avanza, que gusta tenerlo aquí. Buenos días, bienvenido. Sí, buenos días. Antes que nada quisiera entregarle mi currículum. Vengo a una entrevista de trabajo. Aspiro a tener el trabajo de presidente de 18 millones de cuantos años. Y usted migró en el año 2000, primer Estados Unidos, 2002. Más bien ya se va pues a Inglaterra, en Londres, donde ha permanecido durante todos estos años. Y eso no lo ponen de ...\n"
     ]
    }
   ],
   "source": [
    "texto16 = transcribir_audio(\"entrevista_limpia_Luis_Felipe_Tilleria_Teleamazonas.wav\", \"transcripcion_entrevista_Luis_Felipe_Tilleria_Teleamazonas.txt\")"
   ]
  },
  {
   "cell_type": "markdown",
   "metadata": {},
   "source": [
    "Entrevista #2"
   ]
  },
  {
   "cell_type": "code",
   "execution_count": null,
   "metadata": {
    "colab": {
     "base_uri": "https://localhost:8080/"
    },
    "id": "n7yKAEu0FDnf",
    "outputId": "911cb1db-3262-4cfd-fa1a-ca5de31f06dd"
   },
   "outputs": [
    {
     "name": "stdout",
     "output_type": "stream",
     "text": [
      "Audio descargado como: entrevista_Luis_Felipe_Tilleria_Ecuavisa.mp4\n",
      "Audio procesado guardado en: entrevista_limpia_Luis_Felipe_Tilleria_Ecuavisa.wav\n"
     ]
    }
   ],
   "source": [
    "audio17 = procesar_audio_youtube(\"https://www.youtube.com/watch?v=5oADrbQ5Q10&list=PLhiHxCJzb9eYHj1Yu-wZKUShSuc6-jnBC&index=8\", \"entrevista_Luis_Felipe_Tilleria_Ecuavisa.mp4\", \"entrevista_limpia_Luis_Felipe_Tilleria_Ecuavisa.wav\")"
   ]
  },
  {
   "cell_type": "code",
   "execution_count": null,
   "metadata": {
    "colab": {
     "base_uri": "https://localhost:8080/"
    },
    "id": "NBL_QEi8FD1N",
    "outputId": "4518dccf-3818-4201-d4ed-718ff12804d1"
   },
   "outputs": [
    {
     "name": "stdout",
     "output_type": "stream",
     "text": [
      "Iniciando transcripción del archivo: entrevista_limpia_Luis_Felipe_Tilleria_Ecuavisa.wav\n"
     ]
    },
    {
     "name": "stderr",
     "output_type": "stream",
     "text": [
      "/usr/local/lib/python3.11/dist-packages/whisper/transcribe.py:132: UserWarning: FP16 is not supported on CPU; using FP32 instead\n",
      "  warnings.warn(\"FP16 is not supported on CPU; using FP32 instead\")\n"
     ]
    },
    {
     "name": "stdout",
     "output_type": "stream",
     "text": [
      "Transcripción guardada en: transcripcion_entrevista_Luis_Felipe_Tilleria_Ecuavisa.txt\n",
      "\n",
      "Primeras líneas de la transcripción:\n",
      "--------------------------------------------------\n",
      " y continuamos con el especial elecciones, dos mil veinticinco, los presidenciables para conversar hoy con Luis Felipe Tillería, quien junto a Carla Rosero conforman el binomio de avanza. El Boyaquileño de 42 años es nuevo en política local, pero figura como consejal en uno de los distritos de Londres, país al que migró en dos mil tres, y ese cargo, el de consejal en Londres, lo debe ocupar hasta el mes de marzo. El del latinoamericano en Londres también fue gerente del Royal Bank recipientado d...\n"
     ]
    }
   ],
   "source": [
    "texto17 = transcribir_audio(\"entrevista_limpia_Luis_Felipe_Tilleria_Ecuavisa.wav\", \"transcripcion_entrevista_Luis_Felipe_Tilleria_Ecuavisa.txt\")"
   ]
  },
  {
   "cell_type": "markdown",
   "metadata": {},
   "source": [
    "Entrevista #3"
   ]
  },
  {
   "cell_type": "code",
   "execution_count": null,
   "metadata": {
    "colab": {
     "base_uri": "https://localhost:8080/"
    },
    "id": "JqexKAMQFD-A",
    "outputId": "174a925a-f9f1-4def-baed-93e7f706a59b"
   },
   "outputs": [
    {
     "name": "stdout",
     "output_type": "stream",
     "text": [
      "Audio descargado como: entrevista_Luis_Felipe_Tilleria_RevistaVistazo.mp4\n",
      "Audio procesado guardado en: entrevista_limpia_Luis_Felipe_Tilleria_RevistaVistazo.wav\n"
     ]
    }
   ],
   "source": [
    "audio18 = procesar_audio_youtube(\"https://www.youtube.com/watch?v=F7TAfbJkaZ8&list=PL4ukCuVPXaeymuyrMV2QFdhBlKRcpNZ76&index=7\", \"entrevista_Luis_Felipe_Tilleria_RevistaVistazo.mp4\", \"entrevista_limpia_Luis_Felipe_Tilleria_RevistaVistazo.wav\")"
   ]
  },
  {
   "cell_type": "code",
   "execution_count": null,
   "metadata": {
    "colab": {
     "base_uri": "https://localhost:8080/"
    },
    "id": "jwtdetfRFEHc",
    "outputId": "f6f94221-3ff7-4668-bd49-0b7019fd0622"
   },
   "outputs": [
    {
     "name": "stdout",
     "output_type": "stream",
     "text": [
      "Iniciando transcripción del archivo: entrevista_limpia_Luis_Felipe_Tilleria_RevistaVistazo.wav\n"
     ]
    },
    {
     "name": "stderr",
     "output_type": "stream",
     "text": [
      "/usr/local/lib/python3.11/dist-packages/whisper/transcribe.py:132: UserWarning: FP16 is not supported on CPU; using FP32 instead\n",
      "  warnings.warn(\"FP16 is not supported on CPU; using FP32 instead\")\n"
     ]
    },
    {
     "name": "stdout",
     "output_type": "stream",
     "text": [
      "Transcripción guardada en: transcripcion_entrevista_Luis_Felipe_Tilleria_RevistaVistazo.txt\n",
      "\n",
      "Primeras líneas de la transcripción:\n",
      "--------------------------------------------------\n",
      " ¿Por qué el pueblo de México está en el país más rico de Latinoamérica? ¿Por qué el pueblo de México está en el país más rico de Latinoamérica? ¿Por qué el pueblo de México está en el país más rico de Latinoamérica? Porque siempre he tenido la certeza que Ecuador puede ser un país del primer mundo. Ecuador está destinado a ser el país más rico de Latinoamérica. Y esto sí se puede hacer en una generación. Mi papá es chileno y mi papá vino a Ecuador en busca de oportunidades hace 48 años. Porque ...\n"
     ]
    }
   ],
   "source": [
    "texto18 = transcribir_audio(\"entrevista_limpia_Luis_Felipe_Tilleria_RevistaVistazo.wav\", \"transcripcion_entrevista_Luis_Felipe_Tilleria_RevistaVistazo.txt\")"
   ]
  },
  {
   "cell_type": "markdown",
   "metadata": {
    "id": "XE7XdVITGRMR"
   },
   "source": [
    "#### Henry Kronfle\n"
   ]
  },
  {
   "cell_type": "markdown",
   "metadata": {},
   "source": [
    "Entrevista #1"
   ]
  },
  {
   "cell_type": "code",
   "execution_count": null,
   "metadata": {
    "colab": {
     "base_uri": "https://localhost:8080/"
    },
    "id": "8yCn3sgtGR1R",
    "outputId": "9d03325f-880c-451a-85f5-28e390305ce0"
   },
   "outputs": [
    {
     "name": "stdout",
     "output_type": "stream",
     "text": [
      "Audio descargado como: entrevista_Henry_Kronfle_Teleamazonas.mp4\n",
      "Audio procesado guardado en: entrevista_limpia_Henry_Kronfle_Teleamazonas.wav\n"
     ]
    }
   ],
   "source": [
    "audio19 = procesar_audio_youtube(\"https://www.youtube.com/watch?v=khfD1sTj73A&list=PLwtmRZw8oM40RDj9c5VRIhDQN0mo0ANgb&index=3\", \"entrevista_Henry_Kronfle_Teleamazonas.mp4\", \"entrevista_limpia_Henry_Kronfle_Teleamazonas.wav\")"
   ]
  },
  {
   "cell_type": "code",
   "execution_count": null,
   "metadata": {
    "colab": {
     "base_uri": "https://localhost:8080/"
    },
    "id": "Gkk1PbvZGvsS",
    "outputId": "eea39da7-5231-431f-9cbf-757f023bfd10"
   },
   "outputs": [
    {
     "name": "stdout",
     "output_type": "stream",
     "text": [
      "Iniciando transcripción del archivo: entrevista_limpia_Henry_Kronfle_Teleamazonas.wav\n"
     ]
    },
    {
     "name": "stderr",
     "output_type": "stream",
     "text": [
      "/usr/local/lib/python3.11/dist-packages/whisper/transcribe.py:132: UserWarning: FP16 is not supported on CPU; using FP32 instead\n",
      "  warnings.warn(\"FP16 is not supported on CPU; using FP32 instead\")\n"
     ]
    },
    {
     "name": "stdout",
     "output_type": "stream",
     "text": [
      "Transcripción guardada en: transcripcion_entrevista_Henry_Kronfle_Teleamazonas.txt\n",
      "\n",
      "Primeras líneas de la transcripción:\n",
      "--------------------------------------------------\n",
      " ¡Genericron! ¡Gracias por acompañar los buenos días! Gracias por la invitación, Milton. Antes de conocer algunas propuestas, aclaremos algo. Usted dijo, voy a extraditar a Rafael Correa. ¿Cómo andará a traer? Bueno, existe un contrato de un convenio de extradición con el Reino de Bélgica, que data de finales del siglo XIX, primero. Segundo, los delitos tipificados en el ecuador también existen allá, que eso es una condición sin ecuadrón. Tercero, se han cometido delitos, no se puede hablar que ...\n"
     ]
    }
   ],
   "source": [
    "texto19 = transcribir_audio(\"entrevista_limpia_Henry_Kronfle_Teleamazonas.wav\", \"transcripcion_entrevista_Henry_Kronfle_Teleamazonas.txt\")"
   ]
  },
  {
   "cell_type": "markdown",
   "metadata": {},
   "source": [
    "Entrevista #2"
   ]
  },
  {
   "cell_type": "code",
   "execution_count": null,
   "metadata": {
    "colab": {
     "base_uri": "https://localhost:8080/"
    },
    "id": "luLL5vSSGv1q",
    "outputId": "a4aca6d8-1ebc-480d-affe-761b36559dec"
   },
   "outputs": [
    {
     "name": "stdout",
     "output_type": "stream",
     "text": [
      "Audio descargado como: entrevista_Henry_Kronfle_Ecuavisa.mp4\n",
      "Audio procesado guardado en: entrevista_limpia_Henry_Kronfle_Ecuavisa.wav\n"
     ]
    }
   ],
   "source": [
    "audio20 = procesar_audio_youtube(\"https://www.youtube.com/watch?v=yosPW9f7-4A&list=PLhiHxCJzb9eYHj1Yu-wZKUShSuc6-jnBC&index=9\", \"entrevista_Henry_Kronfle_Ecuavisa.mp4\", \"entrevista_limpia_Henry_Kronfle_Ecuavisa.wav\")"
   ]
  },
  {
   "cell_type": "code",
   "execution_count": null,
   "metadata": {
    "colab": {
     "base_uri": "https://localhost:8080/"
    },
    "id": "Y19ncmqzGv-v",
    "outputId": "9edccc88-244f-4c4b-f30c-cf27e05a226b"
   },
   "outputs": [
    {
     "name": "stdout",
     "output_type": "stream",
     "text": [
      "Iniciando transcripción del archivo: entrevista_limpia_Henry_Kronfle_Ecuavisa.wav\n"
     ]
    },
    {
     "name": "stderr",
     "output_type": "stream",
     "text": [
      "/usr/local/lib/python3.11/dist-packages/whisper/transcribe.py:132: UserWarning: FP16 is not supported on CPU; using FP32 instead\n",
      "  warnings.warn(\"FP16 is not supported on CPU; using FP32 instead\")\n"
     ]
    },
    {
     "name": "stdout",
     "output_type": "stream",
     "text": [
      "Transcripción guardada en: transcripcion_entrevista_Henry_Kronfle_Ecuavisa.txt\n",
      "\n",
      "Primeras líneas de la transcripción:\n",
      "--------------------------------------------------\n",
      " la semana avanzamos en la papeleta de las elecciones 2025 para hablar con los presidenciables. Hoy con Henry Cronefle quien encabeza el binomio social cristiano que conforma con Dayana Pasleg. El candidato de la CES acumuló tres periodos consecutivos como asambleista nacional y ocupó la presidencia de este organismo en el último de sus periodos. Antes fue Consul Honorario de México y como dirigente gremial, presidente de la Asociación de la CES, el agosto de la presidencia de la CES. Según la C...\n"
     ]
    }
   ],
   "source": [
    "texto20 = transcribir_audio(\"entrevista_limpia_Henry_Kronfle_Ecuavisa.wav\", \"transcripcion_entrevista_Henry_Kronfle_Ecuavisa.txt\")"
   ]
  },
  {
   "cell_type": "markdown",
   "metadata": {},
   "source": [
    "Entrevista #3"
   ]
  },
  {
   "cell_type": "code",
   "execution_count": null,
   "metadata": {
    "colab": {
     "base_uri": "https://localhost:8080/"
    },
    "id": "0hyHEEYNGwIn",
    "outputId": "c23d553c-8816-4db2-c65f-085a80e4d944"
   },
   "outputs": [
    {
     "name": "stdout",
     "output_type": "stream",
     "text": [
      "Audio descargado como: entrevista_Henry_Kronfle_RevistaVistazo.mp4\n",
      "Audio procesado guardado en: entrevista_limpia_Henry_Kronfle_RevistaVistazo.wav\n"
     ]
    }
   ],
   "source": [
    "audio21 = procesar_audio_youtube(\"https://www.youtube.com/watch?v=rnl4dXWjy8U&list=PL4ukCuVPXaeymuyrMV2QFdhBlKRcpNZ76&index=8\", \"entrevista_Henry_Kronfle_RevistaVistazo.mp4\", \"entrevista_limpia_Henry_Kronfle_RevistaVistazo.wav\")"
   ]
  },
  {
   "cell_type": "code",
   "execution_count": null,
   "metadata": {
    "colab": {
     "base_uri": "https://localhost:8080/"
    },
    "id": "IAny6aA9GwQ5",
    "outputId": "1f17b81a-2e04-4b2e-9010-1b77010ffead"
   },
   "outputs": [
    {
     "name": "stdout",
     "output_type": "stream",
     "text": [
      "Iniciando transcripción del archivo: entrevista_limpia_Henry_Kronfle_RevistaVistazo.wav\n"
     ]
    },
    {
     "name": "stderr",
     "output_type": "stream",
     "text": [
      "/usr/local/lib/python3.11/dist-packages/whisper/transcribe.py:132: UserWarning: FP16 is not supported on CPU; using FP32 instead\n",
      "  warnings.warn(\"FP16 is not supported on CPU; using FP32 instead\")\n"
     ]
    },
    {
     "name": "stdout",
     "output_type": "stream",
     "text": [
      "Transcripción guardada en: transcripcion_entrevista_Henry_Kronfle_RevistaVistazo.txt\n",
      "\n",
      "Primeras líneas de la transcripción:\n",
      "--------------------------------------------------\n",
      " Quiero ser candidato a la Presidencia porque amo este país y veo que cada día se profundizan más los problemas que son graves y urgentes, sobre todo los que tienen la población en general y la gente más pobre. Cuando estuve en la Asamblea Nacional muchos años y en el último año como presidente de la Asamblea Nacional, atendía mucha gente, recibía decenas de miles de personas durante casi ocho años en la Asamblea Nacional y escuchando todo tipo de representantes de ganaderos, agricultores, pesca...\n"
     ]
    }
   ],
   "source": [
    "texto21 = transcribir_audio(\"entrevista_limpia_Henry_Kronfle_RevistaVistazo.wav\", \"transcripcion_entrevista_Henry_Kronfle_RevistaVistazo.txt\")"
   ]
  },
  {
   "cell_type": "markdown",
   "metadata": {
    "id": "P168yvzaH-jT"
   },
   "source": [
    "#### Victor Araus"
   ]
  },
  {
   "cell_type": "markdown",
   "metadata": {},
   "source": [
    "Entrevista #1"
   ]
  },
  {
   "cell_type": "code",
   "execution_count": null,
   "metadata": {
    "colab": {
     "base_uri": "https://localhost:8080/"
    },
    "id": "-HUT6BFlIVnj",
    "outputId": "76d8106b-bcdc-4ad2-9eee-88b003d4c278"
   },
   "outputs": [
    {
     "name": "stdout",
     "output_type": "stream",
     "text": [
      "Audio descargado como: entrevista_Victor_Araus_Teleamazonas.mp4\n",
      "Audio procesado guardado en: entrevista_limpia_Victor_Araus_Teleamazonas.wav\n"
     ]
    }
   ],
   "source": [
    "audio22 = procesar_audio_youtube(\"https://www.youtube.com/watch?v=1-pCYCFfcts&list=PLwtmRZw8oM40RDj9c5VRIhDQN0mo0ANgb&index=13\", \"entrevista_Victor_Araus_Teleamazonas.mp4\", \"entrevista_limpia_Victor_Araus_Teleamazonas.wav\")"
   ]
  },
  {
   "cell_type": "code",
   "execution_count": null,
   "metadata": {
    "colab": {
     "base_uri": "https://localhost:8080/"
    },
    "id": "03N1S1EUIXSY",
    "outputId": "c81322f9-2a23-482c-9368-1f11a1c092ac"
   },
   "outputs": [
    {
     "name": "stdout",
     "output_type": "stream",
     "text": [
      "Iniciando transcripción del archivo: entrevista_limpia_Victor_Araus_Teleamazonas.wav\n"
     ]
    },
    {
     "name": "stderr",
     "output_type": "stream",
     "text": [
      "/usr/local/lib/python3.11/dist-packages/whisper/transcribe.py:132: UserWarning: FP16 is not supported on CPU; using FP32 instead\n",
      "  warnings.warn(\"FP16 is not supported on CPU; using FP32 instead\")\n"
     ]
    },
    {
     "name": "stdout",
     "output_type": "stream",
     "text": [
      "Transcripción guardada en: transcripcion_entrevista_Victor_Araus_Teleamazonas.txt\n",
      "\n",
      "Primeras líneas de la transcripción:\n",
      "--------------------------------------------------\n",
      " de la ciudad de México. Gracias por acompañarnos. Gracias a ustedes por la invitación. Un saludo a todo el país. Quiero empezar por esto último que decía el reportaje. Usted vio una entrevista suya de hace par de meses atrás en la posta. Decía que el embajador de los Estados Unidos, Michael Fitzpatrick, lo persiguió y usted lo acusó de corrupto. Aclaren esto para empezar. 100 por ciento Milton porque el embajador en primer lugar se convirtió en un cómple silencioso y después fue parte important...\n"
     ]
    }
   ],
   "source": [
    "texto22 = transcribir_audio(\"entrevista_limpia_Victor_Araus_Teleamazonas.wav\", \"transcripcion_entrevista_Victor_Araus_Teleamazonas.txt\")"
   ]
  },
  {
   "cell_type": "markdown",
   "metadata": {},
   "source": [
    "Entrevista #2"
   ]
  },
  {
   "cell_type": "code",
   "execution_count": null,
   "metadata": {
    "colab": {
     "base_uri": "https://localhost:8080/"
    },
    "id": "s37DoBWHIXf9",
    "outputId": "5fc8b84e-d6d3-4fce-d6b5-622f0fe7b010"
   },
   "outputs": [
    {
     "name": "stdout",
     "output_type": "stream",
     "text": [
      "Audio descargado como: entrevista_Victor_Araus_RevistaVistazo.mp4\n",
      "Audio procesado guardado en: entrevista_limpia_Victor_Araus_RevistaVistazo.wav\n"
     ]
    }
   ],
   "source": [
    "audio23 = procesar_audio_youtube(\"https://www.youtube.com/watch?v=xxdeZPBY_Jc&list=PL4ukCuVPXaeymuyrMV2QFdhBlKRcpNZ76&index=9\", \"entrevista_Victor_Araus_RevistaVistazo.mp4\", \"entrevista_limpia_Victor_Araus_RevistaVistazo.wav\")"
   ]
  },
  {
   "cell_type": "code",
   "execution_count": null,
   "metadata": {
    "colab": {
     "base_uri": "https://localhost:8080/"
    },
    "id": "8su-J6PDIXpe",
    "outputId": "fe0c21c3-bbbf-41b2-f554-6a5778bf46ac"
   },
   "outputs": [
    {
     "name": "stdout",
     "output_type": "stream",
     "text": [
      "Iniciando transcripción del archivo: entrevista_limpia_Victor_Araus_RevistaVistazo.wav\n"
     ]
    },
    {
     "name": "stderr",
     "output_type": "stream",
     "text": [
      "/usr/local/lib/python3.11/dist-packages/whisper/transcribe.py:132: UserWarning: FP16 is not supported on CPU; using FP32 instead\n",
      "  warnings.warn(\"FP16 is not supported on CPU; using FP32 instead\")\n"
     ]
    },
    {
     "name": "stdout",
     "output_type": "stream",
     "text": [
      "Transcripción guardada en: transcripcion_entrevista_Victor_Araus_RevistaVistazo.txt\n",
      "\n",
      "Primeras líneas de la transcripción:\n",
      "--------------------------------------------------\n",
      " 36 años de servicio de la Policía Nacional no ha permitido conocer mucho la realidad de nuestro país. Conozco todos los ricones de nuestra patria y conozco al detalle cada una de sus preocupaciones, cada una de sus inquietudes y la actual situación en la que vi el país que estamos rodillados ante la delincuencia, una crisis económica terrible, una crisis energética que nos afectaba a todos más que incluso la misma pandemia y con ese conocimiento y solvencia profesional como digo yo. Creo que te...\n"
     ]
    }
   ],
   "source": [
    "texto23 = transcribir_audio(\"entrevista_limpia_Victor_Araus_RevistaVistazo.wav\", \"transcripcion_entrevista_Victor_Araus_RevistaVistazo.txt\")"
   ]
  },
  {
   "cell_type": "markdown",
   "metadata": {
    "id": "mM1Ry1alIdea"
   },
   "source": [
    "#### Jorge Escala"
   ]
  },
  {
   "cell_type": "markdown",
   "metadata": {},
   "source": [
    "Entrevista #1"
   ]
  },
  {
   "cell_type": "code",
   "execution_count": null,
   "metadata": {
    "colab": {
     "base_uri": "https://localhost:8080/"
    },
    "id": "NtGI-VRyIX5l",
    "outputId": "a0ba1981-0731-4ccb-f932-1b2305964f8b"
   },
   "outputs": [
    {
     "name": "stdout",
     "output_type": "stream",
     "text": [
      "Audio descargado como: entrevista_Jorge_Escala_Teleamazonas.mp4\n",
      "Audio procesado guardado en: entrevista_limpia_Jorge_Escala_Teleamazonas.wav\n"
     ]
    }
   ],
   "source": [
    "audio24 = procesar_audio_youtube(\"https://www.youtube.com/watch?v=oeALtyL5joA&list=PLwtmRZw8oM40RDj9c5VRIhDQN0mo0ANgb&index=10\", \"entrevista_Jorge_Escala_Teleamazonas.mp4\", \"entrevista_limpia_Jorge_Escala_Teleamazonas.wav\")"
   ]
  },
  {
   "cell_type": "code",
   "execution_count": null,
   "metadata": {
    "colab": {
     "base_uri": "https://localhost:8080/"
    },
    "id": "9kyu4v4nIYC7",
    "outputId": "044eca18-bb2d-46ee-9706-71b74313dde0"
   },
   "outputs": [
    {
     "name": "stdout",
     "output_type": "stream",
     "text": [
      "Iniciando transcripción del archivo: entrevista_limpia_Jorge_Escala_Teleamazonas.wav\n"
     ]
    },
    {
     "name": "stderr",
     "output_type": "stream",
     "text": [
      "/usr/local/lib/python3.11/dist-packages/whisper/transcribe.py:132: UserWarning: FP16 is not supported on CPU; using FP32 instead\n",
      "  warnings.warn(\"FP16 is not supported on CPU; using FP32 instead\")\n"
     ]
    },
    {
     "name": "stdout",
     "output_type": "stream",
     "text": [
      "Transcripción guardada en: transcripcion_entrevista_Jorge_Escala_Teleamazonas.txt\n",
      "\n",
      "Primeras líneas de la transcripción:\n",
      "--------------------------------------------------\n",
      " Y lo doy formalmente la bienvenida y las gracias por acompañarnos a Jorge Scala, candidato por un día popular a la presidencia de la República. Buenos días. Buenos días, Liz. ¿Qué gusto estar con usted a los tiempos? Bueno, a los tiempos, es verdad. Después de 12 años, prácticamente usted regresa a este trajín político. Bueno, no me ha ausentado de la lucha social y popular. Cierto es que he estado dedicado a mi labor docente. Son 32 años dedicado a la formación de la niñez y la juventud. La ge...\n"
     ]
    }
   ],
   "source": [
    "texto24 = transcribir_audio(\"entrevista_limpia_Jorge_Escala_Teleamazonas.wav\", \"transcripcion_entrevista_Jorge_Escala_Teleamazonas.txt\")"
   ]
  },
  {
   "cell_type": "markdown",
   "metadata": {},
   "source": [
    "Entrevista #2"
   ]
  },
  {
   "cell_type": "code",
   "execution_count": null,
   "metadata": {
    "colab": {
     "base_uri": "https://localhost:8080/"
    },
    "id": "Z2BKHf2iJrOt",
    "outputId": "fd2332fa-2d7d-4b22-e186-a48ffd5977b1"
   },
   "outputs": [
    {
     "name": "stdout",
     "output_type": "stream",
     "text": [
      "Audio descargado como: entrevista_Jorge_Escala_Ecuavisa.mp4\n",
      "Audio procesado guardado en: entrevista_limpia_Jorge_Escala_Ecuavisa.wav\n"
     ]
    }
   ],
   "source": [
    "audio25 = procesar_audio_youtube(\"https://www.youtube.com/watch?v=xHrZg7A65bQ&list=PLhiHxCJzb9eYHj1Yu-wZKUShSuc6-jnBC&index=13\", \"entrevista_Jorge_Escala_Ecuavisa.mp4\", \"entrevista_limpia_Jorge_Escala_Ecuavisa.wav\")"
   ]
  },
  {
   "cell_type": "code",
   "execution_count": null,
   "metadata": {
    "colab": {
     "base_uri": "https://localhost:8080/"
    },
    "id": "Bahr_47OJrZv",
    "outputId": "ec0bde66-03ea-4b62-f8be-b4137de35fe0"
   },
   "outputs": [
    {
     "name": "stdout",
     "output_type": "stream",
     "text": [
      "Iniciando transcripción del archivo: entrevista_limpia_Jorge_Escala_Ecuavisa.wav\n"
     ]
    },
    {
     "name": "stderr",
     "output_type": "stream",
     "text": [
      "/usr/local/lib/python3.11/dist-packages/whisper/transcribe.py:132: UserWarning: FP16 is not supported on CPU; using FP32 instead\n",
      "  warnings.warn(\"FP16 is not supported on CPU; using FP32 instead\")\n"
     ]
    },
    {
     "name": "stdout",
     "output_type": "stream",
     "text": [
      "Transcripción guardada en: transcripcion_entrevista_Jorge_Escala_Ecuavisa.txt\n",
      "\n",
      "Primeras líneas de la transcripción:\n",
      "--------------------------------------------------\n",
      " y seguimos con el especial de lecciones, dos mil veinticinco los presidenciables. Hoy vino a contacto directo a Jorge Escala, quien mañana va a cumplir cincuenta y cinco años y en cabeza el binomio de unidad popular, binomio que lo completa Pacha Terán. Toda su carrera política ha sido en el mismo partido que antes se llamaba MPD, el movimiento popular democrático y es unidad popular desde hace algunos años. Desde mil novecientos noventa y tres años, la Comisión Legislativa y de Fiscalización r...\n"
     ]
    }
   ],
   "source": [
    "texto25 = transcribir_audio(\"entrevista_limpia_Jorge_Escala_Ecuavisa.wav\", \"transcripcion_entrevista_Jorge_Escala_Ecuavisa.txt\")"
   ]
  },
  {
   "cell_type": "markdown",
   "metadata": {},
   "source": [
    "Entrevista #3"
   ]
  },
  {
   "cell_type": "code",
   "execution_count": null,
   "metadata": {
    "colab": {
     "base_uri": "https://localhost:8080/"
    },
    "id": "P4LQu7MeJrm8",
    "outputId": "33d92b2e-07b1-4485-b09e-ec2a77a48bce"
   },
   "outputs": [
    {
     "name": "stdout",
     "output_type": "stream",
     "text": [
      "Audio descargado como: entrevista_Jorge_Escala_RevistaVistazo.mp4\n",
      "Audio procesado guardado en: entrevista_limpia_Jorge_Escala_RevistaVistazo.wav\n"
     ]
    }
   ],
   "source": [
    "audio26 = procesar_audio_youtube(\"https://www.youtube.com/watch?v=GTgeoo62qPs&list=PL4ukCuVPXaeymuyrMV2QFdhBlKRcpNZ76&index=11\", \"entrevista_Jorge_Escala_RevistaVistazo.mp4\", \"entrevista_limpia_Jorge_Escala_RevistaVistazo.wav\")"
   ]
  },
  {
   "cell_type": "code",
   "execution_count": null,
   "metadata": {
    "colab": {
     "base_uri": "https://localhost:8080/"
    },
    "id": "SVPprFl0Jrw8",
    "outputId": "10dbaa99-9b31-4254-880f-4207674cefc5"
   },
   "outputs": [
    {
     "name": "stdout",
     "output_type": "stream",
     "text": [
      "Iniciando transcripción del archivo: entrevista_limpia_Jorge_Escala_RevistaVistazo.wav\n"
     ]
    },
    {
     "name": "stderr",
     "output_type": "stream",
     "text": [
      "/usr/local/lib/python3.11/dist-packages/whisper/transcribe.py:132: UserWarning: FP16 is not supported on CPU; using FP32 instead\n",
      "  warnings.warn(\"FP16 is not supported on CPU; using FP32 instead\")\n"
     ]
    },
    {
     "name": "stdout",
     "output_type": "stream",
     "text": [
      "Transcripción guardada en: transcripcion_entrevista_Jorge_Escala_RevistaVistazo.txt\n",
      "\n",
      "Primeras líneas de la transcripción:\n",
      "--------------------------------------------------\n",
      " ¿Por qué los niños y los jóvenes tienen el derecho humano a la educación frente a lo que está ocurriendo el día de hoy, alrededor de 200.000 niños fuera de sus aulas, estamos hablando casi un millón de jóvenes, bachilleres en acceso a la universidad, porque quiero que la gente tenga salud, hay que proteger la vida y la gente no puede seguir muriendo en los hospitales, porque quiero que se reactive la producción, ya basta que nuestros agricultores y ganaderos estén abandonados y quebrados, porqu...\n"
     ]
    }
   ],
   "source": [
    "texto26 = transcribir_audio(\"entrevista_limpia_Jorge_Escala_RevistaVistazo.wav\", \"transcripcion_entrevista_Jorge_Escala_RevistaVistazo.txt\")"
   ]
  },
  {
   "cell_type": "markdown",
   "metadata": {
    "id": "-KAqIp_tJsLN"
   },
   "source": [
    "#### Jimmy Jairala"
   ]
  },
  {
   "cell_type": "markdown",
   "metadata": {},
   "source": [
    "Entrevista #1"
   ]
  },
  {
   "cell_type": "code",
   "execution_count": null,
   "metadata": {
    "colab": {
     "base_uri": "https://localhost:8080/"
    },
    "id": "L5UTVRn7LCBO",
    "outputId": "c76b1e47-e812-4d26-d617-536ee01daf66"
   },
   "outputs": [
    {
     "name": "stdout",
     "output_type": "stream",
     "text": [
      "Audio descargado como: entrevista_Jimmy_Jairala_Teleamazonas.mp4\n",
      "Audio procesado guardado en: entrevista_limpia_Jimmy_Jairala_Teleamazonas.wav\n"
     ]
    }
   ],
   "source": [
    "audio27 = procesar_audio_youtube(\"https://www.youtube.com/watch?v=k4xb-HMOcZE&list=PLwtmRZw8oM40RDj9c5VRIhDQN0mo0ANgb&index=5\", \"entrevista_Jimmy_Jairala_Teleamazonas.mp4\", \"entrevista_limpia_Jimmy_Jairala_Teleamazonas.wav\")"
   ]
  },
  {
   "cell_type": "code",
   "execution_count": null,
   "metadata": {
    "colab": {
     "base_uri": "https://localhost:8080/"
    },
    "id": "cGVK6c8gLCuM",
    "outputId": "32621756-661a-4735-9682-22e59cbf0451"
   },
   "outputs": [
    {
     "name": "stdout",
     "output_type": "stream",
     "text": [
      "Iniciando transcripción del archivo: entrevista_limpia_Jimmy_Jairala_Teleamazonas.wav\n"
     ]
    },
    {
     "name": "stderr",
     "output_type": "stream",
     "text": [
      "/usr/local/lib/python3.11/dist-packages/whisper/transcribe.py:132: UserWarning: FP16 is not supported on CPU; using FP32 instead\n",
      "  warnings.warn(\"FP16 is not supported on CPU; using FP32 instead\")\n"
     ]
    },
    {
     "name": "stdout",
     "output_type": "stream",
     "text": [
      "Transcripción guardada en: transcripcion_entrevista_Jimmy_Jairala_Teleamazonas.txt\n",
      "\n",
      "Primeras líneas de la transcripción:\n",
      "--------------------------------------------------\n",
      " que nos ha dado un saludo a Dimitri Gala gracias para acompañarnos. No ha pagado impuesto a la renta. Me dame atención. Asecuatro años. Asecuatro años. Soy jubilado. Tenemos un régimen especial, pero mi empresa, que se menciona en este reportaje, ha pagado $35,000 en los últimos años. Se llama SEOS, justamente la que refería el reportaje. No hay absolutamente ningún pendiente con el tema de la contraloría ni con la fiscalía. Fíjese usted cómo es la vida. Los dos contralores que me denunciaron y...\n"
     ]
    }
   ],
   "source": [
    "texto27 = transcribir_audio(\"entrevista_limpia_Jimmy_Jairala_Teleamazonas.wav\", \"transcripcion_entrevista_Jimmy_Jairala_Teleamazonas.txt\")"
   ]
  },
  {
   "cell_type": "markdown",
   "metadata": {},
   "source": [
    "Entrevista #2"
   ]
  },
  {
   "cell_type": "code",
   "execution_count": null,
   "metadata": {
    "colab": {
     "base_uri": "https://localhost:8080/"
    },
    "id": "j6SEaQWBLC3G",
    "outputId": "2aa05fc2-1496-4889-91a5-8f577658e468"
   },
   "outputs": [
    {
     "name": "stdout",
     "output_type": "stream",
     "text": [
      "Audio descargado como: entrevista_Jimmy_Jairala_Ecuavisa.mp4\n",
      "Audio procesado guardado en: entrevista_limpia_Jimmy_Jairala_Ecuavisa.wav\n"
     ]
    }
   ],
   "source": [
    "audio28 = procesar_audio_youtube(\"https://www.youtube.com/watch?v=DE_-9EbjR_Y&list=PLhiHxCJzb9eYHj1Yu-wZKUShSuc6-jnBC&index=5\", \"entrevista_Jimmy_Jairala_Ecuavisa.mp4\", \"entrevista_limpia_Jimmy_Jairala_Ecuavisa.wav\")"
   ]
  },
  {
   "cell_type": "code",
   "execution_count": null,
   "metadata": {
    "colab": {
     "base_uri": "https://localhost:8080/"
    },
    "id": "3piWLfuBLDAT",
    "outputId": "bbc86be1-f754-4064-a5a7-bc04336dca50"
   },
   "outputs": [
    {
     "name": "stdout",
     "output_type": "stream",
     "text": [
      "Iniciando transcripción del archivo: entrevista_limpia_Jimmy_Jairala_Ecuavisa.wav\n"
     ]
    },
    {
     "name": "stderr",
     "output_type": "stream",
     "text": [
      "/usr/local/lib/python3.11/dist-packages/whisper/transcribe.py:132: UserWarning: FP16 is not supported on CPU; using FP32 instead\n",
      "  warnings.warn(\"FP16 is not supported on CPU; using FP32 instead\")\n"
     ]
    },
    {
     "name": "stdout",
     "output_type": "stream",
     "text": [
      "Transcripción guardada en: transcripcion_entrevista_Jimmy_Jairala_Ecuavisa.txt\n",
      "\n",
      "Primeras líneas de la transcripción:\n",
      "--------------------------------------------------\n",
      " En la especial elecciones 2025 los presidenciables. Hoy entrevistaremos a Jimmy Jairala, quien completó el binomio de Centro Democrático con Lucía Vallesilla, ex presidenta del Club del Nacional. Es su primer intento por llegar a Caron de Lett, pero antes fue postulante a otras dignidades con las camisetas de los extintos Partido Roldosiste Cuatoriano y el Movimiento 1. La alcaldía de Guayaquil le fue esquiva en dos ocasiones en 2004 y en 2019. En cambio estuvo en la perfectura del Guayas duran...\n"
     ]
    }
   ],
   "source": [
    "texto28 = transcribir_audio(\"entrevista_limpia_Jimmy_Jairala_Ecuavisa.wav\", \"transcripcion_entrevista_Jimmy_Jairala_Ecuavisa.txt\")"
   ]
  },
  {
   "cell_type": "markdown",
   "metadata": {},
   "source": [
    "Entrevista #3"
   ]
  },
  {
   "cell_type": "code",
   "execution_count": null,
   "metadata": {
    "colab": {
     "base_uri": "https://localhost:8080/"
    },
    "id": "Dd7sMyg4LDKe",
    "outputId": "34a993fe-f4be-427c-b942-d00596271498"
   },
   "outputs": [
    {
     "name": "stdout",
     "output_type": "stream",
     "text": [
      "Audio descargado como: entrevista_Jimmy_Jairala_RevistaVistazo.mp4\n",
      "Audio procesado guardado en: entrevista_limpia_Jimmy_Jairala_RevistaVistazo.wav\n"
     ]
    }
   ],
   "source": [
    "audio29 = procesar_audio_youtube(\"https://www.youtube.com/watch?v=3U4RP1pQSbg&list=PL4ukCuVPXaeymuyrMV2QFdhBlKRcpNZ76&index=12\", \"entrevista_Jimmy_Jairala_RevistaVistazo.mp4\", \"entrevista_limpia_Jimmy_Jairala_RevistaVistazo.wav\")"
   ]
  },
  {
   "cell_type": "code",
   "execution_count": null,
   "metadata": {
    "colab": {
     "base_uri": "https://localhost:8080/"
    },
    "id": "XONSD_DJLDWm",
    "outputId": "975f7d6a-5c95-4fae-9dec-d857deaea4bb"
   },
   "outputs": [
    {
     "name": "stdout",
     "output_type": "stream",
     "text": [
      "Iniciando transcripción del archivo: entrevista_limpia_Jimmy_Jairala_RevistaVistazo.wav\n"
     ]
    },
    {
     "name": "stderr",
     "output_type": "stream",
     "text": [
      "/usr/local/lib/python3.11/dist-packages/whisper/transcribe.py:132: UserWarning: FP16 is not supported on CPU; using FP32 instead\n",
      "  warnings.warn(\"FP16 is not supported on CPU; using FP32 instead\")\n"
     ]
    },
    {
     "name": "stdout",
     "output_type": "stream",
     "text": [
      "Transcripción guardada en: transcripcion_entrevista_Jimmy_Jairala_RevistaVistazo.txt\n",
      "\n",
      "Primeras líneas de la transcripción:\n",
      "--------------------------------------------------\n",
      " Quiero ser candidato a la presidencia porque soy parte de ese 60% de ciudadanos que están astiados de la polarización, están astiados de la propia política, están decepcionados del cuadro que uno presenta una futura elección. Candidatos que nos han polarizado, que nos han etiquetado, que nos han señalado como buenos, malos, blancos, negros, estoy contigo, estoy contra anticorreista, anticorreista y yo me sumo a ese 60% de ciudadanos que no quieren que los etiqueten. Yo me niego a que me etiquet...\n"
     ]
    }
   ],
   "source": [
    "texto29 = transcribir_audio(\"entrevista_limpia_Jimmy_Jairala_RevistaVistazo.wav\", \"transcripcion_entrevista_Jimmy_Jairala_RevistaVistazo.txt\")"
   ]
  },
  {
   "cell_type": "markdown",
   "metadata": {
    "id": "BJeFXCjoLDo0"
   },
   "source": [
    "#### Leonidas Iza"
   ]
  },
  {
   "cell_type": "markdown",
   "metadata": {},
   "source": [
    "Entrevista #1"
   ]
  },
  {
   "cell_type": "code",
   "execution_count": null,
   "metadata": {
    "colab": {
     "base_uri": "https://localhost:8080/"
    },
    "id": "fI0z4NMURaaZ",
    "outputId": "ef688864-3495-4a02-d5be-dc810c79b68f"
   },
   "outputs": [
    {
     "name": "stdout",
     "output_type": "stream",
     "text": [
      "Audio descargado como: entrevista_Leonidas_Iza_Teleamazonas.mp4\n",
      "Audio procesado guardado en: entrevista_limpia_Leonidas_Iza_Teleamazonas.wav\n"
     ]
    }
   ],
   "source": [
    "audio30 = procesar_audio_youtube(\"https://www.youtube.com/watch?v=PXEfP9k2YfU&list=PLwtmRZw8oM40RDj9c5VRIhDQN0mo0ANgb&index=2\", \"entrevista_Leonidas_Iza_Teleamazonas.mp4\", \"entrevista_limpia_Leonidas_Iza_Teleamazonas.wav\")"
   ]
  },
  {
   "cell_type": "code",
   "execution_count": null,
   "metadata": {
    "colab": {
     "background_save": true,
     "base_uri": "https://localhost:8080/"
    },
    "id": "yKSXp9kXRbXd",
    "outputId": "7aed9f1e-510c-49ad-d4fc-7048fb0e6f9f"
   },
   "outputs": [
    {
     "name": "stdout",
     "output_type": "stream",
     "text": [
      "Iniciando transcripción del archivo: entrevista_limpia_Leonidas_Iza_Teleamazonas.wav\n"
     ]
    },
    {
     "name": "stderr",
     "output_type": "stream",
     "text": [
      "/usr/local/lib/python3.11/dist-packages/whisper/transcribe.py:132: UserWarning: FP16 is not supported on CPU; using FP32 instead\n",
      "  warnings.warn(\"FP16 is not supported on CPU; using FP32 instead\")\n"
     ]
    },
    {
     "name": "stdout",
     "output_type": "stream",
     "text": [
      "Transcripción guardada en: transcripcion_entrevista_Leonidas_Iza_Teleamazonas.txt\n",
      "\n",
      "Primeras líneas de la transcripción:\n",
      "--------------------------------------------------\n",
      " de la ciudad. Buenos días, Lidia, Disha, gracias por acompañarnos. Quiero empezar con lo que está ocurriendo ahora mismo con la política de Donald Trump y presidente de los Estados Unidos. Lo de Colombia ayer fue una muestra del poder que puede ejercer el presidente de los Estados Unidos en el tema de los migrantes en este momento. Usted gana las elecciones, cuál sería su reacción inmediata para enfrentar ese tema. Buenos días pueblo ecuatoriano, gracias por la invitación. Este es el neoliberal...\n"
     ]
    }
   ],
   "source": [
    "texto30 = transcribir_audio(\"entrevista_limpia_Leonidas_Iza_Teleamazonas.wav\", \"transcripcion_entrevista_Leonidas_Iza_Teleamazonas.txt\")"
   ]
  },
  {
   "cell_type": "markdown",
   "metadata": {},
   "source": [
    "Entrevista #2"
   ]
  },
  {
   "cell_type": "code",
   "execution_count": null,
   "metadata": {
    "colab": {
     "base_uri": "https://localhost:8080/"
    },
    "id": "fIuv3WwtRbhj",
    "outputId": "2c5e1cb1-5806-47b2-ae02-e2c738ff0aac"
   },
   "outputs": [
    {
     "name": "stdout",
     "output_type": "stream",
     "text": [
      "Audio descargado como: entrevista_Leonidas_Iza_Ecuavisa.mp4\n",
      "Audio procesado guardado en: entrevista_limpia_Leonidas_Iza_Ecuavisa.wav\n"
     ]
    }
   ],
   "source": [
    "audio31 = procesar_audio_youtube(\"https://www.youtube.com/watch?v=4FLO0BIGl4U&list=PLhiHxCJzb9eYHj1Yu-wZKUShSuc6-jnBC&index=3\", \"entrevista_Leonidas_Iza_Ecuavisa.mp4\", \"entrevista_limpia_Leonidas_Iza_Ecuavisa.wav\")"
   ]
  },
  {
   "cell_type": "code",
   "execution_count": null,
   "metadata": {
    "colab": {
     "base_uri": "https://localhost:8080/"
    },
    "id": "XQXzpf_tRbp4",
    "outputId": "fa33b9ab-ecab-4bd3-e0df-31b4f0794035"
   },
   "outputs": [
    {
     "name": "stdout",
     "output_type": "stream",
     "text": [
      "Iniciando transcripción del archivo: entrevista_limpia_Leonidas_Iza_Ecuavisa.wav\n"
     ]
    },
    {
     "name": "stderr",
     "output_type": "stream",
     "text": [
      "/usr/local/lib/python3.11/dist-packages/whisper/transcribe.py:132: UserWarning: FP16 is not supported on CPU; using FP32 instead\n",
      "  warnings.warn(\"FP16 is not supported on CPU; using FP32 instead\")\n"
     ]
    },
    {
     "name": "stdout",
     "output_type": "stream",
     "text": [
      "Transcripción guardada en: transcripcion_entrevista_Leonidas_Iza_Ecuavisa.txt\n",
      "\n",
      "Primeras líneas de la transcripción:\n",
      "--------------------------------------------------\n",
      " y los que están en el país. . . . . . . . . . . . . . . . . . . . . . . . . . . . . . . . . . . . . . . . . . . .izingrate poco de zaman. para el sector de la salud. Con el decreto 456, 454, perdón, el gobierno nacional dispuso 200 millones de dólares en emergencia de salud. Con el decreto 456, el gobierno dispuso 70 millones de dólares para el bono de desarrollo humano. Y con los siguientes ochos decretos, en condonación de deuda, significaron 44 millones de dólares. Entonces mi referencia en ...\n"
     ]
    }
   ],
   "source": [
    "texto31 = transcribir_audio(\"entrevista_limpia_Leonidas_Iza_Ecuavisa.wav\", \"transcripcion_entrevista_Leonidas_Iza_Ecuavisa.txt\")"
   ]
  },
  {
   "cell_type": "markdown",
   "metadata": {
    "id": "yIeLYfc8Rb_Q"
   },
   "source": [
    "#### Pedro Granja"
   ]
  },
  {
   "cell_type": "markdown",
   "metadata": {},
   "source": [
    "Entrevista #1"
   ]
  },
  {
   "cell_type": "code",
   "execution_count": null,
   "metadata": {
    "colab": {
     "base_uri": "https://localhost:8080/"
    },
    "id": "ecez2KmjTVgn",
    "outputId": "6f4c1429-64da-49f1-bba4-bab016162359"
   },
   "outputs": [
    {
     "name": "stdout",
     "output_type": "stream",
     "text": [
      "Audio descargado como: entrevista_Pedro_Granja_Teleamazonas.mp4\n",
      "Audio procesado guardado en: entrevista_limpia_Pedro_Granja_Teleamazonas.wav\n"
     ]
    }
   ],
   "source": [
    "audio32 = procesar_audio_youtube(\"https://www.youtube.com/watch?v=s7yWMg_s1VI&list=PLwtmRZw8oM40RDj9c5VRIhDQN0mo0ANgb&index=11\", \"entrevista_Pedro_Granja_Teleamazonas.mp4\", \"entrevista_limpia_Pedro_Granja_Teleamazonas.wav\")"
   ]
  },
  {
   "cell_type": "code",
   "execution_count": null,
   "metadata": {
    "colab": {
     "base_uri": "https://localhost:8080/"
    },
    "id": "LxOwjDqPTWY8",
    "outputId": "e9462628-0e65-40dd-a3b3-e9e1a5e18707"
   },
   "outputs": [
    {
     "name": "stdout",
     "output_type": "stream",
     "text": [
      "Iniciando transcripción del archivo: entrevista_limpia_Pedro_Granja_Teleamazonas.wav\n"
     ]
    },
    {
     "name": "stderr",
     "output_type": "stream",
     "text": [
      "/usr/local/lib/python3.11/dist-packages/whisper/transcribe.py:132: UserWarning: FP16 is not supported on CPU; using FP32 instead\n",
      "  warnings.warn(\"FP16 is not supported on CPU; using FP32 instead\")\n"
     ]
    },
    {
     "name": "stdout",
     "output_type": "stream",
     "text": [
      "Transcripción guardada en: transcripcion_entrevista_Pedro_Granja_Teleamazonas.txt\n",
      "\n",
      "Primeras líneas de la transcripción:\n",
      "--------------------------------------------------\n",
      " Y hasta con nosotros en el estudio. Su abogado, bienvenido. Gracias por acompañarnos, por ampliar sus propuestas de campaña esta mañana. Lindo día, Liz. Tenía muchísimas ganas de conversar con ustedes. Bueno, primero que nada, me pido por preguntarle, ¿no lo ponen desventaja el hecho de que usted no está haciendo campaña en territorio? Sin duda ninguna, pero hacer campaña en territorio con el informe de inteligencia que me sitúa como uno de los candidatos con mayores opciones de ser asesinado p...\n"
     ]
    }
   ],
   "source": [
    "texto32 = transcribir_audio(\"entrevista_limpia_Pedro_Granja_Teleamazonas.wav\", \"transcripcion_entrevista_Pedro_Granja_Teleamazonas.txt\")"
   ]
  },
  {
   "cell_type": "markdown",
   "metadata": {},
   "source": [
    "Entrevista #2"
   ]
  },
  {
   "cell_type": "code",
   "execution_count": null,
   "metadata": {
    "colab": {
     "base_uri": "https://localhost:8080/"
    },
    "id": "TowqJtTATWka",
    "outputId": "958f8d1a-1915-48e7-fcbb-95e6b4eed5e8"
   },
   "outputs": [
    {
     "name": "stdout",
     "output_type": "stream",
     "text": [
      "Audio descargado como: entrevista_Pedro_Granja_Ecuavisa.mp4\n",
      "Audio procesado guardado en: entrevista_limpia_Pedro_Granja_Ecuavisa.wav\n"
     ]
    }
   ],
   "source": [
    "audio33 = procesar_audio_youtube(\"https://www.youtube.com/watch?v=o_Qcvb2LfMQ&list=PLhiHxCJzb9eYHj1Yu-wZKUShSuc6-jnBC&index=6\", \"entrevista_Pedro_Granja_Ecuavisa.mp4\", \"entrevista_limpia_Pedro_Granja_Ecuavisa.wav\")"
   ]
  },
  {
   "cell_type": "code",
   "execution_count": null,
   "metadata": {
    "colab": {
     "base_uri": "https://localhost:8080/"
    },
    "id": "gzDlb9phTWtm",
    "outputId": "10181839-e69d-4b16-b9ab-1f045750a09f"
   },
   "outputs": [
    {
     "name": "stdout",
     "output_type": "stream",
     "text": [
      "Iniciando transcripción del archivo: entrevista_limpia_Pedro_Granja_Ecuavisa.wav\n"
     ]
    },
    {
     "name": "stderr",
     "output_type": "stream",
     "text": [
      "/usr/local/lib/python3.11/dist-packages/whisper/transcribe.py:132: UserWarning: FP16 is not supported on CPU; using FP32 instead\n",
      "  warnings.warn(\"FP16 is not supported on CPU; using FP32 instead\")\n"
     ]
    },
    {
     "name": "stdout",
     "output_type": "stream",
     "text": [
      "Transcripción guardada en: transcripcion_entrevista_Pedro_Granja_Ecuavisa.txt\n",
      "\n",
      "Primeras líneas de la transcripción:\n",
      "--------------------------------------------------\n",
      " el presidente de la ciudad. El invitado de hoy en el especial elecciones dos mil veinticinco los presidenciables es Pedro Granja quien conforme el binomio del partido socialista ecuatoriano con Verónica Silva además de jurista y criminólogo fue secretario de la Federación de Abogados del Ecuador durante el correísmo y figura como docente universitario en el pago de impuestos suma tres mil mil millones de pesos de salida de divisas además es presidente de una compañía dedicada a enseñanza, capac...\n"
     ]
    }
   ],
   "source": [
    "texto33 = transcribir_audio(\"entrevista_limpia_Pedro_Granja_Ecuavisa.wav\", \"transcripcion_entrevista_Pedro_Granja_Ecuavisa.txt\")"
   ]
  },
  {
   "cell_type": "markdown",
   "metadata": {},
   "source": [
    "Entrevista #3"
   ]
  },
  {
   "cell_type": "code",
   "execution_count": null,
   "metadata": {
    "colab": {
     "base_uri": "https://localhost:8080/"
    },
    "id": "b4cbiOO1TW2z",
    "outputId": "0149f114-1c88-4dd2-bca3-0f1fcef3166c"
   },
   "outputs": [
    {
     "name": "stdout",
     "output_type": "stream",
     "text": [
      "Audio descargado como: entrevista_Pedro_Granja_RevistaVistazo.mp4\n",
      "Audio procesado guardado en: entrevista_limpia_Pedro_Granja_RevistaVistazo.wav\n"
     ]
    }
   ],
   "source": [
    "audio34 = procesar_audio_youtube(\"https://www.youtube.com/watch?v=klZZVxXrhHM&list=PL4ukCuVPXaeymuyrMV2QFdhBlKRcpNZ76&index=2\", \"entrevista_Pedro_Granja_RevistaVistazo.mp4\", \"entrevista_limpia_Pedro_Granja_RevistaVistazo.wav\")"
   ]
  },
  {
   "cell_type": "code",
   "execution_count": null,
   "metadata": {
    "colab": {
     "base_uri": "https://localhost:8080/"
    },
    "id": "pMSZuHmMTW_t",
    "outputId": "c4efe946-579f-4b4f-c599-8917b6aba9c7"
   },
   "outputs": [
    {
     "name": "stdout",
     "output_type": "stream",
     "text": [
      "Iniciando transcripción del archivo: entrevista_limpia_Pedro_Granja_RevistaVistazo.wav\n"
     ]
    },
    {
     "name": "stderr",
     "output_type": "stream",
     "text": [
      "/usr/local/lib/python3.11/dist-packages/whisper/transcribe.py:132: UserWarning: FP16 is not supported on CPU; using FP32 instead\n",
      "  warnings.warn(\"FP16 is not supported on CPU; using FP32 instead\")\n"
     ]
    },
    {
     "name": "stdout",
     "output_type": "stream",
     "text": [
      "Transcripción guardada en: transcripcion_entrevista_Pedro_Granja_RevistaVistazo.txt\n",
      "\n",
      "Primeras líneas de la transcripción:\n",
      "--------------------------------------------------\n",
      " Música Música Mira, creo que hace 24 años vengo defendiendo niños víctimas de abuso sexual. Estuve conversando muchísimo sobre si decirlo o no, si confesarlo o no. Hace varios años con mi familia, fundamentalmente con mi mujer, con mi compañera. Sobre lo que me ocurrió a mí cuando fui muy pequeño, yo soy un sobreviviente. Creo que he llevado hoyas populares, están los testimonios, no están allí, se puede revisar fácilmente. Hace muchísimos años a los barrios más pobres del Ecuador, brigadas méd...\n"
     ]
    }
   ],
   "source": [
    "texto34 = transcribir_audio(\"entrevista_limpia_Pedro_Granja_RevistaVistazo.wav\", \"transcripcion_entrevista_Pedro_Granja_RevistaVistazo.txt\")"
   ]
  },
  {
   "cell_type": "markdown",
   "metadata": {
    "id": "Ucn8FWHRTXq_"
   },
   "source": [
    "#### Luisa Gonzalez"
   ]
  },
  {
   "cell_type": "markdown",
   "metadata": {},
   "source": [
    "Entrevista #1\n"
   ]
  },
  {
   "cell_type": "code",
   "execution_count": null,
   "metadata": {
    "colab": {
     "base_uri": "https://localhost:8080/"
    },
    "id": "Vl66Yg1yZh3V",
    "outputId": "4eee970d-d83e-4ba6-a51e-2539a16e747e"
   },
   "outputs": [
    {
     "name": "stdout",
     "output_type": "stream",
     "text": [
      "Audio descargado como: entrevista_Luisa_Gonzalez_Teleamazonas.mp4\n",
      "Audio procesado guardado en: entrevista_limpia_Luisa_Gonzalez_Teleamazonas.wav\n"
     ]
    }
   ],
   "source": [
    "audio35 = procesar_audio_youtube(\"https://www.youtube.com/watch?v=qtv8pyvNx0U&list=PLwtmRZw8oM40RDj9c5VRIhDQN0mo0ANgb&index=7\", \"entrevista_Luisa_Gonzalez_Teleamazonas.mp4\", \"entrevista_limpia_Luisa_Gonzalez_Teleamazonas.wav\")"
   ]
  },
  {
   "cell_type": "code",
   "execution_count": null,
   "metadata": {
    "colab": {
     "base_uri": "https://localhost:8080/"
    },
    "id": "dmtMZADwZikZ",
    "outputId": "5b3c9e48-671f-4528-b9dc-b0602a1a3273"
   },
   "outputs": [
    {
     "name": "stdout",
     "output_type": "stream",
     "text": [
      "Iniciando transcripción del archivo: entrevista_limpia_Luisa_Gonzalez_Teleamazonas.wav\n"
     ]
    },
    {
     "name": "stderr",
     "output_type": "stream",
     "text": [
      "/usr/local/lib/python3.11/dist-packages/whisper/transcribe.py:132: UserWarning: FP16 is not supported on CPU; using FP32 instead\n",
      "  warnings.warn(\"FP16 is not supported on CPU; using FP32 instead\")\n"
     ]
    },
    {
     "name": "stdout",
     "output_type": "stream",
     "text": [
      "Transcripción guardada en: transcripcion_entrevista_Luisa_Gonzalez_Teleamazonas.txt\n",
      "\n",
      "Primeras líneas de la transcripción:\n",
      "--------------------------------------------------\n",
      " Muchas gracias, buenos días, gracias por acompañarlos. Quiero empezar por el debate. Un ejercicio largo, democrático, sí. Difícil el formato, porque son tantos candidatos también. Pero cómo se sintió usted, considera que le fue bien, considera que usted se llevó, digamos, el debate ayer. Tiene tres segundos para responder. No me tiras este. Muchas gracias, un buen día con todos los ecuatorianos que nos están mirando en este momento. Creo que aquí quien debe ganar o perder es el pueblo ecuatoria...\n"
     ]
    }
   ],
   "source": [
    "texto35 = transcribir_audio(\"entrevista_limpia_Luisa_Gonzalez_Teleamazonas.wav\", \"transcripcion_entrevista_Luisa_Gonzalez_Teleamazonas.txt\")"
   ]
  },
  {
   "cell_type": "markdown",
   "metadata": {},
   "source": [
    "Entrevista #2"
   ]
  },
  {
   "cell_type": "code",
   "execution_count": null,
   "metadata": {
    "colab": {
     "base_uri": "https://localhost:8080/"
    },
    "id": "T7gD2tcLZirK",
    "outputId": "d491a35b-7882-43bd-fa1a-7a955b2cd8c4"
   },
   "outputs": [
    {
     "name": "stdout",
     "output_type": "stream",
     "text": [
      "Audio descargado como: entrevista_Luisa_Gonzalez_Ecuavisa.mp4\n",
      "Audio procesado guardado en: entrevista_limpia_Luisa_Gonzalez_Ecuavisa.wav\n"
     ]
    }
   ],
   "source": [
    "audio36 = procesar_audio_youtube(\"https://www.youtube.com/watch?v=tdYZoUeVuSU&list=PLhiHxCJzb9eYHj1Yu-wZKUShSuc6-jnBC&index=10\", \"entrevista_Luisa_Gonzalez_Ecuavisa.mp4\", \"entrevista_limpia_Luisa_Gonzalez_Ecuavisa.wav\")"
   ]
  },
  {
   "cell_type": "code",
   "execution_count": null,
   "metadata": {
    "colab": {
     "base_uri": "https://localhost:8080/"
    },
    "id": "tiPro1JRZiy8",
    "outputId": "04c7598a-c4c8-4900-c610-08b93474a39f"
   },
   "outputs": [
    {
     "name": "stdout",
     "output_type": "stream",
     "text": [
      "Iniciando transcripción del archivo: entrevista_limpia_Luisa_Gonzalez_Ecuavisa.wav\n"
     ]
    },
    {
     "name": "stderr",
     "output_type": "stream",
     "text": [
      "/usr/local/lib/python3.11/dist-packages/whisper/transcribe.py:132: UserWarning: FP16 is not supported on CPU; using FP32 instead\n",
      "  warnings.warn(\"FP16 is not supported on CPU; using FP32 instead\")\n"
     ]
    },
    {
     "name": "stdout",
     "output_type": "stream",
     "text": [
      "Transcripción guardada en: transcripcion_entrevista_Luisa_Gonzalez_Ecuavisa.txt\n",
      "\n",
      "Primeras líneas de la transcripción:\n",
      "--------------------------------------------------\n",
      " En la especial elección es 2025 los presidenciables recibimos hoy en contacto directo a Luisa González quien conforma el binomio de la alianza revolución ciudadana reto junto a Diego Borja. La abogada de 47 años es la presidenta de revolución ciudadana, cargo que asumió un mes después de la derrota en segunda vuelta en las elecciones 2023. Dos años antes fue asambleista con UNES, fue funcionaria pública entre 2008 y 2017, encargos como Consul de Ecuador en Alicante, Ministra encargada de trabaj...\n"
     ]
    }
   ],
   "source": [
    "texto36 = transcribir_audio(\"entrevista_limpia_Luisa_Gonzalez_Ecuavisa.wav\", \"transcripcion_entrevista_Luisa_Gonzalez_Ecuavisa.txt\")"
   ]
  },
  {
   "cell_type": "markdown",
   "metadata": {
    "id": "CLBtTeaYZjIn"
   },
   "source": [
    "#### Enrique Gomez"
   ]
  },
  {
   "cell_type": "markdown",
   "metadata": {},
   "source": [
    "Entrevista #1"
   ]
  },
  {
   "cell_type": "code",
   "execution_count": null,
   "metadata": {
    "colab": {
     "base_uri": "https://localhost:8080/"
    },
    "id": "-cKcO8xDa_fC",
    "outputId": "77d17627-78b3-4e38-c079-a2807c62e7d6"
   },
   "outputs": [
    {
     "name": "stdout",
     "output_type": "stream",
     "text": [
      "Audio descargado como: entrevista_Enrique_Gomez_Teleamazonas.mp4\n",
      "Audio procesado guardado en: entrevista_limpia_Enrique_Gomez_Teleamazonas.wav\n"
     ]
    }
   ],
   "source": [
    "audio37 = procesar_audio_youtube(\"https://www.youtube.com/watch?v=j4LZPw3UFsc&list=PLwtmRZw8oM40RDj9c5VRIhDQN0mo0ANgb&index=12\", \"entrevista_Enrique_Gomez_Teleamazonas.mp4\", \"entrevista_limpia_Enrique_Gomez_Teleamazonas.wav\")"
   ]
  },
  {
   "cell_type": "code",
   "execution_count": null,
   "metadata": {
    "colab": {
     "base_uri": "https://localhost:8080/"
    },
    "id": "QecztAlQbAbH",
    "outputId": "4ddba0de-81f1-456f-dd90-842b4093b22c"
   },
   "outputs": [
    {
     "name": "stdout",
     "output_type": "stream",
     "text": [
      "Iniciando transcripción del archivo: entrevista_limpia_Enrique_Gomez_Teleamazonas.wav\n"
     ]
    },
    {
     "name": "stderr",
     "output_type": "stream",
     "text": [
      "/usr/local/lib/python3.11/dist-packages/whisper/transcribe.py:132: UserWarning: FP16 is not supported on CPU; using FP32 instead\n",
      "  warnings.warn(\"FP16 is not supported on CPU; using FP32 instead\")\n"
     ]
    },
    {
     "name": "stdout",
     "output_type": "stream",
     "text": [
      "Transcripción guardada en: transcripcion_entrevista_Enrique_Gomez_Teleamazonas.txt\n",
      "\n",
      "Primeras líneas de la transcripción:\n",
      "--------------------------------------------------\n",
      " Saludos a Enrique Gomez, candidato a la presidencia por el Movimiento Suma. Gracias por acompañarnos. Usted es psicólogo clínico. Sí, efectivamente. Será lo que el país necesita un psicólogo. El país necesita soluciones y esa es nuestra propuesta. Desde la psicología he aprendido a escuchar a las personas, a escuchar sus problemas, pero sobre todo, buscar soluciones concretas que garanticen la mejor vida. ¿Cuál es la solución para este país? Bueno, para este país hoy es un desastre, definitivam...\n"
     ]
    }
   ],
   "source": [
    "texto37 = transcribir_audio(\"entrevista_limpia_Enrique_Gomez_Teleamazonas.wav\", \"transcripcion_entrevista_Enrique_Gomez_Teleamazonas.txt\")"
   ]
  },
  {
   "cell_type": "markdown",
   "metadata": {},
   "source": [
    "Entrevista #2"
   ]
  },
  {
   "cell_type": "code",
   "execution_count": null,
   "metadata": {
    "colab": {
     "base_uri": "https://localhost:8080/"
    },
    "id": "FeT4K6XKbAlD",
    "outputId": "aab6aca6-d919-44f5-ecff-806c2e3c9f69"
   },
   "outputs": [
    {
     "name": "stdout",
     "output_type": "stream",
     "text": [
      "Audio descargado como: entrevista_Enrique_Gomez_Ecuavisa.mp4\n",
      "Audio procesado guardado en: entrevista_limpia_Enrique_Gomez_Ecuavisa.wav\n"
     ]
    }
   ],
   "source": [
    "audio38 = procesar_audio_youtube(\"https://www.youtube.com/watch?v=vrvyYO_VcjA&list=PLhiHxCJzb9eYHj1Yu-wZKUShSuc6-jnBC&index=14\", \"entrevista_Enrique_Gomez_Ecuavisa.mp4\", \"entrevista_limpia_Enrique_Gomez_Ecuavisa.wav\")"
   ]
  },
  {
   "cell_type": "code",
   "execution_count": null,
   "metadata": {
    "colab": {
     "base_uri": "https://localhost:8080/"
    },
    "id": "_49vGua5bAwS",
    "outputId": "aa93240e-47a8-4ba6-9ae8-8b4d632e74c1"
   },
   "outputs": [
    {
     "name": "stdout",
     "output_type": "stream",
     "text": [
      "Iniciando transcripción del archivo: entrevista_limpia_Enrique_Gomez_Ecuavisa.wav\n"
     ]
    },
    {
     "name": "stderr",
     "output_type": "stream",
     "text": [
      "/usr/local/lib/python3.11/dist-packages/whisper/transcribe.py:132: UserWarning: FP16 is not supported on CPU; using FP32 instead\n",
      "  warnings.warn(\"FP16 is not supported on CPU; using FP32 instead\")\n"
     ]
    },
    {
     "name": "stdout",
     "output_type": "stream",
     "text": [
      "Transcripción guardada en: transcripcion_entrevista_Enrique_Gomez_Ecuavisa.txt\n",
      "\n",
      "Primeras líneas de la transcripción:\n",
      "--------------------------------------------------\n",
      " Hoy comenzamos el especial elecciones 2025, los presidenciables. Los 16 candidatos han sido invitados para conocer sus propuestas. Hoy es el turno del psicólogo clínico Enrique Gómez, quien a sus 38 años busca llegar a Carondelet en el binomio de suma que completa Inés Díaz. El candidato tiene una década en el sector público, comenzó en el correísmo, en la secretaría de gestión de riesgos y el Consejo de la Judicatura luego pasó al ECU 911 a la unidad de registro social que maneja los datos de ...\n"
     ]
    }
   ],
   "source": [
    "texto38 = transcribir_audio(\"entrevista_limpia_Enrique_Gomez_Ecuavisa.wav\", \"transcripcion_entrevista_Enrique_Gomez_Ecuavisa.txt\")"
   ]
  },
  {
   "cell_type": "markdown",
   "metadata": {
    "id": "6og3RJ-ad9NU"
   },
   "source": [
    "#### Daniel Noboa"
   ]
  },
  {
   "cell_type": "markdown",
   "metadata": {},
   "source": [
    "Entrevista #1\n"
   ]
  },
  {
   "cell_type": "code",
   "execution_count": null,
   "metadata": {
    "colab": {
     "base_uri": "https://localhost:8080/"
    },
    "id": "eArUyw1Vd-kI",
    "outputId": "6b6acb7c-30f2-47fd-f411-45cd070dbca8"
   },
   "outputs": [
    {
     "name": "stdout",
     "output_type": "stream",
     "text": [
      "Audio descargado como: entrevista_Daniel_Noboa_DemocraciaTV.mp4\n",
      "Audio procesado guardado en: entrevista_limpia_Daniel_Noboa_DemocraciaTV.wav\n"
     ]
    }
   ],
   "source": [
    "audio39 = procesar_audio_youtube(\"https://www.youtube.com/watch?v=S7qypKta608\", \"entrevista_Daniel_Noboa_DemocraciaTV.mp4\", \"entrevista_limpia_Daniel_Noboa_DemocraciaTV.wav\")"
   ]
  },
  {
   "cell_type": "code",
   "execution_count": null,
   "metadata": {
    "colab": {
     "base_uri": "https://localhost:8080/"
    },
    "id": "HmIqjchXeBgl",
    "outputId": "f8487739-7e95-45dd-a81c-b8b65d894168"
   },
   "outputs": [
    {
     "name": "stdout",
     "output_type": "stream",
     "text": [
      "Iniciando transcripción del archivo: entrevista_limpia_Daniel_Noboa_DemocraciaTV.wav\n"
     ]
    },
    {
     "name": "stderr",
     "output_type": "stream",
     "text": [
      "/usr/local/lib/python3.11/dist-packages/whisper/transcribe.py:132: UserWarning: FP16 is not supported on CPU; using FP32 instead\n",
      "  warnings.warn(\"FP16 is not supported on CPU; using FP32 instead\")\n"
     ]
    }
   ],
   "source": [
    "texto39 = transcribir_audio(\"entrevista_limpia_Daniel_Noboa_DemocraciaTV.wav\", \"transcripcion_entrevista_Daniel_Noboa_DemocraciaTV.txt\")"
   ]
  },
  {
   "cell_type": "markdown",
   "metadata": {},
   "source": [
    "## Obtención de planes de Trabajo"
   ]
  },
  {
   "cell_type": "markdown",
   "metadata": {},
   "source": [
    "Descargar y procesar información y los planes de trabajo de la página oficial del consejo nacional electoral. \n",
    "\n",
    "https://votoinformado.cne.gob.ec/"
   ]
  },
  {
   "cell_type": "markdown",
   "metadata": {},
   "source": [
    "Intalación de Bibliotecas"
   ]
  },
  {
   "cell_type": "code",
   "execution_count": 1,
   "metadata": {},
   "outputs": [
    {
     "name": "stdout",
     "output_type": "stream",
     "text": [
      "Requirement already satisfied: selenium in c:\\users\\sloth\\appdata\\local\\programs\\python\\python312\\lib\\site-packages (4.28.1)\n",
      "Requirement already satisfied: requests in c:\\users\\sloth\\appdata\\local\\programs\\python\\python312\\lib\\site-packages (2.32.3)\n",
      "Requirement already satisfied: pandas in c:\\users\\sloth\\appdata\\local\\programs\\python\\python312\\lib\\site-packages (2.2.3)\n",
      "Requirement already satisfied: urllib3<3,>=1.26 in c:\\users\\sloth\\appdata\\local\\programs\\python\\python312\\lib\\site-packages (from urllib3[socks]<3,>=1.26->selenium) (2.3.0)\n",
      "Requirement already satisfied: trio~=0.17 in c:\\users\\sloth\\appdata\\local\\programs\\python\\python312\\lib\\site-packages (from selenium) (0.28.0)\n",
      "Requirement already satisfied: trio-websocket~=0.9 in c:\\users\\sloth\\appdata\\local\\programs\\python\\python312\\lib\\site-packages (from selenium) (0.11.1)\n",
      "Requirement already satisfied: certifi>=2021.10.8 in c:\\users\\sloth\\appdata\\local\\programs\\python\\python312\\lib\\site-packages (from selenium) (2024.12.14)\n",
      "Requirement already satisfied: typing_extensions~=4.9 in c:\\users\\sloth\\appdata\\local\\programs\\python\\python312\\lib\\site-packages (from selenium) (4.12.2)\n",
      "Requirement already satisfied: websocket-client~=1.8 in c:\\users\\sloth\\appdata\\local\\programs\\python\\python312\\lib\\site-packages (from selenium) (1.8.0)\n",
      "Requirement already satisfied: charset-normalizer<4,>=2 in c:\\users\\sloth\\appdata\\local\\programs\\python\\python312\\lib\\site-packages (from requests) (3.4.1)\n",
      "Requirement already satisfied: idna<4,>=2.5 in c:\\users\\sloth\\appdata\\local\\programs\\python\\python312\\lib\\site-packages (from requests) (3.10)\n",
      "Requirement already satisfied: numpy>=1.26.0 in c:\\users\\sloth\\appdata\\local\\programs\\python\\python312\\lib\\site-packages (from pandas) (1.26.4)\n",
      "Requirement already satisfied: python-dateutil>=2.8.2 in c:\\users\\sloth\\appdata\\local\\programs\\python\\python312\\lib\\site-packages (from pandas) (2.9.0.post0)\n",
      "Requirement already satisfied: pytz>=2020.1 in c:\\users\\sloth\\appdata\\local\\programs\\python\\python312\\lib\\site-packages (from pandas) (2024.2)\n",
      "Requirement already satisfied: tzdata>=2022.7 in c:\\users\\sloth\\appdata\\local\\programs\\python\\python312\\lib\\site-packages (from pandas) (2024.2)\n",
      "Requirement already satisfied: six>=1.5 in c:\\users\\sloth\\appdata\\local\\programs\\python\\python312\\lib\\site-packages (from python-dateutil>=2.8.2->pandas) (1.16.0)\n",
      "Requirement already satisfied: attrs>=23.2.0 in c:\\users\\sloth\\appdata\\local\\programs\\python\\python312\\lib\\site-packages (from trio~=0.17->selenium) (24.3.0)\n",
      "Requirement already satisfied: sortedcontainers in c:\\users\\sloth\\appdata\\local\\programs\\python\\python312\\lib\\site-packages (from trio~=0.17->selenium) (2.4.0)\n",
      "Requirement already satisfied: outcome in c:\\users\\sloth\\appdata\\local\\programs\\python\\python312\\lib\\site-packages (from trio~=0.17->selenium) (1.3.0.post0)\n",
      "Requirement already satisfied: sniffio>=1.3.0 in c:\\users\\sloth\\appdata\\local\\programs\\python\\python312\\lib\\site-packages (from trio~=0.17->selenium) (1.3.1)\n",
      "Requirement already satisfied: cffi>=1.14 in c:\\users\\sloth\\appdata\\local\\programs\\python\\python312\\lib\\site-packages (from trio~=0.17->selenium) (1.17.1)\n",
      "Requirement already satisfied: wsproto>=0.14 in c:\\users\\sloth\\appdata\\local\\programs\\python\\python312\\lib\\site-packages (from trio-websocket~=0.9->selenium) (1.2.0)\n",
      "Requirement already satisfied: pysocks!=1.5.7,<2.0,>=1.5.6 in c:\\users\\sloth\\appdata\\local\\programs\\python\\python312\\lib\\site-packages (from urllib3[socks]<3,>=1.26->selenium) (1.7.1)\n",
      "Requirement already satisfied: pycparser in c:\\users\\sloth\\appdata\\local\\programs\\python\\python312\\lib\\site-packages (from cffi>=1.14->trio~=0.17->selenium) (2.22)\n",
      "Requirement already satisfied: h11<1,>=0.9.0 in c:\\users\\sloth\\appdata\\local\\programs\\python\\python312\\lib\\site-packages (from wsproto>=0.14->trio-websocket~=0.9->selenium) (0.14.0)\n"
     ]
    },
    {
     "name": "stderr",
     "output_type": "stream",
     "text": [
      "\n",
      "[notice] A new release of pip is available: 25.0 -> 25.0.1\n",
      "[notice] To update, run: python.exe -m pip install --upgrade pip\n"
     ]
    }
   ],
   "source": [
    "# Se instala Selenium para la automatización de navegadores web.\n",
    "#Request para la descarga de datos de sitios web y \n",
    "# Pandas para  la manipulación de los Dataframes.\n",
    "!pip install selenium requests pandas"
   ]
  },
  {
   "cell_type": "code",
   "execution_count": 2,
   "metadata": {},
   "outputs": [
    {
     "name": "stdout",
     "output_type": "stream",
     "text": [
      "Requirement already satisfied: beautifulsoup4 in c:\\users\\sloth\\appdata\\local\\programs\\python\\python312\\lib\\site-packages (4.12.3)\n",
      "Requirement already satisfied: soupsieve>1.2 in c:\\users\\sloth\\appdata\\local\\programs\\python\\python312\\lib\\site-packages (from beautifulsoup4) (2.6)\n"
     ]
    },
    {
     "name": "stderr",
     "output_type": "stream",
     "text": [
      "\n",
      "[notice] A new release of pip is available: 25.0 -> 25.0.1\n",
      "[notice] To update, run: python.exe -m pip install --upgrade pip\n"
     ]
    }
   ],
   "source": [
    "#Biblioteca usada para web scraping\n",
    "!pip install beautifulsoup4"
   ]
  },
  {
   "cell_type": "markdown",
   "metadata": {},
   "source": [
    "### Definición de Funciones"
   ]
  },
  {
   "cell_type": "code",
   "execution_count": 3,
   "metadata": {},
   "outputs": [],
   "source": [
    "#Importación de librerías\n",
    "from selenium import webdriver\n",
    "from selenium.webdriver.common.by import By\n",
    "from selenium.webdriver.support.ui import WebDriverWait\n",
    "from selenium.webdriver.support import expected_conditions as EC\n",
    "import pandas as pd\n",
    "import time"
   ]
  },
  {
   "cell_type": "markdown",
   "metadata": {},
   "source": [
    "Función que crea y configura WebDriver de Google Chrome usando Selenium para automatizar procesos."
   ]
  },
  {
   "cell_type": "code",
   "execution_count": null,
   "metadata": {},
   "outputs": [],
   "source": [
    "\n",
    "def create_driver():\n",
    "    \"\"\"\n",
    "    Crea e inicializa un controlador (driver) de Chrome con configuraciones personalizadas \n",
    "    para evitar bloqueos y mejorar la automatización.\n",
    "\n",
    "    Retorna:\n",
    "    --------\n",
    "    - webdriver.Chrome: Instancia del navegador Chrome con las opciones configuradas.\n",
    "    \"\"\"\n",
    "    #Creación de objeto para configurar el comportamiento del navegador\n",
    "    options = webdriver.ChromeOptions()\n",
    "    #Evita la detección de Selenium por parte del sitio web para evitar bloqueo por bot\n",
    "    options.add_argument('--disable-blink-features=AutomationControlled')\n",
    "    #Evitar notificaciones emergentes\n",
    "    options.add_argument('--disable-notifications')\n",
    "    #Configuración de tamaño de pantalla\n",
    "    options.add_argument('--window-size=1920,1080')\n",
    "    options.add_argument('--start-maximized')\n",
    "    #Acepta automáticamente cualquier alerta\n",
    "    options.set_capability('unhandledPromptBehavior', 'accept')\n",
    "    \n",
    "    #Crear la instancia de Chrome con las modificaciones\n",
    "    driver = webdriver.Chrome(options=options)\n",
    "    return driver"
   ]
  },
  {
   "cell_type": "markdown",
   "metadata": {},
   "source": [
    "Función para manejar los dialogos emergentes de la página web haciendo click en Aceptar"
   ]
  },
  {
   "cell_type": "code",
   "execution_count": null,
   "metadata": {},
   "outputs": [],
   "source": [
    "def handle_important_dialog(driver):\n",
    "    \"\"\"\n",
    "    Maneja automáticamente un cuadro de diálogo importante en una página web, \n",
    "    haciendo clic en el botón \"Aceptar\" si está presente.\n",
    "\n",
    "    Parámetros:\n",
    "    -----------\n",
    "    - driver (webdriver.Chrome): Instancia activa del navegador controlado por Selenium.\n",
    "\n",
    "    Retorna:\n",
    "    --------\n",
    "    - bool: `True` si se hizo clic en el botón \"Aceptar\", `False` si no se encontró o hubo un error.\n",
    "    \"\"\"\n",
    "    #Recibe el WebDriver abierto\n",
    "    try:\n",
    "        print(\"Esperando diálogo importante...\")\n",
    "        #Esperar 10 segpundos para que el botón \"Aceptar\" sea clickeable\n",
    "        aceptar_button = WebDriverWait(driver, 10).until(\n",
    "            #Ubicar el botón\n",
    "            EC.element_to_be_clickable((By.XPATH, \"//button[text()='Aceptar']\"))\n",
    "        )\n",
    "        print(\"Haciendo click en Aceptar...\")\n",
    "        aceptar_button.click()\n",
    "        time.sleep(2)\n",
    "        return True\n",
    "    except Exception as e:\n",
    "        print(f\"Error manejando diálogo importante: {str(e)}\")\n",
    "        return False"
   ]
  },
  {
   "cell_type": "markdown",
   "metadata": {},
   "source": [
    "Función extrae la información de los binomios presidenciables desde la página web "
   ]
  },
  {
   "cell_type": "code",
   "execution_count": null,
   "metadata": {},
   "outputs": [],
   "source": [
    "def extract_binomio_info(driver):\n",
    "    \"\"\"\n",
    "    Extrae información de los binomios presidenciales desde la página web del CNE.\n",
    "\n",
    "    Parámetros:\n",
    "    -----------\n",
    "    - driver (webdriver.Chrome): Instancia activa del navegador controlado por Selenium.\n",
    "\n",
    "    Retorna:\n",
    "    --------\n",
    "    - list[dict]: Lista de diccionarios con la información de los binomios encontrados. \n",
    "      Cada diccionario contiene:\n",
    "        - 'Partido': Nombre del partido o alianza política.\n",
    "        - 'Lista': Número de lista o alianza del binomio.\n",
    "        - 'Presidente': Nombre del candidato a presidente.\n",
    "        - 'Vicepresidente': Nombre del candidato a vicepresidente.\n",
    "        - 'Plan_Trabajo': Estado de disponibilidad del plan de trabajo (Disponible/No disponible).\"\"\"\n",
    "    \n",
    "    info_list = []\n",
    "    try:\n",
    "        # Esperar por el contenedor principal\n",
    "        print(\"Esperando contenedor principal...\")\n",
    "        WebDriverWait(driver, 10).until(\n",
    "            EC.presence_of_element_located((By.CSS_SELECTOR, \"div.MuiContainer-root\"))\n",
    "        )\n",
    "        time.sleep(2)\n",
    "        \n",
    "        # Encontrar todos los contenedores de binomios\n",
    "        binomio_containers = driver.find_elements(By.CSS_SELECTOR, \"div.MuiBox-root.css-1hj7a4p\")\n",
    "        print(f\"\\nEncontrados {len(binomio_containers)} binomios\")\n",
    "\n",
    "        #Itera cada binomio y crea un diccionario, se llena la información siguiente\n",
    "        for idx, container in enumerate(binomio_containers, 1):\n",
    "            try:\n",
    "                print(f\"\\nProcesando binomio {idx}\")\n",
    "                \n",
    "                info = {\n",
    "                    'Partido': 'No encontrado',\n",
    "                    'Lista': 'No encontrado',\n",
    "                    'Presidente': 'No encontrado',\n",
    "                    'Vicepresidente': 'No encontrado',\n",
    "                    'Plan_Trabajo': 'No disponible'\n",
    "                }\n",
    "                \n",
    "                # Obtener partido y lista desde el primer card\n",
    "                partido_card = container.find_element(By.CSS_SELECTOR, \"div.MuiCard-root\")\n",
    "                h5_elements = partido_card.find_elements(By.CSS_SELECTOR, \"h5.MuiTypography-h5\")\n",
    "                \n",
    "                #Encuentra la tarjeta del partido (MuiCard-root) y se buscan los elementos <h5> que se encuentra dentro\n",
    "                if h5_elements:\n",
    "                    info['Partido'] = h5_elements[0].text.strip()\n",
    "                    if len(h5_elements) > 1:\n",
    "                        texto = h5_elements[1].text.strip()\n",
    "                        if \"LISTA:\" in texto:\n",
    "                            info['Lista'] = texto.replace(\"LISTA:\", \"\").strip()\n",
    "                        elif \"ALIANZA:\" in texto:\n",
    "                            # Extraer el primer número de la alianza (5-33 -> 5)\n",
    "                            info['Lista'] = texto.split(\"-\")[0].replace(\"ALIANZA:\", \"\").strip()\n",
    "                \n",
    "                # Obtener presidente y vicepresidente del grid\n",
    "                grid_container = container.find_element(By.CSS_SELECTOR, \"div.MuiGrid-container\")\n",
    "                grid_items = grid_container.find_elements(By.CSS_SELECTOR, \"div.MuiGrid-item\")\n",
    "                \n",
    "                #Se encuentra la sección que contiene a los candidatos\n",
    "                for item in grid_items:\n",
    "                    try:\n",
    "                        candidato_elements = item.find_elements(By.CSS_SELECTOR, \"h6\")\n",
    "                        if len(candidato_elements) >= 2:\n",
    "                            nombre = candidato_elements[0].text.strip()\n",
    "                            cargo = candidato_elements[1].text.strip()\n",
    "                            \n",
    "                            if \"PRESIDENTE\" in cargo:\n",
    "                                if \"VICE\" in cargo:\n",
    "                                    info['Vicepresidente'] = nombre\n",
    "                                else:\n",
    "                                    info['Presidente'] = nombre\n",
    "                    except:\n",
    "                        continue\n",
    "                \n",
    "                # Verificar plan de trabajo\n",
    "                plan_buttons = container.find_elements(By.CSS_SELECTOR, \"button.MuiButton-root\")\n",
    "                if any(\"Plan de trabajo\" in btn.text for btn in plan_buttons):\n",
    "                    info['Plan_Trabajo'] = 'Disponible'\n",
    "                \n",
    "                # Solo agregar si tenemos información válida\n",
    "                if (info['Partido'] != 'No encontrado' and info['Lista'] != 'No encontrado') or \\\n",
    "                   (info['Presidente'] != 'No encontrado' and info['Vicepresidente'] != 'No encontrado'):\n",
    "                    info_list.append(info)\n",
    "                    print(\"Información extraída:\")\n",
    "                    for key, value in info.items():\n",
    "                        print(f\"{key}: {value}\")\n",
    "                \n",
    "            except Exception as e:\n",
    "                print(f\"Error procesando binomio {idx}: {str(e)}\")\n",
    "                continue\n",
    "        \n",
    "        print(f\"\\nTotal de binomios válidos encontrados: {len(info_list)}\")\n",
    "        \n",
    "    except Exception as e:\n",
    "        print(f\"Error general extrayendo información: {str(e)}\")\n",
    "    \n",
    "    return info_list"
   ]
  },
  {
   "cell_type": "markdown",
   "metadata": {},
   "source": [
    "Función que automatiza la extracción de los datos de los candidatos desde el sitio web y se guarda el archivo en CSV."
   ]
  },
  {
   "cell_type": "code",
   "execution_count": null,
   "metadata": {},
   "outputs": [],
   "source": [
    "def scrape_cne_data():\n",
    "    \"\"\"\n",
    "    Parámetros:\n",
    "    -----------\n",
    "    - No recibe parámetros.\n",
    "\n",
    "    Retorna:\n",
    "    --------\n",
    "    - `pandas.DataFrame`: Contiene la información de los binomios presidenciales con las siguientes columnas:\n",
    "        - `Partido`: Nombre del partido o alianza.\n",
    "        - `Lista`: Número de lista.\n",
    "        - `Presidente`: Nombre del candidato presidencial.\n",
    "        - `Vicepresidente`: Nombre del candidato a la vicepresidencia.\n",
    "        - `Plan_Trabajo`: Disponibilidad del plan de trabajo (Disponible/No disponible).\n",
    "\n",
    "    \"\"\"\n",
    "    driver = create_driver()\n",
    "    data = []\n",
    "    \n",
    "    try:\n",
    "        print(\"Navegando a la página inicial...\")\n",
    "        driver.get(\"https://votoinformado.cne.gob.ec/\")\n",
    "        #Esperar 3 segundos a que se abra la página\n",
    "        time.sleep(3)\n",
    "        \n",
    "        #cerrar mesajes emergentes\n",
    "        if not handle_important_dialog(driver):\n",
    "            return pd.DataFrame()\n",
    "        \n",
    "        # Click en proceso electoral\n",
    "        print(\"Buscando proceso electoral...\")\n",
    "        proceso = WebDriverWait(driver, 10).until(\n",
    "            EC.element_to_be_clickable((By.CSS_SELECTOR, \"h6.MuiTypography-root.MuiTypography-h6.css-1o1fs8j\"))\n",
    "        )\n",
    "        proceso.click()\n",
    "        time.sleep(3)\n",
    "        \n",
    "        # Click en presidente y vicepresidente usando JavaScript\n",
    "        print(\"Buscando sección de presidente y vicepresidente...\")\n",
    "        presidente = WebDriverWait(driver, 10).until(\n",
    "            EC.presence_of_element_located((By.CSS_SELECTOR, \"h6.MuiTypography-root.MuiTypography-h6.css-zoebuu\"))\n",
    "        )\n",
    "        driver.execute_script(\"arguments[0].click();\", presidente)\n",
    "        time.sleep(3)\n",
    "        \n",
    "        print(\"Extrayendo información de binomios...\")\n",
    "        data = extract_binomio_info(driver)\n",
    "        \n",
    "    except Exception as e:\n",
    "        print(f\"Error general: {str(e)}\")\n",
    "    \n",
    "    finally:\n",
    "        driver.quit()\n",
    "    \n",
    "    # Crear DataFrame\n",
    "    df = pd.DataFrame(data)\n",
    "\n",
    "    #Si el Dataframe no está vacío:\n",
    "    #Lista se convierte a formato numérico\n",
    "    \n",
    "    if not df.empty:\n",
    "        # Ordenar por número de lista\n",
    "        df['Lista'] = pd.to_numeric(df['Lista'], errors='ignore')\n",
    "        df = df.sort_values('Lista')\n",
    "        \n",
    "        # Guardar en CSV\n",
    "        df.to_csv('binomios_presidenciales.csv', index=False, encoding='utf-8-sig')\n",
    "        print(\"\\nDatos guardados en binomios_presidenciales.csv\")\n",
    "    \n",
    "    return df"
   ]
  },
  {
   "cell_type": "markdown",
   "metadata": {},
   "source": [
    "Ejecución de la función scrape_cne_data y se imprimen los datos"
   ]
  },
  {
   "cell_type": "code",
   "execution_count": 8,
   "metadata": {},
   "outputs": [
    {
     "name": "stdout",
     "output_type": "stream",
     "text": [
      "Navegando a la página inicial...\n",
      "Esperando diálogo importante...\n",
      "Haciendo click en Aceptar...\n",
      "Buscando proceso electoral...\n",
      "Buscando sección de presidente y vicepresidente...\n",
      "Extrayendo información de binomios...\n",
      "Esperando contenedor principal...\n",
      "\n",
      "Encontrados 16 binomios\n",
      "\n",
      "Procesando binomio 1\n",
      "Información extraída:\n",
      "Partido: MOVIMIENTO CENTRO DEMOCRÁTICO\n",
      "Lista: 1\n",
      "Presidente: JIMMY JAIRALA VALLAZZA\n",
      "Vicepresidente: LUCIA VALLECILLA SUAREZ\n",
      "Plan_Trabajo: Disponible\n",
      "\n",
      "Procesando binomio 2\n",
      "Información extraída:\n",
      "Partido: PARTIDO UNIDAD POPULAR\n",
      "Lista: 2\n",
      "Presidente: JORGE ESCALA\n",
      "Vicepresidente: PACHA TERAN\n",
      "Plan_Trabajo: Disponible\n",
      "\n",
      "Procesando binomio 3\n",
      "Información extraída:\n",
      "Partido: PARTIDO SOCIEDAD PATRIÓTICA 21 DE ENERO\n",
      "Lista: 3\n",
      "Presidente: ANDREA GONZALEZ\n",
      "Vicepresidente: GALO MONCAYO\n",
      "Plan_Trabajo: Disponible\n",
      "\n",
      "Procesando binomio 4\n",
      "Información extraída:\n",
      "Partido: MOVIMIENTO PUEBLO IGUALDAD DEMOCRACIA \"PID\"\n",
      "Lista: 4\n",
      "Presidente: VICTOR ARAUS\n",
      "Vicepresidente: CRISTINA CARRERA\n",
      "Plan_Trabajo: Disponible\n",
      "\n",
      "Procesando binomio 5\n",
      "Información extraída:\n",
      "Partido: REVOLUCIÓN CIUDADANA - RETO\n",
      "Lista: 5\n",
      "Presidente: LUISA GONZALEZ\n",
      "Vicepresidente: DIEGO BORJA\n",
      "Plan_Trabajo: Disponible\n",
      "\n",
      "Procesando binomio 6\n",
      "Información extraída:\n",
      "Partido: PARTIDO SOCIAL CRISTIANO\n",
      "Lista: 6\n",
      "Presidente: HENRY KRONFLE KOZHAYA\n",
      "Vicepresidente: DALLYANA PASSAILAIGUE\n",
      "Plan_Trabajo: Disponible\n",
      "\n",
      "Procesando binomio 7\n",
      "Información extraída:\n",
      "Partido: MOVIMIENTO ACCION DEMOCRATICA NACIONAL, ADN\n",
      "Lista: 7\n",
      "Presidente: DANIEL NOBOA AZIN\n",
      "Vicepresidente: MARIA JOSE PINTO\n",
      "Plan_Trabajo: Disponible\n",
      "\n",
      "Procesando binomio 8\n",
      "Información extraída:\n",
      "Partido: PARTIDO AVANZA\n",
      "Lista: 8\n",
      "Presidente: LUIS FELIPE TILLERIA\n",
      "Vicepresidente: KARLA PAULINA ROSERO\n",
      "Plan_Trabajo: Disponible\n",
      "\n",
      "Procesando binomio 9\n",
      "Información extraída:\n",
      "Partido: PARTIDO IZQUIERDA DEMOCRÁTICA\n",
      "Lista: 12\n",
      "Presidente: CARLOS RABASCALL\n",
      "Vicepresidente: ALEJANDRA RIVAS MANTILLA\n",
      "Plan_Trabajo: Disponible\n",
      "\n",
      "Procesando binomio 10\n",
      "Información extraída:\n",
      "Partido: MOVIMIENTO AMIGO, ACCIÓN MOVILIZADORA INDEPENDIENTE GENERANDO OPORTUNIDADES\n",
      "Lista: 16\n",
      "Presidente: JUAN IVAN CUEVA\n",
      "Vicepresidente: CRISTINA REYES\n",
      "Plan_Trabajo: Disponible\n",
      "\n",
      "Procesando binomio 11\n",
      "Información extraída:\n",
      "Partido: PARTIDO SOCIALISTA ECUATORIANO\n",
      "Lista: 17\n",
      "Presidente: PEDRO GRANJA\n",
      "Vicepresidente: VERONICA SILVA\n",
      "Plan_Trabajo: Disponible\n",
      "\n",
      "Procesando binomio 12\n",
      "Información extraída:\n",
      "Partido: MOVIMIENTO DE UNIDAD PLURINACIONAL PACHAKUTIK\n",
      "Lista: 18\n",
      "Presidente: LEONIDAS IZA\n",
      "Vicepresidente: KATIUSKA MOLINA\n",
      "Plan_Trabajo: Disponible\n",
      "\n",
      "Procesando binomio 13\n",
      "Información extraída:\n",
      "Partido: MOVIMIENTO DEMOCRACIA SÍ\n",
      "Lista: 20\n",
      "Presidente: IVAN SAQUICELA\n",
      "Vicepresidente: MARIA LUISA COELLO\n",
      "Plan_Trabajo: Disponible\n",
      "\n",
      "Procesando binomio 14\n",
      "Información extraída:\n",
      "Partido: MOVIMIENTO CREO, CREANDO OPORTUNIDADES\n",
      "Lista: 21\n",
      "Presidente: FRANCESCO TABACCHI\n",
      "Vicepresidente: BLANCA SACANCELA\n",
      "Plan_Trabajo: Disponible\n",
      "\n",
      "Procesando binomio 15\n",
      "Información extraída:\n",
      "Partido: PARTIDO SOCIEDAD UNIDA MÁS ACCIÓN, SUMA\n",
      "Lista: 23\n",
      "Presidente: ENRIQUE GOMEZ\n",
      "Vicepresidente: INES DIAZ\n",
      "Plan_Trabajo: Disponible\n",
      "\n",
      "Procesando binomio 16\n",
      "Información extraída:\n",
      "Partido: MOVIMIENTO CONSTRUYE\n",
      "Lista: 25\n",
      "Presidente: HENRY CUCALON\n",
      "Vicepresidente: CARLA LARREA\n",
      "Plan_Trabajo: Disponible\n",
      "\n",
      "Total de binomios válidos encontrados: 16\n",
      "\n",
      "Datos guardados en binomios_presidenciales.csv\n",
      "\n",
      "Resultados obtenidos:\n",
      "                                              Partido  Lista  \\\n",
      "0                       MOVIMIENTO CENTRO DEMOCRÁTICO      1   \n",
      "1                              PARTIDO UNIDAD POPULAR      2   \n",
      "2             PARTIDO SOCIEDAD PATRIÓTICA 21 DE ENERO      3   \n",
      "3         MOVIMIENTO PUEBLO IGUALDAD DEMOCRACIA \"PID\"      4   \n",
      "4                         REVOLUCIÓN CIUDADANA - RETO      5   \n",
      "5                            PARTIDO SOCIAL CRISTIANO      6   \n",
      "6         MOVIMIENTO ACCION DEMOCRATICA NACIONAL, ADN      7   \n",
      "7                                      PARTIDO AVANZA      8   \n",
      "8                       PARTIDO IZQUIERDA DEMOCRÁTICA     12   \n",
      "9   MOVIMIENTO AMIGO, ACCIÓN MOVILIZADORA INDEPEND...     16   \n",
      "10                     PARTIDO SOCIALISTA ECUATORIANO     17   \n",
      "11      MOVIMIENTO DE UNIDAD PLURINACIONAL PACHAKUTIK     18   \n",
      "12                           MOVIMIENTO DEMOCRACIA SÍ     20   \n",
      "13             MOVIMIENTO CREO, CREANDO OPORTUNIDADES     21   \n",
      "14            PARTIDO SOCIEDAD UNIDA MÁS ACCIÓN, SUMA     23   \n",
      "15                               MOVIMIENTO CONSTRUYE     25   \n",
      "\n",
      "                Presidente            Vicepresidente Plan_Trabajo  \n",
      "0   JIMMY JAIRALA VALLAZZA   LUCIA VALLECILLA SUAREZ   Disponible  \n",
      "1             JORGE ESCALA               PACHA TERAN   Disponible  \n",
      "2          ANDREA GONZALEZ              GALO MONCAYO   Disponible  \n",
      "3             VICTOR ARAUS          CRISTINA CARRERA   Disponible  \n",
      "4           LUISA GONZALEZ               DIEGO BORJA   Disponible  \n",
      "5    HENRY KRONFLE KOZHAYA     DALLYANA PASSAILAIGUE   Disponible  \n",
      "6        DANIEL NOBOA AZIN          MARIA JOSE PINTO   Disponible  \n",
      "7     LUIS FELIPE TILLERIA      KARLA PAULINA ROSERO   Disponible  \n",
      "8         CARLOS RABASCALL  ALEJANDRA RIVAS MANTILLA   Disponible  \n",
      "9          JUAN IVAN CUEVA            CRISTINA REYES   Disponible  \n",
      "10            PEDRO GRANJA            VERONICA SILVA   Disponible  \n",
      "11            LEONIDAS IZA           KATIUSKA MOLINA   Disponible  \n",
      "12          IVAN SAQUICELA        MARIA LUISA COELLO   Disponible  \n",
      "13      FRANCESCO TABACCHI          BLANCA SACANCELA   Disponible  \n",
      "14           ENRIQUE GOMEZ                 INES DIAZ   Disponible  \n",
      "15           HENRY CUCALON              CARLA LARREA   Disponible  \n"
     ]
    },
    {
     "name": "stderr",
     "output_type": "stream",
     "text": [
      "C:\\Users\\Sloth\\AppData\\Local\\Temp\\ipykernel_16684\\221810200.py:48: FutureWarning: errors='ignore' is deprecated and will raise in a future version. Use to_numeric without passing `errors` and catch exceptions explicitly instead\n",
      "  df['Lista'] = pd.to_numeric(df['Lista'], errors='ignore')\n"
     ]
    }
   ],
   "source": [
    "if __name__ == \"__main__\":\n",
    "    df = scrape_cne_data()\n",
    "    print(\"\\nResultados obtenidos:\")\n",
    "    print(df)"
   ]
  },
  {
   "cell_type": "code",
   "execution_count": 9,
   "metadata": {},
   "outputs": [],
   "source": [
    "dataframe = df"
   ]
  },
  {
   "cell_type": "markdown",
   "metadata": {},
   "source": [
    "DESCARGAR LOS PDFs DE LOS PLANES DE TRABAJO Y GUARDAR EN LA CARPETA PLANES DE TRABAJO"
   ]
  },
  {
   "cell_type": "code",
   "execution_count": 11,
   "metadata": {},
   "outputs": [],
   "source": [
    "#Importación de librerías\n",
    "from selenium import webdriver\n",
    "from selenium.webdriver.common.by import By\n",
    "from selenium.webdriver.support.ui import WebDriverWait\n",
    "from selenium.webdriver.support import expected_conditions as EC\n",
    "from selenium.webdriver.common.action_chains import ActionChains\n",
    "import os\n",
    "import time\n",
    "import glob\n",
    "import shutil"
   ]
  },
  {
   "cell_type": "markdown",
   "metadata": {},
   "source": [
    "Función que crea un WebDriver de Chrome que incluye la descarga automática de archivos en una carperta."
   ]
  },
  {
   "cell_type": "code",
   "execution_count": 12,
   "metadata": {},
   "outputs": [],
   "source": [
    "def create_driver(download_dir):\n",
    "    options = webdriver.ChromeOptions()\n",
    "    options.add_argument('--disable-blink-features=AutomationControlled')\n",
    "    options.add_argument('--disable-notifications')\n",
    "    options.add_argument('--window-size=1920,1080')\n",
    "    options.add_argument('--start-maximized')\n",
    "    #Configuración de descarga automática\n",
    "    prefs = {\n",
    "        #Directorio de descarga\n",
    "        \"download.default_directory\": download_dir,\n",
    "        #No preguntar dónde guardar el archivo\n",
    "        \"download.prompt_for_download\": False,\n",
    "        #Permitir cambios en la carpeta de descargas\n",
    "        \"download.directory_upgrade\": True,\n",
    "        #Se habilita protección ante descargas peligrosas\n",
    "        \"safebrowsing.enabled\": True\n",
    "    }\n",
    "    options.add_experimental_option(\"prefs\", prefs)\n",
    "    \n",
    "    driver = webdriver.Chrome(options=options)\n",
    "    return driver"
   ]
  },
  {
   "cell_type": "markdown",
   "metadata": {},
   "source": [
    "Función para manejar el click en un elemento de diferentes maneras"
   ]
  },
  {
   "cell_type": "code",
   "execution_count": 13,
   "metadata": {},
   "outputs": [],
   "source": [
    "def click_element_safely(driver, element, description=\"elemento\"):\n",
    "    \"\"\"Intenta hacer clic en un elemento de múltiples maneras.\"\"\"\n",
    "    #Lista de métodos para hacer click\n",
    "    methods = [\n",
    "        lambda: element.click(),\n",
    "        lambda: driver.execute_script(\"arguments[0].click();\", element),\n",
    "        lambda: ActionChains(driver).move_to_element(element).click().perform(),\n",
    "        lambda: driver.execute_script(\"arguments[0].dispatchEvent(new MouseEvent('click', {bubbles: true, cancelable: true}));\", element)\n",
    "    ]\n",
    "\n",
    "    #Bucle para intentar cada uno de los métodos\n",
    "    for idx, method in enumerate(methods, 1):\n",
    "        try:\n",
    "            print(f\"Intentando clic {idx} en {description}...\")\n",
    "            method()\n",
    "            time.sleep(2)\n",
    "            return True\n",
    "        except Exception as e:\n",
    "            print(f\"Error en intento {idx}: {str(e)}\")\n",
    "            time.sleep(1)\n",
    "    return False"
   ]
  },
  {
   "cell_type": "markdown",
   "metadata": {},
   "source": [
    "Función que permite la espera de la descarga correcta de un archivo PDF "
   ]
  },
  {
   "cell_type": "code",
   "execution_count": 14,
   "metadata": {},
   "outputs": [],
   "source": [
    "def wait_for_download(directory, timeout=30):\n",
    "    \"\"\"Espera a que el archivo se descargue completamente.\"\"\"\n",
    "    #Guardar tiempo de inicio de la descarga\n",
    "    start_time = time.time()\n",
    "    #Verifica la descarga si el tiempo no ha llegado a su límite de 30s\n",
    "    while time.time() - start_time < timeout:\n",
    "        #detectar archivos en proceso de descarga\n",
    "        downloading_files = glob.glob(os.path.join(directory, \"*.crdownload\")) + \\\n",
    "                          glob.glob(os.path.join(directory, \"*.tmp\")) + \\\n",
    "                          glob.glob(os.path.join(directory, \"*.download\"))\n",
    "        #Busca en el directorio archivos .pdf para verificar descarga\n",
    "        pdf_files = glob.glob(os.path.join(directory, \"*.pdf\"))\n",
    "        \n",
    "        #Verificar si la descarga ha terminado\n",
    "        if not downloading_files and pdf_files:\n",
    "            time.sleep(1)\n",
    "            return pdf_files[0]\n",
    "        time.sleep(0.5)\n",
    "    return None"
   ]
  },
  {
   "cell_type": "markdown",
   "metadata": {},
   "source": [
    "Función para automatizar la descarga de los planes de trabajo de los candidatos presidenciales "
   ]
  },
  {
   "cell_type": "code",
   "execution_count": 15,
   "metadata": {},
   "outputs": [],
   "source": [
    "def descargar_planes_trabajo():\n",
    "    #Crear la carpeta \"planes_trabajo\" para guardar los archivos descargados\n",
    "    base_dir = \"planes_trabajo\"\n",
    "    #abs_path determina el path de descarga\n",
    "    os.makedirs(base_dir, exist_ok=True)\n",
    "    abs_path = os.path.abspath(base_dir)\n",
    "    \n",
    "    #Directorio temporal para el manejo de descargas temporales\n",
    "    temp_dir = os.path.join(abs_path, \"temp\")\n",
    "    os.makedirs(temp_dir, exist_ok=True)\n",
    "    \n",
    "    #Crear WebDriver\n",
    "    driver = create_driver(temp_dir)\n",
    "    exitos = []\n",
    "    fallos = []\n",
    "    \n",
    "    #Manejo de diálogos emergentes\n",
    "    try:\n",
    "        print(\"Navegando a la página inicial...\")\n",
    "        driver.get(\"https://votoinformado.cne.gob.ec/\")\n",
    "        time.sleep(5)  # Cargar la página CNE y esperar 5s para asegurar la carga\n",
    "        \n",
    "        # Click en Aceptar inicial\n",
    "        try:\n",
    "            aceptar_button = WebDriverWait(driver, 10).until(\n",
    "                EC.element_to_be_clickable((By.XPATH, \"//button[text()='Aceptar']\"))\n",
    "            )\n",
    "            click_element_safely(driver, aceptar_button, \"botón Aceptar\")\n",
    "            time.sleep(3)\n",
    "        except Exception as e:\n",
    "            print(f\"Error en diálogo inicial: {str(e)}\")\n",
    "            return\n",
    "        \n",
    "        #Navegar hasta la sección de presidentes y vicepresidentes\n",
    "        # Click en proceso electoral con reintento\n",
    "        print(\"Buscando proceso electoral...\")\n",
    "        max_attempts = 3\n",
    "        for attempt in range(max_attempts):\n",
    "            try:\n",
    "                proceso = WebDriverWait(driver, 10).until(\n",
    "                    EC.presence_of_element_located((By.CSS_SELECTOR, \"h6.MuiTypography-root.MuiTypography-h6.css-1o1fs8j\"))\n",
    "                )\n",
    "                if click_element_safely(driver, proceso, \"proceso electoral\"):\n",
    "                    break\n",
    "            except Exception as e:\n",
    "                if attempt == max_attempts - 1:\n",
    "                    print(f\"No se pudo hacer clic en proceso electoral: {str(e)}\")\n",
    "                    return\n",
    "                time.sleep(3)\n",
    "        time.sleep(5)\n",
    "        \n",
    "        # Click en presidente y vicepresidente con reintento\n",
    "        print(\"Buscando sección de presidente y vicepresidente...\")\n",
    "        #Encontrar binomios\n",
    "        for attempt in range(max_attempts):\n",
    "            try:\n",
    "                presidente = WebDriverWait(driver, 10).until(\n",
    "                    EC.presence_of_element_located((By.CSS_SELECTOR, \"h6.MuiTypography-root.MuiTypography-h6.css-zoebuu\"))\n",
    "                )\n",
    "                if click_element_safely(driver, presidente, \"presidente y vicepresidente\"):\n",
    "                    break\n",
    "            except Exception as e:\n",
    "                if attempt == max_attempts - 1:\n",
    "                    print(f\"No se pudo hacer clic en presidente y vicepresidente: {str(e)}\")\n",
    "                    return\n",
    "                time.sleep(3)\n",
    "        time.sleep(5)\n",
    "        \n",
    "        # Encontrar todos los binomios\n",
    "        print(\"Esperando que carguen los binomios...\")\n",
    "        try:\n",
    "            binomios = WebDriverWait(driver, 15).until(\n",
    "                EC.presence_of_all_elements_located((By.CSS_SELECTOR, \"div.MuiBox-root.css-1hj7a4p\"))\n",
    "            )\n",
    "            print(f\"\\nEncontrados {len(binomios)} binomios\")\n",
    "        except Exception as e:\n",
    "            print(f\"Error encontrando binomios: {str(e)}\")\n",
    "            return\n",
    "        \n",
    "        #Limpia de carpeta temporal antes de la descarga\n",
    "        # Procesar cada binomio\n",
    "        for idx, binomio in enumerate(binomios, 1):\n",
    "            try:\n",
    "                # Limpiar directorio temporal\n",
    "                for file in glob.glob(os.path.join(temp_dir, \"*\")):\n",
    "                    try:\n",
    "                        os.remove(file)\n",
    "                    except:\n",
    "                        pass\n",
    "                \n",
    "                # Obtener número de lista\n",
    "                lista = \"XX\"\n",
    "                try:\n",
    "                    driver.execute_script(\"arguments[0].scrollIntoView({behavior: 'smooth', block: 'center'});\", binomio)\n",
    "                    time.sleep(1)\n",
    "                    \n",
    "                    h5_elements = binomio.find_elements(By.CSS_SELECTOR, \"h5.MuiTypography-h5\")\n",
    "                    for h5 in h5_elements:\n",
    "                        texto = h5.text.strip()  # Definimos texto aquí\n",
    "                        print(f\"Texto encontrado: {texto}\") \n",
    "                        if \"LISTA:\" in texto:\n",
    "                            lista = texto.replace(\"LISTA:\", \"\").strip()\n",
    "                            break\n",
    "                        elif \"ALIANZA:\" in texto:\n",
    "                            # Extraer el primer número de la alianza (5-33 -> 5)\n",
    "                            lista = texto.split(\"-\")[0].replace(\"ALIANZA:\", \"\").strip()\n",
    "                            break\n",
    "                except:\n",
    "                    pass\n",
    "                \n",
    "                print(f\"\\nProcesando binomio {idx} - Lista {lista}\")\n",
    "                \n",
    "                # Buscar y hacer clic en el botón de plan de trabajo\n",
    "                try:\n",
    "                    plan_button = binomio.find_element(By.CSS_SELECTOR, \"button.MuiButton-root\")\n",
    "                    if \"Plan de trabajo\" in plan_button.text:\n",
    "                        if click_element_safely(driver, plan_button, f\"plan de trabajo lista {lista}\"):\n",
    "                            # Esperar la descarga\n",
    "                            downloaded_file = wait_for_download(temp_dir)\n",
    "                            if downloaded_file:\n",
    "                                final_name = os.path.join(abs_path, f\"plan_trabajo_lista_{lista}.pdf\")\n",
    "                                shutil.move(downloaded_file, final_name)\n",
    "                                print(f\"✓ Plan de trabajo guardado exitosamente para Lista {lista}\")\n",
    "                                exitos.append(lista)\n",
    "                            else:\n",
    "                                print(f\"× Timeout esperando descarga para Lista {lista}\")\n",
    "                                fallos.append(lista)\n",
    "                        else:\n",
    "                            print(f\"× No se pudo hacer clic en el botón para Lista {lista}\")\n",
    "                            fallos.append(lista)\n",
    "                except Exception as e:\n",
    "                    print(f\"Error con el botón de descarga para Lista {lista}: {str(e)}\")\n",
    "                    fallos.append(lista)\n",
    "                \n",
    "                time.sleep(3)\n",
    "                \n",
    "            except Exception as e:\n",
    "                print(f\"Error procesando binomio {idx}: {str(e)}\")\n",
    "                fallos.append(lista)\n",
    "        \n",
    "    except Exception as e:\n",
    "        print(f\"Error general: {str(e)}\")\n",
    "\n",
    "    #Eliminar la carpeta temporal\n",
    "    finally:\n",
    "        driver.quit()\n",
    "        \n",
    "        try:\n",
    "            shutil.rmtree(temp_dir)\n",
    "        except:\n",
    "            pass\n",
    "        \n",
    "        #Imprimir un resumen de las descargas exitosas y fallidas\n",
    "        print(\"\\n=== RESUMEN DE DESCARGAS ===\")\n",
    "        print(f\"Planes descargados exitosamente ({len(exitos)}): {', '.join(exitos)}\")\n",
    "        print(f\"Planes con error ({len(fallos)}): {', '.join(fallos)}\")\n",
    "        \n",
    "        #Verificación de archivos PDF guardados\n",
    "        print(\"\\n=== VERIFICACIÓN DE ARCHIVOS ===\")\n",
    "        archivos_encontrados = glob.glob(os.path.join(abs_path, \"*.pdf\"))\n",
    "        print(f\"Archivos encontrados en disco ({len(archivos_encontrados)}):\")\n",
    "        for archivo in archivos_encontrados:\n",
    "            print(f\"- {os.path.basename(archivo)} ({os.path.getsize(archivo)} bytes)\")\n",
    "\n"
   ]
  },
  {
   "cell_type": "markdown",
   "metadata": {},
   "source": [
    "Ejecución de la función para la descarga de los planes de trabajo"
   ]
  },
  {
   "cell_type": "code",
   "execution_count": 16,
   "metadata": {},
   "outputs": [
    {
     "name": "stdout",
     "output_type": "stream",
     "text": [
      "Navegando a la página inicial...\n",
      "Intentando clic 1 en botón Aceptar...\n",
      "Buscando proceso electoral...\n",
      "Intentando clic 1 en proceso electoral...\n",
      "Buscando sección de presidente y vicepresidente...\n",
      "Intentando clic 1 en presidente y vicepresidente...\n",
      "Esperando que carguen los binomios...\n",
      "\n",
      "Encontrados 16 binomios\n",
      "Texto encontrado: MOVIMIENTO CENTRO DEMOCRÁTICO\n",
      "Texto encontrado: LISTA: 1\n",
      "\n",
      "Procesando binomio 1 - Lista 1\n",
      "Intentando clic 1 en plan de trabajo lista 1...\n",
      "✓ Plan de trabajo guardado exitosamente para Lista 1\n",
      "Texto encontrado: PARTIDO UNIDAD POPULAR\n",
      "Texto encontrado: LISTA: 2\n",
      "\n",
      "Procesando binomio 2 - Lista 2\n",
      "Intentando clic 1 en plan de trabajo lista 2...\n",
      "✓ Plan de trabajo guardado exitosamente para Lista 2\n",
      "Texto encontrado: PARTIDO SOCIEDAD PATRIÓTICA 21 DE ENERO\n",
      "Texto encontrado: LISTA: 3\n",
      "\n",
      "Procesando binomio 3 - Lista 3\n",
      "Intentando clic 1 en plan de trabajo lista 3...\n",
      "✓ Plan de trabajo guardado exitosamente para Lista 3\n",
      "Texto encontrado: MOVIMIENTO PUEBLO IGUALDAD DEMOCRACIA \"PID\"\n",
      "Texto encontrado: LISTA: 4\n",
      "\n",
      "Procesando binomio 4 - Lista 4\n",
      "Intentando clic 1 en plan de trabajo lista 4...\n",
      "✓ Plan de trabajo guardado exitosamente para Lista 4\n",
      "Texto encontrado: REVOLUCIÓN CIUDADANA - RETO\n",
      "Texto encontrado: ALIANZA: 5-33\n",
      "\n",
      "Procesando binomio 5 - Lista 5\n",
      "Intentando clic 1 en plan de trabajo lista 5...\n",
      "✓ Plan de trabajo guardado exitosamente para Lista 5\n",
      "Texto encontrado: PARTIDO SOCIAL CRISTIANO\n",
      "Texto encontrado: LISTA: 6\n",
      "\n",
      "Procesando binomio 6 - Lista 6\n",
      "Intentando clic 1 en plan de trabajo lista 6...\n",
      "✓ Plan de trabajo guardado exitosamente para Lista 6\n",
      "Texto encontrado: MOVIMIENTO ACCION DEMOCRATICA NACIONAL, ADN\n",
      "Texto encontrado: LISTA: 7\n",
      "\n",
      "Procesando binomio 7 - Lista 7\n",
      "Intentando clic 1 en plan de trabajo lista 7...\n",
      "✓ Plan de trabajo guardado exitosamente para Lista 7\n",
      "Texto encontrado: PARTIDO AVANZA\n",
      "Texto encontrado: LISTA: 8\n",
      "\n",
      "Procesando binomio 8 - Lista 8\n",
      "Intentando clic 1 en plan de trabajo lista 8...\n",
      "✓ Plan de trabajo guardado exitosamente para Lista 8\n",
      "Texto encontrado: PARTIDO IZQUIERDA DEMOCRÁTICA\n",
      "Texto encontrado: LISTA: 12\n",
      "\n",
      "Procesando binomio 9 - Lista 12\n",
      "Intentando clic 1 en plan de trabajo lista 12...\n",
      "✓ Plan de trabajo guardado exitosamente para Lista 12\n",
      "Texto encontrado: MOVIMIENTO AMIGO, ACCIÓN MOVILIZADORA INDEPENDIENTE GENERANDO OPORTUNIDADES\n",
      "Texto encontrado: LISTA: 16\n",
      "\n",
      "Procesando binomio 10 - Lista 16\n",
      "Intentando clic 1 en plan de trabajo lista 16...\n",
      "✓ Plan de trabajo guardado exitosamente para Lista 16\n",
      "Texto encontrado: PARTIDO SOCIALISTA ECUATORIANO\n",
      "Texto encontrado: LISTA: 17\n",
      "\n",
      "Procesando binomio 11 - Lista 17\n",
      "Intentando clic 1 en plan de trabajo lista 17...\n",
      "✓ Plan de trabajo guardado exitosamente para Lista 17\n",
      "Texto encontrado: MOVIMIENTO DE UNIDAD PLURINACIONAL PACHAKUTIK\n",
      "Texto encontrado: LISTA: 18\n",
      "\n",
      "Procesando binomio 12 - Lista 18\n",
      "Intentando clic 1 en plan de trabajo lista 18...\n",
      "✓ Plan de trabajo guardado exitosamente para Lista 18\n",
      "Texto encontrado: MOVIMIENTO DEMOCRACIA SÍ\n",
      "Texto encontrado: LISTA: 20\n",
      "\n",
      "Procesando binomio 13 - Lista 20\n",
      "Intentando clic 1 en plan de trabajo lista 20...\n",
      "✓ Plan de trabajo guardado exitosamente para Lista 20\n",
      "Texto encontrado: MOVIMIENTO CREO, CREANDO OPORTUNIDADES\n",
      "Texto encontrado: LISTA: 21\n",
      "\n",
      "Procesando binomio 14 - Lista 21\n",
      "Intentando clic 1 en plan de trabajo lista 21...\n",
      "✓ Plan de trabajo guardado exitosamente para Lista 21\n",
      "Texto encontrado: PARTIDO SOCIEDAD UNIDA MÁS ACCIÓN, SUMA\n",
      "Texto encontrado: LISTA: 23\n",
      "\n",
      "Procesando binomio 15 - Lista 23\n",
      "Intentando clic 1 en plan de trabajo lista 23...\n",
      "✓ Plan de trabajo guardado exitosamente para Lista 23\n",
      "Texto encontrado: MOVIMIENTO CONSTRUYE\n",
      "Texto encontrado: LISTA: 25\n",
      "\n",
      "Procesando binomio 16 - Lista 25\n",
      "Intentando clic 1 en plan de trabajo lista 25...\n",
      "✓ Plan de trabajo guardado exitosamente para Lista 25\n",
      "\n",
      "=== RESUMEN DE DESCARGAS ===\n",
      "Planes descargados exitosamente (16): 1, 2, 3, 4, 5, 6, 7, 8, 12, 16, 17, 18, 20, 21, 23, 25\n",
      "Planes con error (0): \n",
      "\n",
      "=== VERIFICACIÓN DE ARCHIVOS ===\n",
      "Archivos encontrados en disco (16):\n",
      "- plan_trabajo_lista_1.pdf (1331710 bytes)\n",
      "- plan_trabajo_lista_12.pdf (1133348 bytes)\n",
      "- plan_trabajo_lista_16.pdf (1642100 bytes)\n",
      "- plan_trabajo_lista_17.pdf (930659 bytes)\n",
      "- plan_trabajo_lista_18.pdf (1040747 bytes)\n",
      "- plan_trabajo_lista_2.pdf (2179945 bytes)\n",
      "- plan_trabajo_lista_20.pdf (3764118 bytes)\n",
      "- plan_trabajo_lista_21.pdf (1142060 bytes)\n",
      "- plan_trabajo_lista_23.pdf (3184240 bytes)\n",
      "- plan_trabajo_lista_25.pdf (1808286 bytes)\n",
      "- plan_trabajo_lista_3.pdf (837100 bytes)\n",
      "- plan_trabajo_lista_4.pdf (1407269 bytes)\n",
      "- plan_trabajo_lista_5.pdf (1115275 bytes)\n",
      "- plan_trabajo_lista_6.pdf (1178879 bytes)\n",
      "- plan_trabajo_lista_7.pdf (675449 bytes)\n",
      "- plan_trabajo_lista_8.pdf (1981266 bytes)\n"
     ]
    }
   ],
   "source": [
    "if __name__ == \"__main__\":\n",
    "    descargar_planes_trabajo()"
   ]
  },
  {
   "cell_type": "code",
   "execution_count": 18,
   "metadata": {},
   "outputs": [
    {
     "name": "stdout",
     "output_type": "stream",
     "text": [
      "Requirement already satisfied: PyPDF2 in c:\\users\\sloth\\appdata\\local\\programs\\python\\python312\\lib\\site-packages (3.0.1)\n",
      "Requirement already satisfied: pandas in c:\\users\\sloth\\appdata\\local\\programs\\python\\python312\\lib\\site-packages (2.2.3)\n",
      "Requirement already satisfied: openpyxl in c:\\users\\sloth\\appdata\\local\\programs\\python\\python312\\lib\\site-packages (3.1.5)\n",
      "Requirement already satisfied: numpy>=1.26.0 in c:\\users\\sloth\\appdata\\local\\programs\\python\\python312\\lib\\site-packages (from pandas) (1.26.4)\n",
      "Requirement already satisfied: python-dateutil>=2.8.2 in c:\\users\\sloth\\appdata\\local\\programs\\python\\python312\\lib\\site-packages (from pandas) (2.9.0.post0)\n",
      "Requirement already satisfied: pytz>=2020.1 in c:\\users\\sloth\\appdata\\local\\programs\\python\\python312\\lib\\site-packages (from pandas) (2024.2)\n",
      "Requirement already satisfied: tzdata>=2022.7 in c:\\users\\sloth\\appdata\\local\\programs\\python\\python312\\lib\\site-packages (from pandas) (2024.2)\n",
      "Requirement already satisfied: et-xmlfile in c:\\users\\sloth\\appdata\\local\\programs\\python\\python312\\lib\\site-packages (from openpyxl) (2.0.0)\n",
      "Requirement already satisfied: six>=1.5 in c:\\users\\sloth\\appdata\\local\\programs\\python\\python312\\lib\\site-packages (from python-dateutil>=2.8.2->pandas) (1.16.0)\n"
     ]
    },
    {
     "name": "stderr",
     "output_type": "stream",
     "text": [
      "\n",
      "[notice] A new release of pip is available: 25.0 -> 25.0.1\n",
      "[notice] To update, run: python.exe -m pip install --upgrade pip\n"
     ]
    }
   ],
   "source": [
    "# Instalación de bibliotecas para el procesamiento de PDFs\n",
    "# manipulación de datos en Excel\n",
    "!pip install PyPDF2 pandas openpyxl"
   ]
  },
  {
   "cell_type": "code",
   "execution_count": 51,
   "metadata": {},
   "outputs": [
    {
     "name": "stdout",
     "output_type": "stream",
     "text": [
      "Requirement already satisfied: pytesseract in c:\\users\\sloth\\appdata\\local\\programs\\python\\python312\\lib\\site-packages (0.3.13)\n",
      "Requirement already satisfied: pdf2image in c:\\users\\sloth\\appdata\\local\\programs\\python\\python312\\lib\\site-packages (1.17.0)\n",
      "Requirement already satisfied: PyPDF2 in c:\\users\\sloth\\appdata\\local\\programs\\python\\python312\\lib\\site-packages (3.0.1)\n",
      "Requirement already satisfied: pandas in c:\\users\\sloth\\appdata\\local\\programs\\python\\python312\\lib\\site-packages (2.2.3)\n",
      "Requirement already satisfied: openpyxl in c:\\users\\sloth\\appdata\\local\\programs\\python\\python312\\lib\\site-packages (3.1.5)\n",
      "Requirement already satisfied: packaging>=21.3 in c:\\users\\sloth\\appdata\\local\\programs\\python\\python312\\lib\\site-packages (from pytesseract) (24.2)\n",
      "Requirement already satisfied: Pillow>=8.0.0 in c:\\users\\sloth\\appdata\\local\\programs\\python\\python312\\lib\\site-packages (from pytesseract) (11.1.0)\n",
      "Requirement already satisfied: numpy>=1.26.0 in c:\\users\\sloth\\appdata\\local\\programs\\python\\python312\\lib\\site-packages (from pandas) (1.26.4)\n",
      "Requirement already satisfied: python-dateutil>=2.8.2 in c:\\users\\sloth\\appdata\\local\\programs\\python\\python312\\lib\\site-packages (from pandas) (2.9.0.post0)\n",
      "Requirement already satisfied: pytz>=2020.1 in c:\\users\\sloth\\appdata\\local\\programs\\python\\python312\\lib\\site-packages (from pandas) (2024.2)\n",
      "Requirement already satisfied: tzdata>=2022.7 in c:\\users\\sloth\\appdata\\local\\programs\\python\\python312\\lib\\site-packages (from pandas) (2024.2)\n",
      "Requirement already satisfied: et-xmlfile in c:\\users\\sloth\\appdata\\local\\programs\\python\\python312\\lib\\site-packages (from openpyxl) (2.0.0)\n",
      "Requirement already satisfied: six>=1.5 in c:\\users\\sloth\\appdata\\local\\programs\\python\\python312\\lib\\site-packages (from python-dateutil>=2.8.2->pandas) (1.16.0)\n"
     ]
    },
    {
     "name": "stderr",
     "output_type": "stream",
     "text": [
      "\n",
      "[notice] A new release of pip is available: 25.0 -> 25.0.1\n",
      "[notice] To update, run: python.exe -m pip install --upgrade pip\n"
     ]
    }
   ],
   "source": [
    "# Instalación de bibliotecas para el procesamiento\n",
    "# extrección de texto y manipulación de archivos PDF e imagenes\n",
    "!pip install pytesseract pdf2image PyPDF2 pandas openpyxl"
   ]
  },
  {
   "cell_type": "code",
   "execution_count": 19,
   "metadata": {},
   "outputs": [],
   "source": [
    "#Importación de bibliotecas\n",
    "import os\n",
    "import glob\n",
    "import pandas as pd\n",
    "import PyPDF2\n",
    "import pytesseract\n",
    "from pdf2image import convert_from_path\n",
    "import re\n",
    "import codecs"
   ]
  },
  {
   "cell_type": "markdown",
   "metadata": {},
   "source": [
    "#### LImpieza y normalización del texto extraido "
   ]
  },
  {
   "cell_type": "markdown",
   "metadata": {},
   "source": [
    "Función que permite la limpieza y normalización de texto: Eliminación de caracteres corruptos"
   ]
  },
  {
   "cell_type": "code",
   "execution_count": 22,
   "metadata": {},
   "outputs": [],
   "source": [
    "def limpiar_texto(texto):\n",
    "    \"\"\"Limpia y normaliza el texto.\"\"\"\n",
    "    # Intentar diferentes codificaciones\n",
    "    codificaciones = ['utf-8', 'latin1', 'cp1252']\n",
    "    texto_limpio = texto\n",
    "    \n",
    "    for codec in codificaciones:\n",
    "        #decodificar el texto que se encuentran en diferentes formatos\n",
    "        try:\n",
    "            if isinstance(texto, bytes):\n",
    "                texto_limpio = texto.decode(codec)\n",
    "            elif isinstance(texto, str):\n",
    "                texto_limpio = texto.encode(codec).decode(codec)\n",
    "            break\n",
    "        except:\n",
    "            continue\n",
    "    \n",
    "    # Eliminar caracteres no imprimibles y corruptos\n",
    "    # Permite saltos de línea y tabulaciones\n",
    "    texto_limpio = ''.join(char for char in texto_limpio if char.isprintable() or char in '\\n\\t')\n",
    "    \n",
    "    return texto_limpio"
   ]
  },
  {
   "cell_type": "markdown",
   "metadata": {},
   "source": [
    "Función para la extracción de texto de una imagen utilizando OCR con Tesseract"
   ]
  },
  {
   "cell_type": "code",
   "execution_count": 23,
   "metadata": {},
   "outputs": [],
   "source": [
    "def extraer_texto_imagen(imagen):\n",
    "    \"\"\"Extrae texto de una imagen usando OCR.\"\"\"\n",
    "    try:\n",
    "        # Configurar Tesseract\n",
    "        custom_config = r'--oem 3 --psm 6 -l spa'\n",
    "        #Extraer el texto de la imagen usando parámetros configurados\n",
    "        texto = pytesseract.image_to_string(imagen, config=custom_config)\n",
    "        return texto\n",
    "    except Exception as e:\n",
    "        print(f\"Error en OCR: {str(e)}\")\n",
    "        return \"\"\n"
   ]
  },
  {
   "cell_type": "markdown",
   "metadata": {},
   "source": [
    "Función para la lectura de archivos PDF, extracción de texto y el uso de OCR"
   ]
  },
  {
   "cell_type": "code",
   "execution_count": 24,
   "metadata": {},
   "outputs": [],
   "source": [
    "def leer_pdf(ruta_archivo):\n",
    "    \"\"\"Lee un archivo PDF intentando primero como texto y luego como imagen si es necesario.\"\"\"\n",
    "    texto_completo = \"\"\n",
    "    \n",
    "    #abrir archivo PDF para modo de lectura binaria\n",
    "    try:\n",
    "        # Primer intento: leer como texto normal\n",
    "        with open(ruta_archivo, 'rb') as file:\n",
    "            #Recorre cada página y extrae el texto\n",
    "            pdf_reader = PyPDF2.PdfReader(file)\n",
    "            texto = \"\"\n",
    "            for page in pdf_reader.pages:\n",
    "                try:\n",
    "                    texto += page.extract_text() + \"\\n\"\n",
    "                except:\n",
    "                    continue\n",
    "            \n",
    "            # Si el texto está vacío o tiene muy pocos caracteres, intentar OCR\n",
    "            if len(texto.strip()) < 100:\n",
    "                print(\"Texto insuficiente, intentando OCR...\")\n",
    "                # Convertir PDF a imágenes\n",
    "                imagenes = convert_from_path(ruta_archivo, 300)  # Mayor DPI para mejor calidad\n",
    "                #Procesa cada página con OCR\n",
    "                for pagina, imagen in enumerate(imagenes, 1):\n",
    "                    print(f\"Procesando página {pagina} con OCR...\")\n",
    "                    texto_ocr = extraer_texto_imagen(imagen)\n",
    "                    #Concatena el texto extraído en texto_completo\n",
    "                    texto_completo += texto_ocr + \"\\n\"\n",
    "                    \n",
    "                print(f\"OCR completado: {len(texto_completo)} caracteres extraídos\")\n",
    "            else:\n",
    "                texto_completo = texto\n",
    "            \n",
    "        return limpiar_texto(texto_completo)\n",
    "    \n",
    "    # En caso de error imprime mensaje y devuelve una cadena vacía    \n",
    "    except Exception as e:\n",
    "        print(f\"Error leyendo PDF: {str(e)}\")\n",
    "        return \"\""
   ]
  },
  {
   "cell_type": "markdown",
   "metadata": {},
   "source": [
    "Función para la extracción de número de listas desde el nombre del archivo de \"plan_trabajo_lista_#\""
   ]
  },
  {
   "cell_type": "code",
   "execution_count": 25,
   "metadata": {},
   "outputs": [],
   "source": [
    "def extraer_numero_lista(archivo):\n",
    "    \"\"\"Extrae el número de lista desde el nombre del archivo.\"\"\"\n",
    "    try:\n",
    "        # Obtener solo el nombre del archivo sin la ruta\n",
    "        nombre_archivo = os.path.basename(archivo)\n",
    "\n",
    "        # Usar una expresión regular para extraer el número de lista\n",
    "        match = re.search(r\"plan_trabajo_lista_(\\d+)\", nombre_archivo)\n",
    "\n",
    "        # Si se encuentra un número, retornarlo como entero\n",
    "        if match:\n",
    "            return int(match.group(1))\n",
    "        else:\n",
    "            return None  # Retorna None si no se encuentra un número válido\n",
    "    except Exception as e:\n",
    "        print(f\"Error extrayendo número de lista: {str(e)}\")\n",
    "        return None"
   ]
  },
  {
   "cell_type": "markdown",
   "metadata": {},
   "source": [
    "Función para la extracción de contenido y la generación de un resumen en Excel de los archivos PDF de los planes de trabajo"
   ]
  },
  {
   "cell_type": "code",
   "execution_count": 26,
   "metadata": {},
   "outputs": [],
   "source": [
    "def procesar_planes_trabajo():\n",
    "    # Directorio donde están los PDFs\n",
    "    directorio = \"planes_trabajo\"\n",
    "    \n",
    "    # Lista para almacenar los datos\n",
    "    datos = []\n",
    "    contenidos = {}\n",
    "    \n",
    "    # Buscar todos los archivos PDF\n",
    "    archivos_pdf = glob.glob(os.path.join(directorio, \"*.pdf\"))\n",
    "    total_archivos = len(archivos_pdf)\n",
    "    print(f\"Encontrados {total_archivos} archivos PDF\")\n",
    "    \n",
    "    #Recorre cada archivo PDF mostrando el progreso \n",
    "    for idx, archivo in enumerate(archivos_pdf, 1):\n",
    "        print(f\"\\nProcesando archivo {idx}/{total_archivos}: {os.path.basename(archivo)}\")\n",
    "        \n",
    "        #Extraer el numero de lista desde el nombre del archivo\n",
    "        try:\n",
    "            # Obtener número de lista\n",
    "            lista = extraer_numero_lista(archivo)\n",
    "            \n",
    "            # Leer contenido del PDF\n",
    "            contenido = leer_pdf(archivo)\n",
    "            \n",
    "            # Obtener tamaño del archivo\n",
    "            tamaño = os.path.getsize(archivo)\n",
    "            \n",
    "            # Guardar datos principales\n",
    "            datos.append({\n",
    "                'Lista': lista,\n",
    "                'Nombre_Archivo': os.path.basename(archivo),\n",
    "                'Tamaño_Bytes': tamaño,\n",
    "                'Num_Caracteres': len(contenido),\n",
    "                'Contenido_Extraido': len(contenido.strip()) > 0\n",
    "            })\n",
    "            \n",
    "            # Guardar contenido en diccionario separado\n",
    "            contenidos[lista] = contenido\n",
    "            \n",
    "            print(f\"✓ Procesado exitosamente - {tamaño:,} bytes, {len(contenido):,} caracteres\")\n",
    "            \n",
    "        except Exception as e:\n",
    "            print(f\"× Error procesando archivo: {str(e)}\")\n",
    "    \n",
    "    # Crear DataFrame\n",
    "    df = pd.DataFrame(datos)\n",
    "    \n",
    "    # Ordenar por número de lista\n",
    "    df['Lista'] = pd.to_numeric(df['Lista'], errors='coerce')\n",
    "    df = df.sort_values('Lista')\n",
    "    \n",
    "    # Guardar DataFrame en Excel\n",
    "    nombre_excel = \"planes_trabajo_resumen.xlsx\"\n",
    "    df.to_excel(nombre_excel, index=False)\n",
    "    print(f\"\\nResumen guardado en {nombre_excel}\")\n",
    "    \n",
    "    # Guardar contenidos en archivos de texto separados\n",
    "    contenidos_dir = \"planes_trabajo_texto\"\n",
    "    os.makedirs(contenidos_dir, exist_ok=True)\n",
    "    \n",
    "    for lista, contenido in contenidos.items():\n",
    "        nombre_archivo = os.path.join(contenidos_dir, f\"plan_trabajo_lista_{lista}.txt\")\n",
    "        with open(nombre_archivo, 'w', encoding='utf-8') as f:\n",
    "            f.write(contenido)\n",
    "    \n",
    "    print(f\"Contenidos guardados en carpeta {contenidos_dir}/\")\n",
    "    \n",
    "    # Mostrar resumen\n",
    "    print(\"\\n=== RESUMEN DE PROCESAMIENTO ===\")\n",
    "    print(f\"Total archivos procesados: {len(df)}\")\n",
    "    print(\"\\nDetalle de archivos:\")\n",
    "    print(df[['Lista', 'Tamaño_Bytes', 'Num_Caracteres', 'Contenido_Extraido']].to_string())\n",
    "    \n",
    "    return df, contenidos"
   ]
  },
  {
   "cell_type": "markdown",
   "metadata": {},
   "source": [
    "Ejecución de la función \"procesar_planes_trabajo\" para el procesamiento de los documentos PDF de las propuestas presindenciales"
   ]
  },
  {
   "cell_type": "code",
   "execution_count": 27,
   "metadata": {},
   "outputs": [
    {
     "name": "stdout",
     "output_type": "stream",
     "text": [
      "Encontrados 16 archivos PDF\n",
      "\n",
      "Procesando archivo 1/16: plan_trabajo_lista_1.pdf\n",
      "✓ Procesado exitosamente - 1,331,710 bytes, 172,894 caracteres\n",
      "\n",
      "Procesando archivo 2/16: plan_trabajo_lista_12.pdf\n",
      "✓ Procesado exitosamente - 1,133,348 bytes, 245,186 caracteres\n",
      "\n",
      "Procesando archivo 3/16: plan_trabajo_lista_16.pdf\n",
      "✓ Procesado exitosamente - 1,642,100 bytes, 154,622 caracteres\n",
      "\n",
      "Procesando archivo 4/16: plan_trabajo_lista_17.pdf\n",
      "✓ Procesado exitosamente - 930,659 bytes, 82,597 caracteres\n",
      "\n",
      "Procesando archivo 5/16: plan_trabajo_lista_18.pdf\n",
      "✓ Procesado exitosamente - 1,040,747 bytes, 84,322 caracteres\n",
      "\n",
      "Procesando archivo 6/16: plan_trabajo_lista_2.pdf\n",
      "✓ Procesado exitosamente - 2,179,945 bytes, 64,566 caracteres\n",
      "\n",
      "Procesando archivo 7/16: plan_trabajo_lista_20.pdf\n",
      "Texto insuficiente, intentando OCR...\n",
      "Procesando página 1 con OCR...\n",
      "Error en OCR: (1, 'Error opening data file C:\\\\Program Files\\\\Tesseract-OCR/tessdata/spa.traineddata Please make sure the TESSDATA_PREFIX environment variable is set to your \"tessdata\" directory. Failed loading language \\'spa\\' Tesseract couldn\\'t load any languages! Could not initialize tesseract.')\n",
      "Procesando página 2 con OCR...\n",
      "Error en OCR: (1, 'Error opening data file C:\\\\Program Files\\\\Tesseract-OCR/tessdata/spa.traineddata Please make sure the TESSDATA_PREFIX environment variable is set to your \"tessdata\" directory. Failed loading language \\'spa\\' Tesseract couldn\\'t load any languages! Could not initialize tesseract.')\n",
      "Procesando página 3 con OCR...\n",
      "Error en OCR: (1, 'Error opening data file C:\\\\Program Files\\\\Tesseract-OCR/tessdata/spa.traineddata Please make sure the TESSDATA_PREFIX environment variable is set to your \"tessdata\" directory. Failed loading language \\'spa\\' Tesseract couldn\\'t load any languages! Could not initialize tesseract.')\n",
      "Procesando página 4 con OCR...\n",
      "Error en OCR: (1, 'Error opening data file C:\\\\Program Files\\\\Tesseract-OCR/tessdata/spa.traineddata Please make sure the TESSDATA_PREFIX environment variable is set to your \"tessdata\" directory. Failed loading language \\'spa\\' Tesseract couldn\\'t load any languages! Could not initialize tesseract.')\n",
      "Procesando página 5 con OCR...\n",
      "Error en OCR: (1, 'Error opening data file C:\\\\Program Files\\\\Tesseract-OCR/tessdata/spa.traineddata Please make sure the TESSDATA_PREFIX environment variable is set to your \"tessdata\" directory. Failed loading language \\'spa\\' Tesseract couldn\\'t load any languages! Could not initialize tesseract.')\n",
      "Procesando página 6 con OCR...\n",
      "Error en OCR: (1, 'Error opening data file C:\\\\Program Files\\\\Tesseract-OCR/tessdata/spa.traineddata Please make sure the TESSDATA_PREFIX environment variable is set to your \"tessdata\" directory. Failed loading language \\'spa\\' Tesseract couldn\\'t load any languages! Could not initialize tesseract.')\n",
      "Procesando página 7 con OCR...\n",
      "Error en OCR: (1, 'Error opening data file C:\\\\Program Files\\\\Tesseract-OCR/tessdata/spa.traineddata Please make sure the TESSDATA_PREFIX environment variable is set to your \"tessdata\" directory. Failed loading language \\'spa\\' Tesseract couldn\\'t load any languages! Could not initialize tesseract.')\n",
      "Procesando página 8 con OCR...\n",
      "Error en OCR: (1, 'Error opening data file C:\\\\Program Files\\\\Tesseract-OCR/tessdata/spa.traineddata Please make sure the TESSDATA_PREFIX environment variable is set to your \"tessdata\" directory. Failed loading language \\'spa\\' Tesseract couldn\\'t load any languages! Could not initialize tesseract.')\n",
      "Procesando página 9 con OCR...\n",
      "Error en OCR: (1, 'Error opening data file C:\\\\Program Files\\\\Tesseract-OCR/tessdata/spa.traineddata Please make sure the TESSDATA_PREFIX environment variable is set to your \"tessdata\" directory. Failed loading language \\'spa\\' Tesseract couldn\\'t load any languages! Could not initialize tesseract.')\n",
      "Procesando página 10 con OCR...\n",
      "Error en OCR: (1, 'Error opening data file C:\\\\Program Files\\\\Tesseract-OCR/tessdata/spa.traineddata Please make sure the TESSDATA_PREFIX environment variable is set to your \"tessdata\" directory. Failed loading language \\'spa\\' Tesseract couldn\\'t load any languages! Could not initialize tesseract.')\n",
      "Procesando página 11 con OCR...\n",
      "Error en OCR: (1, 'Error opening data file C:\\\\Program Files\\\\Tesseract-OCR/tessdata/spa.traineddata Please make sure the TESSDATA_PREFIX environment variable is set to your \"tessdata\" directory. Failed loading language \\'spa\\' Tesseract couldn\\'t load any languages! Could not initialize tesseract.')\n",
      "Procesando página 12 con OCR...\n",
      "Error en OCR: (1, 'Error opening data file C:\\\\Program Files\\\\Tesseract-OCR/tessdata/spa.traineddata Please make sure the TESSDATA_PREFIX environment variable is set to your \"tessdata\" directory. Failed loading language \\'spa\\' Tesseract couldn\\'t load any languages! Could not initialize tesseract.')\n",
      "Procesando página 13 con OCR...\n",
      "Error en OCR: (1, 'Error opening data file C:\\\\Program Files\\\\Tesseract-OCR/tessdata/spa.traineddata Please make sure the TESSDATA_PREFIX environment variable is set to your \"tessdata\" directory. Failed loading language \\'spa\\' Tesseract couldn\\'t load any languages! Could not initialize tesseract.')\n",
      "Procesando página 14 con OCR...\n",
      "Error en OCR: (1, 'Error opening data file C:\\\\Program Files\\\\Tesseract-OCR/tessdata/spa.traineddata Please make sure the TESSDATA_PREFIX environment variable is set to your \"tessdata\" directory. Failed loading language \\'spa\\' Tesseract couldn\\'t load any languages! Could not initialize tesseract.')\n",
      "Procesando página 15 con OCR...\n",
      "Error en OCR: (1, 'Error opening data file C:\\\\Program Files\\\\Tesseract-OCR/tessdata/spa.traineddata Please make sure the TESSDATA_PREFIX environment variable is set to your \"tessdata\" directory. Failed loading language \\'spa\\' Tesseract couldn\\'t load any languages! Could not initialize tesseract.')\n",
      "Procesando página 16 con OCR...\n",
      "Error en OCR: (1, 'Error opening data file C:\\\\Program Files\\\\Tesseract-OCR/tessdata/spa.traineddata Please make sure the TESSDATA_PREFIX environment variable is set to your \"tessdata\" directory. Failed loading language \\'spa\\' Tesseract couldn\\'t load any languages! Could not initialize tesseract.')\n",
      "Procesando página 17 con OCR...\n",
      "Error en OCR: (1, 'Error opening data file C:\\\\Program Files\\\\Tesseract-OCR/tessdata/spa.traineddata Please make sure the TESSDATA_PREFIX environment variable is set to your \"tessdata\" directory. Failed loading language \\'spa\\' Tesseract couldn\\'t load any languages! Could not initialize tesseract.')\n",
      "Procesando página 18 con OCR...\n",
      "Error en OCR: (1, 'Error opening data file C:\\\\Program Files\\\\Tesseract-OCR/tessdata/spa.traineddata Please make sure the TESSDATA_PREFIX environment variable is set to your \"tessdata\" directory. Failed loading language \\'spa\\' Tesseract couldn\\'t load any languages! Could not initialize tesseract.')\n",
      "Procesando página 19 con OCR...\n",
      "Error en OCR: (1, 'Error opening data file C:\\\\Program Files\\\\Tesseract-OCR/tessdata/spa.traineddata Please make sure the TESSDATA_PREFIX environment variable is set to your \"tessdata\" directory. Failed loading language \\'spa\\' Tesseract couldn\\'t load any languages! Could not initialize tesseract.')\n",
      "Procesando página 20 con OCR...\n",
      "Error en OCR: (1, 'Error opening data file C:\\\\Program Files\\\\Tesseract-OCR/tessdata/spa.traineddata Please make sure the TESSDATA_PREFIX environment variable is set to your \"tessdata\" directory. Failed loading language \\'spa\\' Tesseract couldn\\'t load any languages! Could not initialize tesseract.')\n",
      "Procesando página 21 con OCR...\n",
      "Error en OCR: (1, 'Error opening data file C:\\\\Program Files\\\\Tesseract-OCR/tessdata/spa.traineddata Please make sure the TESSDATA_PREFIX environment variable is set to your \"tessdata\" directory. Failed loading language \\'spa\\' Tesseract couldn\\'t load any languages! Could not initialize tesseract.')\n",
      "Procesando página 22 con OCR...\n",
      "Error en OCR: (1, 'Error opening data file C:\\\\Program Files\\\\Tesseract-OCR/tessdata/spa.traineddata Please make sure the TESSDATA_PREFIX environment variable is set to your \"tessdata\" directory. Failed loading language \\'spa\\' Tesseract couldn\\'t load any languages! Could not initialize tesseract.')\n",
      "Procesando página 23 con OCR...\n",
      "Error en OCR: (1, 'Error opening data file C:\\\\Program Files\\\\Tesseract-OCR/tessdata/spa.traineddata Please make sure the TESSDATA_PREFIX environment variable is set to your \"tessdata\" directory. Failed loading language \\'spa\\' Tesseract couldn\\'t load any languages! Could not initialize tesseract.')\n",
      "Procesando página 24 con OCR...\n",
      "Error en OCR: (1, 'Error opening data file C:\\\\Program Files\\\\Tesseract-OCR/tessdata/spa.traineddata Please make sure the TESSDATA_PREFIX environment variable is set to your \"tessdata\" directory. Failed loading language \\'spa\\' Tesseract couldn\\'t load any languages! Could not initialize tesseract.')\n",
      "Procesando página 25 con OCR...\n",
      "Error en OCR: (1, 'Error opening data file C:\\\\Program Files\\\\Tesseract-OCR/tessdata/spa.traineddata Please make sure the TESSDATA_PREFIX environment variable is set to your \"tessdata\" directory. Failed loading language \\'spa\\' Tesseract couldn\\'t load any languages! Could not initialize tesseract.')\n",
      "Procesando página 26 con OCR...\n",
      "Error en OCR: (1, 'Error opening data file C:\\\\Program Files\\\\Tesseract-OCR/tessdata/spa.traineddata Please make sure the TESSDATA_PREFIX environment variable is set to your \"tessdata\" directory. Failed loading language \\'spa\\' Tesseract couldn\\'t load any languages! Could not initialize tesseract.')\n",
      "Procesando página 27 con OCR...\n",
      "Error en OCR: (1, 'Error opening data file C:\\\\Program Files\\\\Tesseract-OCR/tessdata/spa.traineddata Please make sure the TESSDATA_PREFIX environment variable is set to your \"tessdata\" directory. Failed loading language \\'spa\\' Tesseract couldn\\'t load any languages! Could not initialize tesseract.')\n",
      "Procesando página 28 con OCR...\n",
      "Error en OCR: (1, 'Error opening data file C:\\\\Program Files\\\\Tesseract-OCR/tessdata/spa.traineddata Please make sure the TESSDATA_PREFIX environment variable is set to your \"tessdata\" directory. Failed loading language \\'spa\\' Tesseract couldn\\'t load any languages! Could not initialize tesseract.')\n",
      "Procesando página 29 con OCR...\n",
      "Error en OCR: (1, 'Error opening data file C:\\\\Program Files\\\\Tesseract-OCR/tessdata/spa.traineddata Please make sure the TESSDATA_PREFIX environment variable is set to your \"tessdata\" directory. Failed loading language \\'spa\\' Tesseract couldn\\'t load any languages! Could not initialize tesseract.')\n",
      "Procesando página 30 con OCR...\n",
      "Error en OCR: (1, 'Error opening data file C:\\\\Program Files\\\\Tesseract-OCR/tessdata/spa.traineddata Please make sure the TESSDATA_PREFIX environment variable is set to your \"tessdata\" directory. Failed loading language \\'spa\\' Tesseract couldn\\'t load any languages! Could not initialize tesseract.')\n",
      "Procesando página 31 con OCR...\n",
      "Error en OCR: (1, 'Error opening data file C:\\\\Program Files\\\\Tesseract-OCR/tessdata/spa.traineddata Please make sure the TESSDATA_PREFIX environment variable is set to your \"tessdata\" directory. Failed loading language \\'spa\\' Tesseract couldn\\'t load any languages! Could not initialize tesseract.')\n",
      "Procesando página 32 con OCR...\n",
      "Error en OCR: (1, 'Error opening data file C:\\\\Program Files\\\\Tesseract-OCR/tessdata/spa.traineddata Please make sure the TESSDATA_PREFIX environment variable is set to your \"tessdata\" directory. Failed loading language \\'spa\\' Tesseract couldn\\'t load any languages! Could not initialize tesseract.')\n",
      "Procesando página 33 con OCR...\n",
      "Error en OCR: (1, 'Error opening data file C:\\\\Program Files\\\\Tesseract-OCR/tessdata/spa.traineddata Please make sure the TESSDATA_PREFIX environment variable is set to your \"tessdata\" directory. Failed loading language \\'spa\\' Tesseract couldn\\'t load any languages! Could not initialize tesseract.')\n",
      "OCR completado: 33 caracteres extraídos\n",
      "✓ Procesado exitosamente - 3,764,118 bytes, 33 caracteres\n",
      "\n",
      "Procesando archivo 8/16: plan_trabajo_lista_21.pdf\n",
      "✓ Procesado exitosamente - 1,142,060 bytes, 176,149 caracteres\n",
      "\n",
      "Procesando archivo 9/16: plan_trabajo_lista_23.pdf\n",
      "✓ Procesado exitosamente - 3,184,240 bytes, 491,000 caracteres\n",
      "\n",
      "Procesando archivo 10/16: plan_trabajo_lista_25.pdf\n",
      "✓ Procesado exitosamente - 1,808,286 bytes, 204,383 caracteres\n",
      "\n",
      "Procesando archivo 11/16: plan_trabajo_lista_3.pdf\n",
      "✓ Procesado exitosamente - 837,100 bytes, 152,218 caracteres\n",
      "\n",
      "Procesando archivo 12/16: plan_trabajo_lista_4.pdf\n",
      "✓ Procesado exitosamente - 1,407,269 bytes, 142,942 caracteres\n",
      "\n",
      "Procesando archivo 13/16: plan_trabajo_lista_5.pdf\n",
      "✓ Procesado exitosamente - 1,115,275 bytes, 153,006 caracteres\n",
      "\n",
      "Procesando archivo 14/16: plan_trabajo_lista_6.pdf\n",
      "Texto insuficiente, intentando OCR...\n",
      "Procesando página 1 con OCR...\n",
      "Error en OCR: (1, 'Error opening data file C:\\\\Program Files\\\\Tesseract-OCR/tessdata/spa.traineddata Please make sure the TESSDATA_PREFIX environment variable is set to your \"tessdata\" directory. Failed loading language \\'spa\\' Tesseract couldn\\'t load any languages! Could not initialize tesseract.')\n",
      "Procesando página 2 con OCR...\n",
      "Error en OCR: (1, 'Error opening data file C:\\\\Program Files\\\\Tesseract-OCR/tessdata/spa.traineddata Please make sure the TESSDATA_PREFIX environment variable is set to your \"tessdata\" directory. Failed loading language \\'spa\\' Tesseract couldn\\'t load any languages! Could not initialize tesseract.')\n",
      "Procesando página 3 con OCR...\n",
      "Error en OCR: (1, 'Error opening data file C:\\\\Program Files\\\\Tesseract-OCR/tessdata/spa.traineddata Please make sure the TESSDATA_PREFIX environment variable is set to your \"tessdata\" directory. Failed loading language \\'spa\\' Tesseract couldn\\'t load any languages! Could not initialize tesseract.')\n",
      "Procesando página 4 con OCR...\n",
      "Error en OCR: (1, 'Error opening data file C:\\\\Program Files\\\\Tesseract-OCR/tessdata/spa.traineddata Please make sure the TESSDATA_PREFIX environment variable is set to your \"tessdata\" directory. Failed loading language \\'spa\\' Tesseract couldn\\'t load any languages! Could not initialize tesseract.')\n",
      "Procesando página 5 con OCR...\n",
      "Error en OCR: (1, 'Error opening data file C:\\\\Program Files\\\\Tesseract-OCR/tessdata/spa.traineddata Please make sure the TESSDATA_PREFIX environment variable is set to your \"tessdata\" directory. Failed loading language \\'spa\\' Tesseract couldn\\'t load any languages! Could not initialize tesseract.')\n",
      "Procesando página 6 con OCR...\n",
      "Error en OCR: (1, 'Error opening data file C:\\\\Program Files\\\\Tesseract-OCR/tessdata/spa.traineddata Please make sure the TESSDATA_PREFIX environment variable is set to your \"tessdata\" directory. Failed loading language \\'spa\\' Tesseract couldn\\'t load any languages! Could not initialize tesseract.')\n",
      "Procesando página 7 con OCR...\n",
      "Error en OCR: (1, 'Error opening data file C:\\\\Program Files\\\\Tesseract-OCR/tessdata/spa.traineddata Please make sure the TESSDATA_PREFIX environment variable is set to your \"tessdata\" directory. Failed loading language \\'spa\\' Tesseract couldn\\'t load any languages! Could not initialize tesseract.')\n",
      "Procesando página 8 con OCR...\n",
      "Error en OCR: (1, 'Error opening data file C:\\\\Program Files\\\\Tesseract-OCR/tessdata/spa.traineddata Please make sure the TESSDATA_PREFIX environment variable is set to your \"tessdata\" directory. Failed loading language \\'spa\\' Tesseract couldn\\'t load any languages! Could not initialize tesseract.')\n",
      "Procesando página 9 con OCR...\n",
      "Error en OCR: (1, 'Error opening data file C:\\\\Program Files\\\\Tesseract-OCR/tessdata/spa.traineddata Please make sure the TESSDATA_PREFIX environment variable is set to your \"tessdata\" directory. Failed loading language \\'spa\\' Tesseract couldn\\'t load any languages! Could not initialize tesseract.')\n",
      "Procesando página 10 con OCR...\n",
      "Error en OCR: (1, 'Error opening data file C:\\\\Program Files\\\\Tesseract-OCR/tessdata/spa.traineddata Please make sure the TESSDATA_PREFIX environment variable is set to your \"tessdata\" directory. Failed loading language \\'spa\\' Tesseract couldn\\'t load any languages! Could not initialize tesseract.')\n",
      "Procesando página 11 con OCR...\n",
      "Error en OCR: (1, 'Error opening data file C:\\\\Program Files\\\\Tesseract-OCR/tessdata/spa.traineddata Please make sure the TESSDATA_PREFIX environment variable is set to your \"tessdata\" directory. Failed loading language \\'spa\\' Tesseract couldn\\'t load any languages! Could not initialize tesseract.')\n",
      "Procesando página 12 con OCR...\n",
      "Error en OCR: (1, 'Error opening data file C:\\\\Program Files\\\\Tesseract-OCR/tessdata/spa.traineddata Please make sure the TESSDATA_PREFIX environment variable is set to your \"tessdata\" directory. Failed loading language \\'spa\\' Tesseract couldn\\'t load any languages! Could not initialize tesseract.')\n",
      "Procesando página 13 con OCR...\n",
      "Error en OCR: (1, 'Error opening data file C:\\\\Program Files\\\\Tesseract-OCR/tessdata/spa.traineddata Please make sure the TESSDATA_PREFIX environment variable is set to your \"tessdata\" directory. Failed loading language \\'spa\\' Tesseract couldn\\'t load any languages! Could not initialize tesseract.')\n",
      "Procesando página 14 con OCR...\n",
      "Error en OCR: (1, 'Error opening data file C:\\\\Program Files\\\\Tesseract-OCR/tessdata/spa.traineddata Please make sure the TESSDATA_PREFIX environment variable is set to your \"tessdata\" directory. Failed loading language \\'spa\\' Tesseract couldn\\'t load any languages! Could not initialize tesseract.')\n",
      "Procesando página 15 con OCR...\n",
      "Error en OCR: (1, 'Error opening data file C:\\\\Program Files\\\\Tesseract-OCR/tessdata/spa.traineddata Please make sure the TESSDATA_PREFIX environment variable is set to your \"tessdata\" directory. Failed loading language \\'spa\\' Tesseract couldn\\'t load any languages! Could not initialize tesseract.')\n",
      "Procesando página 16 con OCR...\n",
      "Error en OCR: (1, 'Error opening data file C:\\\\Program Files\\\\Tesseract-OCR/tessdata/spa.traineddata Please make sure the TESSDATA_PREFIX environment variable is set to your \"tessdata\" directory. Failed loading language \\'spa\\' Tesseract couldn\\'t load any languages! Could not initialize tesseract.')\n",
      "Procesando página 17 con OCR...\n",
      "Error en OCR: (1, 'Error opening data file C:\\\\Program Files\\\\Tesseract-OCR/tessdata/spa.traineddata Please make sure the TESSDATA_PREFIX environment variable is set to your \"tessdata\" directory. Failed loading language \\'spa\\' Tesseract couldn\\'t load any languages! Could not initialize tesseract.')\n",
      "Procesando página 18 con OCR...\n",
      "Error en OCR: (1, 'Error opening data file C:\\\\Program Files\\\\Tesseract-OCR/tessdata/spa.traineddata Please make sure the TESSDATA_PREFIX environment variable is set to your \"tessdata\" directory. Failed loading language \\'spa\\' Tesseract couldn\\'t load any languages! Could not initialize tesseract.')\n",
      "Procesando página 19 con OCR...\n",
      "Error en OCR: (1, 'Error opening data file C:\\\\Program Files\\\\Tesseract-OCR/tessdata/spa.traineddata Please make sure the TESSDATA_PREFIX environment variable is set to your \"tessdata\" directory. Failed loading language \\'spa\\' Tesseract couldn\\'t load any languages! Could not initialize tesseract.')\n",
      "Procesando página 20 con OCR...\n",
      "Error en OCR: (1, 'Error opening data file C:\\\\Program Files\\\\Tesseract-OCR/tessdata/spa.traineddata Please make sure the TESSDATA_PREFIX environment variable is set to your \"tessdata\" directory. Failed loading language \\'spa\\' Tesseract couldn\\'t load any languages! Could not initialize tesseract.')\n",
      "Procesando página 21 con OCR...\n",
      "Error en OCR: (1, 'Error opening data file C:\\\\Program Files\\\\Tesseract-OCR/tessdata/spa.traineddata Please make sure the TESSDATA_PREFIX environment variable is set to your \"tessdata\" directory. Failed loading language \\'spa\\' Tesseract couldn\\'t load any languages! Could not initialize tesseract.')\n",
      "Procesando página 22 con OCR...\n",
      "Error en OCR: (1, 'Error opening data file C:\\\\Program Files\\\\Tesseract-OCR/tessdata/spa.traineddata Please make sure the TESSDATA_PREFIX environment variable is set to your \"tessdata\" directory. Failed loading language \\'spa\\' Tesseract couldn\\'t load any languages! Could not initialize tesseract.')\n",
      "Procesando página 23 con OCR...\n",
      "Error en OCR: (1, 'Error opening data file C:\\\\Program Files\\\\Tesseract-OCR/tessdata/spa.traineddata Please make sure the TESSDATA_PREFIX environment variable is set to your \"tessdata\" directory. Failed loading language \\'spa\\' Tesseract couldn\\'t load any languages! Could not initialize tesseract.')\n",
      "Procesando página 24 con OCR...\n",
      "Error en OCR: (1, 'Error opening data file C:\\\\Program Files\\\\Tesseract-OCR/tessdata/spa.traineddata Please make sure the TESSDATA_PREFIX environment variable is set to your \"tessdata\" directory. Failed loading language \\'spa\\' Tesseract couldn\\'t load any languages! Could not initialize tesseract.')\n",
      "Procesando página 25 con OCR...\n",
      "Error en OCR: (1, 'Error opening data file C:\\\\Program Files\\\\Tesseract-OCR/tessdata/spa.traineddata Please make sure the TESSDATA_PREFIX environment variable is set to your \"tessdata\" directory. Failed loading language \\'spa\\' Tesseract couldn\\'t load any languages! Could not initialize tesseract.')\n",
      "Procesando página 26 con OCR...\n",
      "Error en OCR: (1, 'Error opening data file C:\\\\Program Files\\\\Tesseract-OCR/tessdata/spa.traineddata Please make sure the TESSDATA_PREFIX environment variable is set to your \"tessdata\" directory. Failed loading language \\'spa\\' Tesseract couldn\\'t load any languages! Could not initialize tesseract.')\n",
      "Procesando página 27 con OCR...\n",
      "Error en OCR: (1, 'Error opening data file C:\\\\Program Files\\\\Tesseract-OCR/tessdata/spa.traineddata Please make sure the TESSDATA_PREFIX environment variable is set to your \"tessdata\" directory. Failed loading language \\'spa\\' Tesseract couldn\\'t load any languages! Could not initialize tesseract.')\n",
      "Procesando página 28 con OCR...\n",
      "Error en OCR: (1, 'Error opening data file C:\\\\Program Files\\\\Tesseract-OCR/tessdata/spa.traineddata Please make sure the TESSDATA_PREFIX environment variable is set to your \"tessdata\" directory. Failed loading language \\'spa\\' Tesseract couldn\\'t load any languages! Could not initialize tesseract.')\n",
      "Procesando página 29 con OCR...\n",
      "Error en OCR: (1, 'Error opening data file C:\\\\Program Files\\\\Tesseract-OCR/tessdata/spa.traineddata Please make sure the TESSDATA_PREFIX environment variable is set to your \"tessdata\" directory. Failed loading language \\'spa\\' Tesseract couldn\\'t load any languages! Could not initialize tesseract.')\n",
      "Procesando página 30 con OCR...\n",
      "Error en OCR: (1, 'Error opening data file C:\\\\Program Files\\\\Tesseract-OCR/tessdata/spa.traineddata Please make sure the TESSDATA_PREFIX environment variable is set to your \"tessdata\" directory. Failed loading language \\'spa\\' Tesseract couldn\\'t load any languages! Could not initialize tesseract.')\n",
      "Procesando página 31 con OCR...\n",
      "Error en OCR: (1, 'Error opening data file C:\\\\Program Files\\\\Tesseract-OCR/tessdata/spa.traineddata Please make sure the TESSDATA_PREFIX environment variable is set to your \"tessdata\" directory. Failed loading language \\'spa\\' Tesseract couldn\\'t load any languages! Could not initialize tesseract.')\n",
      "Procesando página 32 con OCR...\n",
      "Error en OCR: (1, 'Error opening data file C:\\\\Program Files\\\\Tesseract-OCR/tessdata/spa.traineddata Please make sure the TESSDATA_PREFIX environment variable is set to your \"tessdata\" directory. Failed loading language \\'spa\\' Tesseract couldn\\'t load any languages! Could not initialize tesseract.')\n",
      "Procesando página 33 con OCR...\n",
      "Error en OCR: (1, 'Error opening data file C:\\\\Program Files\\\\Tesseract-OCR/tessdata/spa.traineddata Please make sure the TESSDATA_PREFIX environment variable is set to your \"tessdata\" directory. Failed loading language \\'spa\\' Tesseract couldn\\'t load any languages! Could not initialize tesseract.')\n",
      "Procesando página 34 con OCR...\n",
      "Error en OCR: (1, 'Error opening data file C:\\\\Program Files\\\\Tesseract-OCR/tessdata/spa.traineddata Please make sure the TESSDATA_PREFIX environment variable is set to your \"tessdata\" directory. Failed loading language \\'spa\\' Tesseract couldn\\'t load any languages! Could not initialize tesseract.')\n",
      "Procesando página 35 con OCR...\n",
      "Error en OCR: (1, 'Error opening data file C:\\\\Program Files\\\\Tesseract-OCR/tessdata/spa.traineddata Please make sure the TESSDATA_PREFIX environment variable is set to your \"tessdata\" directory. Failed loading language \\'spa\\' Tesseract couldn\\'t load any languages! Could not initialize tesseract.')\n",
      "Procesando página 36 con OCR...\n",
      "Error en OCR: (1, 'Error opening data file C:\\\\Program Files\\\\Tesseract-OCR/tessdata/spa.traineddata Please make sure the TESSDATA_PREFIX environment variable is set to your \"tessdata\" directory. Failed loading language \\'spa\\' Tesseract couldn\\'t load any languages! Could not initialize tesseract.')\n",
      "Procesando página 37 con OCR...\n",
      "Error en OCR: (1, 'Error opening data file C:\\\\Program Files\\\\Tesseract-OCR/tessdata/spa.traineddata Please make sure the TESSDATA_PREFIX environment variable is set to your \"tessdata\" directory. Failed loading language \\'spa\\' Tesseract couldn\\'t load any languages! Could not initialize tesseract.')\n",
      "OCR completado: 37 caracteres extraídos\n",
      "✓ Procesado exitosamente - 1,178,879 bytes, 37 caracteres\n",
      "\n",
      "Procesando archivo 15/16: plan_trabajo_lista_7.pdf\n",
      "✓ Procesado exitosamente - 675,449 bytes, 106,296 caracteres\n",
      "\n",
      "Procesando archivo 16/16: plan_trabajo_lista_8.pdf\n",
      "✓ Procesado exitosamente - 1,981,266 bytes, 170,891 caracteres\n",
      "\n",
      "Resumen guardado en planes_trabajo_resumen.xlsx\n",
      "Contenidos guardados en carpeta planes_trabajo_texto/\n",
      "\n",
      "=== RESUMEN DE PROCESAMIENTO ===\n",
      "Total archivos procesados: 16\n",
      "\n",
      "Detalle de archivos:\n",
      "    Lista  Tamaño_Bytes  Num_Caracteres  Contenido_Extraido\n",
      "0       1       1331710          172894                True\n",
      "5       2       2179945           64566                True\n",
      "10      3        837100          152218                True\n",
      "11      4       1407269          142942                True\n",
      "12      5       1115275          153006                True\n",
      "13      6       1178879              37               False\n",
      "14      7        675449          106296                True\n",
      "15      8       1981266          170891                True\n",
      "1      12       1133348          245186                True\n",
      "2      16       1642100          154622                True\n",
      "3      17        930659           82597                True\n",
      "4      18       1040747           84322                True\n",
      "6      20       3764118              33               False\n",
      "7      21       1142060          176149                True\n",
      "8      23       3184240          491000                True\n",
      "9      25       1808286          204383                True\n"
     ]
    }
   ],
   "source": [
    "if __name__ == \"__main__\":\n",
    "    # Instalar dependencias necesarias\n",
    "    try:\n",
    "        import pytesseract\n",
    "        import pdf2image\n",
    "    except ImportError:\n",
    "        print(\"Instalando dependencias requeridas...\")\n",
    "        import subprocess\n",
    "        subprocess.run([\"pip\", \"install\", \"pytesseract\", \"pdf2image\", \"PyPDF2\", \"pandas\", \"openpyxl\"])\n",
    "    \n",
    "    # Verificar que Tesseract esté instalado\n",
    "    try:\n",
    "        pytesseract.get_tesseract_version()\n",
    "    except Exception:\n",
    "        print(\"Error: Tesseract no está instalado.\")\n",
    "        print(\"Por favor, instala Tesseract OCR:\")\n",
    "        print(\"- Windows: https://github.com/UB-Mannheim/tesseract/wiki\")\n",
    "        print(\"- Linux: sudo apt-get install tesseract-ocr\")\n",
    "        print(\"- Mac: brew install tesseract\")\n",
    "        exit(1)\n",
    "    \n",
    "    df, contenidos = procesar_planes_trabajo()"
   ]
  },
  {
   "cell_type": "markdown",
   "metadata": {},
   "source": [
    "### Creación de Dataframes"
   ]
  },
  {
   "cell_type": "markdown",
   "metadata": {},
   "source": [
    "DATAFRAME CON PLANES DE TRABAJO Y DATAFRAME CON BIOGRAFIAS:"
   ]
  },
  {
   "cell_type": "code",
   "execution_count": 41,
   "metadata": {},
   "outputs": [],
   "source": [
    "import os\n",
    "import pandas as pd\n",
    "\n",
    "# Leer el CSV original dos veces (uno para cada dataframe)\n",
    "df_biografias = pd.read_csv('binomios_presidenciales.csv')\n",
    "df_planes = pd.read_csv('binomios_presidenciales.csv')"
   ]
  },
  {
   "cell_type": "code",
   "execution_count": 42,
   "metadata": {},
   "outputs": [],
   "source": [
    "# Directorios donde están los archivos\n",
    "directorio_planes = \"planes_trabajo_texto/\"\n",
    "directorio_biografias = \"biografias/\""
   ]
  },
  {
   "cell_type": "code",
   "execution_count": 43,
   "metadata": {},
   "outputs": [],
   "source": [
    "# Crear diccionarios para almacenar los textos\n",
    "planes_trabajo = {}\n",
    "biografias = {}"
   ]
  },
  {
   "cell_type": "code",
   "execution_count": 44,
   "metadata": {},
   "outputs": [],
   "source": [
    "# Leer los archivos de planes de trabajo\n",
    "for archivo in os.listdir(directorio_planes):\n",
    "    if archivo.startswith(\"plan_de_trabajo_lista_\") and archivo.endswith(\".txt\"):\n",
    "        try:\n",
    "            num_lista = int(archivo.replace(\"plan_de_trabajo_lista_\", \"\").replace(\".txt\", \"\").strip())\n",
    "            with open(os.path.join(directorio_planes, archivo), \"r\", encoding=\"utf-8\") as f:\n",
    "                contenido = f.read()\n",
    "                planes_trabajo[num_lista] = contenido\n",
    "        except Exception as e:\n",
    "            print(f\"Error con archivo de plan de trabajo {archivo}: {e}\")\n"
   ]
  },
  {
   "cell_type": "code",
   "execution_count": 45,
   "metadata": {},
   "outputs": [],
   "source": [
    "# Leer los archivos de biografías\n",
    "for archivo in os.listdir(directorio_biografias):\n",
    "    if archivo.startswith(\"biografia_lista_\") and archivo.endswith(\".txt\"):\n",
    "        try:\n",
    "            num_lista = int(archivo.replace(\"biografia_lista_\", \"\").replace(\".txt\", \"\").strip())\n",
    "            with open(os.path.join(directorio_biografias, archivo), \"r\", encoding=\"utf-8\") as f:\n",
    "                contenido = f.read()\n",
    "                biografias[num_lista] = contenido\n",
    "        except Exception as e:\n",
    "            print(f\"Error con archivo de biografía {archivo}: {e}\")"
   ]
  },
  {
   "cell_type": "code",
   "execution_count": 46,
   "metadata": {},
   "outputs": [],
   "source": [
    "\n",
    "# Convertir la columna Lista a entero en ambos dataframes\n",
    "df_biografias[\"Lista\"] = df_biografias[\"Lista\"].astype(int)\n",
    "df_planes[\"Lista\"] = df_planes[\"Lista\"].astype(int)\n",
    "\n",
    "# Para el dataframe de biografías\n",
    "if \"Plan_Trabajo\" in df_biografias.columns:\n",
    "    df_biografias = df_biografias.drop(\"Plan_Trabajo\", axis=1)  # Eliminar columna Plan_Trabajo\n",
    "df_biografias[\"Biografia\"] = df_biografias[\"Lista\"].map(biografias)  # Añadir columna Biografia\n"
   ]
  },
  {
   "cell_type": "code",
   "execution_count": 47,
   "metadata": {},
   "outputs": [
    {
     "name": "stdout",
     "output_type": "stream",
     "text": [
      "Guardando archivos CSV...\n",
      "Archivo guardado como dataframe_con_biografias.csv\n",
      "Archivo guardado como dataframe_con_planes.csv\n"
     ]
    }
   ],
   "source": [
    "# Para el dataframe de planes\n",
    "df_planes[\"Plan_Trabajo\"] = df_planes[\"Lista\"].map(planes_trabajo)\n",
    "\n",
    "# Guardar los dos CSV\n",
    "print(\"Guardando archivos CSV...\")\n",
    "\n",
    "# Guardar dataframe con biografías\n",
    "df_biografias.to_csv(\"dataframe_con_biografias.csv\", index=False, encoding='utf-8')\n",
    "print(\"Archivo guardado como dataframe_con_biografias.csv\")\n",
    "\n",
    "# Guardar dataframe con planes de trabajo\n",
    "df_planes.to_csv(\"dataframe_con_planes.csv\", index=False, encoding='utf-8')\n",
    "print(\"Archivo guardado como dataframe_con_planes.csv\")\n"
   ]
  },
  {
   "cell_type": "code",
   "execution_count": 48,
   "metadata": {},
   "outputs": [
    {
     "name": "stdout",
     "output_type": "stream",
     "text": [
      "\n",
      "Resumen:\n",
      "Total de planes de trabajo encontrados: 16\n",
      "Total de biografías encontradas: 16\n",
      "Listas encontradas:\n",
      "- Planes de trabajo: [1, 2, 3, 4, 5, 6, 7, 8, 12, 16, 17, 18, 20, 21, 23, 25]\n",
      "- Biografías: [1, 2, 3, 4, 5, 6, 7, 8, 12, 16, 17, 18, 20, 21, 23, 25]\n"
     ]
    }
   ],
   "source": [
    "# Imprimir resumen\n",
    "print(\"\\nResumen:\")\n",
    "print(f\"Total de planes de trabajo encontrados: {len(planes_trabajo)}\")\n",
    "print(f\"Total de biografías encontradas: {len(biografias)}\")\n",
    "print(\"Listas encontradas:\")\n",
    "print(f\"- Planes de trabajo: {sorted(planes_trabajo.keys())}\")\n",
    "print(f\"- Biografías: {sorted(biografias.keys())}\")"
   ]
  },
  {
   "cell_type": "code",
   "execution_count": 33,
   "metadata": {},
   "outputs": [
    {
     "data": {
      "text/html": [
       "<div>\n",
       "<style scoped>\n",
       "    .dataframe tbody tr th:only-of-type {\n",
       "        vertical-align: middle;\n",
       "    }\n",
       "\n",
       "    .dataframe tbody tr th {\n",
       "        vertical-align: top;\n",
       "    }\n",
       "\n",
       "    .dataframe thead th {\n",
       "        text-align: right;\n",
       "    }\n",
       "</style>\n",
       "<table border=\"1\" class=\"dataframe\">\n",
       "  <thead>\n",
       "    <tr style=\"text-align: right;\">\n",
       "      <th></th>\n",
       "      <th>Partido</th>\n",
       "      <th>Lista</th>\n",
       "      <th>Presidente</th>\n",
       "      <th>Vicepresidente</th>\n",
       "      <th>Plan_Trabajo</th>\n",
       "    </tr>\n",
       "  </thead>\n",
       "  <tbody>\n",
       "    <tr>\n",
       "      <th>0</th>\n",
       "      <td>MOVIMIENTO CENTRO DEMOCRÁTICO</td>\n",
       "      <td>1</td>\n",
       "      <td>JIMMY JAIRALA VALLAZZA</td>\n",
       "      <td>LUCIA VALLECILLA SUAREZ</td>\n",
       "      <td>PAGINA 1\\n\f",
       "1. Introducción\\nEcuador es un país...</td>\n",
       "    </tr>\n",
       "    <tr>\n",
       "      <th>1</th>\n",
       "      <td>PARTIDO UNIDAD POPULAR</td>\n",
       "      <td>2</td>\n",
       "      <td>JORGE ESCALA</td>\n",
       "      <td>PACHA TERAN</td>\n",
       "      <td>PAGINA 3\\n\\nIntroducción:\\nEl Ecuador vive una...</td>\n",
       "    </tr>\n",
       "    <tr>\n",
       "      <th>2</th>\n",
       "      <td>PARTIDO SOCIEDAD PATRIÓTICA 21 DE ENERO</td>\n",
       "      <td>3</td>\n",
       "      <td>ANDREA GONZALEZ</td>\n",
       "      <td>GALO MONCAYO</td>\n",
       "      <td>PAGINA 1\\n\\n1. DIAGNÓSTICO DE LA SITUACIÓN ACT...</td>\n",
       "    </tr>\n",
       "    <tr>\n",
       "      <th>3</th>\n",
       "      <td>MOVIMIENTO PUEBLO IGUALDAD DEMOCRACIA \"PID\"</td>\n",
       "      <td>4</td>\n",
       "      <td>VICTOR ARAUS</td>\n",
       "      <td>CRISTINA CARRERA</td>\n",
       "      <td>PAGINA 4\\n1. Introducción\\nEl presente Plan de...</td>\n",
       "    </tr>\n",
       "    <tr>\n",
       "      <th>4</th>\n",
       "      <td>REVOLUCIÓN CIUDADANA - RETO</td>\n",
       "      <td>5</td>\n",
       "      <td>LUISA GONZALEZ</td>\n",
       "      <td>DIEGO BORJA</td>\n",
       "      <td>PAGINA 7\\n\\nPrograma de Gobierno de la Revoluc...</td>\n",
       "    </tr>\n",
       "    <tr>\n",
       "      <th>5</th>\n",
       "      <td>PARTIDO SOCIAL CRISTIANO</td>\n",
       "      <td>6</td>\n",
       "      <td>HENRY KRONFLE KOZHAYA</td>\n",
       "      <td>DALLYANA PASSAILAIGUE</td>\n",
       "      <td>PAGINA 3\\n\f",
       "PLAN DE TRABAJO\\nPARTIDO SOCIAL CRI...</td>\n",
       "    </tr>\n",
       "    <tr>\n",
       "      <th>6</th>\n",
       "      <td>MOVIMIENTO ACCION DEMOCRATICA NACIONAL, ADN</td>\n",
       "      <td>7</td>\n",
       "      <td>DANIEL NOBOA AZIN</td>\n",
       "      <td>MARIA JOSE PINTO</td>\n",
       "      <td>PAGINA 5\f",
       "1. INTRODUCCIÓN\\nCoincidir con un gru...</td>\n",
       "    </tr>\n",
       "    <tr>\n",
       "      <th>7</th>\n",
       "      <td>PARTIDO AVANZA</td>\n",
       "      <td>8</td>\n",
       "      <td>LUIS FELIPE TILLERIA</td>\n",
       "      <td>KARLA PAULINA ROSERO</td>\n",
       "      <td>PAGINA 2\\nPROPUESTA LA GRAN DEVOLUCIÓN\\n1. DIA...</td>\n",
       "    </tr>\n",
       "    <tr>\n",
       "      <th>8</th>\n",
       "      <td>PARTIDO IZQUIERDA DEMOCRÁTICA</td>\n",
       "      <td>12</td>\n",
       "      <td>CARLOS RABASCALL</td>\n",
       "      <td>ALEJANDRA RIVAS MANTILLA</td>\n",
       "      <td>PAGINA 6 \\n\f",
       "1. INTRODUCCIÓN\\nEcuador se encuen...</td>\n",
       "    </tr>\n",
       "    <tr>\n",
       "      <th>9</th>\n",
       "      <td>MOVIMIENTO AMIGO, ACCIÓN MOVILIZADORA INDEPEND...</td>\n",
       "      <td>16</td>\n",
       "      <td>JUAN IVAN CUEVA</td>\n",
       "      <td>CRISTINA REYES</td>\n",
       "      <td>PAGINA 1\\n\f",
       "1.- INTRODUCCION\\nEl Movimiento AMI...</td>\n",
       "    </tr>\n",
       "    <tr>\n",
       "      <th>10</th>\n",
       "      <td>PARTIDO SOCIALISTA ECUATORIANO</td>\n",
       "      <td>17</td>\n",
       "      <td>PEDRO GRANJA</td>\n",
       "      <td>VERONICA SILVA</td>\n",
       "      <td>PAGINA 3 \\n\f",
       "A) Introducción\\nEl presente Plan ...</td>\n",
       "    </tr>\n",
       "    <tr>\n",
       "      <th>11</th>\n",
       "      <td>MOVIMIENTO DE UNIDAD PLURINACIONAL PACHAKUTIK</td>\n",
       "      <td>18</td>\n",
       "      <td>LEONIDAS IZA</td>\n",
       "      <td>KATIUSKA MOLINA</td>\n",
       "      <td>PAGINA 1\\n\\nI. DIAGNÓSTICO\\n\\nEcuador atravies...</td>\n",
       "    </tr>\n",
       "    <tr>\n",
       "      <th>12</th>\n",
       "      <td>MOVIMIENTO DEMOCRACIA SÍ</td>\n",
       "      <td>20</td>\n",
       "      <td>IVAN SAQUICELA</td>\n",
       "      <td>MARIA LUISA COELLO</td>\n",
       "      <td>PAGINA 3\\n\\n1. ANTECEDENTES \\nLa globalización...</td>\n",
       "    </tr>\n",
       "    <tr>\n",
       "      <th>13</th>\n",
       "      <td>MOVIMIENTO CREO, CREANDO OPORTUNIDADES</td>\n",
       "      <td>21</td>\n",
       "      <td>FRANCESCO TABACCHI</td>\n",
       "      <td>BLANCA SACANCELA</td>\n",
       "      <td>PAGINA 5\\n\f",
       "1. Introducción\\nEs deber de los po...</td>\n",
       "    </tr>\n",
       "    <tr>\n",
       "      <th>14</th>\n",
       "      <td>PARTIDO SOCIEDAD UNIDA MÁS ACCIÓN, SUMA</td>\n",
       "      <td>23</td>\n",
       "      <td>ENRIQUE GOMEZ</td>\n",
       "      <td>INES DIAZ</td>\n",
       "      <td>PAGINA 7\\n\f",
       "Carta a nuestra Gente\\nQueridos com...</td>\n",
       "    </tr>\n",
       "    <tr>\n",
       "      <th>15</th>\n",
       "      <td>MOVIMIENTO CONSTRUYE</td>\n",
       "      <td>25</td>\n",
       "      <td>HENRY CUCALON</td>\n",
       "      <td>CARLA LARREA</td>\n",
       "      <td>PAGINA 3\\nVISIÓN DE PAÍS\\nEcuador será un país...</td>\n",
       "    </tr>\n",
       "  </tbody>\n",
       "</table>\n",
       "</div>"
      ],
      "text/plain": [
       "                                              Partido  Lista  \\\n",
       "0                       MOVIMIENTO CENTRO DEMOCRÁTICO      1   \n",
       "1                              PARTIDO UNIDAD POPULAR      2   \n",
       "2             PARTIDO SOCIEDAD PATRIÓTICA 21 DE ENERO      3   \n",
       "3         MOVIMIENTO PUEBLO IGUALDAD DEMOCRACIA \"PID\"      4   \n",
       "4                         REVOLUCIÓN CIUDADANA - RETO      5   \n",
       "5                            PARTIDO SOCIAL CRISTIANO      6   \n",
       "6         MOVIMIENTO ACCION DEMOCRATICA NACIONAL, ADN      7   \n",
       "7                                      PARTIDO AVANZA      8   \n",
       "8                       PARTIDO IZQUIERDA DEMOCRÁTICA     12   \n",
       "9   MOVIMIENTO AMIGO, ACCIÓN MOVILIZADORA INDEPEND...     16   \n",
       "10                     PARTIDO SOCIALISTA ECUATORIANO     17   \n",
       "11      MOVIMIENTO DE UNIDAD PLURINACIONAL PACHAKUTIK     18   \n",
       "12                           MOVIMIENTO DEMOCRACIA SÍ     20   \n",
       "13             MOVIMIENTO CREO, CREANDO OPORTUNIDADES     21   \n",
       "14            PARTIDO SOCIEDAD UNIDA MÁS ACCIÓN, SUMA     23   \n",
       "15                               MOVIMIENTO CONSTRUYE     25   \n",
       "\n",
       "                Presidente            Vicepresidente  \\\n",
       "0   JIMMY JAIRALA VALLAZZA   LUCIA VALLECILLA SUAREZ   \n",
       "1             JORGE ESCALA               PACHA TERAN   \n",
       "2          ANDREA GONZALEZ              GALO MONCAYO   \n",
       "3             VICTOR ARAUS          CRISTINA CARRERA   \n",
       "4           LUISA GONZALEZ               DIEGO BORJA   \n",
       "5    HENRY KRONFLE KOZHAYA     DALLYANA PASSAILAIGUE   \n",
       "6        DANIEL NOBOA AZIN          MARIA JOSE PINTO   \n",
       "7     LUIS FELIPE TILLERIA      KARLA PAULINA ROSERO   \n",
       "8         CARLOS RABASCALL  ALEJANDRA RIVAS MANTILLA   \n",
       "9          JUAN IVAN CUEVA            CRISTINA REYES   \n",
       "10            PEDRO GRANJA            VERONICA SILVA   \n",
       "11            LEONIDAS IZA           KATIUSKA MOLINA   \n",
       "12          IVAN SAQUICELA        MARIA LUISA COELLO   \n",
       "13      FRANCESCO TABACCHI          BLANCA SACANCELA   \n",
       "14           ENRIQUE GOMEZ                 INES DIAZ   \n",
       "15           HENRY CUCALON              CARLA LARREA   \n",
       "\n",
       "                                         Plan_Trabajo  \n",
       "0   PAGINA 1\\n\n",
       "1. Introducción\\nEcuador es un país...  \n",
       "1   PAGINA 3\\n\\nIntroducción:\\nEl Ecuador vive una...  \n",
       "2   PAGINA 1\\n\\n1. DIAGNÓSTICO DE LA SITUACIÓN ACT...  \n",
       "3   PAGINA 4\\n1. Introducción\\nEl presente Plan de...  \n",
       "4   PAGINA 7\\n\\nPrograma de Gobierno de la Revoluc...  \n",
       "5   PAGINA 3\\n\n",
       "PLAN DE TRABAJO\\nPARTIDO SOCIAL CRI...  \n",
       "6   PAGINA 5\n",
       "1. INTRODUCCIÓN\\nCoincidir con un gru...  \n",
       "7   PAGINA 2\\nPROPUESTA LA GRAN DEVOLUCIÓN\\n1. DIA...  \n",
       "8   PAGINA 6 \\n\n",
       "1. INTRODUCCIÓN\\nEcuador se encuen...  \n",
       "9   PAGINA 1\\n\n",
       "1.- INTRODUCCION\\nEl Movimiento AMI...  \n",
       "10  PAGINA 3 \\n\n",
       "A) Introducción\\nEl presente Plan ...  \n",
       "11  PAGINA 1\\n\\nI. DIAGNÓSTICO\\n\\nEcuador atravies...  \n",
       "12  PAGINA 3\\n\\n1. ANTECEDENTES \\nLa globalización...  \n",
       "13  PAGINA 5\\n\n",
       "1. Introducción\\nEs deber de los po...  \n",
       "14  PAGINA 7\\n\n",
       "Carta a nuestra Gente\\nQueridos com...  \n",
       "15  PAGINA 3\\nVISIÓN DE PAÍS\\nEcuador será un país...  "
      ]
     },
     "execution_count": 33,
     "metadata": {},
     "output_type": "execute_result"
    }
   ],
   "source": [
    "df_planes"
   ]
  },
  {
   "cell_type": "code",
   "execution_count": 34,
   "metadata": {},
   "outputs": [
    {
     "data": {
      "text/html": [
       "<div>\n",
       "<style scoped>\n",
       "    .dataframe tbody tr th:only-of-type {\n",
       "        vertical-align: middle;\n",
       "    }\n",
       "\n",
       "    .dataframe tbody tr th {\n",
       "        vertical-align: top;\n",
       "    }\n",
       "\n",
       "    .dataframe thead th {\n",
       "        text-align: right;\n",
       "    }\n",
       "</style>\n",
       "<table border=\"1\" class=\"dataframe\">\n",
       "  <thead>\n",
       "    <tr style=\"text-align: right;\">\n",
       "      <th></th>\n",
       "      <th>Partido</th>\n",
       "      <th>Lista</th>\n",
       "      <th>Presidente</th>\n",
       "      <th>Vicepresidente</th>\n",
       "      <th>Biografia</th>\n",
       "    </tr>\n",
       "  </thead>\n",
       "  <tbody>\n",
       "    <tr>\n",
       "      <th>0</th>\n",
       "      <td>MOVIMIENTO CENTRO DEMOCRÁTICO</td>\n",
       "      <td>1</td>\n",
       "      <td>JIMMY JAIRALA VALLAZZA</td>\n",
       "      <td>LUCIA VALLECILLA SUAREZ</td>\n",
       "      <td>Jimmy Jairala y Lucía Vallecilla – Movimiento ...</td>\n",
       "    </tr>\n",
       "    <tr>\n",
       "      <th>1</th>\n",
       "      <td>PARTIDO UNIDAD POPULAR</td>\n",
       "      <td>2</td>\n",
       "      <td>JORGE ESCALA</td>\n",
       "      <td>PACHA TERAN</td>\n",
       "      <td>Jorge Escala y Lucía Terán – Partido Unidad Po...</td>\n",
       "    </tr>\n",
       "    <tr>\n",
       "      <th>2</th>\n",
       "      <td>PARTIDO SOCIEDAD PATRIÓTICA 21 DE ENERO</td>\n",
       "      <td>3</td>\n",
       "      <td>ANDREA GONZALEZ</td>\n",
       "      <td>GALO MONCAYO</td>\n",
       "      <td>Andrea González y Galo Moncayo – Partido Socie...</td>\n",
       "    </tr>\n",
       "    <tr>\n",
       "      <th>3</th>\n",
       "      <td>MOVIMIENTO PUEBLO IGUALDAD DEMOCRACIA \"PID\"</td>\n",
       "      <td>4</td>\n",
       "      <td>VICTOR ARAUS</td>\n",
       "      <td>CRISTINA CARRERA</td>\n",
       "      <td>Víctor Araus y Cristina Carrera – Movimiento P...</td>\n",
       "    </tr>\n",
       "    <tr>\n",
       "      <th>4</th>\n",
       "      <td>REVOLUCIÓN CIUDADANA - RETO</td>\n",
       "      <td>5</td>\n",
       "      <td>LUISA GONZALEZ</td>\n",
       "      <td>DIEGO BORJA</td>\n",
       "      <td>Luisa González – Revolución Ciudadana (RC) y R...</td>\n",
       "    </tr>\n",
       "    <tr>\n",
       "      <th>5</th>\n",
       "      <td>PARTIDO SOCIAL CRISTIANO</td>\n",
       "      <td>6</td>\n",
       "      <td>HENRY KRONFLE KOZHAYA</td>\n",
       "      <td>DALLYANA PASSAILAIGUE</td>\n",
       "      <td>Henry Kronfle y Dallyana Passailaigue – Partid...</td>\n",
       "    </tr>\n",
       "    <tr>\n",
       "      <th>6</th>\n",
       "      <td>MOVIMIENTO ACCION DEMOCRATICA NACIONAL, ADN</td>\n",
       "      <td>7</td>\n",
       "      <td>DANIEL NOBOA AZIN</td>\n",
       "      <td>MARIA JOSE PINTO</td>\n",
       "      <td>Daniel Noboa – Movimiento Acción Democrática N...</td>\n",
       "    </tr>\n",
       "    <tr>\n",
       "      <th>7</th>\n",
       "      <td>PARTIDO AVANZA</td>\n",
       "      <td>8</td>\n",
       "      <td>LUIS FELIPE TILLERIA</td>\n",
       "      <td>KARLA PAULINA ROSERO</td>\n",
       "      <td>Luis Felipe Tillería y Karla Rosero – Partido ...</td>\n",
       "    </tr>\n",
       "    <tr>\n",
       "      <th>8</th>\n",
       "      <td>PARTIDO IZQUIERDA DEMOCRÁTICA</td>\n",
       "      <td>12</td>\n",
       "      <td>CARLOS RABASCALL</td>\n",
       "      <td>ALEJANDRA RIVAS MANTILLA</td>\n",
       "      <td>Carlos Rabascall y María Rivas – Partido Izqui...</td>\n",
       "    </tr>\n",
       "    <tr>\n",
       "      <th>9</th>\n",
       "      <td>MOVIMIENTO AMIGO, ACCIÓN MOVILIZADORA INDEPEND...</td>\n",
       "      <td>16</td>\n",
       "      <td>JUAN IVAN CUEVA</td>\n",
       "      <td>CRISTINA REYES</td>\n",
       "      <td>Juan Cueva y Cristina Reyes – Movimiento Amigo...</td>\n",
       "    </tr>\n",
       "    <tr>\n",
       "      <th>10</th>\n",
       "      <td>PARTIDO SOCIALISTA ECUATORIANO</td>\n",
       "      <td>17</td>\n",
       "      <td>PEDRO GRANJA</td>\n",
       "      <td>VERONICA SILVA</td>\n",
       "      <td>Pedro Granja y Verónica Silva – Partido Social...</td>\n",
       "    </tr>\n",
       "    <tr>\n",
       "      <th>11</th>\n",
       "      <td>MOVIMIENTO DE UNIDAD PLURINACIONAL PACHAKUTIK</td>\n",
       "      <td>18</td>\n",
       "      <td>LEONIDAS IZA</td>\n",
       "      <td>KATIUSKA MOLINA</td>\n",
       "      <td>Leonidas Iza y Katiuska Molina – Movimiento Pa...</td>\n",
       "    </tr>\n",
       "    <tr>\n",
       "      <th>12</th>\n",
       "      <td>MOVIMIENTO DEMOCRACIA SÍ</td>\n",
       "      <td>20</td>\n",
       "      <td>IVAN SAQUICELA</td>\n",
       "      <td>MARIA LUISA COELLO</td>\n",
       "      <td>Iván Saquicela y María Luisa Coello – Movimien...</td>\n",
       "    </tr>\n",
       "    <tr>\n",
       "      <th>13</th>\n",
       "      <td>MOVIMIENTO CREO, CREANDO OPORTUNIDADES</td>\n",
       "      <td>21</td>\n",
       "      <td>FRANCESCO TABACCHI</td>\n",
       "      <td>BLANCA SACANCELA</td>\n",
       "      <td>Francesco Tabacchi y Blanca Sacancela – Candid...</td>\n",
       "    </tr>\n",
       "    <tr>\n",
       "      <th>14</th>\n",
       "      <td>PARTIDO SOCIEDAD UNIDA MÁS ACCIÓN, SUMA</td>\n",
       "      <td>23</td>\n",
       "      <td>ENRIQUE GOMEZ</td>\n",
       "      <td>INES DIAZ</td>\n",
       "      <td>Wilson Gómez e Inés Díaz – Partido SUMA\\nWilso...</td>\n",
       "    </tr>\n",
       "    <tr>\n",
       "      <th>15</th>\n",
       "      <td>MOVIMIENTO CONSTRUYE</td>\n",
       "      <td>25</td>\n",
       "      <td>HENRY CUCALON</td>\n",
       "      <td>CARLA LARREA</td>\n",
       "      <td>Henry Cucalón y Carla Larrea – Movimiento Cons...</td>\n",
       "    </tr>\n",
       "  </tbody>\n",
       "</table>\n",
       "</div>"
      ],
      "text/plain": [
       "                                              Partido  Lista  \\\n",
       "0                       MOVIMIENTO CENTRO DEMOCRÁTICO      1   \n",
       "1                              PARTIDO UNIDAD POPULAR      2   \n",
       "2             PARTIDO SOCIEDAD PATRIÓTICA 21 DE ENERO      3   \n",
       "3         MOVIMIENTO PUEBLO IGUALDAD DEMOCRACIA \"PID\"      4   \n",
       "4                         REVOLUCIÓN CIUDADANA - RETO      5   \n",
       "5                            PARTIDO SOCIAL CRISTIANO      6   \n",
       "6         MOVIMIENTO ACCION DEMOCRATICA NACIONAL, ADN      7   \n",
       "7                                      PARTIDO AVANZA      8   \n",
       "8                       PARTIDO IZQUIERDA DEMOCRÁTICA     12   \n",
       "9   MOVIMIENTO AMIGO, ACCIÓN MOVILIZADORA INDEPEND...     16   \n",
       "10                     PARTIDO SOCIALISTA ECUATORIANO     17   \n",
       "11      MOVIMIENTO DE UNIDAD PLURINACIONAL PACHAKUTIK     18   \n",
       "12                           MOVIMIENTO DEMOCRACIA SÍ     20   \n",
       "13             MOVIMIENTO CREO, CREANDO OPORTUNIDADES     21   \n",
       "14            PARTIDO SOCIEDAD UNIDA MÁS ACCIÓN, SUMA     23   \n",
       "15                               MOVIMIENTO CONSTRUYE     25   \n",
       "\n",
       "                Presidente            Vicepresidente  \\\n",
       "0   JIMMY JAIRALA VALLAZZA   LUCIA VALLECILLA SUAREZ   \n",
       "1             JORGE ESCALA               PACHA TERAN   \n",
       "2          ANDREA GONZALEZ              GALO MONCAYO   \n",
       "3             VICTOR ARAUS          CRISTINA CARRERA   \n",
       "4           LUISA GONZALEZ               DIEGO BORJA   \n",
       "5    HENRY KRONFLE KOZHAYA     DALLYANA PASSAILAIGUE   \n",
       "6        DANIEL NOBOA AZIN          MARIA JOSE PINTO   \n",
       "7     LUIS FELIPE TILLERIA      KARLA PAULINA ROSERO   \n",
       "8         CARLOS RABASCALL  ALEJANDRA RIVAS MANTILLA   \n",
       "9          JUAN IVAN CUEVA            CRISTINA REYES   \n",
       "10            PEDRO GRANJA            VERONICA SILVA   \n",
       "11            LEONIDAS IZA           KATIUSKA MOLINA   \n",
       "12          IVAN SAQUICELA        MARIA LUISA COELLO   \n",
       "13      FRANCESCO TABACCHI          BLANCA SACANCELA   \n",
       "14           ENRIQUE GOMEZ                 INES DIAZ   \n",
       "15           HENRY CUCALON              CARLA LARREA   \n",
       "\n",
       "                                            Biografia  \n",
       "0   Jimmy Jairala y Lucía Vallecilla – Movimiento ...  \n",
       "1   Jorge Escala y Lucía Terán – Partido Unidad Po...  \n",
       "2   Andrea González y Galo Moncayo – Partido Socie...  \n",
       "3   Víctor Araus y Cristina Carrera – Movimiento P...  \n",
       "4   Luisa González – Revolución Ciudadana (RC) y R...  \n",
       "5   Henry Kronfle y Dallyana Passailaigue – Partid...  \n",
       "6   Daniel Noboa – Movimiento Acción Democrática N...  \n",
       "7   Luis Felipe Tillería y Karla Rosero – Partido ...  \n",
       "8   Carlos Rabascall y María Rivas – Partido Izqui...  \n",
       "9   Juan Cueva y Cristina Reyes – Movimiento Amigo...  \n",
       "10  Pedro Granja y Verónica Silva – Partido Social...  \n",
       "11  Leonidas Iza y Katiuska Molina – Movimiento Pa...  \n",
       "12  Iván Saquicela y María Luisa Coello – Movimien...  \n",
       "13  Francesco Tabacchi y Blanca Sacancela – Candid...  \n",
       "14  Wilson Gómez e Inés Díaz – Partido SUMA\\nWilso...  \n",
       "15  Henry Cucalón y Carla Larrea – Movimiento Cons...  "
      ]
     },
     "execution_count": 34,
     "metadata": {},
     "output_type": "execute_result"
    }
   ],
   "source": [
    "df_biografias"
   ]
  },
  {
   "cell_type": "markdown",
   "metadata": {},
   "source": [
    "DATAFRAME CON ENTREVISTAS:"
   ]
  },
  {
   "cell_type": "code",
   "execution_count": 49,
   "metadata": {},
   "outputs": [],
   "source": [
    "import os\n",
    "import pandas as pd\n",
    "\n",
    "# Leer el CSV original\n",
    "df_entrevistas = pd.read_csv('binomios_presidenciales.csv')\n",
    "\n",
    "# Directorios donde están los archivos\n",
    "directorio_entrevistas = \"entrevistas/\"\n",
    "directorio_descripciones = \"descripciones/\"\n",
    "directorio_temas = \"temas/\"\n"
   ]
  },
  {
   "cell_type": "code",
   "execution_count": 50,
   "metadata": {},
   "outputs": [],
   "source": [
    "# Crear diccionarios para almacenar los textos\n",
    "entrevistas = {}\n",
    "descripciones = {}\n",
    "temas = {}"
   ]
  },
  {
   "cell_type": "code",
   "execution_count": 52,
   "metadata": {},
   "outputs": [
    {
     "name": "stdout",
     "output_type": "stream",
     "text": [
      "Leyendo entrevistas...\n",
      "Leyendo descripciones...\n",
      "Leyendo temas...\n"
     ]
    }
   ],
   "source": [
    "# Leer los archivos de entrevistas\n",
    "print(\"Leyendo entrevistas...\")\n",
    "for archivo in os.listdir(directorio_entrevistas):\n",
    "    if archivo.startswith(\"entrevista_lista_\") and archivo.endswith(\".txt\"):\n",
    "        try:\n",
    "            num_lista = int(archivo.replace(\"entrevista_lista_\", \"\").replace(\".txt\", \"\").strip())\n",
    "            with open(os.path.join(directorio_entrevistas, archivo), \"r\", encoding=\"utf-8\") as f:\n",
    "                contenido = f.read()\n",
    "                entrevistas[num_lista] = contenido\n",
    "        except Exception as e:\n",
    "            print(f\"Error con archivo de entrevista {archivo}: {e}\")\n",
    "\n",
    "# Leer los archivos de descripciones\n",
    "print(\"Leyendo descripciones...\")\n",
    "for archivo in os.listdir(directorio_descripciones):\n",
    "    if archivo.startswith(\"descripcion_entrevista_lista_\") and archivo.endswith(\".txt\"):\n",
    "        try:\n",
    "            num_lista = int(archivo.replace(\"descripcion_entrevista_lista_\", \"\").replace(\".txt\", \"\").strip())\n",
    "            with open(os.path.join(directorio_descripciones, archivo), \"r\", encoding=\"utf-8\") as f:\n",
    "                contenido = f.read()\n",
    "                descripciones[num_lista] = contenido\n",
    "        except Exception as e:\n",
    "            print(f\"Error con archivo de descripción {archivo}: {e}\")\n",
    "\n",
    "# Leer los archivos de temas\n",
    "print(\"Leyendo temas...\")\n",
    "for archivo in os.listdir(directorio_temas):\n",
    "    if archivo.startswith(\"temas_entrevista_lista_\") and archivo.endswith(\".txt\"):\n",
    "        try:\n",
    "            num_lista = int(archivo.replace(\"temas_entrevista_lista_\", \"\").replace(\".txt\", \"\").strip())\n",
    "            with open(os.path.join(directorio_temas, archivo), \"r\", encoding=\"utf-8\") as f:\n",
    "                contenido = f.read()\n",
    "                temas[num_lista] = contenido\n",
    "        except Exception as e:\n",
    "            print(f\"Error con archivo de temas {archivo}: {e}\")\n"
   ]
  },
  {
   "cell_type": "code",
   "execution_count": 53,
   "metadata": {},
   "outputs": [],
   "source": [
    "# Convertir la columna Lista a entero\n",
    "df_entrevistas[\"Lista\"] = df_entrevistas[\"Lista\"].astype(int)\n",
    "\n",
    "# Eliminar columnas que no necesitamos (si existen)\n",
    "columnas_a_mantener = ['Partido', 'Lista', 'Presidente', 'Vicepresidente']\n",
    "df_entrevistas = df_entrevistas[columnas_a_mantener].copy()"
   ]
  },
  {
   "cell_type": "code",
   "execution_count": 54,
   "metadata": {},
   "outputs": [
    {
     "name": "stdout",
     "output_type": "stream",
     "text": [
      "Guardando archivo CSV...\n",
      "Archivo guardado como dataframe_con_entrevistas.csv\n",
      "\n",
      "Resumen:\n",
      "Total de entrevistas encontradas: 16\n",
      "Total de descripciones encontradas: 16\n",
      "Total de temas encontrados: 16\n",
      "\n",
      "Listas encontradas:\n",
      "- Entrevistas: [1, 2, 3, 4, 5, 6, 7, 8, 12, 16, 17, 18, 20, 21, 23, 25]\n",
      "- Descripciones: [1, 2, 3, 4, 5, 6, 7, 8, 12, 16, 17, 18, 20, 21, 23, 25]\n",
      "- Temas: [1, 2, 3, 4, 5, 6, 7, 8, 12, 16, 17, 18, 20, 21, 23, 25]\n"
     ]
    }
   ],
   "source": [
    "# Añadir las nuevas columnas\n",
    "df_entrevistas[\"Entrevistas\"] = df_entrevistas[\"Lista\"].map(entrevistas)\n",
    "df_entrevistas[\"Descripciones\"] = df_entrevistas[\"Lista\"].map(descripciones)\n",
    "df_entrevistas[\"Temas\"] = df_entrevistas[\"Lista\"].map(temas)\n",
    "\n",
    "# Guardar el CSV\n",
    "print(\"Guardando archivo CSV...\")\n",
    "df_entrevistas.to_csv(\"dataframe_con_entrevistas.csv\", index=False, encoding='utf-8')\n",
    "print(\"Archivo guardado como dataframe_con_entrevistas.csv\")\n",
    "\n",
    "# Imprimir resumen\n",
    "print(\"\\nResumen:\")\n",
    "print(f\"Total de entrevistas encontradas: {len(entrevistas)}\")\n",
    "print(f\"Total de descripciones encontradas: {len(descripciones)}\")\n",
    "print(f\"Total de temas encontrados: {len(temas)}\")\n",
    "print(\"\\nListas encontradas:\")\n",
    "print(f\"- Entrevistas: {sorted(entrevistas.keys())}\")\n",
    "print(f\"- Descripciones: {sorted(descripciones.keys())}\")\n",
    "print(f\"- Temas: {sorted(temas.keys())}\")"
   ]
  },
  {
   "cell_type": "code",
   "execution_count": 39,
   "metadata": {},
   "outputs": [
    {
     "data": {
      "text/html": [
       "<div>\n",
       "<style scoped>\n",
       "    .dataframe tbody tr th:only-of-type {\n",
       "        vertical-align: middle;\n",
       "    }\n",
       "\n",
       "    .dataframe tbody tr th {\n",
       "        vertical-align: top;\n",
       "    }\n",
       "\n",
       "    .dataframe thead th {\n",
       "        text-align: right;\n",
       "    }\n",
       "</style>\n",
       "<table border=\"1\" class=\"dataframe\">\n",
       "  <thead>\n",
       "    <tr style=\"text-align: right;\">\n",
       "      <th></th>\n",
       "      <th>Partido</th>\n",
       "      <th>Lista</th>\n",
       "      <th>Presidente</th>\n",
       "      <th>Vicepresidente</th>\n",
       "      <th>Entrevistas</th>\n",
       "      <th>Descripciones</th>\n",
       "      <th>Temas</th>\n",
       "    </tr>\n",
       "  </thead>\n",
       "  <tbody>\n",
       "    <tr>\n",
       "      <th>0</th>\n",
       "      <td>MOVIMIENTO CENTRO DEMOCRÁTICO</td>\n",
       "      <td>1</td>\n",
       "      <td>JIMMY JAIRALA VALLAZZA</td>\n",
       "      <td>LUCIA VALLECILLA SUAREZ</td>\n",
       "      <td>ENTREVISTA 1\\n\\nEntrevista a Jimmy Jairala – E...</td>\n",
       "      <td>DESCRIPCION ENTREVISTA 1\\n\\nEn esta entrevista...</td>\n",
       "      <td>TEMAS ENTREVISTA 1\\n\\nTrayectoria política, Ce...</td>\n",
       "    </tr>\n",
       "    <tr>\n",
       "      <th>1</th>\n",
       "      <td>PARTIDO UNIDAD POPULAR</td>\n",
       "      <td>2</td>\n",
       "      <td>JORGE ESCALA</td>\n",
       "      <td>PACHA TERAN</td>\n",
       "      <td>ENTREVISTA 1\\n\\nEntrevista a Jorge Escala – Ec...</td>\n",
       "      <td>DESCRIPCION ENTREVISTA 1\\n\\nEn esta entrevista...</td>\n",
       "      <td>TEMAS ENTREVISTA 1\\n\\nSalario mínimo, costo de...</td>\n",
       "    </tr>\n",
       "    <tr>\n",
       "      <th>2</th>\n",
       "      <td>PARTIDO SOCIEDAD PATRIÓTICA 21 DE ENERO</td>\n",
       "      <td>3</td>\n",
       "      <td>ANDREA GONZALEZ</td>\n",
       "      <td>GALO MONCAYO</td>\n",
       "      <td>ENTREVISTA 1\\n\\nEntrevista a Andrea González N...</td>\n",
       "      <td>DESCRIPCION ENTREVISTA 1\\n\\nEn esta entrevista...</td>\n",
       "      <td>TEMAS ENTREVISTA 1\\n\\nUso del petróleo para de...</td>\n",
       "    </tr>\n",
       "    <tr>\n",
       "      <th>3</th>\n",
       "      <td>MOVIMIENTO PUEBLO IGUALDAD DEMOCRACIA \"PID\"</td>\n",
       "      <td>4</td>\n",
       "      <td>VICTOR ARAUS</td>\n",
       "      <td>CRISTINA CARRERA</td>\n",
       "      <td>ENTREVISTA 1\\n\\nEntrevista a Victor Arauz - Te...</td>\n",
       "      <td>DESCRIPCION ENTREVISTA 1\\n\\nEn esta entrevista...</td>\n",
       "      <td>TEMAS ENTREVISTA 1\\n\\nConspiración en su contr...</td>\n",
       "    </tr>\n",
       "    <tr>\n",
       "      <th>4</th>\n",
       "      <td>REVOLUCIÓN CIUDADANA - RETO</td>\n",
       "      <td>5</td>\n",
       "      <td>LUISA GONZALEZ</td>\n",
       "      <td>DIEGO BORJA</td>\n",
       "      <td>ENTREVISTA 1\\n\\nEntrevista a Luisa González - ...</td>\n",
       "      <td>DESCRIPCION ENTREVISTA 1\\n\\nEn esta entrevista...</td>\n",
       "      <td>TEMAS ENTREVISTA 1\\n\\nSeguridad y plan Protege...</td>\n",
       "    </tr>\n",
       "    <tr>\n",
       "      <th>5</th>\n",
       "      <td>PARTIDO SOCIAL CRISTIANO</td>\n",
       "      <td>6</td>\n",
       "      <td>HENRY KRONFLE KOZHAYA</td>\n",
       "      <td>DALLYANA PASSAILAIGUE</td>\n",
       "      <td>ENTREVISTA 1\\n\\nEntrevista a Henry Kronfle – E...</td>\n",
       "      <td>DESCRIPCION ENTREVISTA 1\\n\\nEn esta entrevista...</td>\n",
       "      <td>TEMAS ENTREVISTA 1\\n\\nReducción del IVA, contr...</td>\n",
       "    </tr>\n",
       "    <tr>\n",
       "      <th>6</th>\n",
       "      <td>MOVIMIENTO ACCION DEMOCRATICA NACIONAL, ADN</td>\n",
       "      <td>7</td>\n",
       "      <td>DANIEL NOBOA AZIN</td>\n",
       "      <td>MARIA JOSE PINTO</td>\n",
       "      <td>ENTREVISTA 1\\n\\nEntrevista a Daniel Noboa\\n\\nL...</td>\n",
       "      <td>DESCRIPCION ENTREVISTA 1\\n\\nEn esta entrevista...</td>\n",
       "      <td>TEMAS ENTREVISTA 1\\n\\nSeguridad y lucha contra...</td>\n",
       "    </tr>\n",
       "    <tr>\n",
       "      <th>7</th>\n",
       "      <td>PARTIDO AVANZA</td>\n",
       "      <td>8</td>\n",
       "      <td>LUIS FELIPE TILLERIA</td>\n",
       "      <td>KARLA PAULINA ROSERO</td>\n",
       "      <td>ENTREVISTA 1\\n\\nEntrevista a Luis Felipe Tille...</td>\n",
       "      <td>DESCRIPCION ENTREVISTA 1\\n\\nEn esta entrevista...</td>\n",
       "      <td>TEMAS ENTREVISTA 1\\n\\nHistorial y cuestionamie...</td>\n",
       "    </tr>\n",
       "    <tr>\n",
       "      <th>8</th>\n",
       "      <td>PARTIDO IZQUIERDA DEMOCRÁTICA</td>\n",
       "      <td>12</td>\n",
       "      <td>CARLOS RABASCALL</td>\n",
       "      <td>ALEJANDRA RIVAS MANTILLA</td>\n",
       "      <td>ENTREVISTA 1\\n\\nEntrevista a Carlos Rabascall ...</td>\n",
       "      <td>DESCRIPCION ENTREVISTA 1\\n\\nEn esta entrevista...</td>\n",
       "      <td>TEMAS ENTREVISTA 1\\n\\nResiliencia y actitud en...</td>\n",
       "    </tr>\n",
       "    <tr>\n",
       "      <th>9</th>\n",
       "      <td>MOVIMIENTO AMIGO, ACCIÓN MOVILIZADORA INDEPEND...</td>\n",
       "      <td>16</td>\n",
       "      <td>JUAN IVAN CUEVA</td>\n",
       "      <td>CRISTINA REYES</td>\n",
       "      <td>ENTREVISTA 1\\n\\nEntrevista a Juan Iván Cueva –...</td>\n",
       "      <td>DESCRIPCION ENTREVISTA 1\\n\\nEn esta entrevista...</td>\n",
       "      <td>TEMAS ENTREVISTA 1\\n\\nMotivación para ser cand...</td>\n",
       "    </tr>\n",
       "    <tr>\n",
       "      <th>10</th>\n",
       "      <td>PARTIDO SOCIALISTA ECUATORIANO</td>\n",
       "      <td>17</td>\n",
       "      <td>PEDRO GRANJA</td>\n",
       "      <td>VERONICA SILVA</td>\n",
       "      <td>ENTREVISTA 1\\n\\nEntrevista a Pedro Granja - Ec...</td>\n",
       "      <td>DESCRIPCION ENTREVISTA 1\\n\\nEn esta entrevista...</td>\n",
       "      <td>TEMAS ENTREVISTA 1\\n\\nReforma al sistema de ju...</td>\n",
       "    </tr>\n",
       "    <tr>\n",
       "      <th>11</th>\n",
       "      <td>MOVIMIENTO DE UNIDAD PLURINACIONAL PACHAKUTIK</td>\n",
       "      <td>18</td>\n",
       "      <td>LEONIDAS IZA</td>\n",
       "      <td>KATIUSKA MOLINA</td>\n",
       "      <td>ENTREVISTA 1\\n\\nEntrevista a Leonidas Iza – Ec...</td>\n",
       "      <td>DESCRIPCION ENTREVISTA 1\\n\\nEn esta entrevista...</td>\n",
       "      <td>TEMAS ENTREVISTA 1\\n\\nCambio profundo en Ecuad...</td>\n",
       "    </tr>\n",
       "    <tr>\n",
       "      <th>12</th>\n",
       "      <td>MOVIMIENTO DEMOCRACIA SÍ</td>\n",
       "      <td>20</td>\n",
       "      <td>IVAN SAQUICELA</td>\n",
       "      <td>MARIA LUISA COELLO</td>\n",
       "      <td>ENTREVISTA 1\\n\\nEntrevista a Iván Saquicela – ...</td>\n",
       "      <td>DESCRIPCION ENTREVISTA 1\\n\\nEn esta entrevista...</td>\n",
       "      <td>TEMAS ENTREVISTA 1\\n\\nSeguridad y lucha contra...</td>\n",
       "    </tr>\n",
       "    <tr>\n",
       "      <th>13</th>\n",
       "      <td>MOVIMIENTO CREO, CREANDO OPORTUNIDADES</td>\n",
       "      <td>21</td>\n",
       "      <td>FRANCESCO TABACCHI</td>\n",
       "      <td>BLANCA SACANCELA</td>\n",
       "      <td>ENTREVISTA 1\\n\\nEntrevista a Francesco Tabacch...</td>\n",
       "      <td>DESCRIPCION ENTREVISTA 1\\n\\nEn esta entrevista...</td>\n",
       "      <td>TEMAS ENTREVISTA 1\\n\\nInversión privada en pet...</td>\n",
       "    </tr>\n",
       "    <tr>\n",
       "      <th>14</th>\n",
       "      <td>PARTIDO SOCIEDAD UNIDA MÁS ACCIÓN, SUMA</td>\n",
       "      <td>23</td>\n",
       "      <td>ENRIQUE GOMEZ</td>\n",
       "      <td>INES DIAZ</td>\n",
       "      <td>ENTREVISTA 1\\n\\nEntrevista a Enrique Gómez – C...</td>\n",
       "      <td>DESCRIPCION ENTREVISTA 1\\n\\nEnrique Gómez, can...</td>\n",
       "      <td>TEMAS ENTREVISTA 1\\n\\nTrayectoria en el sector...</td>\n",
       "    </tr>\n",
       "    <tr>\n",
       "      <th>15</th>\n",
       "      <td>MOVIMIENTO CONSTRUYE</td>\n",
       "      <td>25</td>\n",
       "      <td>HENRY CUCALON</td>\n",
       "      <td>CARLA LARREA</td>\n",
       "      <td>ENTREVISTA 1\\n\\nEntrevista a Henry Cucalón – E...</td>\n",
       "      <td>DESCRIPCION ENTREVISTA 1\\n\\nHenry Cucalón, can...</td>\n",
       "      <td>TEMAS ENTREVISTA 1\\n\\nEstado eficiente y peque...</td>\n",
       "    </tr>\n",
       "  </tbody>\n",
       "</table>\n",
       "</div>"
      ],
      "text/plain": [
       "                                              Partido  Lista  \\\n",
       "0                       MOVIMIENTO CENTRO DEMOCRÁTICO      1   \n",
       "1                              PARTIDO UNIDAD POPULAR      2   \n",
       "2             PARTIDO SOCIEDAD PATRIÓTICA 21 DE ENERO      3   \n",
       "3         MOVIMIENTO PUEBLO IGUALDAD DEMOCRACIA \"PID\"      4   \n",
       "4                         REVOLUCIÓN CIUDADANA - RETO      5   \n",
       "5                            PARTIDO SOCIAL CRISTIANO      6   \n",
       "6         MOVIMIENTO ACCION DEMOCRATICA NACIONAL, ADN      7   \n",
       "7                                      PARTIDO AVANZA      8   \n",
       "8                       PARTIDO IZQUIERDA DEMOCRÁTICA     12   \n",
       "9   MOVIMIENTO AMIGO, ACCIÓN MOVILIZADORA INDEPEND...     16   \n",
       "10                     PARTIDO SOCIALISTA ECUATORIANO     17   \n",
       "11      MOVIMIENTO DE UNIDAD PLURINACIONAL PACHAKUTIK     18   \n",
       "12                           MOVIMIENTO DEMOCRACIA SÍ     20   \n",
       "13             MOVIMIENTO CREO, CREANDO OPORTUNIDADES     21   \n",
       "14            PARTIDO SOCIEDAD UNIDA MÁS ACCIÓN, SUMA     23   \n",
       "15                               MOVIMIENTO CONSTRUYE     25   \n",
       "\n",
       "                Presidente            Vicepresidente  \\\n",
       "0   JIMMY JAIRALA VALLAZZA   LUCIA VALLECILLA SUAREZ   \n",
       "1             JORGE ESCALA               PACHA TERAN   \n",
       "2          ANDREA GONZALEZ              GALO MONCAYO   \n",
       "3             VICTOR ARAUS          CRISTINA CARRERA   \n",
       "4           LUISA GONZALEZ               DIEGO BORJA   \n",
       "5    HENRY KRONFLE KOZHAYA     DALLYANA PASSAILAIGUE   \n",
       "6        DANIEL NOBOA AZIN          MARIA JOSE PINTO   \n",
       "7     LUIS FELIPE TILLERIA      KARLA PAULINA ROSERO   \n",
       "8         CARLOS RABASCALL  ALEJANDRA RIVAS MANTILLA   \n",
       "9          JUAN IVAN CUEVA            CRISTINA REYES   \n",
       "10            PEDRO GRANJA            VERONICA SILVA   \n",
       "11            LEONIDAS IZA           KATIUSKA MOLINA   \n",
       "12          IVAN SAQUICELA        MARIA LUISA COELLO   \n",
       "13      FRANCESCO TABACCHI          BLANCA SACANCELA   \n",
       "14           ENRIQUE GOMEZ                 INES DIAZ   \n",
       "15           HENRY CUCALON              CARLA LARREA   \n",
       "\n",
       "                                          Entrevistas  \\\n",
       "0   ENTREVISTA 1\\n\\nEntrevista a Jimmy Jairala – E...   \n",
       "1   ENTREVISTA 1\\n\\nEntrevista a Jorge Escala – Ec...   \n",
       "2   ENTREVISTA 1\\n\\nEntrevista a Andrea González N...   \n",
       "3   ENTREVISTA 1\\n\\nEntrevista a Victor Arauz - Te...   \n",
       "4   ENTREVISTA 1\\n\\nEntrevista a Luisa González - ...   \n",
       "5   ENTREVISTA 1\\n\\nEntrevista a Henry Kronfle – E...   \n",
       "6   ENTREVISTA 1\\n\\nEntrevista a Daniel Noboa\\n\\nL...   \n",
       "7   ENTREVISTA 1\\n\\nEntrevista a Luis Felipe Tille...   \n",
       "8   ENTREVISTA 1\\n\\nEntrevista a Carlos Rabascall ...   \n",
       "9   ENTREVISTA 1\\n\\nEntrevista a Juan Iván Cueva –...   \n",
       "10  ENTREVISTA 1\\n\\nEntrevista a Pedro Granja - Ec...   \n",
       "11  ENTREVISTA 1\\n\\nEntrevista a Leonidas Iza – Ec...   \n",
       "12  ENTREVISTA 1\\n\\nEntrevista a Iván Saquicela – ...   \n",
       "13  ENTREVISTA 1\\n\\nEntrevista a Francesco Tabacch...   \n",
       "14  ENTREVISTA 1\\n\\nEntrevista a Enrique Gómez – C...   \n",
       "15  ENTREVISTA 1\\n\\nEntrevista a Henry Cucalón – E...   \n",
       "\n",
       "                                        Descripciones  \\\n",
       "0   DESCRIPCION ENTREVISTA 1\\n\\nEn esta entrevista...   \n",
       "1   DESCRIPCION ENTREVISTA 1\\n\\nEn esta entrevista...   \n",
       "2   DESCRIPCION ENTREVISTA 1\\n\\nEn esta entrevista...   \n",
       "3   DESCRIPCION ENTREVISTA 1\\n\\nEn esta entrevista...   \n",
       "4   DESCRIPCION ENTREVISTA 1\\n\\nEn esta entrevista...   \n",
       "5   DESCRIPCION ENTREVISTA 1\\n\\nEn esta entrevista...   \n",
       "6   DESCRIPCION ENTREVISTA 1\\n\\nEn esta entrevista...   \n",
       "7   DESCRIPCION ENTREVISTA 1\\n\\nEn esta entrevista...   \n",
       "8   DESCRIPCION ENTREVISTA 1\\n\\nEn esta entrevista...   \n",
       "9   DESCRIPCION ENTREVISTA 1\\n\\nEn esta entrevista...   \n",
       "10  DESCRIPCION ENTREVISTA 1\\n\\nEn esta entrevista...   \n",
       "11  DESCRIPCION ENTREVISTA 1\\n\\nEn esta entrevista...   \n",
       "12  DESCRIPCION ENTREVISTA 1\\n\\nEn esta entrevista...   \n",
       "13  DESCRIPCION ENTREVISTA 1\\n\\nEn esta entrevista...   \n",
       "14  DESCRIPCION ENTREVISTA 1\\n\\nEnrique Gómez, can...   \n",
       "15  DESCRIPCION ENTREVISTA 1\\n\\nHenry Cucalón, can...   \n",
       "\n",
       "                                                Temas  \n",
       "0   TEMAS ENTREVISTA 1\\n\\nTrayectoria política, Ce...  \n",
       "1   TEMAS ENTREVISTA 1\\n\\nSalario mínimo, costo de...  \n",
       "2   TEMAS ENTREVISTA 1\\n\\nUso del petróleo para de...  \n",
       "3   TEMAS ENTREVISTA 1\\n\\nConspiración en su contr...  \n",
       "4   TEMAS ENTREVISTA 1\\n\\nSeguridad y plan Protege...  \n",
       "5   TEMAS ENTREVISTA 1\\n\\nReducción del IVA, contr...  \n",
       "6   TEMAS ENTREVISTA 1\\n\\nSeguridad y lucha contra...  \n",
       "7   TEMAS ENTREVISTA 1\\n\\nHistorial y cuestionamie...  \n",
       "8   TEMAS ENTREVISTA 1\\n\\nResiliencia y actitud en...  \n",
       "9   TEMAS ENTREVISTA 1\\n\\nMotivación para ser cand...  \n",
       "10  TEMAS ENTREVISTA 1\\n\\nReforma al sistema de ju...  \n",
       "11  TEMAS ENTREVISTA 1\\n\\nCambio profundo en Ecuad...  \n",
       "12  TEMAS ENTREVISTA 1\\n\\nSeguridad y lucha contra...  \n",
       "13  TEMAS ENTREVISTA 1\\n\\nInversión privada en pet...  \n",
       "14  TEMAS ENTREVISTA 1\\n\\nTrayectoria en el sector...  \n",
       "15  TEMAS ENTREVISTA 1\\n\\nEstado eficiente y peque...  "
      ]
     },
     "execution_count": 39,
     "metadata": {},
     "output_type": "execute_result"
    }
   ],
   "source": [
    "df_entrevistas"
   ]
  },
  {
   "cell_type": "code",
   "execution_count": 57,
   "metadata": {},
   "outputs": [
    {
     "data": {
      "text/html": [
       "<div>\n",
       "<style scoped>\n",
       "    .dataframe tbody tr th:only-of-type {\n",
       "        vertical-align: middle;\n",
       "    }\n",
       "\n",
       "    .dataframe tbody tr th {\n",
       "        vertical-align: top;\n",
       "    }\n",
       "\n",
       "    .dataframe thead th {\n",
       "        text-align: right;\n",
       "    }\n",
       "</style>\n",
       "<table border=\"1\" class=\"dataframe\">\n",
       "  <thead>\n",
       "    <tr style=\"text-align: right;\">\n",
       "      <th></th>\n",
       "      <th>Partido</th>\n",
       "      <th>Lista</th>\n",
       "      <th>Presidente</th>\n",
       "      <th>Vicepresidente</th>\n",
       "      <th>Biografia</th>\n",
       "    </tr>\n",
       "  </thead>\n",
       "  <tbody>\n",
       "    <tr>\n",
       "      <th>0</th>\n",
       "      <td>MOVIMIENTO CENTRO DEMOCRÁTICO</td>\n",
       "      <td>1</td>\n",
       "      <td>JIMMY JAIRALA VALLAZZA</td>\n",
       "      <td>LUCIA VALLECILLA SUAREZ</td>\n",
       "      <td>Jimmy Jairala y Lucía Vallecilla – Movimiento ...</td>\n",
       "    </tr>\n",
       "    <tr>\n",
       "      <th>1</th>\n",
       "      <td>PARTIDO UNIDAD POPULAR</td>\n",
       "      <td>2</td>\n",
       "      <td>JORGE ESCALA</td>\n",
       "      <td>PACHA TERAN</td>\n",
       "      <td>Jorge Escala y Lucía Terán – Partido Unidad Po...</td>\n",
       "    </tr>\n",
       "    <tr>\n",
       "      <th>2</th>\n",
       "      <td>PARTIDO SOCIEDAD PATRIÓTICA 21 DE ENERO</td>\n",
       "      <td>3</td>\n",
       "      <td>ANDREA GONZALEZ</td>\n",
       "      <td>GALO MONCAYO</td>\n",
       "      <td>Andrea González y Galo Moncayo – Partido Socie...</td>\n",
       "    </tr>\n",
       "    <tr>\n",
       "      <th>3</th>\n",
       "      <td>MOVIMIENTO PUEBLO IGUALDAD DEMOCRACIA \"PID\"</td>\n",
       "      <td>4</td>\n",
       "      <td>VICTOR ARAUS</td>\n",
       "      <td>CRISTINA CARRERA</td>\n",
       "      <td>Víctor Araus y Cristina Carrera – Movimiento P...</td>\n",
       "    </tr>\n",
       "    <tr>\n",
       "      <th>4</th>\n",
       "      <td>REVOLUCIÓN CIUDADANA - RETO</td>\n",
       "      <td>5</td>\n",
       "      <td>LUISA GONZALEZ</td>\n",
       "      <td>DIEGO BORJA</td>\n",
       "      <td>Luisa González – Revolución Ciudadana (RC) y R...</td>\n",
       "    </tr>\n",
       "    <tr>\n",
       "      <th>5</th>\n",
       "      <td>PARTIDO SOCIAL CRISTIANO</td>\n",
       "      <td>6</td>\n",
       "      <td>HENRY KRONFLE KOZHAYA</td>\n",
       "      <td>DALLYANA PASSAILAIGUE</td>\n",
       "      <td>Henry Kronfle y Dallyana Passailaigue – Partid...</td>\n",
       "    </tr>\n",
       "    <tr>\n",
       "      <th>6</th>\n",
       "      <td>MOVIMIENTO ACCION DEMOCRATICA NACIONAL, ADN</td>\n",
       "      <td>7</td>\n",
       "      <td>DANIEL NOBOA AZIN</td>\n",
       "      <td>MARIA JOSE PINTO</td>\n",
       "      <td>Daniel Noboa – Movimiento Acción Democrática N...</td>\n",
       "    </tr>\n",
       "    <tr>\n",
       "      <th>7</th>\n",
       "      <td>PARTIDO AVANZA</td>\n",
       "      <td>8</td>\n",
       "      <td>LUIS FELIPE TILLERIA</td>\n",
       "      <td>KARLA PAULINA ROSERO</td>\n",
       "      <td>Luis Felipe Tillería y Karla Rosero – Partido ...</td>\n",
       "    </tr>\n",
       "    <tr>\n",
       "      <th>8</th>\n",
       "      <td>PARTIDO IZQUIERDA DEMOCRÁTICA</td>\n",
       "      <td>12</td>\n",
       "      <td>CARLOS RABASCALL</td>\n",
       "      <td>ALEJANDRA RIVAS MANTILLA</td>\n",
       "      <td>Carlos Rabascall y María Rivas – Partido Izqui...</td>\n",
       "    </tr>\n",
       "    <tr>\n",
       "      <th>9</th>\n",
       "      <td>MOVIMIENTO AMIGO, ACCIÓN MOVILIZADORA INDEPEND...</td>\n",
       "      <td>16</td>\n",
       "      <td>JUAN IVAN CUEVA</td>\n",
       "      <td>CRISTINA REYES</td>\n",
       "      <td>Juan Cueva y Cristina Reyes – Movimiento Amigo...</td>\n",
       "    </tr>\n",
       "    <tr>\n",
       "      <th>10</th>\n",
       "      <td>PARTIDO SOCIALISTA ECUATORIANO</td>\n",
       "      <td>17</td>\n",
       "      <td>PEDRO GRANJA</td>\n",
       "      <td>VERONICA SILVA</td>\n",
       "      <td>Pedro Granja y Verónica Silva – Partido Social...</td>\n",
       "    </tr>\n",
       "    <tr>\n",
       "      <th>11</th>\n",
       "      <td>MOVIMIENTO DE UNIDAD PLURINACIONAL PACHAKUTIK</td>\n",
       "      <td>18</td>\n",
       "      <td>LEONIDAS IZA</td>\n",
       "      <td>KATIUSKA MOLINA</td>\n",
       "      <td>Leonidas Iza y Katiuska Molina – Movimiento Pa...</td>\n",
       "    </tr>\n",
       "    <tr>\n",
       "      <th>12</th>\n",
       "      <td>MOVIMIENTO DEMOCRACIA SÍ</td>\n",
       "      <td>20</td>\n",
       "      <td>IVAN SAQUICELA</td>\n",
       "      <td>MARIA LUISA COELLO</td>\n",
       "      <td>Iván Saquicela y María Luisa Coello – Movimien...</td>\n",
       "    </tr>\n",
       "    <tr>\n",
       "      <th>13</th>\n",
       "      <td>MOVIMIENTO CREO, CREANDO OPORTUNIDADES</td>\n",
       "      <td>21</td>\n",
       "      <td>FRANCESCO TABACCHI</td>\n",
       "      <td>BLANCA SACANCELA</td>\n",
       "      <td>Francesco Tabacchi y Blanca Sacancela – Candid...</td>\n",
       "    </tr>\n",
       "    <tr>\n",
       "      <th>14</th>\n",
       "      <td>PARTIDO SOCIEDAD UNIDA MÁS ACCIÓN, SUMA</td>\n",
       "      <td>23</td>\n",
       "      <td>ENRIQUE GOMEZ</td>\n",
       "      <td>INES DIAZ</td>\n",
       "      <td>Wilson Gómez e Inés Díaz – Partido SUMA\\nWilso...</td>\n",
       "    </tr>\n",
       "    <tr>\n",
       "      <th>15</th>\n",
       "      <td>MOVIMIENTO CONSTRUYE</td>\n",
       "      <td>25</td>\n",
       "      <td>HENRY CUCALON</td>\n",
       "      <td>CARLA LARREA</td>\n",
       "      <td>Henry Cucalón y Carla Larrea – Movimiento Cons...</td>\n",
       "    </tr>\n",
       "  </tbody>\n",
       "</table>\n",
       "</div>"
      ],
      "text/plain": [
       "                                              Partido  Lista  \\\n",
       "0                       MOVIMIENTO CENTRO DEMOCRÁTICO      1   \n",
       "1                              PARTIDO UNIDAD POPULAR      2   \n",
       "2             PARTIDO SOCIEDAD PATRIÓTICA 21 DE ENERO      3   \n",
       "3         MOVIMIENTO PUEBLO IGUALDAD DEMOCRACIA \"PID\"      4   \n",
       "4                         REVOLUCIÓN CIUDADANA - RETO      5   \n",
       "5                            PARTIDO SOCIAL CRISTIANO      6   \n",
       "6         MOVIMIENTO ACCION DEMOCRATICA NACIONAL, ADN      7   \n",
       "7                                      PARTIDO AVANZA      8   \n",
       "8                       PARTIDO IZQUIERDA DEMOCRÁTICA     12   \n",
       "9   MOVIMIENTO AMIGO, ACCIÓN MOVILIZADORA INDEPEND...     16   \n",
       "10                     PARTIDO SOCIALISTA ECUATORIANO     17   \n",
       "11      MOVIMIENTO DE UNIDAD PLURINACIONAL PACHAKUTIK     18   \n",
       "12                           MOVIMIENTO DEMOCRACIA SÍ     20   \n",
       "13             MOVIMIENTO CREO, CREANDO OPORTUNIDADES     21   \n",
       "14            PARTIDO SOCIEDAD UNIDA MÁS ACCIÓN, SUMA     23   \n",
       "15                               MOVIMIENTO CONSTRUYE     25   \n",
       "\n",
       "                Presidente            Vicepresidente  \\\n",
       "0   JIMMY JAIRALA VALLAZZA   LUCIA VALLECILLA SUAREZ   \n",
       "1             JORGE ESCALA               PACHA TERAN   \n",
       "2          ANDREA GONZALEZ              GALO MONCAYO   \n",
       "3             VICTOR ARAUS          CRISTINA CARRERA   \n",
       "4           LUISA GONZALEZ               DIEGO BORJA   \n",
       "5    HENRY KRONFLE KOZHAYA     DALLYANA PASSAILAIGUE   \n",
       "6        DANIEL NOBOA AZIN          MARIA JOSE PINTO   \n",
       "7     LUIS FELIPE TILLERIA      KARLA PAULINA ROSERO   \n",
       "8         CARLOS RABASCALL  ALEJANDRA RIVAS MANTILLA   \n",
       "9          JUAN IVAN CUEVA            CRISTINA REYES   \n",
       "10            PEDRO GRANJA            VERONICA SILVA   \n",
       "11            LEONIDAS IZA           KATIUSKA MOLINA   \n",
       "12          IVAN SAQUICELA        MARIA LUISA COELLO   \n",
       "13      FRANCESCO TABACCHI          BLANCA SACANCELA   \n",
       "14           ENRIQUE GOMEZ                 INES DIAZ   \n",
       "15           HENRY CUCALON              CARLA LARREA   \n",
       "\n",
       "                                            Biografia  \n",
       "0   Jimmy Jairala y Lucía Vallecilla – Movimiento ...  \n",
       "1   Jorge Escala y Lucía Terán – Partido Unidad Po...  \n",
       "2   Andrea González y Galo Moncayo – Partido Socie...  \n",
       "3   Víctor Araus y Cristina Carrera – Movimiento P...  \n",
       "4   Luisa González – Revolución Ciudadana (RC) y R...  \n",
       "5   Henry Kronfle y Dallyana Passailaigue – Partid...  \n",
       "6   Daniel Noboa – Movimiento Acción Democrática N...  \n",
       "7   Luis Felipe Tillería y Karla Rosero – Partido ...  \n",
       "8   Carlos Rabascall y María Rivas – Partido Izqui...  \n",
       "9   Juan Cueva y Cristina Reyes – Movimiento Amigo...  \n",
       "10  Pedro Granja y Verónica Silva – Partido Social...  \n",
       "11  Leonidas Iza y Katiuska Molina – Movimiento Pa...  \n",
       "12  Iván Saquicela y María Luisa Coello – Movimien...  \n",
       "13  Francesco Tabacchi y Blanca Sacancela – Candid...  \n",
       "14  Wilson Gómez e Inés Díaz – Partido SUMA\\nWilso...  \n",
       "15  Henry Cucalón y Carla Larrea – Movimiento Cons...  "
      ]
     },
     "execution_count": 57,
     "metadata": {},
     "output_type": "execute_result"
    }
   ],
   "source": [
    "df_biografias"
   ]
  },
  {
   "cell_type": "code",
   "execution_count": 58,
   "metadata": {},
   "outputs": [
    {
     "data": {
      "text/html": [
       "<div>\n",
       "<style scoped>\n",
       "    .dataframe tbody tr th:only-of-type {\n",
       "        vertical-align: middle;\n",
       "    }\n",
       "\n",
       "    .dataframe tbody tr th {\n",
       "        vertical-align: top;\n",
       "    }\n",
       "\n",
       "    .dataframe thead th {\n",
       "        text-align: right;\n",
       "    }\n",
       "</style>\n",
       "<table border=\"1\" class=\"dataframe\">\n",
       "  <thead>\n",
       "    <tr style=\"text-align: right;\">\n",
       "      <th></th>\n",
       "      <th>Partido</th>\n",
       "      <th>Lista</th>\n",
       "      <th>Presidente</th>\n",
       "      <th>Vicepresidente</th>\n",
       "      <th>Plan_Trabajo</th>\n",
       "    </tr>\n",
       "  </thead>\n",
       "  <tbody>\n",
       "    <tr>\n",
       "      <th>0</th>\n",
       "      <td>MOVIMIENTO CENTRO DEMOCRÁTICO</td>\n",
       "      <td>1</td>\n",
       "      <td>JIMMY JAIRALA VALLAZZA</td>\n",
       "      <td>LUCIA VALLECILLA SUAREZ</td>\n",
       "      <td>PAGINA 1\\n\f",
       "1. Introducción\\nEcuador es un país...</td>\n",
       "    </tr>\n",
       "    <tr>\n",
       "      <th>1</th>\n",
       "      <td>PARTIDO UNIDAD POPULAR</td>\n",
       "      <td>2</td>\n",
       "      <td>JORGE ESCALA</td>\n",
       "      <td>PACHA TERAN</td>\n",
       "      <td>PAGINA 3\\n\\nIntroducción:\\nEl Ecuador vive una...</td>\n",
       "    </tr>\n",
       "    <tr>\n",
       "      <th>2</th>\n",
       "      <td>PARTIDO SOCIEDAD PATRIÓTICA 21 DE ENERO</td>\n",
       "      <td>3</td>\n",
       "      <td>ANDREA GONZALEZ</td>\n",
       "      <td>GALO MONCAYO</td>\n",
       "      <td>PAGINA 1\\n\\n1. DIAGNÓSTICO DE LA SITUACIÓN ACT...</td>\n",
       "    </tr>\n",
       "    <tr>\n",
       "      <th>3</th>\n",
       "      <td>MOVIMIENTO PUEBLO IGUALDAD DEMOCRACIA \"PID\"</td>\n",
       "      <td>4</td>\n",
       "      <td>VICTOR ARAUS</td>\n",
       "      <td>CRISTINA CARRERA</td>\n",
       "      <td>PAGINA 4\\n1. Introducción\\nEl presente Plan de...</td>\n",
       "    </tr>\n",
       "    <tr>\n",
       "      <th>4</th>\n",
       "      <td>REVOLUCIÓN CIUDADANA - RETO</td>\n",
       "      <td>5</td>\n",
       "      <td>LUISA GONZALEZ</td>\n",
       "      <td>DIEGO BORJA</td>\n",
       "      <td>PAGINA 7\\n\\nPrograma de Gobierno de la Revoluc...</td>\n",
       "    </tr>\n",
       "    <tr>\n",
       "      <th>5</th>\n",
       "      <td>PARTIDO SOCIAL CRISTIANO</td>\n",
       "      <td>6</td>\n",
       "      <td>HENRY KRONFLE KOZHAYA</td>\n",
       "      <td>DALLYANA PASSAILAIGUE</td>\n",
       "      <td>PAGINA 3\\n\f",
       "PLAN DE TRABAJO\\nPARTIDO SOCIAL CRI...</td>\n",
       "    </tr>\n",
       "    <tr>\n",
       "      <th>6</th>\n",
       "      <td>MOVIMIENTO ACCION DEMOCRATICA NACIONAL, ADN</td>\n",
       "      <td>7</td>\n",
       "      <td>DANIEL NOBOA AZIN</td>\n",
       "      <td>MARIA JOSE PINTO</td>\n",
       "      <td>PAGINA 5\f",
       "1. INTRODUCCIÓN\\nCoincidir con un gru...</td>\n",
       "    </tr>\n",
       "    <tr>\n",
       "      <th>7</th>\n",
       "      <td>PARTIDO AVANZA</td>\n",
       "      <td>8</td>\n",
       "      <td>LUIS FELIPE TILLERIA</td>\n",
       "      <td>KARLA PAULINA ROSERO</td>\n",
       "      <td>PAGINA 2\\nPROPUESTA LA GRAN DEVOLUCIÓN\\n1. DIA...</td>\n",
       "    </tr>\n",
       "    <tr>\n",
       "      <th>8</th>\n",
       "      <td>PARTIDO IZQUIERDA DEMOCRÁTICA</td>\n",
       "      <td>12</td>\n",
       "      <td>CARLOS RABASCALL</td>\n",
       "      <td>ALEJANDRA RIVAS MANTILLA</td>\n",
       "      <td>PAGINA 6 \\n\f",
       "1. INTRODUCCIÓN\\nEcuador se encuen...</td>\n",
       "    </tr>\n",
       "    <tr>\n",
       "      <th>9</th>\n",
       "      <td>MOVIMIENTO AMIGO, ACCIÓN MOVILIZADORA INDEPEND...</td>\n",
       "      <td>16</td>\n",
       "      <td>JUAN IVAN CUEVA</td>\n",
       "      <td>CRISTINA REYES</td>\n",
       "      <td>PAGINA 1\\n\f",
       "1.- INTRODUCCION\\nEl Movimiento AMI...</td>\n",
       "    </tr>\n",
       "    <tr>\n",
       "      <th>10</th>\n",
       "      <td>PARTIDO SOCIALISTA ECUATORIANO</td>\n",
       "      <td>17</td>\n",
       "      <td>PEDRO GRANJA</td>\n",
       "      <td>VERONICA SILVA</td>\n",
       "      <td>PAGINA 3 \\n\f",
       "A) Introducción\\nEl presente Plan ...</td>\n",
       "    </tr>\n",
       "    <tr>\n",
       "      <th>11</th>\n",
       "      <td>MOVIMIENTO DE UNIDAD PLURINACIONAL PACHAKUTIK</td>\n",
       "      <td>18</td>\n",
       "      <td>LEONIDAS IZA</td>\n",
       "      <td>KATIUSKA MOLINA</td>\n",
       "      <td>PAGINA 1\\n\\nI. DIAGNÓSTICO\\n\\nEcuador atravies...</td>\n",
       "    </tr>\n",
       "    <tr>\n",
       "      <th>12</th>\n",
       "      <td>MOVIMIENTO DEMOCRACIA SÍ</td>\n",
       "      <td>20</td>\n",
       "      <td>IVAN SAQUICELA</td>\n",
       "      <td>MARIA LUISA COELLO</td>\n",
       "      <td>PAGINA 3\\n\\n1. ANTECEDENTES \\nLa globalización...</td>\n",
       "    </tr>\n",
       "    <tr>\n",
       "      <th>13</th>\n",
       "      <td>MOVIMIENTO CREO, CREANDO OPORTUNIDADES</td>\n",
       "      <td>21</td>\n",
       "      <td>FRANCESCO TABACCHI</td>\n",
       "      <td>BLANCA SACANCELA</td>\n",
       "      <td>PAGINA 5\\n\f",
       "1. Introducción\\nEs deber de los po...</td>\n",
       "    </tr>\n",
       "    <tr>\n",
       "      <th>14</th>\n",
       "      <td>PARTIDO SOCIEDAD UNIDA MÁS ACCIÓN, SUMA</td>\n",
       "      <td>23</td>\n",
       "      <td>ENRIQUE GOMEZ</td>\n",
       "      <td>INES DIAZ</td>\n",
       "      <td>PAGINA 7\\n\f",
       "Carta a nuestra Gente\\nQueridos com...</td>\n",
       "    </tr>\n",
       "    <tr>\n",
       "      <th>15</th>\n",
       "      <td>MOVIMIENTO CONSTRUYE</td>\n",
       "      <td>25</td>\n",
       "      <td>HENRY CUCALON</td>\n",
       "      <td>CARLA LARREA</td>\n",
       "      <td>PAGINA 3\\nVISIÓN DE PAÍS\\nEcuador será un país...</td>\n",
       "    </tr>\n",
       "  </tbody>\n",
       "</table>\n",
       "</div>"
      ],
      "text/plain": [
       "                                              Partido  Lista  \\\n",
       "0                       MOVIMIENTO CENTRO DEMOCRÁTICO      1   \n",
       "1                              PARTIDO UNIDAD POPULAR      2   \n",
       "2             PARTIDO SOCIEDAD PATRIÓTICA 21 DE ENERO      3   \n",
       "3         MOVIMIENTO PUEBLO IGUALDAD DEMOCRACIA \"PID\"      4   \n",
       "4                         REVOLUCIÓN CIUDADANA - RETO      5   \n",
       "5                            PARTIDO SOCIAL CRISTIANO      6   \n",
       "6         MOVIMIENTO ACCION DEMOCRATICA NACIONAL, ADN      7   \n",
       "7                                      PARTIDO AVANZA      8   \n",
       "8                       PARTIDO IZQUIERDA DEMOCRÁTICA     12   \n",
       "9   MOVIMIENTO AMIGO, ACCIÓN MOVILIZADORA INDEPEND...     16   \n",
       "10                     PARTIDO SOCIALISTA ECUATORIANO     17   \n",
       "11      MOVIMIENTO DE UNIDAD PLURINACIONAL PACHAKUTIK     18   \n",
       "12                           MOVIMIENTO DEMOCRACIA SÍ     20   \n",
       "13             MOVIMIENTO CREO, CREANDO OPORTUNIDADES     21   \n",
       "14            PARTIDO SOCIEDAD UNIDA MÁS ACCIÓN, SUMA     23   \n",
       "15                               MOVIMIENTO CONSTRUYE     25   \n",
       "\n",
       "                Presidente            Vicepresidente  \\\n",
       "0   JIMMY JAIRALA VALLAZZA   LUCIA VALLECILLA SUAREZ   \n",
       "1             JORGE ESCALA               PACHA TERAN   \n",
       "2          ANDREA GONZALEZ              GALO MONCAYO   \n",
       "3             VICTOR ARAUS          CRISTINA CARRERA   \n",
       "4           LUISA GONZALEZ               DIEGO BORJA   \n",
       "5    HENRY KRONFLE KOZHAYA     DALLYANA PASSAILAIGUE   \n",
       "6        DANIEL NOBOA AZIN          MARIA JOSE PINTO   \n",
       "7     LUIS FELIPE TILLERIA      KARLA PAULINA ROSERO   \n",
       "8         CARLOS RABASCALL  ALEJANDRA RIVAS MANTILLA   \n",
       "9          JUAN IVAN CUEVA            CRISTINA REYES   \n",
       "10            PEDRO GRANJA            VERONICA SILVA   \n",
       "11            LEONIDAS IZA           KATIUSKA MOLINA   \n",
       "12          IVAN SAQUICELA        MARIA LUISA COELLO   \n",
       "13      FRANCESCO TABACCHI          BLANCA SACANCELA   \n",
       "14           ENRIQUE GOMEZ                 INES DIAZ   \n",
       "15           HENRY CUCALON              CARLA LARREA   \n",
       "\n",
       "                                         Plan_Trabajo  \n",
       "0   PAGINA 1\\n\n",
       "1. Introducción\\nEcuador es un país...  \n",
       "1   PAGINA 3\\n\\nIntroducción:\\nEl Ecuador vive una...  \n",
       "2   PAGINA 1\\n\\n1. DIAGNÓSTICO DE LA SITUACIÓN ACT...  \n",
       "3   PAGINA 4\\n1. Introducción\\nEl presente Plan de...  \n",
       "4   PAGINA 7\\n\\nPrograma de Gobierno de la Revoluc...  \n",
       "5   PAGINA 3\\n\n",
       "PLAN DE TRABAJO\\nPARTIDO SOCIAL CRI...  \n",
       "6   PAGINA 5\n",
       "1. INTRODUCCIÓN\\nCoincidir con un gru...  \n",
       "7   PAGINA 2\\nPROPUESTA LA GRAN DEVOLUCIÓN\\n1. DIA...  \n",
       "8   PAGINA 6 \\n\n",
       "1. INTRODUCCIÓN\\nEcuador se encuen...  \n",
       "9   PAGINA 1\\n\n",
       "1.- INTRODUCCION\\nEl Movimiento AMI...  \n",
       "10  PAGINA 3 \\n\n",
       "A) Introducción\\nEl presente Plan ...  \n",
       "11  PAGINA 1\\n\\nI. DIAGNÓSTICO\\n\\nEcuador atravies...  \n",
       "12  PAGINA 3\\n\\n1. ANTECEDENTES \\nLa globalización...  \n",
       "13  PAGINA 5\\n\n",
       "1. Introducción\\nEs deber de los po...  \n",
       "14  PAGINA 7\\n\n",
       "Carta a nuestra Gente\\nQueridos com...  \n",
       "15  PAGINA 3\\nVISIÓN DE PAÍS\\nEcuador será un país...  "
      ]
     },
     "execution_count": 58,
     "metadata": {},
     "output_type": "execute_result"
    }
   ],
   "source": [
    "df_planes"
   ]
  },
  {
   "cell_type": "markdown",
   "metadata": {},
   "source": [
    "# 1. Preprocesamiento "
   ]
  },
  {
   "cell_type": "markdown",
   "metadata": {},
   "source": [
    "### PREPROCESAMIENTO DE PLANES DE TRABAJO:"
   ]
  },
  {
   "cell_type": "code",
   "execution_count": 101,
   "metadata": {},
   "outputs": [
    {
     "name": "stderr",
     "output_type": "stream",
     "text": [
      "[nltk_data] Downloading package punkt to\n",
      "[nltk_data]     C:\\Users\\Sloth\\AppData\\Roaming\\nltk_data...\n",
      "[nltk_data]   Package punkt is already up-to-date!\n",
      "[nltk_data] Downloading package stopwords to\n",
      "[nltk_data]     C:\\Users\\Sloth\\AppData\\Roaming\\nltk_data...\n",
      "[nltk_data]   Package stopwords is already up-to-date!\n"
     ]
    },
    {
     "data": {
      "text/plain": [
       "True"
      ]
     },
     "execution_count": 101,
     "metadata": {},
     "output_type": "execute_result"
    }
   ],
   "source": [
    "# Importar librerías\n",
    "import pandas as pd\n",
    "import re\n",
    "import nltk\n",
    "from nltk.tokenize import sent_tokenize\n",
    "from nltk.corpus import stopwords\n",
    "from nltk.tokenize import word_tokenize\n",
    "import unicodedata\n",
    "\n",
    "nltk.download('punkt')\n",
    "nltk.download('stopwords')"
   ]
  },
  {
   "cell_type": "markdown",
   "metadata": {},
   "source": [
    "Función para eliminación de tíldes"
   ]
  },
  {
   "cell_type": "code",
   "execution_count": null,
   "metadata": {},
   "outputs": [],
   "source": [
    "#Función para eliminar tildes\n",
    "def eliminar_tildes(texto):\n",
    "    \"\"\"Elimina tildes y caracteres especiales\"\"\"\n",
    "    return ''.join(c for c in unicodedata.normalize('NFD', texto)\n",
    "                  if unicodedata.category(c) != 'Mn')"
   ]
  },
  {
   "cell_type": "markdown",
   "metadata": {},
   "source": [
    "Función de limpieza"
   ]
  },
  {
   "cell_type": "code",
   "execution_count": null,
   "metadata": {},
   "outputs": [],
   "source": [
    "\n",
    "def limpiar_texto(texto):\n",
    "    \"\"\"Función para limpiar y normalizar texto\"\"\"\n",
    "    if not isinstance(texto, str):\n",
    "        return \"\"\n",
    "    # Convertir a minúsculas\n",
    "    texto = texto.lower()\n",
    "    # Eliminar tildes\n",
    "    texto = eliminar_tildes(texto)\n",
    "    # Eliminar caracteres especiales y números\n",
    "    texto = re.sub(r'[^\\w\\s]', ' ', texto)\n",
    "    texto = re.sub(r'\\d+', ' ', texto)\n",
    "    # Eliminar espacios múltiples\n",
    "    texto = re.sub(r'\\s+', ' ', texto)\n",
    "    return texto.strip()"
   ]
  },
  {
   "cell_type": "markdown",
   "metadata": {},
   "source": [
    "Función verifica un título numérico"
   ]
  },
  {
   "cell_type": "code",
   "execution_count": 61,
   "metadata": {},
   "outputs": [],
   "source": [
    "def es_titulo_numerico(oracion):\n",
    "    \"\"\"Verifica si la oración es un título con número al inicio\"\"\"\n",
    "    patron_titulo = r'^\\d+\\.?\\s+[A-ZÁÉÍÓÚÑ]'\n",
    "    return bool(re.match(patron_titulo, oracion))"
   ]
  },
  {
   "cell_type": "markdown",
   "metadata": {},
   "source": [
    "Función para el preprocesamiento del texto del plan de trabajo y la extracción de oraciones válidas"
   ]
  },
  {
   "cell_type": "code",
   "execution_count": 62,
   "metadata": {},
   "outputs": [],
   "source": [
    "def procesar_plan_trabajo(row):\n",
    "    \"\"\"Procesa el plan de trabajo de una fila y retorna un DataFrame con las oraciones\"\"\"\n",
    "    resultados = []\n",
    "    stopwords_spanish = set(stopwords.words('spanish'))\n",
    "    \n",
    "    texto = row['Plan_Trabajo']\n",
    "    if not isinstance(texto, str):\n",
    "        return pd.DataFrame()\n",
    "    \n",
    "    # Dividir por páginas\n",
    "    paginas = re.split(r'PAGINA \\d+', texto)\n",
    "    \n",
    "    # Eliminar la primera entrada vacía si existe\n",
    "    if paginas and not paginas[0].strip():\n",
    "        paginas = paginas[1:]\n",
    "    \n",
    "    id_contador = 1  # Contador global para las oraciones\n",
    "    \n",
    "    for num_pagina, contenido_pagina in enumerate(paginas, 1):\n",
    "        # Obtener oraciones de la página\n",
    "        oraciones = sent_tokenize(contenido_pagina.strip())\n",
    "        \n",
    "        for oracion in oraciones:\n",
    "            oracion = oracion.strip()\n",
    "            # Verificar si la oración es válida y no es un título numérico\n",
    "            if oracion and (oracion[0].isupper() or oracion.isupper()) and not es_titulo_numerico(oracion):\n",
    "                # Limpiar la oración\n",
    "                oracion_limpia = limpiar_texto(oracion)\n",
    "                \n",
    "                # Generar versión sin stopwords\n",
    "                palabras = word_tokenize(oracion_limpia)\n",
    "                sin_stopwords = ' '.join([palabra for palabra in palabras if palabra not in stopwords_spanish])\n",
    "                \n",
    "                # Solo agregar si la oración limpia no está vacía\n",
    "                if oracion_limpia:\n",
    "                    resultados.append({\n",
    "                        'Lista': row['Lista'],\n",
    "                        'Partido': row['Partido'],\n",
    "                        'Presidente': row['Presidente'],\n",
    "                        'Vicepresidente': row['Vicepresidente'],\n",
    "                        'id_oracion': f\"{row['Lista']}_{num_pagina}_{id_contador}\",\n",
    "                        'pagina': num_pagina,\n",
    "                        'oracion_original': oracion,\n",
    "                        'oracion_limpia': oracion_limpia,\n",
    "                        'oracion_sin_stopwords': sin_stopwords\n",
    "                    })\n",
    "                    id_contador += 1\n",
    "    \n",
    "    return pd.DataFrame(resultados)"
   ]
  },
  {
   "cell_type": "markdown",
   "metadata": {},
   "source": [
    "Lectura del datagrame con los planes de trabajo"
   ]
  },
  {
   "cell_type": "code",
   "execution_count": 63,
   "metadata": {},
   "outputs": [
    {
     "name": "stdout",
     "output_type": "stream",
     "text": [
      "Leyendo dataframe_con_planes.csv...\n"
     ]
    }
   ],
   "source": [
    "# Leer el CSV con los planes de trabajo\n",
    "print(\"Leyendo dataframe_con_planes.csv...\")\n",
    "df_planes = pd.read_csv(\"dataframe_con_planes.csv\")"
   ]
  },
  {
   "cell_type": "markdown",
   "metadata": {},
   "source": [
    "Procesamiento de todos los planes de trabajo que están en df_planes usando la funció procesar_plan_trabajo a cada fila y guarda los resultados en una lista de DataFrames"
   ]
  },
  {
   "cell_type": "code",
   "execution_count": 64,
   "metadata": {},
   "outputs": [
    {
     "name": "stdout",
     "output_type": "stream",
     "text": [
      "Procesando planes de trabajo...\n"
     ]
    }
   ],
   "source": [
    "# Lista para almacenar todos los DataFrames procesados\n",
    "dfs_procesados = []\n",
    "\n",
    "# Procesar cada plan de trabajo\n",
    "print(\"Procesando planes de trabajo...\")\n",
    "for _, row in df_planes.iterrows():\n",
    "    try:\n",
    "        df_procesado = procesar_plan_trabajo(row)\n",
    "        if not df_procesado.empty:\n",
    "            dfs_procesados.append(df_procesado)\n",
    "    except Exception as e:\n",
    "        print(f\"Error procesando plan de trabajo de Lista {row['Lista']}: {e}\")"
   ]
  },
  {
   "cell_type": "markdown",
   "metadata": {},
   "source": [
    "Combinar todos los Dataframes en una sola tabla "
   ]
  },
  {
   "cell_type": "code",
   "execution_count": 65,
   "metadata": {},
   "outputs": [
    {
     "name": "stdout",
     "output_type": "stream",
     "text": [
      "Combinando resultados...\n"
     ]
    }
   ],
   "source": [
    "# Combinar todos los DataFrames\n",
    "print(\"Combinando resultados...\")\n",
    "df_final = pd.concat(dfs_procesados, ignore_index=True)\n"
   ]
  },
  {
   "cell_type": "markdown",
   "metadata": {},
   "source": [
    "Guardar el Dataframe procesado en un archivo CSV"
   ]
  },
  {
   "cell_type": "code",
   "execution_count": 66,
   "metadata": {},
   "outputs": [
    {
     "name": "stdout",
     "output_type": "stream",
     "text": [
      "Guardando resultados...\n"
     ]
    }
   ],
   "source": [
    "# Guardar el DataFrame procesado\n",
    "print(\"Guardando resultados...\")\n",
    "df_final.to_csv(\"planes_trabajo_procesados.csv\", index=False, encoding='utf-8')"
   ]
  },
  {
   "cell_type": "code",
   "execution_count": 67,
   "metadata": {},
   "outputs": [
    {
     "name": "stdout",
     "output_type": "stream",
     "text": [
      "\n",
      "Muestra del DataFrame procesado:\n",
      "   Lista                        Partido              Presidente  \\\n",
      "0      1  MOVIMIENTO CENTRO DEMOCRÁTICO  JIMMY JAIRALA VALLAZZA   \n",
      "1      1  MOVIMIENTO CENTRO DEMOCRÁTICO  JIMMY JAIRALA VALLAZZA   \n",
      "2      1  MOVIMIENTO CENTRO DEMOCRÁTICO  JIMMY JAIRALA VALLAZZA   \n",
      "\n",
      "            Vicepresidente id_oracion  pagina  \\\n",
      "0  LUCIA VALLECILLA SUAREZ      1_1_1       1   \n",
      "1  LUCIA VALLECILLA SUAREZ      1_1_2       1   \n",
      "2  LUCIA VALLECILLA SUAREZ      1_1_3       1   \n",
      "\n",
      "                                    oracion_original  \\\n",
      "0  Introducción\\nEcuador es un país con una profu...   \n",
      "1  Existen 14\\nnacionalidades, 18 pueblos y 3 pue...   \n",
      "2  Por sus particulares características geográfic...   \n",
      "\n",
      "                                      oracion_limpia  \\\n",
      "0  introduccion ecuador es un pais con una profun...   \n",
      "1  existen nacionalidades pueblos y pueblos indig...   \n",
      "2  por sus particulares caracteristicas geografic...   \n",
      "\n",
      "                               oracion_sin_stopwords  \n",
      "0  introduccion ecuador pais profunda rica asombr...  \n",
      "1  existen nacionalidades pueblos pueblos indigen...  \n",
      "2  particulares caracteristicas geograficas consi...  \n",
      "\n",
      "Estadísticas del procesamiento:\n",
      "Total de oraciones procesadas: 11663\n",
      "Número de planes de trabajo procesados: 16\n",
      "Promedio de oraciones por plan: 728.94\n"
     ]
    }
   ],
   "source": [
    "# Mostrar una muestra del DataFrame\n",
    "print(\"\\nMuestra del DataFrame procesado:\")\n",
    "print(df_final.head(3))\n",
    "\n",
    "print(\"\\nEstadísticas del procesamiento:\")\n",
    "print(f\"Total de oraciones procesadas: {len(df_final)}\")\n",
    "print(f\"Número de planes de trabajo procesados: {len(df_final['Lista'].unique())}\")\n",
    "print(f\"Promedio de oraciones por plan: {len(df_final) / len(df_final['Lista'].unique()):.2f}\")"
   ]
  },
  {
   "cell_type": "code",
   "execution_count": 68,
   "metadata": {},
   "outputs": [
    {
     "name": "stdout",
     "output_type": "stream",
     "text": [
      "\n",
      "Distribución de oraciones por página:\n",
      "Lista  pagina\n",
      "1      1         19\n",
      "       2          9\n",
      "       3         17\n",
      "       4         15\n",
      "       5          8\n",
      "                 ..\n",
      "25     121        8\n",
      "       122        6\n",
      "       123        6\n",
      "       124        8\n",
      "       125        4\n",
      "Name: id_oracion, Length: 1325, dtype: int64\n"
     ]
    }
   ],
   "source": [
    "# Mostrar distribución de oraciones por página\n",
    "print(\"\\nDistribución de oraciones por página:\")\n",
    "print(df_final.groupby(['Lista', 'pagina'])['id_oracion'].count())"
   ]
  },
  {
   "cell_type": "code",
   "execution_count": 69,
   "metadata": {},
   "outputs": [
    {
     "data": {
      "text/html": [
       "<div>\n",
       "<style scoped>\n",
       "    .dataframe tbody tr th:only-of-type {\n",
       "        vertical-align: middle;\n",
       "    }\n",
       "\n",
       "    .dataframe tbody tr th {\n",
       "        vertical-align: top;\n",
       "    }\n",
       "\n",
       "    .dataframe thead th {\n",
       "        text-align: right;\n",
       "    }\n",
       "</style>\n",
       "<table border=\"1\" class=\"dataframe\">\n",
       "  <thead>\n",
       "    <tr style=\"text-align: right;\">\n",
       "      <th></th>\n",
       "      <th>Lista</th>\n",
       "      <th>Partido</th>\n",
       "      <th>Presidente</th>\n",
       "      <th>Vicepresidente</th>\n",
       "      <th>id_oracion</th>\n",
       "      <th>pagina</th>\n",
       "      <th>oracion_original</th>\n",
       "      <th>oracion_limpia</th>\n",
       "      <th>oracion_sin_stopwords</th>\n",
       "    </tr>\n",
       "  </thead>\n",
       "  <tbody>\n",
       "    <tr>\n",
       "      <th>0</th>\n",
       "      <td>1</td>\n",
       "      <td>MOVIMIENTO CENTRO DEMOCRÁTICO</td>\n",
       "      <td>JIMMY JAIRALA VALLAZZA</td>\n",
       "      <td>LUCIA VALLECILLA SUAREZ</td>\n",
       "      <td>1_1_1</td>\n",
       "      <td>1</td>\n",
       "      <td>Introducción\\nEcuador es un país con una profu...</td>\n",
       "      <td>introduccion ecuador es un pais con una profun...</td>\n",
       "      <td>introduccion ecuador pais profunda rica asombr...</td>\n",
       "    </tr>\n",
       "    <tr>\n",
       "      <th>1</th>\n",
       "      <td>1</td>\n",
       "      <td>MOVIMIENTO CENTRO DEMOCRÁTICO</td>\n",
       "      <td>JIMMY JAIRALA VALLAZZA</td>\n",
       "      <td>LUCIA VALLECILLA SUAREZ</td>\n",
       "      <td>1_1_2</td>\n",
       "      <td>1</td>\n",
       "      <td>Existen 14\\nnacionalidades, 18 pueblos y 3 pue...</td>\n",
       "      <td>existen nacionalidades pueblos y pueblos indig...</td>\n",
       "      <td>existen nacionalidades pueblos pueblos indigen...</td>\n",
       "    </tr>\n",
       "    <tr>\n",
       "      <th>2</th>\n",
       "      <td>1</td>\n",
       "      <td>MOVIMIENTO CENTRO DEMOCRÁTICO</td>\n",
       "      <td>JIMMY JAIRALA VALLAZZA</td>\n",
       "      <td>LUCIA VALLECILLA SUAREZ</td>\n",
       "      <td>1_1_3</td>\n",
       "      <td>1</td>\n",
       "      <td>Por sus particulares características geográfic...</td>\n",
       "      <td>por sus particulares caracteristicas geografic...</td>\n",
       "      <td>particulares caracteristicas geograficas consi...</td>\n",
       "    </tr>\n",
       "    <tr>\n",
       "      <th>3</th>\n",
       "      <td>1</td>\n",
       "      <td>MOVIMIENTO CENTRO DEMOCRÁTICO</td>\n",
       "      <td>JIMMY JAIRALA VALLAZZA</td>\n",
       "      <td>LUCIA VALLECILLA SUAREZ</td>\n",
       "      <td>1_1_4</td>\n",
       "      <td>1</td>\n",
       "      <td>Su variada geografía con sus pisos climáticos ...</td>\n",
       "      <td>su variada geografia con sus pisos climaticos ...</td>\n",
       "      <td>variada geografia pisos climaticos hace produc...</td>\n",
       "    </tr>\n",
       "    <tr>\n",
       "      <th>4</th>\n",
       "      <td>1</td>\n",
       "      <td>MOVIMIENTO CENTRO DEMOCRÁTICO</td>\n",
       "      <td>JIMMY JAIRALA VALLAZZA</td>\n",
       "      <td>LUCIA VALLECILLA SUAREZ</td>\n",
       "      <td>1_1_5</td>\n",
       "      <td>1</td>\n",
       "      <td>Desde los años setenta del siglo pasado, el Ec...</td>\n",
       "      <td>desde los anos setenta del siglo pasado el ecu...</td>\n",
       "      <td>anos setenta siglo pasado ecuador tambien expo...</td>\n",
       "    </tr>\n",
       "    <tr>\n",
       "      <th>...</th>\n",
       "      <td>...</td>\n",
       "      <td>...</td>\n",
       "      <td>...</td>\n",
       "      <td>...</td>\n",
       "      <td>...</td>\n",
       "      <td>...</td>\n",
       "      <td>...</td>\n",
       "      <td>...</td>\n",
       "      <td>...</td>\n",
       "    </tr>\n",
       "    <tr>\n",
       "      <th>11658</th>\n",
       "      <td>25</td>\n",
       "      <td>MOVIMIENTO CONSTRUYE</td>\n",
       "      <td>HENRY CUCALON</td>\n",
       "      <td>CARLA LARREA</td>\n",
       "      <td>25_124_907</td>\n",
       "      <td>124</td>\n",
       "      <td>La rendición de cuentas será un mecanismo para...</td>\n",
       "      <td>la rendicion de cuentas sera un mecanismo para...</td>\n",
       "      <td>rendicion cuentas sera mecanismo evaluar dia d...</td>\n",
       "    </tr>\n",
       "    <tr>\n",
       "      <th>11659</th>\n",
       "      <td>25</td>\n",
       "      <td>MOVIMIENTO CONSTRUYE</td>\n",
       "      <td>HENRY CUCALON</td>\n",
       "      <td>CARLA LARREA</td>\n",
       "      <td>25_125_908</td>\n",
       "      <td>125</td>\n",
       "      <td>Firmado digitalmente\\n\\nFirmado electrónicamen...</td>\n",
       "      <td>firmado digitalmente firmado electronicamente ...</td>\n",
       "      <td>firmado digitalmente firmado electronicamente ...</td>\n",
       "    </tr>\n",
       "    <tr>\n",
       "      <th>11660</th>\n",
       "      <td>25</td>\n",
       "      <td>MOVIMIENTO CONSTRUYE</td>\n",
       "      <td>HENRY CUCALON</td>\n",
       "      <td>CARLA LARREA</td>\n",
       "      <td>25_125_909</td>\n",
       "      <td>125</td>\n",
       "      <td>Agradecemos a los expertos que han\\naportado c...</td>\n",
       "      <td>agradecemos a los expertos que han aportado co...</td>\n",
       "      <td>agradecemos expertos aportado contenidos plan ...</td>\n",
       "    </tr>\n",
       "    <tr>\n",
       "      <th>11661</th>\n",
       "      <td>25</td>\n",
       "      <td>MOVIMIENTO CONSTRUYE</td>\n",
       "      <td>HENRY CUCALON</td>\n",
       "      <td>CARLA LARREA</td>\n",
       "      <td>25_125_910</td>\n",
       "      <td>125</td>\n",
       "      <td>Se trata de un\\ndocumento de autoría colectiva...</td>\n",
       "      <td>se trata de un documento de autoria colectiva ...</td>\n",
       "      <td>trata documento autoria colectiva susceptible ...</td>\n",
       "    </tr>\n",
       "    <tr>\n",
       "      <th>11662</th>\n",
       "      <td>25</td>\n",
       "      <td>MOVIMIENTO CONSTRUYE</td>\n",
       "      <td>HENRY CUCALON</td>\n",
       "      <td>CARLA LARREA</td>\n",
       "      <td>25_125_911</td>\n",
       "      <td>125</td>\n",
       "      <td>La\\npropiedad intelectual de este documento le...</td>\n",
       "      <td>la propiedad intelectual de este documento le ...</td>\n",
       "      <td>propiedad intelectual documento pertenece movi...</td>\n",
       "    </tr>\n",
       "  </tbody>\n",
       "</table>\n",
       "<p>11663 rows × 9 columns</p>\n",
       "</div>"
      ],
      "text/plain": [
       "       Lista                        Partido              Presidente  \\\n",
       "0          1  MOVIMIENTO CENTRO DEMOCRÁTICO  JIMMY JAIRALA VALLAZZA   \n",
       "1          1  MOVIMIENTO CENTRO DEMOCRÁTICO  JIMMY JAIRALA VALLAZZA   \n",
       "2          1  MOVIMIENTO CENTRO DEMOCRÁTICO  JIMMY JAIRALA VALLAZZA   \n",
       "3          1  MOVIMIENTO CENTRO DEMOCRÁTICO  JIMMY JAIRALA VALLAZZA   \n",
       "4          1  MOVIMIENTO CENTRO DEMOCRÁTICO  JIMMY JAIRALA VALLAZZA   \n",
       "...      ...                            ...                     ...   \n",
       "11658     25           MOVIMIENTO CONSTRUYE           HENRY CUCALON   \n",
       "11659     25           MOVIMIENTO CONSTRUYE           HENRY CUCALON   \n",
       "11660     25           MOVIMIENTO CONSTRUYE           HENRY CUCALON   \n",
       "11661     25           MOVIMIENTO CONSTRUYE           HENRY CUCALON   \n",
       "11662     25           MOVIMIENTO CONSTRUYE           HENRY CUCALON   \n",
       "\n",
       "                Vicepresidente  id_oracion  pagina  \\\n",
       "0      LUCIA VALLECILLA SUAREZ       1_1_1       1   \n",
       "1      LUCIA VALLECILLA SUAREZ       1_1_2       1   \n",
       "2      LUCIA VALLECILLA SUAREZ       1_1_3       1   \n",
       "3      LUCIA VALLECILLA SUAREZ       1_1_4       1   \n",
       "4      LUCIA VALLECILLA SUAREZ       1_1_5       1   \n",
       "...                        ...         ...     ...   \n",
       "11658             CARLA LARREA  25_124_907     124   \n",
       "11659             CARLA LARREA  25_125_908     125   \n",
       "11660             CARLA LARREA  25_125_909     125   \n",
       "11661             CARLA LARREA  25_125_910     125   \n",
       "11662             CARLA LARREA  25_125_911     125   \n",
       "\n",
       "                                        oracion_original  \\\n",
       "0      Introducción\\nEcuador es un país con una profu...   \n",
       "1      Existen 14\\nnacionalidades, 18 pueblos y 3 pue...   \n",
       "2      Por sus particulares características geográfic...   \n",
       "3      Su variada geografía con sus pisos climáticos ...   \n",
       "4      Desde los años setenta del siglo pasado, el Ec...   \n",
       "...                                                  ...   \n",
       "11658  La rendición de cuentas será un mecanismo para...   \n",
       "11659  Firmado digitalmente\\n\\nFirmado electrónicamen...   \n",
       "11660  Agradecemos a los expertos que han\\naportado c...   \n",
       "11661  Se trata de un\\ndocumento de autoría colectiva...   \n",
       "11662  La\\npropiedad intelectual de este documento le...   \n",
       "\n",
       "                                          oracion_limpia  \\\n",
       "0      introduccion ecuador es un pais con una profun...   \n",
       "1      existen nacionalidades pueblos y pueblos indig...   \n",
       "2      por sus particulares caracteristicas geografic...   \n",
       "3      su variada geografia con sus pisos climaticos ...   \n",
       "4      desde los anos setenta del siglo pasado el ecu...   \n",
       "...                                                  ...   \n",
       "11658  la rendicion de cuentas sera un mecanismo para...   \n",
       "11659  firmado digitalmente firmado electronicamente ...   \n",
       "11660  agradecemos a los expertos que han aportado co...   \n",
       "11661  se trata de un documento de autoria colectiva ...   \n",
       "11662  la propiedad intelectual de este documento le ...   \n",
       "\n",
       "                                   oracion_sin_stopwords  \n",
       "0      introduccion ecuador pais profunda rica asombr...  \n",
       "1      existen nacionalidades pueblos pueblos indigen...  \n",
       "2      particulares caracteristicas geograficas consi...  \n",
       "3      variada geografia pisos climaticos hace produc...  \n",
       "4      anos setenta siglo pasado ecuador tambien expo...  \n",
       "...                                                  ...  \n",
       "11658  rendicion cuentas sera mecanismo evaluar dia d...  \n",
       "11659  firmado digitalmente firmado electronicamente ...  \n",
       "11660  agradecemos expertos aportado contenidos plan ...  \n",
       "11661  trata documento autoria colectiva susceptible ...  \n",
       "11662  propiedad intelectual documento pertenece movi...  \n",
       "\n",
       "[11663 rows x 9 columns]"
      ]
     },
     "execution_count": 69,
     "metadata": {},
     "output_type": "execute_result"
    }
   ],
   "source": [
    "df_final"
   ]
  },
  {
   "cell_type": "markdown",
   "metadata": {},
   "source": [
    "Función de eliminación de tíldes"
   ]
  },
  {
   "cell_type": "code",
   "execution_count": 70,
   "metadata": {},
   "outputs": [],
   "source": [
    "def eliminar_tildes(texto):\n",
    "    return ''.join(c for c in unicodedata.normalize('NFD', texto)\n",
    "                  if unicodedata.category(c) != 'Mn')"
   ]
  },
  {
   "cell_type": "markdown",
   "metadata": {},
   "source": [
    "Función que tecteta si un texto en un encabezado o título numerado en documentos que tienen estructuras o índices."
   ]
  },
  {
   "cell_type": "code",
   "execution_count": 71,
   "metadata": {},
   "outputs": [],
   "source": [
    "def es_seccion_numerada(texto):\n",
    "    # Patrones más específicos para detectar secciones numeradas\n",
    "    patrones = [\n",
    "        r'^\\d+(\\.\\d+)*\\.?\\s+',  # Detecta \"3. \", \"3.1. \", etc.\n",
    "        r'^\\d+\\.\\s*$',          # Detecta \"3.\" al final\n",
    "        r'^\\d+(\\.\\d+)+\\s*$',    # Detecta \"3.1\" o \"3.1.2\" al final\n",
    "        r'^\\d+\\s+\\D',           # Detecta \"3 Texto\"\n",
    "        r'.*\\s+\\d+(\\.\\d+)*\\s*$' # Detecta \"Texto 3.1\"\n",
    "    ]\n",
    "    texto = texto.strip()\n",
    "    return any(bool(re.match(patron, texto)) for patron in patrones)"
   ]
  },
  {
   "cell_type": "markdown",
   "metadata": {},
   "source": [
    "Función que verifica si una sección de texto contiene numeración, al inicio y final del mismo"
   ]
  },
  {
   "cell_type": "code",
   "execution_count": 72,
   "metadata": {},
   "outputs": [],
   "source": [
    "def es_seccion_numerada(texto):\n",
    "    # Detecta números de sección al inicio o al final\n",
    "    patrones = [\n",
    "        r'^\\d+(\\.\\d+)*\\.',            # Detecta \"1.\", \"1.2.\", \"1.2.3.\" al inicio\n",
    "        r'.*\\s+\\d+(\\.\\d+)*\\.$',       # Detecta números al final \"texto 1.2.\"\n",
    "        r'.*\\s+\\d+(\\.\\d+)*\\s*$'       # Detecta números sin punto al final \"texto 1.2\"\n",
    "    ]\n",
    "    texto = texto.strip()\n",
    "    return any(bool(re.search(patron, texto)) for patron in patrones)"
   ]
  },
  {
   "cell_type": "markdown",
   "metadata": {},
   "source": [
    "Función que preprocesa y normaliza el texto eliminando tíldes, caracteres especiales y verificando secciones numeradas"
   ]
  },
  {
   "cell_type": "code",
   "execution_count": null,
   "metadata": {},
   "outputs": [],
   "source": [
    "def limpiar_texto(texto):\n",
    "    if not isinstance(texto, str):\n",
    "        return \"\"\n",
    "    \n",
    "    # Verificar si es sección numerada antes de cualquier procesamiento\n",
    "    if es_seccion_numerada(texto):\n",
    "        return \"\"\n",
    "    \n",
    "    texto = texto.lower()\n",
    "    texto = eliminar_tildes(texto)\n",
    "    texto = re.sub(r'([^\\d\\w\\s]|_)', ' ', texto)\n",
    "    texto = re.sub(r'\\s+', ' ', texto)\n",
    "    return texto.strip()"
   ]
  },
  {
   "cell_type": "markdown",
   "metadata": {},
   "source": [
    "Función que procesa el texto de la propuestade trabajo de un candidato, las separa en oraciones limpias, sin stop words y los estructura en dataframes"
   ]
  },
  {
   "cell_type": "code",
   "execution_count": 74,
   "metadata": {},
   "outputs": [],
   "source": [
    "def procesar_plan_trabajo(row):\n",
    "    resultados = []\n",
    "    stopwords_spanish = set(stopwords.words('spanish'))\n",
    "    \n",
    "    texto = row['Plan_Trabajo']\n",
    "    if not isinstance(texto, str):\n",
    "        return pd.DataFrame()\n",
    "    \n",
    "    paginas = re.split(r'PAGINA \\d+', texto)\n",
    "    if paginas and not paginas[0].strip():\n",
    "        paginas = paginas[1:]\n",
    "    \n",
    "    id_contador = 1\n",
    "    \n",
    "    for num_pagina, contenido_pagina in enumerate(paginas, 1):\n",
    "        oraciones = sent_tokenize(contenido_pagina.strip())\n",
    "        \n",
    "        for oracion in oraciones:\n",
    "            oracion = oracion.strip()\n",
    "            if oracion and (oracion[0].isupper() or oracion.isupper()) and not es_seccion_numerada(oracion):\n",
    "                oracion_limpia = limpiar_texto(oracion)\n",
    "                \n",
    "                if oracion_limpia:\n",
    "                    palabras = word_tokenize(oracion_limpia)\n",
    "                    sin_stopwords = ' '.join([palabra for palabra in palabras if palabra not in stopwords_spanish])\n",
    "                    \n",
    "                    resultados.append({\n",
    "                        'Lista': row['Lista'],\n",
    "                        'Partido': row['Partido'],\n",
    "                        'Presidente': row['Presidente'],\n",
    "                        'Vicepresidente': row['Vicepresidente'],\n",
    "                        'id_oracion': f\"{row['Lista']}_{num_pagina}_{id_contador}\",\n",
    "                        'pagina': num_pagina,\n",
    "                        'oracion_original': oracion,\n",
    "                        'oracion_limpia': oracion_limpia,\n",
    "                        'oracion_sin_stopwords': sin_stopwords\n",
    "                    })\n",
    "                    id_contador += 1\n",
    "    \n",
    "    return pd.DataFrame(resultados)"
   ]
  },
  {
   "cell_type": "markdown",
   "metadata": {},
   "source": [
    "Lectura del archivo dataframe_con_planes y lo carga en un DataFrame"
   ]
  },
  {
   "cell_type": "code",
   "execution_count": 75,
   "metadata": {},
   "outputs": [
    {
     "name": "stdout",
     "output_type": "stream",
     "text": [
      "Leyendo dataframe_con_planes.csv...\n"
     ]
    }
   ],
   "source": [
    "print(\"Leyendo dataframe_con_planes.csv...\")\n",
    "df_planes = pd.read_csv(\"dataframe_con_planes.csv\")"
   ]
  },
  {
   "cell_type": "markdown",
   "metadata": {},
   "source": [
    "Se procesa cada plan de trabajo en df_planes y guarda los resultados en una lista de DataFrames"
   ]
  },
  {
   "cell_type": "code",
   "execution_count": 76,
   "metadata": {},
   "outputs": [
    {
     "name": "stdout",
     "output_type": "stream",
     "text": [
      "Procesando planes de trabajo...\n"
     ]
    }
   ],
   "source": [
    "dfs_procesados = []\n",
    "\n",
    "print(\"Procesando planes de trabajo...\")\n",
    "for _, row in df_planes.iterrows():\n",
    "    try:\n",
    "        df_procesado = procesar_plan_trabajo(row)\n",
    "        if not df_procesado.empty:\n",
    "            dfs_procesados.append(df_procesado)\n",
    "    except Exception as e:\n",
    "        print(f\"Error procesando plan de Lista {row['Lista']}: {e}\")"
   ]
  },
  {
   "cell_type": "markdown",
   "metadata": {},
   "source": [
    "Combina los DataFrames procesados en un solo DataFrame y los guarda en un archivo CSV"
   ]
  },
  {
   "cell_type": "code",
   "execution_count": 77,
   "metadata": {},
   "outputs": [
    {
     "name": "stdout",
     "output_type": "stream",
     "text": [
      "\n",
      "Muestra del DataFrame procesado:\n",
      "   Lista                        Partido              Presidente  \\\n",
      "0      1  MOVIMIENTO CENTRO DEMOCRÁTICO  JIMMY JAIRALA VALLAZZA   \n",
      "1      1  MOVIMIENTO CENTRO DEMOCRÁTICO  JIMMY JAIRALA VALLAZZA   \n",
      "2      1  MOVIMIENTO CENTRO DEMOCRÁTICO  JIMMY JAIRALA VALLAZZA   \n",
      "\n",
      "            Vicepresidente id_oracion  pagina  \\\n",
      "0  LUCIA VALLECILLA SUAREZ      1_1_1       1   \n",
      "1  LUCIA VALLECILLA SUAREZ      1_1_2       1   \n",
      "2  LUCIA VALLECILLA SUAREZ      1_1_3       1   \n",
      "\n",
      "                                    oracion_original  \\\n",
      "0  Introducción\\nEcuador es un país con una profu...   \n",
      "1  Existen 14\\nnacionalidades, 18 pueblos y 3 pue...   \n",
      "2  Por sus particulares características geográfic...   \n",
      "\n",
      "                                      oracion_limpia  \\\n",
      "0  introduccion ecuador es un pais con una profun...   \n",
      "1  existen 14 nacionalidades 18 pueblos y 3 puebl...   \n",
      "2  por sus particulares caracteristicas geografic...   \n",
      "\n",
      "                               oracion_sin_stopwords  \n",
      "0  introduccion ecuador pais profunda rica asombr...  \n",
      "1  existen 14 nacionalidades 18 pueblos 3 pueblos...  \n",
      "2  particulares caracteristicas geograficas consi...  \n",
      "\n",
      "Total de oraciones procesadas: 11226\n"
     ]
    }
   ],
   "source": [
    "df_final = pd.concat(dfs_procesados, ignore_index=True)\n",
    "df_final.to_csv(\"planes_trabajo_procesados.csv\", index=False, encoding='utf-8')\n",
    "\n",
    "print(\"\\nMuestra del DataFrame procesado:\")\n",
    "print(df_final.head(3))\n",
    "print(f\"\\nTotal de oraciones procesadas: {len(df_final)}\")"
   ]
  },
  {
   "cell_type": "code",
   "execution_count": 78,
   "metadata": {},
   "outputs": [
    {
     "data": {
      "text/html": [
       "<div>\n",
       "<style scoped>\n",
       "    .dataframe tbody tr th:only-of-type {\n",
       "        vertical-align: middle;\n",
       "    }\n",
       "\n",
       "    .dataframe tbody tr th {\n",
       "        vertical-align: top;\n",
       "    }\n",
       "\n",
       "    .dataframe thead th {\n",
       "        text-align: right;\n",
       "    }\n",
       "</style>\n",
       "<table border=\"1\" class=\"dataframe\">\n",
       "  <thead>\n",
       "    <tr style=\"text-align: right;\">\n",
       "      <th></th>\n",
       "      <th>Lista</th>\n",
       "      <th>Partido</th>\n",
       "      <th>Presidente</th>\n",
       "      <th>Vicepresidente</th>\n",
       "      <th>id_oracion</th>\n",
       "      <th>pagina</th>\n",
       "      <th>oracion_original</th>\n",
       "      <th>oracion_limpia</th>\n",
       "      <th>oracion_sin_stopwords</th>\n",
       "    </tr>\n",
       "  </thead>\n",
       "  <tbody>\n",
       "    <tr>\n",
       "      <th>0</th>\n",
       "      <td>1</td>\n",
       "      <td>MOVIMIENTO CENTRO DEMOCRÁTICO</td>\n",
       "      <td>JIMMY JAIRALA VALLAZZA</td>\n",
       "      <td>LUCIA VALLECILLA SUAREZ</td>\n",
       "      <td>1_1_1</td>\n",
       "      <td>1</td>\n",
       "      <td>Introducción\\nEcuador es un país con una profu...</td>\n",
       "      <td>introduccion ecuador es un pais con una profun...</td>\n",
       "      <td>introduccion ecuador pais profunda rica asombr...</td>\n",
       "    </tr>\n",
       "    <tr>\n",
       "      <th>1</th>\n",
       "      <td>1</td>\n",
       "      <td>MOVIMIENTO CENTRO DEMOCRÁTICO</td>\n",
       "      <td>JIMMY JAIRALA VALLAZZA</td>\n",
       "      <td>LUCIA VALLECILLA SUAREZ</td>\n",
       "      <td>1_1_2</td>\n",
       "      <td>1</td>\n",
       "      <td>Existen 14\\nnacionalidades, 18 pueblos y 3 pue...</td>\n",
       "      <td>existen 14 nacionalidades 18 pueblos y 3 puebl...</td>\n",
       "      <td>existen 14 nacionalidades 18 pueblos 3 pueblos...</td>\n",
       "    </tr>\n",
       "    <tr>\n",
       "      <th>2</th>\n",
       "      <td>1</td>\n",
       "      <td>MOVIMIENTO CENTRO DEMOCRÁTICO</td>\n",
       "      <td>JIMMY JAIRALA VALLAZZA</td>\n",
       "      <td>LUCIA VALLECILLA SUAREZ</td>\n",
       "      <td>1_1_3</td>\n",
       "      <td>1</td>\n",
       "      <td>Por sus particulares características geográfic...</td>\n",
       "      <td>por sus particulares caracteristicas geografic...</td>\n",
       "      <td>particulares caracteristicas geograficas consi...</td>\n",
       "    </tr>\n",
       "    <tr>\n",
       "      <th>3</th>\n",
       "      <td>1</td>\n",
       "      <td>MOVIMIENTO CENTRO DEMOCRÁTICO</td>\n",
       "      <td>JIMMY JAIRALA VALLAZZA</td>\n",
       "      <td>LUCIA VALLECILLA SUAREZ</td>\n",
       "      <td>1_1_4</td>\n",
       "      <td>1</td>\n",
       "      <td>Su variada geografía con sus pisos climáticos ...</td>\n",
       "      <td>su variada geografia con sus pisos climaticos ...</td>\n",
       "      <td>variada geografia pisos climaticos hace produc...</td>\n",
       "    </tr>\n",
       "    <tr>\n",
       "      <th>4</th>\n",
       "      <td>1</td>\n",
       "      <td>MOVIMIENTO CENTRO DEMOCRÁTICO</td>\n",
       "      <td>JIMMY JAIRALA VALLAZZA</td>\n",
       "      <td>LUCIA VALLECILLA SUAREZ</td>\n",
       "      <td>1_1_5</td>\n",
       "      <td>1</td>\n",
       "      <td>Desde los años setenta del siglo pasado, el Ec...</td>\n",
       "      <td>desde los anos setenta del siglo pasado el ecu...</td>\n",
       "      <td>anos setenta siglo pasado ecuador tambien expo...</td>\n",
       "    </tr>\n",
       "    <tr>\n",
       "      <th>...</th>\n",
       "      <td>...</td>\n",
       "      <td>...</td>\n",
       "      <td>...</td>\n",
       "      <td>...</td>\n",
       "      <td>...</td>\n",
       "      <td>...</td>\n",
       "      <td>...</td>\n",
       "      <td>...</td>\n",
       "      <td>...</td>\n",
       "    </tr>\n",
       "    <tr>\n",
       "      <th>11221</th>\n",
       "      <td>25</td>\n",
       "      <td>MOVIMIENTO CONSTRUYE</td>\n",
       "      <td>HENRY CUCALON</td>\n",
       "      <td>CARLA LARREA</td>\n",
       "      <td>25_124_894</td>\n",
       "      <td>124</td>\n",
       "      <td>La rendición de cuentas será un mecanismo para...</td>\n",
       "      <td>la rendicion de cuentas sera un mecanismo para...</td>\n",
       "      <td>rendicion cuentas sera mecanismo evaluar dia d...</td>\n",
       "    </tr>\n",
       "    <tr>\n",
       "      <th>11222</th>\n",
       "      <td>25</td>\n",
       "      <td>MOVIMIENTO CONSTRUYE</td>\n",
       "      <td>HENRY CUCALON</td>\n",
       "      <td>CARLA LARREA</td>\n",
       "      <td>25_125_895</td>\n",
       "      <td>125</td>\n",
       "      <td>Firmado digitalmente\\n\\nFirmado electrónicamen...</td>\n",
       "      <td>firmado digitalmente firmado electronicamente ...</td>\n",
       "      <td>firmado digitalmente firmado electronicamente ...</td>\n",
       "    </tr>\n",
       "    <tr>\n",
       "      <th>11223</th>\n",
       "      <td>25</td>\n",
       "      <td>MOVIMIENTO CONSTRUYE</td>\n",
       "      <td>HENRY CUCALON</td>\n",
       "      <td>CARLA LARREA</td>\n",
       "      <td>25_125_896</td>\n",
       "      <td>125</td>\n",
       "      <td>Agradecemos a los expertos que han\\naportado c...</td>\n",
       "      <td>agradecemos a los expertos que han aportado co...</td>\n",
       "      <td>agradecemos expertos aportado contenidos plan ...</td>\n",
       "    </tr>\n",
       "    <tr>\n",
       "      <th>11224</th>\n",
       "      <td>25</td>\n",
       "      <td>MOVIMIENTO CONSTRUYE</td>\n",
       "      <td>HENRY CUCALON</td>\n",
       "      <td>CARLA LARREA</td>\n",
       "      <td>25_125_897</td>\n",
       "      <td>125</td>\n",
       "      <td>Se trata de un\\ndocumento de autoría colectiva...</td>\n",
       "      <td>se trata de un documento de autoria colectiva ...</td>\n",
       "      <td>trata documento autoria colectiva susceptible ...</td>\n",
       "    </tr>\n",
       "    <tr>\n",
       "      <th>11225</th>\n",
       "      <td>25</td>\n",
       "      <td>MOVIMIENTO CONSTRUYE</td>\n",
       "      <td>HENRY CUCALON</td>\n",
       "      <td>CARLA LARREA</td>\n",
       "      <td>25_125_898</td>\n",
       "      <td>125</td>\n",
       "      <td>La\\npropiedad intelectual de este documento le...</td>\n",
       "      <td>la propiedad intelectual de este documento le ...</td>\n",
       "      <td>propiedad intelectual documento pertenece movi...</td>\n",
       "    </tr>\n",
       "  </tbody>\n",
       "</table>\n",
       "<p>11226 rows × 9 columns</p>\n",
       "</div>"
      ],
      "text/plain": [
       "       Lista                        Partido              Presidente  \\\n",
       "0          1  MOVIMIENTO CENTRO DEMOCRÁTICO  JIMMY JAIRALA VALLAZZA   \n",
       "1          1  MOVIMIENTO CENTRO DEMOCRÁTICO  JIMMY JAIRALA VALLAZZA   \n",
       "2          1  MOVIMIENTO CENTRO DEMOCRÁTICO  JIMMY JAIRALA VALLAZZA   \n",
       "3          1  MOVIMIENTO CENTRO DEMOCRÁTICO  JIMMY JAIRALA VALLAZZA   \n",
       "4          1  MOVIMIENTO CENTRO DEMOCRÁTICO  JIMMY JAIRALA VALLAZZA   \n",
       "...      ...                            ...                     ...   \n",
       "11221     25           MOVIMIENTO CONSTRUYE           HENRY CUCALON   \n",
       "11222     25           MOVIMIENTO CONSTRUYE           HENRY CUCALON   \n",
       "11223     25           MOVIMIENTO CONSTRUYE           HENRY CUCALON   \n",
       "11224     25           MOVIMIENTO CONSTRUYE           HENRY CUCALON   \n",
       "11225     25           MOVIMIENTO CONSTRUYE           HENRY CUCALON   \n",
       "\n",
       "                Vicepresidente  id_oracion  pagina  \\\n",
       "0      LUCIA VALLECILLA SUAREZ       1_1_1       1   \n",
       "1      LUCIA VALLECILLA SUAREZ       1_1_2       1   \n",
       "2      LUCIA VALLECILLA SUAREZ       1_1_3       1   \n",
       "3      LUCIA VALLECILLA SUAREZ       1_1_4       1   \n",
       "4      LUCIA VALLECILLA SUAREZ       1_1_5       1   \n",
       "...                        ...         ...     ...   \n",
       "11221             CARLA LARREA  25_124_894     124   \n",
       "11222             CARLA LARREA  25_125_895     125   \n",
       "11223             CARLA LARREA  25_125_896     125   \n",
       "11224             CARLA LARREA  25_125_897     125   \n",
       "11225             CARLA LARREA  25_125_898     125   \n",
       "\n",
       "                                        oracion_original  \\\n",
       "0      Introducción\\nEcuador es un país con una profu...   \n",
       "1      Existen 14\\nnacionalidades, 18 pueblos y 3 pue...   \n",
       "2      Por sus particulares características geográfic...   \n",
       "3      Su variada geografía con sus pisos climáticos ...   \n",
       "4      Desde los años setenta del siglo pasado, el Ec...   \n",
       "...                                                  ...   \n",
       "11221  La rendición de cuentas será un mecanismo para...   \n",
       "11222  Firmado digitalmente\\n\\nFirmado electrónicamen...   \n",
       "11223  Agradecemos a los expertos que han\\naportado c...   \n",
       "11224  Se trata de un\\ndocumento de autoría colectiva...   \n",
       "11225  La\\npropiedad intelectual de este documento le...   \n",
       "\n",
       "                                          oracion_limpia  \\\n",
       "0      introduccion ecuador es un pais con una profun...   \n",
       "1      existen 14 nacionalidades 18 pueblos y 3 puebl...   \n",
       "2      por sus particulares caracteristicas geografic...   \n",
       "3      su variada geografia con sus pisos climaticos ...   \n",
       "4      desde los anos setenta del siglo pasado el ecu...   \n",
       "...                                                  ...   \n",
       "11221  la rendicion de cuentas sera un mecanismo para...   \n",
       "11222  firmado digitalmente firmado electronicamente ...   \n",
       "11223  agradecemos a los expertos que han aportado co...   \n",
       "11224  se trata de un documento de autoria colectiva ...   \n",
       "11225  la propiedad intelectual de este documento le ...   \n",
       "\n",
       "                                   oracion_sin_stopwords  \n",
       "0      introduccion ecuador pais profunda rica asombr...  \n",
       "1      existen 14 nacionalidades 18 pueblos 3 pueblos...  \n",
       "2      particulares caracteristicas geograficas consi...  \n",
       "3      variada geografia pisos climaticos hace produc...  \n",
       "4      anos setenta siglo pasado ecuador tambien expo...  \n",
       "...                                                  ...  \n",
       "11221  rendicion cuentas sera mecanismo evaluar dia d...  \n",
       "11222  firmado digitalmente firmado electronicamente ...  \n",
       "11223  agradecemos expertos aportado contenidos plan ...  \n",
       "11224  trata documento autoria colectiva susceptible ...  \n",
       "11225  propiedad intelectual documento pertenece movi...  \n",
       "\n",
       "[11226 rows x 9 columns]"
      ]
     },
     "execution_count": 78,
     "metadata": {},
     "output_type": "execute_result"
    }
   ],
   "source": [
    "df_final"
   ]
  },
  {
   "cell_type": "markdown",
   "metadata": {},
   "source": [
    "PREPROCESAMIENTO DE BIOGRAFIAS:"
   ]
  },
  {
   "cell_type": "markdown",
   "metadata": {},
   "source": [
    "Eliminacion de tíldes"
   ]
  },
  {
   "cell_type": "code",
   "execution_count": 79,
   "metadata": {},
   "outputs": [],
   "source": [
    "def eliminar_tildes(texto):\n",
    "    return ''.join(c for c in unicodedata.normalize('NFD', texto)\n",
    "                  if unicodedata.category(c) != 'Mn')"
   ]
  },
  {
   "cell_type": "markdown",
   "metadata": {},
   "source": [
    "Función para determinar una sección numerada"
   ]
  },
  {
   "cell_type": "code",
   "execution_count": 80,
   "metadata": {},
   "outputs": [],
   "source": [
    "def es_seccion_numerada(texto):\n",
    "    patrones = [\n",
    "        r'^\\d+(\\.\\d+)*\\.',            # Detecta \"1.\", \"1.2.\", \"1.2.3.\" al inicio\n",
    "        r'.*\\s+\\d+(\\.\\d+)*\\.$',       # Detecta números al final \"texto 1.2.\"\n",
    "        r'.*\\s+\\d+(\\.\\d+)*\\s*$'       # Detecta números sin punto al final \"texto 1.2\"\n",
    "    ]\n",
    "    texto = texto.strip()\n",
    "    return any(bool(re.search(patron, texto)) for patron in patrones)\n"
   ]
  },
  {
   "cell_type": "markdown",
   "metadata": {},
   "source": [
    "La función limpia y normaliza el texto, elimina caracteres especiales, convierte a minúsculas y elimina tildes. Se conserva porcentajes, números decimales y se decartan títulos de secciones numeradas de las biografías de los candidatos"
   ]
  },
  {
   "cell_type": "code",
   "execution_count": 81,
   "metadata": {},
   "outputs": [],
   "source": [
    "def limpiar_texto(texto):\n",
    "    if not isinstance(texto, str):\n",
    "        return \"\"\n",
    "    \n",
    "    if es_seccion_numerada(texto):\n",
    "        return \"\"\n",
    "    \n",
    "    # Convertir a minúsculas y eliminar tildes\n",
    "    texto = texto.lower()\n",
    "    texto = eliminar_tildes(texto)\n",
    "    \n",
    "    # Preservar porcentajes y años\n",
    "    texto = re.sub(r'(\\d+[\\.,]?\\d*)\\s*%', r'\\1 por ciento', texto)\n",
    "    \n",
    "    # Preservar números con punto decimal\n",
    "    numeros_decimales = {}\n",
    "    for i, match in enumerate(re.finditer(r'\\d+\\.\\d+', texto)):\n",
    "        placeholder = f'DECIMAL{i}'\n",
    "        numeros_decimales[placeholder] = match.group()\n",
    "        texto = texto.replace(match.group(), placeholder)\n",
    "    \n",
    "    # Eliminar puntuación pero preservar números\n",
    "    texto = re.sub(r'([^\\d\\w\\s]|_)', ' ', texto)\n",
    "    \n",
    "    # Restaurar números decimales\n",
    "    for placeholder, numero in numeros_decimales.items():\n",
    "        texto = texto.replace(placeholder, numero)\n",
    "    \n",
    "    # Eliminar espacios múltiples\n",
    "    texto = re.sub(r'\\s+', ' ', texto)\n",
    "    \n",
    "    return texto.strip()"
   ]
  },
  {
   "cell_type": "markdown",
   "metadata": {},
   "source": [
    "Función que procesa el texto de las biografpias de los candidatos, los divide en oraciones limpias, sin stopwords y los estructura en un DataFrame"
   ]
  },
  {
   "cell_type": "code",
   "execution_count": 82,
   "metadata": {},
   "outputs": [],
   "source": [
    "def procesar_biografia(row):\n",
    "    resultados = []\n",
    "    stopwords_spanish = set(stopwords.words('spanish'))\n",
    "    \n",
    "    texto = row['Biografia']\n",
    "    if not isinstance(texto, str):\n",
    "        return pd.DataFrame()\n",
    "    \n",
    "    oraciones = sent_tokenize(texto.strip())\n",
    "    id_contador = 1\n",
    "    \n",
    "    for oracion in oraciones:\n",
    "        oracion = oracion.strip()\n",
    "        if oracion and (oracion[0].isupper() or oracion.isupper()) and not es_seccion_numerada(oracion):\n",
    "            oracion_limpia = limpiar_texto(oracion)\n",
    "            \n",
    "            if oracion_limpia:\n",
    "                palabras = word_tokenize(oracion_limpia)\n",
    "                sin_stopwords = ' '.join([palabra for palabra in palabras if palabra not in stopwords_spanish])\n",
    "                \n",
    "                resultados.append({\n",
    "                    'Lista': row['Lista'],\n",
    "                    'Partido': row['Partido'],\n",
    "                    'Presidente': row['Presidente'],\n",
    "                    'Vicepresidente': row['Vicepresidente'],\n",
    "                    'id_oracion': f\"{row['Lista']}_1_{id_contador}\",\n",
    "                    'oracion_original': oracion,\n",
    "                    'oracion_limpia': oracion_limpia,\n",
    "                    'oracion_sin_stopwords': sin_stopwords\n",
    "                })\n",
    "                id_contador += 1\n",
    "    \n",
    "    return pd.DataFrame(resultados)"
   ]
  },
  {
   "cell_type": "markdown",
   "metadata": {},
   "source": [
    "Leer el archvico dataframe con las biografías y los carga en un DataFrame"
   ]
  },
  {
   "cell_type": "code",
   "execution_count": 83,
   "metadata": {},
   "outputs": [
    {
     "name": "stdout",
     "output_type": "stream",
     "text": [
      "Leyendo dataframe_con_biografias.csv...\n"
     ]
    }
   ],
   "source": [
    "print(\"Leyendo dataframe_con_biografias.csv...\")\n",
    "df_biografias = pd.read_csv(\"dataframe_con_biografias.csv\")"
   ]
  },
  {
   "cell_type": "markdown",
   "metadata": {},
   "source": [
    "Se procesan las biografías almacenadas aplicando la función procesar_biografia a cada fila y guardando los resultados en un DataFrame"
   ]
  },
  {
   "cell_type": "code",
   "execution_count": 84,
   "metadata": {},
   "outputs": [
    {
     "name": "stdout",
     "output_type": "stream",
     "text": [
      "Procesando biografías...\n"
     ]
    }
   ],
   "source": [
    "dfs_procesados = []\n",
    "\n",
    "print(\"Procesando biografías...\")\n",
    "for _, row in df_biografias.iterrows():\n",
    "    try:\n",
    "        df_procesado = procesar_biografia(row)\n",
    "        if not df_procesado.empty:\n",
    "            dfs_procesados.append(df_procesado)\n",
    "    except Exception as e:\n",
    "        print(f\"Error procesando biografía de Lista {row['Lista']}: {e}\")"
   ]
  },
  {
   "cell_type": "code",
   "execution_count": 85,
   "metadata": {},
   "outputs": [
    {
     "name": "stdout",
     "output_type": "stream",
     "text": [
      "\n",
      "Muestra del DataFrame procesado:\n",
      "   Lista                        Partido              Presidente  \\\n",
      "0      1  MOVIMIENTO CENTRO DEMOCRÁTICO  JIMMY JAIRALA VALLAZZA   \n",
      "1      1  MOVIMIENTO CENTRO DEMOCRÁTICO  JIMMY JAIRALA VALLAZZA   \n",
      "2      1  MOVIMIENTO CENTRO DEMOCRÁTICO  JIMMY JAIRALA VALLAZZA   \n",
      "\n",
      "            Vicepresidente id_oracion  \\\n",
      "0  LUCIA VALLECILLA SUAREZ      1_1_1   \n",
      "1  LUCIA VALLECILLA SUAREZ      1_1_2   \n",
      "2  LUCIA VALLECILLA SUAREZ      1_1_3   \n",
      "\n",
      "                                    oracion_original  \\\n",
      "0  Jimmy Jairala y Lucía Vallecilla – Movimiento ...   \n",
      "1  No registra títulos universitarios en la Secre...   \n",
      "2  Su incursión en la política comenzó en 1992, c...   \n",
      "\n",
      "                                      oracion_limpia  \\\n",
      "0  jimmy jairala y lucia vallecilla movimiento ce...   \n",
      "1  no registra titulos universitarios en la secre...   \n",
      "2  su incursion en la politica comenzo en 1992 cu...   \n",
      "\n",
      "                               oracion_sin_stopwords  \n",
      "0  jimmy jairala lucia vallecilla movimiento cent...  \n",
      "1  registra titulos universitarios secretaria edu...  \n",
      "2  incursion politica comenzo 1992 subsecretario ...  \n",
      "\n",
      "Total de oraciones procesadas: 276\n"
     ]
    }
   ],
   "source": [
    "df_final = pd.concat(dfs_procesados, ignore_index=True)\n",
    "df_final.to_csv(\"biografias_procesadas.csv\", index=False, encoding='utf-8')\n",
    "\n",
    "print(\"\\nMuestra del DataFrame procesado:\")\n",
    "print(df_final.head(3))\n",
    "print(f\"\\nTotal de oraciones procesadas: {len(df_final)}\")"
   ]
  },
  {
   "cell_type": "code",
   "execution_count": 86,
   "metadata": {},
   "outputs": [
    {
     "data": {
      "text/html": [
       "<div>\n",
       "<style scoped>\n",
       "    .dataframe tbody tr th:only-of-type {\n",
       "        vertical-align: middle;\n",
       "    }\n",
       "\n",
       "    .dataframe tbody tr th {\n",
       "        vertical-align: top;\n",
       "    }\n",
       "\n",
       "    .dataframe thead th {\n",
       "        text-align: right;\n",
       "    }\n",
       "</style>\n",
       "<table border=\"1\" class=\"dataframe\">\n",
       "  <thead>\n",
       "    <tr style=\"text-align: right;\">\n",
       "      <th></th>\n",
       "      <th>Lista</th>\n",
       "      <th>Partido</th>\n",
       "      <th>Presidente</th>\n",
       "      <th>Vicepresidente</th>\n",
       "      <th>id_oracion</th>\n",
       "      <th>oracion_original</th>\n",
       "      <th>oracion_limpia</th>\n",
       "      <th>oracion_sin_stopwords</th>\n",
       "    </tr>\n",
       "  </thead>\n",
       "  <tbody>\n",
       "    <tr>\n",
       "      <th>0</th>\n",
       "      <td>1</td>\n",
       "      <td>MOVIMIENTO CENTRO DEMOCRÁTICO</td>\n",
       "      <td>JIMMY JAIRALA VALLAZZA</td>\n",
       "      <td>LUCIA VALLECILLA SUAREZ</td>\n",
       "      <td>1_1_1</td>\n",
       "      <td>Jimmy Jairala y Lucía Vallecilla – Movimiento ...</td>\n",
       "      <td>jimmy jairala y lucia vallecilla movimiento ce...</td>\n",
       "      <td>jimmy jairala lucia vallecilla movimiento cent...</td>\n",
       "    </tr>\n",
       "    <tr>\n",
       "      <th>1</th>\n",
       "      <td>1</td>\n",
       "      <td>MOVIMIENTO CENTRO DEMOCRÁTICO</td>\n",
       "      <td>JIMMY JAIRALA VALLAZZA</td>\n",
       "      <td>LUCIA VALLECILLA SUAREZ</td>\n",
       "      <td>1_1_2</td>\n",
       "      <td>No registra títulos universitarios en la Secre...</td>\n",
       "      <td>no registra titulos universitarios en la secre...</td>\n",
       "      <td>registra titulos universitarios secretaria edu...</td>\n",
       "    </tr>\n",
       "    <tr>\n",
       "      <th>2</th>\n",
       "      <td>1</td>\n",
       "      <td>MOVIMIENTO CENTRO DEMOCRÁTICO</td>\n",
       "      <td>JIMMY JAIRALA VALLAZZA</td>\n",
       "      <td>LUCIA VALLECILLA SUAREZ</td>\n",
       "      <td>1_1_3</td>\n",
       "      <td>Su incursión en la política comenzó en 1992, c...</td>\n",
       "      <td>su incursion en la politica comenzo en 1992 cu...</td>\n",
       "      <td>incursion politica comenzo 1992 subsecretario ...</td>\n",
       "    </tr>\n",
       "    <tr>\n",
       "      <th>3</th>\n",
       "      <td>1</td>\n",
       "      <td>MOVIMIENTO CENTRO DEMOCRÁTICO</td>\n",
       "      <td>JIMMY JAIRALA VALLAZZA</td>\n",
       "      <td>LUCIA VALLECILLA SUAREZ</td>\n",
       "      <td>1_1_4</td>\n",
       "      <td>En 2019 intentó nuevamente ser alcalde de Guay...</td>\n",
       "      <td>en 2019 intento nuevamente ser alcalde de guay...</td>\n",
       "      <td>2019 intento nuevamente ser alcalde guayaquil ...</td>\n",
       "    </tr>\n",
       "    <tr>\n",
       "      <th>4</th>\n",
       "      <td>1</td>\n",
       "      <td>MOVIMIENTO CENTRO DEMOCRÁTICO</td>\n",
       "      <td>JIMMY JAIRALA VALLAZZA</td>\n",
       "      <td>LUCIA VALLECILLA SUAREZ</td>\n",
       "      <td>1_1_5</td>\n",
       "      <td>Centro Democrático ha sido una plataforma polí...</td>\n",
       "      <td>centro democratico ha sido una plataforma poli...</td>\n",
       "      <td>centro democratico sido plataforma politica ca...</td>\n",
       "    </tr>\n",
       "    <tr>\n",
       "      <th>...</th>\n",
       "      <td>...</td>\n",
       "      <td>...</td>\n",
       "      <td>...</td>\n",
       "      <td>...</td>\n",
       "      <td>...</td>\n",
       "      <td>...</td>\n",
       "      <td>...</td>\n",
       "      <td>...</td>\n",
       "    </tr>\n",
       "    <tr>\n",
       "      <th>271</th>\n",
       "      <td>25</td>\n",
       "      <td>MOVIMIENTO CONSTRUYE</td>\n",
       "      <td>HENRY CUCALON</td>\n",
       "      <td>CARLA LARREA</td>\n",
       "      <td>25_1_11</td>\n",
       "      <td>Pensiones: Reformas al sistema de seguridad so...</td>\n",
       "      <td>pensiones reformas al sistema de seguridad social</td>\n",
       "      <td>pensiones reformas sistema seguridad social</td>\n",
       "    </tr>\n",
       "    <tr>\n",
       "      <th>272</th>\n",
       "      <td>25</td>\n",
       "      <td>MOVIMIENTO CONSTRUYE</td>\n",
       "      <td>HENRY CUCALON</td>\n",
       "      <td>CARLA LARREA</td>\n",
       "      <td>25_1_12</td>\n",
       "      <td>Inversión: Alianzas público-privadas para el d...</td>\n",
       "      <td>inversion alianzas publico privadas para el de...</td>\n",
       "      <td>inversion alianzas publico privadas desarrollo...</td>\n",
       "    </tr>\n",
       "    <tr>\n",
       "      <th>273</th>\n",
       "      <td>25</td>\n",
       "      <td>MOVIMIENTO CONSTRUYE</td>\n",
       "      <td>HENRY CUCALON</td>\n",
       "      <td>CARLA LARREA</td>\n",
       "      <td>25_1_13</td>\n",
       "      <td>Carla Larrea\\nCarla Larrea, de 46 años, es ing...</td>\n",
       "      <td>carla larrea carla larrea de 46 anos es ingeni...</td>\n",
       "      <td>carla larrea carla larrea 46 anos ingeniera co...</td>\n",
       "    </tr>\n",
       "    <tr>\n",
       "      <th>274</th>\n",
       "      <td>25</td>\n",
       "      <td>MOVIMIENTO CONSTRUYE</td>\n",
       "      <td>HENRY CUCALON</td>\n",
       "      <td>CARLA LARREA</td>\n",
       "      <td>25_1_14</td>\n",
       "      <td>Su perfil de LinkedIn indica conocimientos en ...</td>\n",
       "      <td>su perfil de linkedin indica conocimientos en ...</td>\n",
       "      <td>perfil linkedin indica conocimientos mercado v...</td>\n",
       "    </tr>\n",
       "    <tr>\n",
       "      <th>275</th>\n",
       "      <td>25</td>\n",
       "      <td>MOVIMIENTO CONSTRUYE</td>\n",
       "      <td>HENRY CUCALON</td>\n",
       "      <td>CARLA LARREA</td>\n",
       "      <td>25_1_15</td>\n",
       "      <td>Su papel en la candidatura se enfoca en la dif...</td>\n",
       "      <td>su papel en la candidatura se enfoca en la dif...</td>\n",
       "      <td>papel candidatura enfoca difusion propuestas c...</td>\n",
       "    </tr>\n",
       "  </tbody>\n",
       "</table>\n",
       "<p>276 rows × 8 columns</p>\n",
       "</div>"
      ],
      "text/plain": [
       "     Lista                        Partido              Presidente  \\\n",
       "0        1  MOVIMIENTO CENTRO DEMOCRÁTICO  JIMMY JAIRALA VALLAZZA   \n",
       "1        1  MOVIMIENTO CENTRO DEMOCRÁTICO  JIMMY JAIRALA VALLAZZA   \n",
       "2        1  MOVIMIENTO CENTRO DEMOCRÁTICO  JIMMY JAIRALA VALLAZZA   \n",
       "3        1  MOVIMIENTO CENTRO DEMOCRÁTICO  JIMMY JAIRALA VALLAZZA   \n",
       "4        1  MOVIMIENTO CENTRO DEMOCRÁTICO  JIMMY JAIRALA VALLAZZA   \n",
       "..     ...                            ...                     ...   \n",
       "271     25           MOVIMIENTO CONSTRUYE           HENRY CUCALON   \n",
       "272     25           MOVIMIENTO CONSTRUYE           HENRY CUCALON   \n",
       "273     25           MOVIMIENTO CONSTRUYE           HENRY CUCALON   \n",
       "274     25           MOVIMIENTO CONSTRUYE           HENRY CUCALON   \n",
       "275     25           MOVIMIENTO CONSTRUYE           HENRY CUCALON   \n",
       "\n",
       "              Vicepresidente id_oracion  \\\n",
       "0    LUCIA VALLECILLA SUAREZ      1_1_1   \n",
       "1    LUCIA VALLECILLA SUAREZ      1_1_2   \n",
       "2    LUCIA VALLECILLA SUAREZ      1_1_3   \n",
       "3    LUCIA VALLECILLA SUAREZ      1_1_4   \n",
       "4    LUCIA VALLECILLA SUAREZ      1_1_5   \n",
       "..                       ...        ...   \n",
       "271             CARLA LARREA    25_1_11   \n",
       "272             CARLA LARREA    25_1_12   \n",
       "273             CARLA LARREA    25_1_13   \n",
       "274             CARLA LARREA    25_1_14   \n",
       "275             CARLA LARREA    25_1_15   \n",
       "\n",
       "                                      oracion_original  \\\n",
       "0    Jimmy Jairala y Lucía Vallecilla – Movimiento ...   \n",
       "1    No registra títulos universitarios en la Secre...   \n",
       "2    Su incursión en la política comenzó en 1992, c...   \n",
       "3    En 2019 intentó nuevamente ser alcalde de Guay...   \n",
       "4    Centro Democrático ha sido una plataforma polí...   \n",
       "..                                                 ...   \n",
       "271  Pensiones: Reformas al sistema de seguridad so...   \n",
       "272  Inversión: Alianzas público-privadas para el d...   \n",
       "273  Carla Larrea\\nCarla Larrea, de 46 años, es ing...   \n",
       "274  Su perfil de LinkedIn indica conocimientos en ...   \n",
       "275  Su papel en la candidatura se enfoca en la dif...   \n",
       "\n",
       "                                        oracion_limpia  \\\n",
       "0    jimmy jairala y lucia vallecilla movimiento ce...   \n",
       "1    no registra titulos universitarios en la secre...   \n",
       "2    su incursion en la politica comenzo en 1992 cu...   \n",
       "3    en 2019 intento nuevamente ser alcalde de guay...   \n",
       "4    centro democratico ha sido una plataforma poli...   \n",
       "..                                                 ...   \n",
       "271  pensiones reformas al sistema de seguridad social   \n",
       "272  inversion alianzas publico privadas para el de...   \n",
       "273  carla larrea carla larrea de 46 anos es ingeni...   \n",
       "274  su perfil de linkedin indica conocimientos en ...   \n",
       "275  su papel en la candidatura se enfoca en la dif...   \n",
       "\n",
       "                                 oracion_sin_stopwords  \n",
       "0    jimmy jairala lucia vallecilla movimiento cent...  \n",
       "1    registra titulos universitarios secretaria edu...  \n",
       "2    incursion politica comenzo 1992 subsecretario ...  \n",
       "3    2019 intento nuevamente ser alcalde guayaquil ...  \n",
       "4    centro democratico sido plataforma politica ca...  \n",
       "..                                                 ...  \n",
       "271        pensiones reformas sistema seguridad social  \n",
       "272  inversion alianzas publico privadas desarrollo...  \n",
       "273  carla larrea carla larrea 46 anos ingeniera co...  \n",
       "274  perfil linkedin indica conocimientos mercado v...  \n",
       "275  papel candidatura enfoca difusion propuestas c...  \n",
       "\n",
       "[276 rows x 8 columns]"
      ]
     },
     "execution_count": 86,
     "metadata": {},
     "output_type": "execute_result"
    }
   ],
   "source": [
    "df_final"
   ]
  },
  {
   "cell_type": "markdown",
   "metadata": {},
   "source": [
    "PREPROCESAMIENTO DE ENTREVISTAS"
   ]
  },
  {
   "cell_type": "markdown",
   "metadata": {},
   "source": [
    "Carga de stopwords en español"
   ]
  },
  {
   "cell_type": "code",
   "execution_count": 87,
   "metadata": {},
   "outputs": [],
   "source": [
    "stopwords_spanish = set(stopwords.words('spanish'))"
   ]
  },
  {
   "cell_type": "markdown",
   "metadata": {},
   "source": [
    "Función de sección numerada de documentos estructurados para las entrevistas"
   ]
  },
  {
   "cell_type": "code",
   "execution_count": 89,
   "metadata": {},
   "outputs": [],
   "source": [
    "def es_seccion_numerada(texto):\n",
    "    patron = r'^\\d+(\\.\\d+)*\\.?\\s*[A-ZÁÉÍÓÚÑ]'\n",
    "    return bool(re.match(patron, texto.strip()))"
   ]
  },
  {
   "cell_type": "markdown",
   "metadata": {},
   "source": [
    "Función que procesa y normaliza el texto de las entrevistas, elimina caracteres especiales, convierte a minúsculas y elimina tildes"
   ]
  },
  {
   "cell_type": "code",
   "execution_count": 90,
   "metadata": {},
   "outputs": [],
   "source": [
    "def limpiar_texto(texto):\n",
    "    if not isinstance(texto, str):\n",
    "        return \"\"\n",
    "    \n",
    "    texto = texto.lower()\n",
    "    texto = eliminar_tildes(texto)\n",
    "    texto = re.sub(r'([^\\d\\w\\s]|_)', ' ', texto)\n",
    "    texto = re.sub(r'\\s+', ' ', texto)\n",
    "    return texto.strip()"
   ]
  },
  {
   "cell_type": "markdown",
   "metadata": {},
   "source": [
    "Función que elimina stopword del texto_limpio de las entrevistas"
   ]
  },
  {
   "cell_type": "code",
   "execution_count": 95,
   "metadata": {},
   "outputs": [],
   "source": [
    "def get_sin_stopwords(texto_limpio):\n",
    "    palabras = word_tokenize(texto_limpio)\n",
    "    return ' '.join(palabra for palabra in palabras if palabra not in stopwords_spanish)"
   ]
  },
  {
   "cell_type": "markdown",
   "metadata": {},
   "source": [
    "Función que extrae y separa las entrevistas de los candidatos presidenciales numeradas en un diccionario, la clave es el número de la entrevista y el valor su contenido"
   ]
  },
  {
   "cell_type": "code",
   "execution_count": 94,
   "metadata": {},
   "outputs": [
    {
     "name": "stderr",
     "output_type": "stream",
     "text": [
      "<>:6: SyntaxWarning: invalid escape sequence '\\d'\n",
      "<>:6: SyntaxWarning: invalid escape sequence '\\d'\n",
      "C:\\Users\\Sloth\\AppData\\Local\\Temp\\ipykernel_16684\\3063081743.py:6: SyntaxWarning: invalid escape sequence '\\d'\n",
      "  patron = f\"{tipo} (\\d+)\"\n"
     ]
    }
   ],
   "source": [
    "def separar_por_entrevistas(texto, tipo='ENTREVISTA'):\n",
    "    if not isinstance(texto, str):\n",
    "        return {}\n",
    "    \n",
    "    # Patrón para dividir por tipo de entrevista (ENTREVISTA, DESCRIPCION o TEMAS)\n",
    "    patron = f\"{tipo} (\\d+)\"\n",
    "    partes = re.split(f\"{patron}\", texto)\n",
    "    \n",
    "    # El primer elemento es texto antes de cualquier marca, lo ignoramos si está vacío\n",
    "    partes = partes[1:] if partes[0].strip() == '' else partes\n",
    "    \n",
    "    # Crear diccionario de entrevistas\n",
    "    entrevistas = {}\n",
    "    for i in range(0, len(partes)-1, 2):\n",
    "        num_entrevista = int(partes[i])\n",
    "        contenido = partes[i+1].strip()\n",
    "        entrevistas[num_entrevista] = contenido\n",
    "    \n",
    "    return entrevistas"
   ]
  },
  {
   "cell_type": "markdown",
   "metadata": {},
   "source": [
    "Función que procesa las entrevistas, extre oraciones, elimina stopwords y las estructura en un DataFrame"
   ]
  },
  {
   "cell_type": "code",
   "execution_count": 91,
   "metadata": {},
   "outputs": [],
   "source": [
    "def procesar_entrevista(row):\n",
    "    resultados = []\n",
    "    \n",
    "    # Separar entrevistas, descripciones y temas\n",
    "    entrevistas = separar_por_entrevistas(row['Entrevistas'], 'ENTREVISTA')\n",
    "    descripciones = separar_por_entrevistas(row['Descripciones'], 'DESCRIPCION ENTREVISTA')\n",
    "    temas = separar_por_entrevistas(row['Temas'], 'TEMAS ENTREVISTA')\n",
    "    \n",
    "    # Procesar cada entrevista\n",
    "    for num_entrevista in entrevistas.keys():\n",
    "        # Obtener texto correspondiente de cada tipo\n",
    "        texto_entrevista = entrevistas.get(num_entrevista, '')\n",
    "        texto_descripcion = descripciones.get(num_entrevista, '')\n",
    "        texto_tema = temas.get(num_entrevista, '')\n",
    "        \n",
    "        # Procesar descripción y tema una vez por entrevista\n",
    "        descripcion_limpia = limpiar_texto(texto_descripcion)\n",
    "        tema_limpio = limpiar_texto(texto_tema)\n",
    "        descripcion_sin_stopwords = get_sin_stopwords(descripcion_limpia)\n",
    "        tema_sin_stopwords = get_sin_stopwords(tema_limpio)\n",
    "        \n",
    "        # Procesar oraciones de la entrevista\n",
    "        if texto_entrevista:\n",
    "            oraciones = sent_tokenize(texto_entrevista.strip())\n",
    "            \n",
    "            for id_contador, oracion in enumerate(oraciones, 1):\n",
    "                oracion = oracion.strip()\n",
    "                if oracion and (oracion[0].isupper() or oracion.isupper()) and not es_seccion_numerada(oracion):\n",
    "                    oracion_limpia = limpiar_texto(oracion)\n",
    "                    \n",
    "                    if oracion_limpia:\n",
    "                        sin_stopwords = get_sin_stopwords(oracion_limpia)\n",
    "                        \n",
    "                        resultados.append({\n",
    "                            'Lista': row['Lista'],\n",
    "                            'Partido': row['Partido'],\n",
    "                            'Presidente': row['Presidente'],\n",
    "                            'Vicepresidente': row['Vicepresidente'],\n",
    "                            'numero_entrevista': num_entrevista,\n",
    "                            'id_oracion': f\"{row['Lista']}_{num_entrevista}_{id_contador}\",\n",
    "                            'oracion_original': oracion,\n",
    "                            'oracion_limpia': oracion_limpia,\n",
    "                            'oracion_sin_stopwords': sin_stopwords,\n",
    "                            'descripcion_original': texto_descripcion,\n",
    "                            'descripcion_limpia': descripcion_limpia,\n",
    "                            'descripcion_sin_stopwords': descripcion_sin_stopwords,\n",
    "                            'tema_original': texto_tema,\n",
    "                            'tema_limpio': tema_limpio,\n",
    "                            'tema_sin_stopwords': tema_sin_stopwords\n",
    "                        })\n",
    "    \n",
    "    return pd.DataFrame(resultados)"
   ]
  },
  {
   "cell_type": "markdown",
   "metadata": {},
   "source": [
    "Llama al archivo csv de las entrevistas y lo carga en un DataFrame"
   ]
  },
  {
   "cell_type": "code",
   "execution_count": 92,
   "metadata": {},
   "outputs": [
    {
     "name": "stdout",
     "output_type": "stream",
     "text": [
      "Leyendo dataframe_con_entrevistas.csv...\n"
     ]
    }
   ],
   "source": [
    "print(\"Leyendo dataframe_con_entrevistas.csv...\")\n",
    "df_entrevistas = pd.read_csv(\"dataframe_con_entrevistas.csv\")"
   ]
  },
  {
   "cell_type": "markdown",
   "metadata": {},
   "source": [
    "Procesamiento de las entrevistas almacenadas en el dataframe aplicando la función procesar_entrevista a cada fila y guardando los resultados en un dataframe"
   ]
  },
  {
   "cell_type": "code",
   "execution_count": 96,
   "metadata": {},
   "outputs": [
    {
     "name": "stdout",
     "output_type": "stream",
     "text": [
      "Procesando entrevistas...\n"
     ]
    }
   ],
   "source": [
    "print(\"Procesando entrevistas...\")\n",
    "dfs_procesados = [procesar_entrevista(row) for _, row in df_entrevistas.iterrows()]\n",
    "dfs_procesados = [df for df in dfs_procesados if not df.empty]"
   ]
  },
  {
   "cell_type": "markdown",
   "metadata": {},
   "source": [
    "Combinar los DataFrames procesados y los guarda en un archivo CSV"
   ]
  },
  {
   "cell_type": "code",
   "execution_count": 97,
   "metadata": {},
   "outputs": [],
   "source": [
    "df_final = pd.concat(dfs_procesados, ignore_index=True)\n",
    "df_final.to_csv(\"entrevistas_procesadas.csv\", index=False, encoding='utf-8')"
   ]
  },
  {
   "cell_type": "code",
   "execution_count": 98,
   "metadata": {},
   "outputs": [
    {
     "name": "stdout",
     "output_type": "stream",
     "text": [
      "\n",
      "Muestra del DataFrame procesado:\n",
      "   Lista                        Partido              Presidente  \\\n",
      "0      1  MOVIMIENTO CENTRO DEMOCRÁTICO  JIMMY JAIRALA VALLAZZA   \n",
      "1      1  MOVIMIENTO CENTRO DEMOCRÁTICO  JIMMY JAIRALA VALLAZZA   \n",
      "2      1  MOVIMIENTO CENTRO DEMOCRÁTICO  JIMMY JAIRALA VALLAZZA   \n",
      "\n",
      "            Vicepresidente  numero_entrevista id_oracion  \\\n",
      "0  LUCIA VALLECILLA SUAREZ                  1      1_1_1   \n",
      "1  LUCIA VALLECILLA SUAREZ                  1      1_1_2   \n",
      "2  LUCIA VALLECILLA SUAREZ                  1      1_1_3   \n",
      "\n",
      "                                    oracion_original  \\\n",
      "0  Entrevista a Jimmy Jairala – Ecuavisa\\n\\nEn es...   \n",
      "1  Es su primer intento por llegar a Carondelet, ...   \n",
      "2  La alcaldía de Guayaquil le fue esquiva en dos...   \n",
      "\n",
      "                                      oracion_limpia  \\\n",
      "0  entrevista a jimmy jairala ecuavisa en esta es...   \n",
      "1  es su primer intento por llegar a carondelet p...   \n",
      "2  la alcaldia de guayaquil le fue esquiva en dos...   \n",
      "\n",
      "                               oracion_sin_stopwords  \\\n",
      "0  entrevista jimmy jairala ecuavisa especial ele...   \n",
      "1  primer intento llegar carondelet postulante di...   \n",
      "2  alcaldia guayaquil esquiva dos ocasiones 2004 ...   \n",
      "\n",
      "                                descripcion_original  \\\n",
      "0  En esta entrevista, Jimmy Jairala, candidato p...   \n",
      "1  En esta entrevista, Jimmy Jairala, candidato p...   \n",
      "2  En esta entrevista, Jimmy Jairala, candidato p...   \n",
      "\n",
      "                                  descripcion_limpia  \\\n",
      "0  en esta entrevista jimmy jairala candidato pre...   \n",
      "1  en esta entrevista jimmy jairala candidato pre...   \n",
      "2  en esta entrevista jimmy jairala candidato pre...   \n",
      "\n",
      "                           descripcion_sin_stopwords  \\\n",
      "0  entrevista jimmy jairala candidato presidencia...   \n",
      "1  entrevista jimmy jairala candidato presidencia...   \n",
      "2  entrevista jimmy jairala candidato presidencia...   \n",
      "\n",
      "                                       tema_original  \\\n",
      "0  Trayectoria política, Centro Democrático, Nico...   \n",
      "1  Trayectoria política, Centro Democrático, Nico...   \n",
      "2  Trayectoria política, Centro Democrático, Nico...   \n",
      "\n",
      "                                         tema_limpio  \\\n",
      "0  trayectoria politica centro democratico nicola...   \n",
      "1  trayectoria politica centro democratico nicola...   \n",
      "2  trayectoria politica centro democratico nicola...   \n",
      "\n",
      "                                  tema_sin_stopwords  \n",
      "0  trayectoria politica centro democratico nicola...  \n",
      "1  trayectoria politica centro democratico nicola...  \n",
      "2  trayectoria politica centro democratico nicola...  \n",
      "\n",
      "Total de oraciones procesadas: 3674\n"
     ]
    }
   ],
   "source": [
    "print(\"\\nMuestra del DataFrame procesado:\")\n",
    "print(df_final.head(3))\n",
    "print(f\"\\nTotal de oraciones procesadas: {len(df_final)}\")"
   ]
  },
  {
   "cell_type": "code",
   "execution_count": 99,
   "metadata": {},
   "outputs": [
    {
     "name": "stdout",
     "output_type": "stream",
     "text": [
      "\n",
      "Distribución de oraciones por número de entrevista:\n",
      "numero_entrevista\n",
      "1    1477\n",
      "2    1438\n",
      "3     759\n",
      "Name: count, dtype: int64\n"
     ]
    }
   ],
   "source": [
    "# Mostrar estadísticas por número de entrevista\n",
    "print(\"\\nDistribución de oraciones por número de entrevista:\")\n",
    "print(df_final['numero_entrevista'].value_counts().sort_index())"
   ]
  },
  {
   "cell_type": "code",
   "execution_count": 100,
   "metadata": {},
   "outputs": [
    {
     "data": {
      "text/html": [
       "<div>\n",
       "<style scoped>\n",
       "    .dataframe tbody tr th:only-of-type {\n",
       "        vertical-align: middle;\n",
       "    }\n",
       "\n",
       "    .dataframe tbody tr th {\n",
       "        vertical-align: top;\n",
       "    }\n",
       "\n",
       "    .dataframe thead th {\n",
       "        text-align: right;\n",
       "    }\n",
       "</style>\n",
       "<table border=\"1\" class=\"dataframe\">\n",
       "  <thead>\n",
       "    <tr style=\"text-align: right;\">\n",
       "      <th></th>\n",
       "      <th>Lista</th>\n",
       "      <th>Partido</th>\n",
       "      <th>Presidente</th>\n",
       "      <th>Vicepresidente</th>\n",
       "      <th>numero_entrevista</th>\n",
       "      <th>id_oracion</th>\n",
       "      <th>oracion_original</th>\n",
       "      <th>oracion_limpia</th>\n",
       "      <th>oracion_sin_stopwords</th>\n",
       "      <th>descripcion_original</th>\n",
       "      <th>descripcion_limpia</th>\n",
       "      <th>descripcion_sin_stopwords</th>\n",
       "      <th>tema_original</th>\n",
       "      <th>tema_limpio</th>\n",
       "      <th>tema_sin_stopwords</th>\n",
       "    </tr>\n",
       "  </thead>\n",
       "  <tbody>\n",
       "    <tr>\n",
       "      <th>0</th>\n",
       "      <td>1</td>\n",
       "      <td>MOVIMIENTO CENTRO DEMOCRÁTICO</td>\n",
       "      <td>JIMMY JAIRALA VALLAZZA</td>\n",
       "      <td>LUCIA VALLECILLA SUAREZ</td>\n",
       "      <td>1</td>\n",
       "      <td>1_1_1</td>\n",
       "      <td>Entrevista a Jimmy Jairala – Ecuavisa\\n\\nEn es...</td>\n",
       "      <td>entrevista a jimmy jairala ecuavisa en esta es...</td>\n",
       "      <td>entrevista jimmy jairala ecuavisa especial ele...</td>\n",
       "      <td>En esta entrevista, Jimmy Jairala, candidato p...</td>\n",
       "      <td>en esta entrevista jimmy jairala candidato pre...</td>\n",
       "      <td>entrevista jimmy jairala candidato presidencia...</td>\n",
       "      <td>Trayectoria política, Centro Democrático, Nico...</td>\n",
       "      <td>trayectoria politica centro democratico nicola...</td>\n",
       "      <td>trayectoria politica centro democratico nicola...</td>\n",
       "    </tr>\n",
       "    <tr>\n",
       "      <th>1</th>\n",
       "      <td>1</td>\n",
       "      <td>MOVIMIENTO CENTRO DEMOCRÁTICO</td>\n",
       "      <td>JIMMY JAIRALA VALLAZZA</td>\n",
       "      <td>LUCIA VALLECILLA SUAREZ</td>\n",
       "      <td>1</td>\n",
       "      <td>1_1_2</td>\n",
       "      <td>Es su primer intento por llegar a Carondelet, ...</td>\n",
       "      <td>es su primer intento por llegar a carondelet p...</td>\n",
       "      <td>primer intento llegar carondelet postulante di...</td>\n",
       "      <td>En esta entrevista, Jimmy Jairala, candidato p...</td>\n",
       "      <td>en esta entrevista jimmy jairala candidato pre...</td>\n",
       "      <td>entrevista jimmy jairala candidato presidencia...</td>\n",
       "      <td>Trayectoria política, Centro Democrático, Nico...</td>\n",
       "      <td>trayectoria politica centro democratico nicola...</td>\n",
       "      <td>trayectoria politica centro democratico nicola...</td>\n",
       "    </tr>\n",
       "    <tr>\n",
       "      <th>2</th>\n",
       "      <td>1</td>\n",
       "      <td>MOVIMIENTO CENTRO DEMOCRÁTICO</td>\n",
       "      <td>JIMMY JAIRALA VALLAZZA</td>\n",
       "      <td>LUCIA VALLECILLA SUAREZ</td>\n",
       "      <td>1</td>\n",
       "      <td>1_1_3</td>\n",
       "      <td>La alcaldía de Guayaquil le fue esquiva en dos...</td>\n",
       "      <td>la alcaldia de guayaquil le fue esquiva en dos...</td>\n",
       "      <td>alcaldia guayaquil esquiva dos ocasiones 2004 ...</td>\n",
       "      <td>En esta entrevista, Jimmy Jairala, candidato p...</td>\n",
       "      <td>en esta entrevista jimmy jairala candidato pre...</td>\n",
       "      <td>entrevista jimmy jairala candidato presidencia...</td>\n",
       "      <td>Trayectoria política, Centro Democrático, Nico...</td>\n",
       "      <td>trayectoria politica centro democratico nicola...</td>\n",
       "      <td>trayectoria politica centro democratico nicola...</td>\n",
       "    </tr>\n",
       "    <tr>\n",
       "      <th>3</th>\n",
       "      <td>1</td>\n",
       "      <td>MOVIMIENTO CENTRO DEMOCRÁTICO</td>\n",
       "      <td>JIMMY JAIRALA VALLAZZA</td>\n",
       "      <td>LUCIA VALLECILLA SUAREZ</td>\n",
       "      <td>1</td>\n",
       "      <td>1_1_4</td>\n",
       "      <td>En cambio, estuvo en la prefectura del Guayas ...</td>\n",
       "      <td>en cambio estuvo en la prefectura del guayas d...</td>\n",
       "      <td>cambio prefectura guayas dos periodos 2009 2018</td>\n",
       "      <td>En esta entrevista, Jimmy Jairala, candidato p...</td>\n",
       "      <td>en esta entrevista jimmy jairala candidato pre...</td>\n",
       "      <td>entrevista jimmy jairala candidato presidencia...</td>\n",
       "      <td>Trayectoria política, Centro Democrático, Nico...</td>\n",
       "      <td>trayectoria politica centro democratico nicola...</td>\n",
       "      <td>trayectoria politica centro democratico nicola...</td>\n",
       "    </tr>\n",
       "    <tr>\n",
       "      <th>4</th>\n",
       "      <td>1</td>\n",
       "      <td>MOVIMIENTO CENTRO DEMOCRÁTICO</td>\n",
       "      <td>JIMMY JAIRALA VALLAZZA</td>\n",
       "      <td>LUCIA VALLECILLA SUAREZ</td>\n",
       "      <td>1</td>\n",
       "      <td>1_1_5</td>\n",
       "      <td>También ganó una curul como diputado, pero ese...</td>\n",
       "      <td>tambien gano una curul como diputado pero ese ...</td>\n",
       "      <td>tambien gano curul diputado cargo solo duro 10...</td>\n",
       "      <td>En esta entrevista, Jimmy Jairala, candidato p...</td>\n",
       "      <td>en esta entrevista jimmy jairala candidato pre...</td>\n",
       "      <td>entrevista jimmy jairala candidato presidencia...</td>\n",
       "      <td>Trayectoria política, Centro Democrático, Nico...</td>\n",
       "      <td>trayectoria politica centro democratico nicola...</td>\n",
       "      <td>trayectoria politica centro democratico nicola...</td>\n",
       "    </tr>\n",
       "    <tr>\n",
       "      <th>...</th>\n",
       "      <td>...</td>\n",
       "      <td>...</td>\n",
       "      <td>...</td>\n",
       "      <td>...</td>\n",
       "      <td>...</td>\n",
       "      <td>...</td>\n",
       "      <td>...</td>\n",
       "      <td>...</td>\n",
       "      <td>...</td>\n",
       "      <td>...</td>\n",
       "      <td>...</td>\n",
       "      <td>...</td>\n",
       "      <td>...</td>\n",
       "      <td>...</td>\n",
       "      <td>...</td>\n",
       "    </tr>\n",
       "    <tr>\n",
       "      <th>3669</th>\n",
       "      <td>25</td>\n",
       "      <td>MOVIMIENTO CONSTRUYE</td>\n",
       "      <td>HENRY CUCALON</td>\n",
       "      <td>CARLA LARREA</td>\n",
       "      <td>3</td>\n",
       "      <td>25_3_62</td>\n",
       "      <td>Finalmente, ¿qué hará con el Consejo de Partic...</td>\n",
       "      <td>finalmente que hara con el consejo de particip...</td>\n",
       "      <td>finalmente hara consejo participacion ciudadan...</td>\n",
       "      <td>En esta entrevista, Henry Cucalón comparte su ...</td>\n",
       "      <td>en esta entrevista henry cucalon comparte su v...</td>\n",
       "      <td>entrevista henry cucalon comparte vision futur...</td>\n",
       "      <td>Carrera política, Partido Social Cristiano, se...</td>\n",
       "      <td>carrera politica partido social cristiano sepa...</td>\n",
       "      <td>carrera politica partido social cristiano sepa...</td>\n",
       "    </tr>\n",
       "    <tr>\n",
       "      <th>3670</th>\n",
       "      <td>25</td>\n",
       "      <td>MOVIMIENTO CONSTRUYE</td>\n",
       "      <td>HENRY CUCALON</td>\n",
       "      <td>CARLA LARREA</td>\n",
       "      <td>3</td>\n",
       "      <td>25_3_63</td>\n",
       "      <td>Mi propuesta es reformar la Constitución.</td>\n",
       "      <td>mi propuesta es reformar la constitucion</td>\n",
       "      <td>propuesta reformar constitucion</td>\n",
       "      <td>En esta entrevista, Henry Cucalón comparte su ...</td>\n",
       "      <td>en esta entrevista henry cucalon comparte su v...</td>\n",
       "      <td>entrevista henry cucalon comparte vision futur...</td>\n",
       "      <td>Carrera política, Partido Social Cristiano, se...</td>\n",
       "      <td>carrera politica partido social cristiano sepa...</td>\n",
       "      <td>carrera politica partido social cristiano sepa...</td>\n",
       "    </tr>\n",
       "    <tr>\n",
       "      <th>3671</th>\n",
       "      <td>25</td>\n",
       "      <td>MOVIMIENTO CONSTRUYE</td>\n",
       "      <td>HENRY CUCALON</td>\n",
       "      <td>CARLA LARREA</td>\n",
       "      <td>3</td>\n",
       "      <td>25_3_64</td>\n",
       "      <td>El primer día de mi gobierno enviaré a la Asam...</td>\n",
       "      <td>el primer dia de mi gobierno enviare a la asam...</td>\n",
       "      <td>primer dia gobierno enviare asamblea nacional ...</td>\n",
       "      <td>En esta entrevista, Henry Cucalón comparte su ...</td>\n",
       "      <td>en esta entrevista henry cucalon comparte su v...</td>\n",
       "      <td>entrevista henry cucalon comparte vision futur...</td>\n",
       "      <td>Carrera política, Partido Social Cristiano, se...</td>\n",
       "      <td>carrera politica partido social cristiano sepa...</td>\n",
       "      <td>carrera politica partido social cristiano sepa...</td>\n",
       "    </tr>\n",
       "    <tr>\n",
       "      <th>3672</th>\n",
       "      <td>25</td>\n",
       "      <td>MOVIMIENTO CONSTRUYE</td>\n",
       "      <td>HENRY CUCALON</td>\n",
       "      <td>CARLA LARREA</td>\n",
       "      <td>3</td>\n",
       "      <td>25_3_65</td>\n",
       "      <td>También reformaré el Consejo de la Judicatura ...</td>\n",
       "      <td>tambien reformare el consejo de la judicatura ...</td>\n",
       "      <td>tambien reformare consejo judicatura limitar f...</td>\n",
       "      <td>En esta entrevista, Henry Cucalón comparte su ...</td>\n",
       "      <td>en esta entrevista henry cucalon comparte su v...</td>\n",
       "      <td>entrevista henry cucalon comparte vision futur...</td>\n",
       "      <td>Carrera política, Partido Social Cristiano, se...</td>\n",
       "      <td>carrera politica partido social cristiano sepa...</td>\n",
       "      <td>carrera politica partido social cristiano sepa...</td>\n",
       "    </tr>\n",
       "    <tr>\n",
       "      <th>3673</th>\n",
       "      <td>25</td>\n",
       "      <td>MOVIMIENTO CONSTRUYE</td>\n",
       "      <td>HENRY CUCALON</td>\n",
       "      <td>CARLA LARREA</td>\n",
       "      <td>3</td>\n",
       "      <td>25_3_66</td>\n",
       "      <td>Creo en la descentralización y en devolver el ...</td>\n",
       "      <td>creo en la descentralizacion y en devolver el ...</td>\n",
       "      <td>creo descentralizacion devolver poder pueblo</td>\n",
       "      <td>En esta entrevista, Henry Cucalón comparte su ...</td>\n",
       "      <td>en esta entrevista henry cucalon comparte su v...</td>\n",
       "      <td>entrevista henry cucalon comparte vision futur...</td>\n",
       "      <td>Carrera política, Partido Social Cristiano, se...</td>\n",
       "      <td>carrera politica partido social cristiano sepa...</td>\n",
       "      <td>carrera politica partido social cristiano sepa...</td>\n",
       "    </tr>\n",
       "  </tbody>\n",
       "</table>\n",
       "<p>3674 rows × 15 columns</p>\n",
       "</div>"
      ],
      "text/plain": [
       "      Lista                        Partido              Presidente  \\\n",
       "0         1  MOVIMIENTO CENTRO DEMOCRÁTICO  JIMMY JAIRALA VALLAZZA   \n",
       "1         1  MOVIMIENTO CENTRO DEMOCRÁTICO  JIMMY JAIRALA VALLAZZA   \n",
       "2         1  MOVIMIENTO CENTRO DEMOCRÁTICO  JIMMY JAIRALA VALLAZZA   \n",
       "3         1  MOVIMIENTO CENTRO DEMOCRÁTICO  JIMMY JAIRALA VALLAZZA   \n",
       "4         1  MOVIMIENTO CENTRO DEMOCRÁTICO  JIMMY JAIRALA VALLAZZA   \n",
       "...     ...                            ...                     ...   \n",
       "3669     25           MOVIMIENTO CONSTRUYE           HENRY CUCALON   \n",
       "3670     25           MOVIMIENTO CONSTRUYE           HENRY CUCALON   \n",
       "3671     25           MOVIMIENTO CONSTRUYE           HENRY CUCALON   \n",
       "3672     25           MOVIMIENTO CONSTRUYE           HENRY CUCALON   \n",
       "3673     25           MOVIMIENTO CONSTRUYE           HENRY CUCALON   \n",
       "\n",
       "               Vicepresidente  numero_entrevista id_oracion  \\\n",
       "0     LUCIA VALLECILLA SUAREZ                  1      1_1_1   \n",
       "1     LUCIA VALLECILLA SUAREZ                  1      1_1_2   \n",
       "2     LUCIA VALLECILLA SUAREZ                  1      1_1_3   \n",
       "3     LUCIA VALLECILLA SUAREZ                  1      1_1_4   \n",
       "4     LUCIA VALLECILLA SUAREZ                  1      1_1_5   \n",
       "...                       ...                ...        ...   \n",
       "3669             CARLA LARREA                  3    25_3_62   \n",
       "3670             CARLA LARREA                  3    25_3_63   \n",
       "3671             CARLA LARREA                  3    25_3_64   \n",
       "3672             CARLA LARREA                  3    25_3_65   \n",
       "3673             CARLA LARREA                  3    25_3_66   \n",
       "\n",
       "                                       oracion_original  \\\n",
       "0     Entrevista a Jimmy Jairala – Ecuavisa\\n\\nEn es...   \n",
       "1     Es su primer intento por llegar a Carondelet, ...   \n",
       "2     La alcaldía de Guayaquil le fue esquiva en dos...   \n",
       "3     En cambio, estuvo en la prefectura del Guayas ...   \n",
       "4     También ganó una curul como diputado, pero ese...   \n",
       "...                                                 ...   \n",
       "3669  Finalmente, ¿qué hará con el Consejo de Partic...   \n",
       "3670          Mi propuesta es reformar la Constitución.   \n",
       "3671  El primer día de mi gobierno enviaré a la Asam...   \n",
       "3672  También reformaré el Consejo de la Judicatura ...   \n",
       "3673  Creo en la descentralización y en devolver el ...   \n",
       "\n",
       "                                         oracion_limpia  \\\n",
       "0     entrevista a jimmy jairala ecuavisa en esta es...   \n",
       "1     es su primer intento por llegar a carondelet p...   \n",
       "2     la alcaldia de guayaquil le fue esquiva en dos...   \n",
       "3     en cambio estuvo en la prefectura del guayas d...   \n",
       "4     tambien gano una curul como diputado pero ese ...   \n",
       "...                                                 ...   \n",
       "3669  finalmente que hara con el consejo de particip...   \n",
       "3670           mi propuesta es reformar la constitucion   \n",
       "3671  el primer dia de mi gobierno enviare a la asam...   \n",
       "3672  tambien reformare el consejo de la judicatura ...   \n",
       "3673  creo en la descentralizacion y en devolver el ...   \n",
       "\n",
       "                                  oracion_sin_stopwords  \\\n",
       "0     entrevista jimmy jairala ecuavisa especial ele...   \n",
       "1     primer intento llegar carondelet postulante di...   \n",
       "2     alcaldia guayaquil esquiva dos ocasiones 2004 ...   \n",
       "3       cambio prefectura guayas dos periodos 2009 2018   \n",
       "4     tambien gano curul diputado cargo solo duro 10...   \n",
       "...                                                 ...   \n",
       "3669  finalmente hara consejo participacion ciudadan...   \n",
       "3670                    propuesta reformar constitucion   \n",
       "3671  primer dia gobierno enviare asamblea nacional ...   \n",
       "3672  tambien reformare consejo judicatura limitar f...   \n",
       "3673       creo descentralizacion devolver poder pueblo   \n",
       "\n",
       "                                   descripcion_original  \\\n",
       "0     En esta entrevista, Jimmy Jairala, candidato p...   \n",
       "1     En esta entrevista, Jimmy Jairala, candidato p...   \n",
       "2     En esta entrevista, Jimmy Jairala, candidato p...   \n",
       "3     En esta entrevista, Jimmy Jairala, candidato p...   \n",
       "4     En esta entrevista, Jimmy Jairala, candidato p...   \n",
       "...                                                 ...   \n",
       "3669  En esta entrevista, Henry Cucalón comparte su ...   \n",
       "3670  En esta entrevista, Henry Cucalón comparte su ...   \n",
       "3671  En esta entrevista, Henry Cucalón comparte su ...   \n",
       "3672  En esta entrevista, Henry Cucalón comparte su ...   \n",
       "3673  En esta entrevista, Henry Cucalón comparte su ...   \n",
       "\n",
       "                                     descripcion_limpia  \\\n",
       "0     en esta entrevista jimmy jairala candidato pre...   \n",
       "1     en esta entrevista jimmy jairala candidato pre...   \n",
       "2     en esta entrevista jimmy jairala candidato pre...   \n",
       "3     en esta entrevista jimmy jairala candidato pre...   \n",
       "4     en esta entrevista jimmy jairala candidato pre...   \n",
       "...                                                 ...   \n",
       "3669  en esta entrevista henry cucalon comparte su v...   \n",
       "3670  en esta entrevista henry cucalon comparte su v...   \n",
       "3671  en esta entrevista henry cucalon comparte su v...   \n",
       "3672  en esta entrevista henry cucalon comparte su v...   \n",
       "3673  en esta entrevista henry cucalon comparte su v...   \n",
       "\n",
       "                              descripcion_sin_stopwords  \\\n",
       "0     entrevista jimmy jairala candidato presidencia...   \n",
       "1     entrevista jimmy jairala candidato presidencia...   \n",
       "2     entrevista jimmy jairala candidato presidencia...   \n",
       "3     entrevista jimmy jairala candidato presidencia...   \n",
       "4     entrevista jimmy jairala candidato presidencia...   \n",
       "...                                                 ...   \n",
       "3669  entrevista henry cucalon comparte vision futur...   \n",
       "3670  entrevista henry cucalon comparte vision futur...   \n",
       "3671  entrevista henry cucalon comparte vision futur...   \n",
       "3672  entrevista henry cucalon comparte vision futur...   \n",
       "3673  entrevista henry cucalon comparte vision futur...   \n",
       "\n",
       "                                          tema_original  \\\n",
       "0     Trayectoria política, Centro Democrático, Nico...   \n",
       "1     Trayectoria política, Centro Democrático, Nico...   \n",
       "2     Trayectoria política, Centro Democrático, Nico...   \n",
       "3     Trayectoria política, Centro Democrático, Nico...   \n",
       "4     Trayectoria política, Centro Democrático, Nico...   \n",
       "...                                                 ...   \n",
       "3669  Carrera política, Partido Social Cristiano, se...   \n",
       "3670  Carrera política, Partido Social Cristiano, se...   \n",
       "3671  Carrera política, Partido Social Cristiano, se...   \n",
       "3672  Carrera política, Partido Social Cristiano, se...   \n",
       "3673  Carrera política, Partido Social Cristiano, se...   \n",
       "\n",
       "                                            tema_limpio  \\\n",
       "0     trayectoria politica centro democratico nicola...   \n",
       "1     trayectoria politica centro democratico nicola...   \n",
       "2     trayectoria politica centro democratico nicola...   \n",
       "3     trayectoria politica centro democratico nicola...   \n",
       "4     trayectoria politica centro democratico nicola...   \n",
       "...                                                 ...   \n",
       "3669  carrera politica partido social cristiano sepa...   \n",
       "3670  carrera politica partido social cristiano sepa...   \n",
       "3671  carrera politica partido social cristiano sepa...   \n",
       "3672  carrera politica partido social cristiano sepa...   \n",
       "3673  carrera politica partido social cristiano sepa...   \n",
       "\n",
       "                                     tema_sin_stopwords  \n",
       "0     trayectoria politica centro democratico nicola...  \n",
       "1     trayectoria politica centro democratico nicola...  \n",
       "2     trayectoria politica centro democratico nicola...  \n",
       "3     trayectoria politica centro democratico nicola...  \n",
       "4     trayectoria politica centro democratico nicola...  \n",
       "...                                                 ...  \n",
       "3669  carrera politica partido social cristiano sepa...  \n",
       "3670  carrera politica partido social cristiano sepa...  \n",
       "3671  carrera politica partido social cristiano sepa...  \n",
       "3672  carrera politica partido social cristiano sepa...  \n",
       "3673  carrera politica partido social cristiano sepa...  \n",
       "\n",
       "[3674 rows x 15 columns]"
      ]
     },
     "execution_count": 100,
     "metadata": {},
     "output_type": "execute_result"
    }
   ],
   "source": [
    "df_final"
   ]
  },
  {
   "cell_type": "markdown",
   "metadata": {},
   "source": [
    "# 2.Recuperación de información"
   ]
  },
  {
   "cell_type": "code",
   "execution_count": 2,
   "metadata": {},
   "outputs": [
    {
     "name": "stdout",
     "output_type": "stream",
     "text": [
      "Collecting numpy==1.25\n",
      "  Downloading numpy-1.25.0.tar.gz (10.4 MB)\n",
      "     ---------------------------------------- 0.0/10.4 MB ? eta -:--:--\n",
      "     -- ------------------------------------- 0.5/10.4 MB 4.2 MB/s eta 0:00:03\n",
      "     ----- ---------------------------------- 1.3/10.4 MB 3.7 MB/s eta 0:00:03\n",
      "     -------- ------------------------------- 2.1/10.4 MB 3.8 MB/s eta 0:00:03\n",
      "     ------------ --------------------------- 3.1/10.4 MB 3.9 MB/s eta 0:00:02\n",
      "     --------------- ------------------------ 3.9/10.4 MB 3.9 MB/s eta 0:00:02\n",
      "     ----------------- ---------------------- 4.5/10.4 MB 3.5 MB/s eta 0:00:02\n",
      "     -------------------- ------------------- 5.2/10.4 MB 3.6 MB/s eta 0:00:02\n",
      "     ----------------------- ---------------- 6.0/10.4 MB 3.6 MB/s eta 0:00:02\n",
      "     ------------------------- -------------- 6.6/10.4 MB 3.6 MB/s eta 0:00:02\n",
      "     ---------------------------- ----------- 7.3/10.4 MB 3.5 MB/s eta 0:00:01\n",
      "     ----------------------------- ---------- 7.6/10.4 MB 3.5 MB/s eta 0:00:01\n",
      "     ------------------------------ --------- 7.9/10.4 MB 3.3 MB/s eta 0:00:01\n",
      "     --------------------------------- ------ 8.7/10.4 MB 3.2 MB/s eta 0:00:01\n",
      "     ------------------------------------ --- 9.4/10.4 MB 3.3 MB/s eta 0:00:01\n",
      "     ---------------------------------------  10.2/10.4 MB 3.3 MB/s eta 0:00:01\n",
      "     ---------------------------------------- 10.4/10.4 MB 3.3 MB/s eta 0:00:00\n",
      "  Installing build dependencies: started\n",
      "  Installing build dependencies: finished with status 'done'\n",
      "  Getting requirements to build wheel: started\n",
      "  Getting requirements to build wheel: finished with status 'error'\n"
     ]
    },
    {
     "name": "stderr",
     "output_type": "stream",
     "text": [
      "  error: subprocess-exited-with-error\n",
      "  \n",
      "  × Getting requirements to build wheel did not run successfully.\n",
      "  │ exit code: 1\n",
      "  ╰─> [33 lines of output]\n",
      "      Traceback (most recent call last):\n",
      "        File \"C:\\Users\\Sloth\\AppData\\Local\\Programs\\Python\\Python312\\Lib\\site-packages\\pip\\_vendor\\pyproject_hooks\\_in_process\\_in_process.py\", line 389, in <module>\n",
      "          main()\n",
      "        File \"C:\\Users\\Sloth\\AppData\\Local\\Programs\\Python\\Python312\\Lib\\site-packages\\pip\\_vendor\\pyproject_hooks\\_in_process\\_in_process.py\", line 373, in main\n",
      "          json_out[\"return_val\"] = hook(**hook_input[\"kwargs\"])\n",
      "                                   ^^^^^^^^^^^^^^^^^^^^^^^^^^^^\n",
      "        File \"C:\\Users\\Sloth\\AppData\\Local\\Programs\\Python\\Python312\\Lib\\site-packages\\pip\\_vendor\\pyproject_hooks\\_in_process\\_in_process.py\", line 137, in get_requires_for_build_wheel\n",
      "          backend = _build_backend()\n",
      "                    ^^^^^^^^^^^^^^^^\n",
      "        File \"C:\\Users\\Sloth\\AppData\\Local\\Programs\\Python\\Python312\\Lib\\site-packages\\pip\\_vendor\\pyproject_hooks\\_in_process\\_in_process.py\", line 70, in _build_backend\n",
      "          obj = import_module(mod_path)\n",
      "                ^^^^^^^^^^^^^^^^^^^^^^^\n",
      "        File \"C:\\Users\\Sloth\\AppData\\Local\\Programs\\Python\\Python312\\Lib\\importlib\\__init__.py\", line 90, in import_module\n",
      "          return _bootstrap._gcd_import(name[level:], package, level)\n",
      "                 ^^^^^^^^^^^^^^^^^^^^^^^^^^^^^^^^^^^^^^^^^^^^^^^^^^^^\n",
      "        File \"<frozen importlib._bootstrap>\", line 1387, in _gcd_import\n",
      "        File \"<frozen importlib._bootstrap>\", line 1360, in _find_and_load\n",
      "        File \"<frozen importlib._bootstrap>\", line 1310, in _find_and_load_unlocked\n",
      "        File \"<frozen importlib._bootstrap>\", line 488, in _call_with_frames_removed\n",
      "        File \"<frozen importlib._bootstrap>\", line 1387, in _gcd_import\n",
      "        File \"<frozen importlib._bootstrap>\", line 1360, in _find_and_load\n",
      "        File \"<frozen importlib._bootstrap>\", line 1331, in _find_and_load_unlocked\n",
      "        File \"<frozen importlib._bootstrap>\", line 935, in _load_unlocked\n",
      "        File \"<frozen importlib._bootstrap_external>\", line 995, in exec_module\n",
      "        File \"<frozen importlib._bootstrap>\", line 488, in _call_with_frames_removed\n",
      "        File \"C:\\Users\\Sloth\\AppData\\Local\\Temp\\pip-build-env-d0615ifg\\overlay\\Lib\\site-packages\\setuptools\\__init__.py\", line 16, in <module>\n",
      "          import setuptools.version\n",
      "        File \"C:\\Users\\Sloth\\AppData\\Local\\Temp\\pip-build-env-d0615ifg\\overlay\\Lib\\site-packages\\setuptools\\version.py\", line 1, in <module>\n",
      "          import pkg_resources\n",
      "        File \"C:\\Users\\Sloth\\AppData\\Local\\Temp\\pip-build-env-d0615ifg\\overlay\\Lib\\site-packages\\pkg_resources\\__init__.py\", line 2172, in <module>\n",
      "          register_finder(pkgutil.ImpImporter, find_on_path)\n",
      "                          ^^^^^^^^^^^^^^^^^^^\n",
      "      AttributeError: module 'pkgutil' has no attribute 'ImpImporter'. Did you mean: 'zipimporter'?\n",
      "      [end of output]\n",
      "  \n",
      "  note: This error originates from a subprocess, and is likely not a problem with pip.\n",
      "\n",
      "[notice] A new release of pip is available: 25.0 -> 25.0.1\n",
      "[notice] To update, run: C:\\Users\\Sloth\\AppData\\Local\\Programs\\Python\\Python312\\python.exe -m pip install --upgrade pip\n",
      "error: subprocess-exited-with-error\n",
      "\n",
      "× Getting requirements to build wheel did not run successfully.\n",
      "│ exit code: 1\n",
      "╰─> See above for output.\n",
      "\n",
      "note: This error originates from a subprocess, and is likely not a problem with pip.\n"
     ]
    }
   ],
   "source": [
    "!pip install numpy==1.25"
   ]
  },
  {
   "cell_type": "code",
   "execution_count": 3,
   "metadata": {},
   "outputs": [
    {
     "name": "stdout",
     "output_type": "stream",
     "text": [
      "Requirement already satisfied: scipy in c:\\users\\sloth\\appdata\\local\\programs\\python\\python312\\lib\\site-packages (1.13.1)\n",
      "Collecting scipy\n",
      "  Using cached scipy-1.15.1-cp312-cp312-win_amd64.whl.metadata (60 kB)\n",
      "Requirement already satisfied: transformers in c:\\users\\sloth\\appdata\\local\\programs\\python\\python312\\lib\\site-packages (4.48.0)\n",
      "Collecting transformers\n",
      "  Using cached transformers-4.48.3-py3-none-any.whl.metadata (44 kB)\n",
      "Requirement already satisfied: sentence-transformers in c:\\users\\sloth\\appdata\\local\\programs\\python\\python312\\lib\\site-packages (3.3.1)\n",
      "Collecting sentence-transformers\n",
      "  Using cached sentence_transformers-3.4.1-py3-none-any.whl.metadata (10 kB)\n",
      "Requirement already satisfied: numpy<2.5,>=1.23.5 in c:\\users\\sloth\\appdata\\local\\programs\\python\\python312\\lib\\site-packages (from scipy) (1.26.4)\n",
      "Requirement already satisfied: filelock in c:\\users\\sloth\\appdata\\local\\programs\\python\\python312\\lib\\site-packages (from transformers) (3.16.1)\n",
      "Requirement already satisfied: huggingface-hub<1.0,>=0.24.0 in c:\\users\\sloth\\appdata\\local\\programs\\python\\python312\\lib\\site-packages (from transformers) (0.27.1)\n",
      "Requirement already satisfied: packaging>=20.0 in c:\\users\\sloth\\appdata\\local\\programs\\python\\python312\\lib\\site-packages (from transformers) (24.2)\n",
      "Requirement already satisfied: pyyaml>=5.1 in c:\\users\\sloth\\appdata\\local\\programs\\python\\python312\\lib\\site-packages (from transformers) (6.0.2)\n",
      "Requirement already satisfied: regex!=2019.12.17 in c:\\users\\sloth\\appdata\\local\\programs\\python\\python312\\lib\\site-packages (from transformers) (2024.11.6)\n",
      "Requirement already satisfied: requests in c:\\users\\sloth\\appdata\\local\\programs\\python\\python312\\lib\\site-packages (from transformers) (2.32.3)\n",
      "Requirement already satisfied: tokenizers<0.22,>=0.21 in c:\\users\\sloth\\appdata\\local\\programs\\python\\python312\\lib\\site-packages (from transformers) (0.21.0)\n",
      "Requirement already satisfied: safetensors>=0.4.1 in c:\\users\\sloth\\appdata\\local\\programs\\python\\python312\\lib\\site-packages (from transformers) (0.5.2)\n",
      "Requirement already satisfied: tqdm>=4.27 in c:\\users\\sloth\\appdata\\local\\programs\\python\\python312\\lib\\site-packages (from transformers) (4.67.1)\n",
      "Requirement already satisfied: torch>=1.11.0 in c:\\users\\sloth\\appdata\\local\\programs\\python\\python312\\lib\\site-packages (from sentence-transformers) (2.5.1)\n",
      "Requirement already satisfied: scikit-learn in c:\\users\\sloth\\appdata\\local\\programs\\python\\python312\\lib\\site-packages (from sentence-transformers) (1.5.2)\n",
      "Requirement already satisfied: Pillow in c:\\users\\sloth\\appdata\\local\\programs\\python\\python312\\lib\\site-packages (from sentence-transformers) (11.1.0)\n",
      "Requirement already satisfied: fsspec>=2023.5.0 in c:\\users\\sloth\\appdata\\local\\programs\\python\\python312\\lib\\site-packages (from huggingface-hub<1.0,>=0.24.0->transformers) (2024.12.0)\n",
      "Requirement already satisfied: typing-extensions>=3.7.4.3 in c:\\users\\sloth\\appdata\\local\\programs\\python\\python312\\lib\\site-packages (from huggingface-hub<1.0,>=0.24.0->transformers) (4.12.2)\n",
      "Requirement already satisfied: networkx in c:\\users\\sloth\\appdata\\local\\programs\\python\\python312\\lib\\site-packages (from torch>=1.11.0->sentence-transformers) (3.4.2)\n",
      "Requirement already satisfied: jinja2 in c:\\users\\sloth\\appdata\\local\\programs\\python\\python312\\lib\\site-packages (from torch>=1.11.0->sentence-transformers) (3.1.4)\n",
      "Requirement already satisfied: setuptools in c:\\users\\sloth\\appdata\\local\\programs\\python\\python312\\lib\\site-packages (from torch>=1.11.0->sentence-transformers) (75.8.0)\n",
      "Requirement already satisfied: sympy==1.13.1 in c:\\users\\sloth\\appdata\\local\\programs\\python\\python312\\lib\\site-packages (from torch>=1.11.0->sentence-transformers) (1.13.1)\n",
      "Requirement already satisfied: mpmath<1.4,>=1.1.0 in c:\\users\\sloth\\appdata\\local\\programs\\python\\python312\\lib\\site-packages (from sympy==1.13.1->torch>=1.11.0->sentence-transformers) (1.3.0)\n",
      "Requirement already satisfied: colorama in c:\\users\\sloth\\appdata\\local\\programs\\python\\python312\\lib\\site-packages (from tqdm>=4.27->transformers) (0.4.6)\n",
      "Requirement already satisfied: charset-normalizer<4,>=2 in c:\\users\\sloth\\appdata\\local\\programs\\python\\python312\\lib\\site-packages (from requests->transformers) (3.4.1)\n",
      "Requirement already satisfied: idna<4,>=2.5 in c:\\users\\sloth\\appdata\\local\\programs\\python\\python312\\lib\\site-packages (from requests->transformers) (3.10)\n",
      "Requirement already satisfied: urllib3<3,>=1.21.1 in c:\\users\\sloth\\appdata\\local\\programs\\python\\python312\\lib\\site-packages (from requests->transformers) (2.3.0)\n",
      "Requirement already satisfied: certifi>=2017.4.17 in c:\\users\\sloth\\appdata\\local\\programs\\python\\python312\\lib\\site-packages (from requests->transformers) (2024.12.14)\n",
      "Requirement already satisfied: joblib>=1.2.0 in c:\\users\\sloth\\appdata\\local\\programs\\python\\python312\\lib\\site-packages (from scikit-learn->sentence-transformers) (1.4.2)\n",
      "Requirement already satisfied: threadpoolctl>=3.1.0 in c:\\users\\sloth\\appdata\\local\\programs\\python\\python312\\lib\\site-packages (from scikit-learn->sentence-transformers) (3.5.0)\n",
      "Requirement already satisfied: MarkupSafe>=2.0 in c:\\users\\sloth\\appdata\\local\\programs\\python\\python312\\lib\\site-packages (from jinja2->torch>=1.11.0->sentence-transformers) (3.0.2)\n",
      "Using cached scipy-1.15.1-cp312-cp312-win_amd64.whl (43.6 MB)\n",
      "Using cached transformers-4.48.3-py3-none-any.whl (9.7 MB)\n",
      "Using cached sentence_transformers-3.4.1-py3-none-any.whl (275 kB)\n",
      "Installing collected packages: scipy, transformers, sentence-transformers\n",
      "  Attempting uninstall: scipy\n",
      "    Found existing installation: scipy 1.13.1\n",
      "    Uninstalling scipy-1.13.1:\n",
      "      Successfully uninstalled scipy-1.13.1\n",
      "  Attempting uninstall: transformers\n",
      "    Found existing installation: transformers 4.48.0\n",
      "    Uninstalling transformers-4.48.0:\n",
      "      Successfully uninstalled transformers-4.48.0\n",
      "  Attempting uninstall: sentence-transformers\n",
      "    Found existing installation: sentence-transformers 3.3.1\n",
      "    Uninstalling sentence-transformers-3.3.1:\n",
      "      Successfully uninstalled sentence-transformers-3.3.1\n",
      "Successfully installed scipy-1.15.1 sentence-transformers-3.4.1 transformers-4.48.3\n"
     ]
    },
    {
     "name": "stderr",
     "output_type": "stream",
     "text": [
      "ERROR: pip's dependency resolver does not currently take into account all the packages that are installed. This behaviour is the source of the following dependency conflicts.\n",
      "gensim 4.3.3 requires scipy<1.14.0,>=1.7.0, but you have scipy 1.15.1 which is incompatible.\n",
      "\n",
      "[notice] A new release of pip is available: 25.0 -> 25.0.1\n",
      "[notice] To update, run: C:\\Users\\Sloth\\AppData\\Local\\Programs\\Python\\Python312\\python.exe -m pip install --upgrade pip\n"
     ]
    }
   ],
   "source": [
    "!pip install --upgrade scipy transformers sentence-transformers"
   ]
  },
  {
   "cell_type": "code",
   "execution_count": 10,
   "metadata": {},
   "outputs": [],
   "source": [
    "#Importar las librerias necesarias\n",
    "import pandas as pd\n",
    "import numpy as np\n",
    "import faiss\n",
    "from sentence_transformers import SentenceTransformer\n",
    "import torch\n",
    "import re\n",
    "from sklearn.feature_extraction.text import TfidfVectorizer\n",
    "from sklearn.metrics.pairwise import cosine_similarity\n",
    "import pickle"
   ]
  },
  {
   "cell_type": "markdown",
   "metadata": {},
   "source": [
    "Función para cargar los datos procesados de los archivos CSV: planes de trabajo, biografías y entrevistas."
   ]
  },
  {
   "cell_type": "code",
   "execution_count": 11,
   "metadata": {},
   "outputs": [],
   "source": [
    "def cargar_datos():\n",
    "    \"\"\"Cargar y preparar los datos de los tres archivos CSV\"\"\"\n",
    "    print(\"Cargando datos...\")\n",
    "    planes = pd.read_csv('planes_trabajo_procesados.csv')\n",
    "    biografias = pd.read_csv('biografias_procesadas.csv')\n",
    "    entrevistas = pd.read_csv('entrevistas_procesadas.csv')\n",
    "\n",
    "    return planes, biografias, entrevistas\n"
   ]
  },
  {
   "cell_type": "markdown",
   "metadata": {},
   "source": [
    "Función que verifica si un texto está adecuado para la búsqueda, se descartan aquellos que sean demasiado cortos o que parezcan códigos o referencias."
   ]
  },
  {
   "cell_type": "code",
   "execution_count": null,
   "metadata": {},
   "outputs": [],
   "source": [
    "def es_texto_valido(texto):\n",
    "    \"\"\"Verifica si el texto es válido para búsqueda\"\"\"\n",
    "    if not isinstance(texto, str):\n",
    "        return False\n",
    "\n",
    "    # Eliminar textos muy cortos\n",
    "    if len(texto.split()) < 5:\n",
    "        return False\n",
    "\n",
    "    # Eliminar textos que son solo códigos o referencias\n",
    "    if re.match(r'^[A-Z0-9\\-\\.]+$', texto.strip()):\n",
    "        return False\n",
    "\n",
    "    \n",
    "    return True\n"
   ]
  },
  {
   "cell_type": "markdown",
   "metadata": {},
   "source": [
    "La función descarta textos muy cortos y normaliza convirtiendo las palabras en minúsculas."
   ]
  },
  {
   "cell_type": "code",
   "execution_count": 13,
   "metadata": {},
   "outputs": [],
   "source": [
    "def preparar_texto_busqueda(texto):\n",
    "    \"\"\"Prepara el texto para búsqueda\"\"\"\n",
    "    if not isinstance(texto, str):\n",
    "        return \"\"\n",
    "    palabras = texto.lower().split()\n",
    "    if len(palabras) > 3:\n",
    "        return texto\n",
    "    return \"\""
   ]
  },
  {
   "cell_type": "markdown",
   "metadata": {},
   "source": [
    "Función que extrae fragmento del texto de una oración que sea relevante en un DataFrame, lo que proporciona un contexto de búsqueda."
   ]
  },
  {
   "cell_type": "code",
   "execution_count": 14,
   "metadata": {},
   "outputs": [],
   "source": [
    "def encontrar_contexto(df, idx, window=2):\n",
    "    \"\"\"Encuentra oraciones de contexto alrededor de un índice\"\"\"\n",
    "    start_idx = max(0, idx - window)\n",
    "    end_idx = min(len(df), idx + window + 1)\n",
    "\n",
    "    #Extraer contexto de oraciones\n",
    "    contexto = []\n",
    "    for i in range(start_idx, end_idx):\n",
    "        if i == idx:\n",
    "            #Marca la oración como RELEVANTE\n",
    "            contexto.append(f\"[RELEVANTE] {df.iloc[i]['oracion_original']}\")\n",
    "        else:\n",
    "            contexto.append(df.iloc[i]['oracion_original'])\n",
    "\n",
    "    return \" \".join(contexto)"
   ]
  },
  {
   "cell_type": "markdown",
   "metadata": {},
   "source": [
    "Función que crea un sistema de búsqueda mejorado basado en TF-IDF, con embeddings de SentenceTransformer y FAISS."
   ]
  },
  {
   "cell_type": "code",
   "execution_count": null,
   "metadata": {},
   "outputs": [],
   "source": [
    "def crear_sistema_busqueda():\n",
    "    \"\"\"Crea el sistema de búsqueda mejorado\"\"\"\n",
    "    planes, biografias, entrevistas = cargar_datos()\n",
    "\n",
    "    # Preparar datos\n",
    "    textos_validos = []\n",
    "    metadata = []\n",
    "\n",
    "    # Procesar planes de trabajo (peso más alto)\n",
    "    for idx, row in planes.iterrows():\n",
    "        if es_texto_valido(row['oracion_limpia']):\n",
    "            textos_validos.append(row['oracion_limpia'])\n",
    "            metadata.append({\n",
    "                'tipo': 'plan',\n",
    "                'peso': 1.2,  # Mayor peso para planes\n",
    "                'lista': row['Lista'],\n",
    "                'partido': row['Partido'],\n",
    "                'presidente': row['Presidente'],\n",
    "                'vicepresidente': row['Vicepresidente'],\n",
    "                'texto_original': row['oracion_original'],\n",
    "                'texto_contexto': encontrar_contexto(planes, idx),\n",
    "                'id_oracion': row['id_oracion']\n",
    "            })\n",
    "\n",
    "    # Procesar entrevistas\n",
    "    for idx, row in entrevistas.iterrows():\n",
    "        if es_texto_valido(row['oracion_limpia']):\n",
    "            textos_validos.append(row['oracion_limpia'])\n",
    "            metadata.append({\n",
    "                'tipo': 'entrevista',\n",
    "                'peso': 1.1,  # Peso medio para entrevistas\n",
    "                'lista': row['Lista'],\n",
    "                'partido': row['Partido'],\n",
    "                'presidente': row['Presidente'],\n",
    "                'vicepresidente': row['Vicepresidente'],\n",
    "                'numero_entrevista': row['numero_entrevista'],\n",
    "                'texto_original': row['oracion_original'],\n",
    "                'texto_contexto': encontrar_contexto(entrevistas, idx),\n",
    "                'descripcion': row['descripcion_original'],\n",
    "                'tema': row['tema_original'],\n",
    "                'id_oracion': row['id_oracion']\n",
    "            })\n",
    "\n",
    "    # Procesar biografías (peso más bajo)\n",
    "    for idx, row in biografias.iterrows():\n",
    "        if es_texto_valido(row['oracion_limpia']):\n",
    "            textos_validos.append(row['oracion_limpia'])\n",
    "            metadata.append({\n",
    "                'tipo': 'biografia',\n",
    "                'peso': 1.0,  # Peso base para biografías\n",
    "                'lista': row['Lista'],\n",
    "                'partido': row['Partido'],\n",
    "                'presidente': row['Presidente'],\n",
    "                'vicepresidente': row['Vicepresidente'],\n",
    "                'texto_original': row['oracion_original'],\n",
    "                'texto_contexto': encontrar_contexto(biografias, idx),\n",
    "                'id_oracion': row['id_oracion']\n",
    "            })\n",
    "\n",
    "    print(f\"Total de textos válidos procesados: {len(textos_validos)}\")\n",
    "\n",
    "    # Crear vectorizador TF-IDF para pre-filtrado\n",
    "    print(\"Creando vectorizador TF-IDF...\")\n",
    "    vectorizer = TfidfVectorizer(min_df=2, ngram_range=(1, 2))\n",
    "    tfidf_matrix = vectorizer.fit_transform(textos_validos)\n",
    "\n",
    "    # Crear modelo de embeddings\n",
    "    print(\"Generando embeddings...\")\n",
    "    model = SentenceTransformer('paraphrase-multilingual-mpnet-base-v2')\n",
    "    embeddings = model.encode(textos_validos, batch_size=32, show_progress_bar=True)\n",
    "\n",
    "    # Crear índice FAISS\n",
    "    print(\"Creando índice FAISS...\")\n",
    "    dimension = embeddings.shape[1]\n",
    "    index = faiss.IndexFlatL2(dimension)\n",
    "    index.add(embeddings.astype('float32'))\n",
    "\n",
    "\n",
    "    \"\"\"Devuelve un diccionario \n",
    "        index: índice FAISS para búsqueda semántica\n",
    "        metadata: información de cada oración\n",
    "        model: Modelo SentenceTransformer para nuevas consultas\n",
    "        vectorizar: Modelo TF-IDF para búsqueda lexica\n",
    "        tfidf_matrix: Representación TF-IDF de los textos\n",
    "        textos_validos: lista de textos procesados.\"\"\"\n",
    "\n",
    "    return {\n",
    "        'index': index,\n",
    "        'metadata': metadata,\n",
    "        'model': model,\n",
    "        'vectorizer': vectorizer,\n",
    "        'tfidf_matrix': tfidf_matrix,\n",
    "        'textos_validos': textos_validos\n",
    "    }"
   ]
  },
  {
   "cell_type": "markdown",
   "metadata": {},
   "source": [
    "Función que realiza una búsqueda híbrida combinando TF-IDF y FAISS utilizando un umbral de similitud para filtrar resultados irrelevantes."
   ]
  },
  {
   "cell_type": "code",
   "execution_count": 16,
   "metadata": {},
   "outputs": [],
   "source": [
    "def buscar(query, sistema, k=5, umbral_similitud=0.3):\n",
    "    \"\"\"Realiza una búsqueda mejorada\"\"\"\n",
    "    # Pre-filtrado con TF-IDF\n",
    "    query_vec = sistema['vectorizer'].transform([query])\n",
    "    similitudes = cosine_similarity(query_vec, sistema['tfidf_matrix']).flatten()\n",
    "\n",
    "    # Obtener índices de documentos relevantes\n",
    "    indices_relevantes = np.where(similitudes > umbral_similitud)[0]\n",
    "\n",
    "    if len(indices_relevantes) == 0:\n",
    "        return []\n",
    "\n",
    "    # Generar embedding para la consulta\n",
    "    query_embedding = sistema['model'].encode([query])\n",
    "\n",
    "    # Buscar en FAISS\n",
    "    index_subset = faiss.IndexFlatL2(sistema['index'].d)\n",
    "    index_subset.add(sistema['index'].get_xb()[indices_relevantes])\n",
    "\n",
    "    D, I = index_subset.search(query_embedding.astype('float32'), min(k, len(indices_relevantes)))\n",
    "\n",
    "    # Mapear resultados y aplicar pesos\n",
    "    resultados = []\n",
    "    for i, (dist, idx) in enumerate(zip(D[0], I[0])):\n",
    "        idx_original = indices_relevantes[idx]\n",
    "        meta = sistema['metadata'][idx_original]\n",
    "\n",
    "        dist_ajustada = dist / meta['peso']\n",
    "\n",
    "        #Construcción de estructura de resultado\n",
    "        resultado = {\n",
    "            'ranking': i + 1,\n",
    "            'distancia': dist_ajustada,\n",
    "            'texto_original': meta['texto_original'],\n",
    "            'texto_contexto': meta['texto_contexto'],\n",
    "            'tipo': meta['tipo'],\n",
    "            'lista': meta['lista'],\n",
    "            'partido': meta['partido'],\n",
    "            'presidente': meta['presidente'],\n",
    "            'id_oracion': meta['id_oracion']\n",
    "        }\n",
    "\n",
    "        #Si el resultado es una entrevista, añade más información\n",
    "        if meta['tipo'] == 'entrevista':\n",
    "            resultado.update({\n",
    "                'numero_entrevista': meta['numero_entrevista'],\n",
    "                'descripcion': meta['descripcion'],\n",
    "                'tema': meta['tema']\n",
    "            })\n",
    "\n",
    "        resultados.append(resultado)\n",
    "\n",
    "    #Ordena los resultados de menor a mayor distancia\n",
    "    #Retorna los resultados como una lista de diccionarios\n",
    "    return sorted(resultados, key=lambda x: x['distancia'])\n"
   ]
  },
  {
   "cell_type": "markdown",
   "metadata": {},
   "source": [
    "Crea , guarda y permite la búsqueda en el sistema de recuperación de información. Se utiliza FAISS, pickle y TF-IDF para optimizar la consulta."
   ]
  },
  {
   "cell_type": "code",
   "execution_count": 17,
   "metadata": {},
   "outputs": [
    {
     "name": "stdout",
     "output_type": "stream",
     "text": [
      "Creando sistema de búsqueda...\n",
      "Cargando datos...\n",
      "Total de textos válidos procesados: 14820\n",
      "Creando vectorizador TF-IDF...\n",
      "Generando embeddings...\n"
     ]
    },
    {
     "data": {
      "application/vnd.jupyter.widget-view+json": {
       "model_id": "e0a15b93b157418d9a7487b6e8c44535",
       "version_major": 2,
       "version_minor": 0
      },
      "text/plain": [
       "Batches:   0%|          | 0/464 [00:00<?, ?it/s]"
      ]
     },
     "metadata": {},
     "output_type": "display_data"
    },
    {
     "name": "stdout",
     "output_type": "stream",
     "text": [
      "Creando índice FAISS...\n",
      "Guardando sistema en sistema_busqueda.pkl...\n",
      "Sistema guardado exitosamente!\n",
      "\n",
      "Sistema listo para usar!\n"
     ]
    }
   ],
   "source": [
    "\n",
    "if __name__ == \"__main__\":\n",
    "    # Crear el sistema\n",
    "    print(\"Creando sistema de búsqueda...\")\n",
    "    sistema = crear_sistema_busqueda()\n",
    "\n",
    "    # Guardar el sistema\n",
    "    print(\"Guardando sistema en sistema_busqueda.pkl...\")\n",
    "    sistema_para_guardar = {\n",
    "        'index': faiss.serialize_index(sistema['index']),\n",
    "        'metadata': sistema['metadata'],\n",
    "        'vectorizer': sistema['vectorizer'],\n",
    "        'tfidf_matrix': sistema['tfidf_matrix'],\n",
    "        'textos_validos': sistema['textos_validos']\n",
    "    }\n",
    "\n",
    "    with open('sistema_busqueda.pkl', 'wb') as f:\n",
    "        pickle.dump(sistema_para_guardar, f)\n",
    "\n",
    "    print(\"Sistema guardado exitosamente!\")\n",
    "\n",
    "    def realizar_busqueda(query, k=5):\n",
    "        \"\"\"Función para realizar búsquedas\"\"\"\n",
    "        print(f\"\\nBuscando: {query}\")\n",
    "        resultados = buscar(query, sistema, k)\n",
    "\n",
    "        if not resultados:\n",
    "            print(\"No se encontraron resultados relevantes.\")\n",
    "            return\n",
    "\n",
    "        print(\"\\nResultados encontrados:\")\n",
    "        for r in resultados:\n",
    "            print(f\"\\nRanking: {r['ranking']}\")\n",
    "            print(f\"Tipo: {r['tipo']}\")\n",
    "            print(f\"Lista: {r['lista']} - Partido: {r['partido']}\")\n",
    "            print(f\"Presidente: {r['presidente']}\")\n",
    "            print(f\"ID: {r['id_oracion']}\")\n",
    "            print(\"\\nContexto:\")\n",
    "            print(r['texto_contexto'])\n",
    "            print(f\"\\nDistancia: {r['distancia']:.4f}\")\n",
    "\n",
    "            if r['tipo'] == 'entrevista':\n",
    "                print(f\"\\nNúmero de entrevista: {r['numero_entrevista']}\")\n",
    "                print(f\"Tema: {r['tema']}\")\n",
    "                print(f\"Descripción: {r['descripcion']}\")\n",
    "\n",
    "    print(\"\\nSistema listo para usar!\")"
   ]
  },
  {
   "cell_type": "markdown",
   "metadata": {},
   "source": [
    "#### Refinamiento del sistema"
   ]
  },
  {
   "cell_type": "code",
   "execution_count": 1,
   "metadata": {},
   "outputs": [
    {
     "name": "stdout",
     "output_type": "stream",
     "text": [
      "WARNING:tensorflow:From C:\\Users\\USER\\anaconda3\\lib\\site-packages\\keras\\src\\losses.py:2976: The name tf.losses.sparse_softmax_cross_entropy is deprecated. Please use tf.compat.v1.losses.sparse_softmax_cross_entropy instead.\n",
      "\n"
     ]
    }
   ],
   "source": [
    "#importar librerías\n",
    "import pickle\n",
    "import faiss\n",
    "from sentence_transformers import SentenceTransformer\n",
    "from sklearn.feature_extraction.text import TfidfVectorizer\n",
    "import numpy as np\n",
    "from sklearn.metrics.pairwise import cosine_similarity\n",
    "import unicodedata\n",
    "import re"
   ]
  },
  {
   "cell_type": "markdown",
   "metadata": {},
   "source": [
    "Función para cargar el sistema de búsquesa desde el archivo sistema_busqueda.pkl, se evita así la reconstrucción desde cero."
   ]
  },
  {
   "cell_type": "code",
   "execution_count": 2,
   "metadata": {},
   "outputs": [],
   "source": [
    "\n",
    "def cargar_sistema():\n",
    "    \"\"\"Carga el sistema de búsqueda guardado\"\"\"\n",
    "    print(\"Cargando sistema de búsqueda...\")\n",
    "    with open('sistema_busqueda.pkl', 'rb') as f:\n",
    "        #pickle permite guardar y recuperar el sistema \n",
    "        #sin necesidad de recalcular modelos\n",
    "        data = pickle.load(f)\n",
    "\n",
    "    # FAISS no se puede almacenar directamente en pickle\n",
    "    # por lo que se guarda en formato serializado\n",
    "\n",
    "    data['index'] = faiss.deserialize_index(data['index'])\n",
    "    return data"
   ]
  },
  {
   "cell_type": "markdown",
   "metadata": {},
   "source": [
    "Función de normalización del texto: se eliminan tildes, convertir a minúsculas y limpiar caracteres especiales."
   ]
  },
  {
   "cell_type": "code",
   "execution_count": 20,
   "metadata": {},
   "outputs": [],
   "source": [
    "def normalizar_texto(texto):\n",
    "    \"\"\"Normaliza el texto: elimina tildes, convierte a minúsculas y elimina caracteres especiales\"\"\"\n",
    "    if not isinstance(texto, str):\n",
    "        return \"\"\n",
    "    # Convertir a minúsculas\n",
    "    texto = texto.lower()\n",
    "    # Eliminar tildes\n",
    "    texto = ''.join(c for c in unicodedata.normalize('NFD', texto)\n",
    "                   if unicodedata.category(c) != 'Mn')\n",
    "    # Eliminar caracteres especiales\n",
    "    texto = re.sub(r'[^\\w\\s]', ' ', texto)\n",
    "    # Eliminar espacios múltiples\n",
    "    texto = re.sub(r'\\s+', ' ', texto)\n",
    "    return texto.strip()"
   ]
  },
  {
   "cell_type": "markdown",
   "metadata": {},
   "source": [
    "Función que verifica si una query hace referencia a uno de los nombres de un candidato presidencial, compara palabras clave."
   ]
  },
  {
   "cell_type": "code",
   "execution_count": 21,
   "metadata": {},
   "outputs": [],
   "source": [
    "\n",
    "def es_nombre_presidente(query, presidente):\n",
    "    \"\"\"Verifica si la consulta corresponde al nombre del presidente\"\"\"\n",
    "    # Normalizar tanto la consulta como el nombre del presidente\n",
    "    query_norm = normalizar_texto(query)\n",
    "    presidente_norm = normalizar_texto(presidente)\n",
    "\n",
    "    # Obtener palabras normalizadas\n",
    "    query_words = set(query_norm.split())\n",
    "    presidente_words = set(presidente_norm.split())\n",
    "\n",
    "    # Contar palabras coincidentes\n",
    "    palabras_coincidentes = query_words.intersection(presidente_words)\n",
    "\n",
    "    # Verificar si el nombre completo está contenido\n",
    "    if query_norm in presidente_norm or presidente_norm in query_norm:\n",
    "        return True\n",
    "\n",
    "    # Verificar coincidencia de palabras individuales\n",
    "    return len(palabras_coincidentes) >= 2"
   ]
  },
  {
   "cell_type": "markdown",
   "metadata": {},
   "source": [
    "Función que asigna un puntaje de relevancia usando una lista de factores. Se da un peso especial a las biografías de los candidatos cuando la consulta menciona el nombre."
   ]
  },
  {
   "cell_type": "code",
   "execution_count": 22,
   "metadata": {},
   "outputs": [],
   "source": [
    "def calcular_relevancia(query, texto, meta):\n",
    "    \"\"\"Calcula un puntaje de relevancia incluyendo peso especial para biografías de presidentes\"\"\"\n",
    "    # Factores de relevancia\n",
    "    factores = {\n",
    "        'palabras_clave': 0,\n",
    "        'exactitud': 0,\n",
    "        'tipo_doc': 0,\n",
    "        'posicion': 0,\n",
    "        'longitud': 0\n",
    "    }\n",
    "\n",
    "    # Normalizar textos para comparación\n",
    "    texto_norm = normalizar_texto(texto)\n",
    "    query_norm = normalizar_texto(query)\n",
    "    query_words = set(query_norm.split())\n",
    "\n",
    "    # Contar palabras clave encontradas\n",
    "    palabras_encontradas = sum(1 for word in query_words if word in texto_norm)\n",
    "    factores['palabras_clave'] = palabras_encontradas / len(query_words) if query_words else 0\n",
    "\n",
    "    # Verificar coincidencia exacta de frases\n",
    "    if query_norm in texto_norm:\n",
    "        factores['exactitud'] = 1.0\n",
    "\n",
    "    # Peso por tipo de documento con ajuste para biografías de presidentes\n",
    "    pesos_tipo = {\n",
    "        'plan': 1.3,\n",
    "        'entrevista': 1.2,\n",
    "        'biografia': 1.0\n",
    "    }\n",
    "    peso_base = pesos_tipo.get(meta['tipo'], 1.0)\n",
    "\n",
    "    # Ajustar peso si es biografía del presidente buscado\n",
    "    if meta['tipo'] == 'biografia' and es_nombre_presidente(query, meta['presidente']):\n",
    "        peso_base *= 2.5  # Aumentar más el peso para biografías del presidente buscado\n",
    "        factores['exactitud'] = 1.0  # Dar máxima exactitud si coincide el nombre\n",
    "\n",
    "    factores['tipo_doc'] = peso_base\n",
    "\n",
    "    # Posición de las palabras clave\n",
    "    primera_aparicion = min((texto_norm.find(word) for word in query_words\n",
    "                           if word in texto_norm), default=len(texto_norm))\n",
    "    factores['posicion'] = 1.0 - (primera_aparicion / len(texto_norm))\n",
    "\n",
    "    # Penalización por longitud\n",
    "    palabras_texto = len(texto.split())\n",
    "    if 10 <= palabras_texto <= 50:\n",
    "        factores['longitud'] = 1.0\n",
    "    else:\n",
    "        factores['longitud'] = 0.8\n",
    "\n",
    "    # Pesos para cada factor\n",
    "    pesos = {\n",
    "        'palabras_clave': 0.35,\n",
    "        'exactitud': 0.25,\n",
    "        'tipo_doc': 0.20,\n",
    "        'posicion': 0.15,\n",
    "        'longitud': 0.05\n",
    "    }\n",
    "\n",
    "    # Calcular puntaje final\n",
    "    puntaje = sum(factor * pesos[nombre] for nombre, factor in factores.items())\n",
    "    return puntaje"
   ]
  },
  {
   "cell_type": "markdown",
   "metadata": {},
   "source": [
    "Función que realiza una búsqueda híbrida combinando filtrado inicial con TF_IDF, búsqueda semántica con SentenceTransformer y FAISS."
   ]
  },
  {
   "cell_type": "code",
   "execution_count": 23,
   "metadata": {},
   "outputs": [],
   "source": [
    "def buscar(query, k=5, umbral_similitud=0.3):\n",
    "    \"\"\"Realiza una búsqueda mejorada con mejor ranking\"\"\"\n",
    "    sistema = cargar_sistema()\n",
    "\n",
    "    # Pre-filtrado con TF-IDF\n",
    "    query_vec = sistema['vectorizer'].transform([query])\n",
    "    similitudes = cosine_similarity(query_vec, sistema['tfidf_matrix']).flatten()\n",
    "    indices_relevantes = np.where(similitudes > umbral_similitud)[0]\n",
    "\n",
    "    if len(indices_relevantes) == 0:\n",
    "        return []\n",
    "\n",
    "    # Búsqueda semántica con FAISS\n",
    "    model = SentenceTransformer('paraphrase-multilingual-mpnet-base-v2')\n",
    "    query_embedding = model.encode([query]).astype('float32')\n",
    "    D, I = sistema['index'].search(query_embedding, k*2)  # Buscamos más resultados para filtrar\n",
    "\n",
    "    # Preparar resultados con nuevo sistema de ranking\n",
    "    resultados = []\n",
    "    for i, (dist, idx) in enumerate(zip(D[0], I[0])):\n",
    "        if idx < len(sistema['metadata']):\n",
    "            meta = sistema['metadata'][idx]\n",
    "\n",
    "            # Calcular relevancia personalizada\n",
    "            relevancia = calcular_relevancia(\n",
    "                query,\n",
    "                meta['texto_original'],\n",
    "                meta\n",
    "            )\n",
    "\n",
    "            # Ajustar distancia por relevancia\n",
    "            dist_ajustada = dist / (relevancia + 0.1)  # Evitar división por cero\n",
    "\n",
    "            resultado = {\n",
    "                'distancia_original': dist,\n",
    "                'relevancia': relevancia,\n",
    "                'distancia_ajustada': dist_ajustada,\n",
    "                'texto_original': meta['texto_original'],\n",
    "                'texto_contexto': meta['texto_contexto'],\n",
    "                'tipo': meta['tipo'],\n",
    "                'lista': meta['lista'],\n",
    "                'partido': meta['partido'],\n",
    "                'presidente': meta['presidente'],\n",
    "                'id_oracion': meta['id_oracion']\n",
    "            }\n",
    "\n",
    "            if meta['tipo'] == 'entrevista':\n",
    "                resultado.update({\n",
    "                    'numero_entrevista': meta['numero_entrevista'],\n",
    "                    'descripcion': meta['descripcion'],\n",
    "                    'tema': meta['tema']\n",
    "                })\n",
    "\n",
    "            resultados.append(resultado)\n",
    "\n",
    "    # Ordenar por relevancia y distancia ajustada\n",
    "    resultados = sorted(resultados,\n",
    "                       key=lambda x: (-x['relevancia'], x['distancia_ajustada']))\n",
    "\n",
    "    # Tomar los k mejores resultados\n",
    "    return resultados[:k]\n"
   ]
  },
  {
   "cell_type": "markdown",
   "metadata": {},
   "source": [
    "Función para mostrar el resultado de la búsqueda con un formato"
   ]
  },
  {
   "cell_type": "code",
   "execution_count": 24,
   "metadata": {},
   "outputs": [],
   "source": [
    "def mostrar_resultados(query, k=5):\n",
    "    \"\"\"Muestra los resultados de búsqueda de manera formateada\"\"\"\n",
    "    print(f\"\\nBuscando: {query}\")\n",
    "    resultados = buscar(query, k)\n",
    "\n",
    "    if not resultados:\n",
    "        print(\"No se encontraron resultados relevantes.\")\n",
    "        return\n",
    "\n",
    "    print(\"\\nResultados encontrados:\")\n",
    "    for i, r in enumerate(resultados, 1):\n",
    "        print(f\"\\nRanking: {i}\")\n",
    "        print(f\"Tipo: {r['tipo']}\")\n",
    "        print(f\"Lista: {r['lista']} - Partido: {r['partido']}\")\n",
    "        print(f\"Presidente: {r['presidente']}\")\n",
    "        print(f\"ID: {r['id_oracion']}\")\n",
    "        print(f\"Relevancia: {r['relevancia']:.4f}\")\n",
    "        print(\"\\nContexto:\")\n",
    "        print(r['texto_contexto'])\n",
    "\n",
    "        if r['tipo'] == 'entrevista':\n",
    "            print(f\"\\nNúmero de entrevista: {r['numero_entrevista']}\")\n",
    "            print(f\"Tema: {r['tema']}\")\n",
    "            print(f\"Descripción: {r['descripcion']}\")"
   ]
  },
  {
   "cell_type": "code",
   "execution_count": 19,
   "metadata": {},
   "outputs": [
    {
     "name": "stdout",
     "output_type": "stream",
     "text": [
      "Sistema de búsqueda listo.\n",
      "\n",
      "==================================================\n",
      "\n",
      "Buscando: que candidato propone construir hospitales\n",
      "Cargando sistema de búsqueda...\n",
      "\n",
      "Resultados encontrados:\n",
      "\n",
      "Ranking: 1\n",
      "Tipo: plan\n",
      "Lista: 2 - Partido: PARTIDO UNIDAD POPULAR\n",
      "Presidente: JORGE ESCALA\n",
      "ID: 2_25_256\n",
      "Relevancia: 0.5619\n",
      "\n",
      "Contexto:\n",
      "Plan nacional de vacunación integral\n",
      "Conformación de la industria farmacéutica nacional, que le permita a la población\n",
      "tener acceso a medicamentos a precios accesibles. Cero tolerancia a la corrupción, los directores distritales y de hospitales, cada 3\n",
      "meses deberán rendir informes a la comunidad, del manejo financiero de su\n",
      "unidad y sector. [RELEVANTE] Se eliminarán los cargos burocráticos de gerencias hospitalarias que solo han\n",
      "servido para inflar la nómina y como vectores de la corrupción, se rescatará la\n",
      "dirección técnica de los hospitales con su Consejo Técnico Hospitalario, que serán\n",
      "los responsables del manejo y orientación de cada hospital, encuadrados en el\n",
      "sistema único nacional de salud. Rescataremos el SNEM Servicio Nacional de Erradicación de la Malaria y el\n",
      "Instituto Nacional de Higiene, para transformarlo en un referente sudamericano\n",
      "de investigación y producción científica. Universalización del servicio de ambulancias hospitalarias, con lo que cada\n",
      "ambulancia estará a la orden del hospital que las necesite.\n",
      "\n",
      "Ranking: 2\n",
      "Tipo: entrevista\n",
      "Lista: 17 - Partido: PARTIDO SOCIALISTA ECUATORIANO\n",
      "Presidente: PEDRO GRANJA\n",
      "ID: 17_2_43\n",
      "Relevancia: 0.5168\n",
      "\n",
      "Contexto:\n",
      "Él cree en un Estado neoliberal, rapaz, y yo creo en un Estado social. Él cree que lo necesario es construir cárceles, y yo le digo: ¿cárceles para qué? [RELEVANTE] Yo creo en construir hospitales. Claro. Si, por ejemplo, en este momento está comiendo pollo frito, y yo llevo tres días sin comer.\n",
      "\n",
      "Número de entrevista: 2\n",
      "Tema: Seguridad y crimen organizado, fracaso del Plan Fénix, políticas de prevención y rehabilitación, generación de empleo a través de inversión pública, reducción del IVA al 12%, recuperación de fondos de evasores y reservas internacionales, creación de hospitales e infraestructura para reactivar la economía, fortalecimiento de la educación y recategorización de maestros, defensa de los derechos laborales de policías y guardias de seguridad, lucha contra la mafia y el narcotráfico, crítica al neoliberalismo y enfoque en un Estado social.\n",
      "Descripción: En esta entrevista, Pedro Granja, candidato presidencial por el Partido Socialista Ecuatoriano, expone sus propuestas enfocadas en la seguridad, la generación de empleo y la reducción de la desigualdad. Critica el Plan Fénix y propone una política criminal basada en la prevención, disuasión y represión diferenciada para combatir el crimen organizado y la violencia juvenil. Plantea la inversión en infraestructura con recursos de las reservas internacionales para generar empleo y fortalecer el tejido social. También propone reducir el IVA al 12% y recuperar fondos de evasores y deudores del Estado. Destaca su experiencia en criminología y su formación en la lucha contra la mafia como clave para enfrentar la crisis de inseguridad del país.\n",
      "\n",
      "Ranking: 3\n",
      "Tipo: entrevista\n",
      "Lista: 8 - Partido: PARTIDO AVANZA\n",
      "Presidente: LUIS FELIPE TILLERIA\n",
      "ID: 8_2_200\n",
      "Relevancia: 0.5006\n",
      "\n",
      "Contexto:\n",
      "Yo quiero que la próxima Asamblea, la que hagamos después de nuestra Constituyente, cuando abracemos las ideas de la libertad, quiero que la Asamblea se cambie por una Cámara de los Comunes. Más o menos como en el Reino Unido, que se llama la Cámara de los Comunes, porque eso deberían ser los representantes: comunes y corrientes. [RELEVANTE] Yo quiero que sea una Asamblea en donde no haya políticos profesionales, sino que haya doctores, arquitectos, médicos, profesores, influencers, directores de colegios. Que sea, de alguna manera, una muestra de la sociedad civil: comerciantes, artesanos, gente de todos los sectores. Quiero que esa Asamblea sea un reflejo de la sociedad, que ahí la sociedad... Claro, nuestra principal reforma política es una nueva Constitución, que reduzca el poder de los políticos, elimine la \"dueñocracia\" y aumente el poder de la gente.\n",
      "\n",
      "Número de entrevista: 2\n",
      "Tema: Reseteo del sistema político y económico, creación del Banco del Migrante, atracción de inversión extranjera, centro financiero internacional con 400 bancos, reducción de tasas de interés, seguridad con despliegue militar permanente, eliminación del SNI y control penitenciario por reservistas, \"Plan Chino\" para trabajo de presos, reforma laboral y Código del Trabajo, Asamblea Constituyente para una nueva Constitución, crisis eléctrica y diversificación de la matriz energética.\n",
      "Descripción: En esta entrevista, Luis Felipe Tillería, candidato presidencial por Avanza, presenta su visión para transformar Ecuador mediante un \"reseteo\" del sistema económico, político y de seguridad. Propone convertir al país en un centro financiero internacional con la llegada de 400 bancos para reducir las tasas de interés y fomentar la inversión. Promueve la creación del \"Banco del Migrante\" para aprovechar los seis mil millones de dólares en remesas anuales y evitar la migración forzada por falta de oportunidades. En seguridad, plantea un despliegue permanente de las Fuerzas Armadas en el territorio y en el control de cárceles, además de un \"Plan Chino\" para que los presos trabajen en maquilas. En cuanto a la crisis eléctrica, aboga por diversificar la matriz energética con inversión privada en energía solar, eólica y nuclear, eliminando el monopolio estatal. Para lograr sus cambios estructurales, propone una Asamblea Constituyente de plenos poderes que sustituya la Constitución actual y promueva un modelo basado en la libertad económica y la eficiencia gubernamental.\n",
      "\n",
      "Ranking: 4\n",
      "Tipo: entrevista\n",
      "Lista: 21 - Partido: MOVIMIENTO CREO, CREANDO OPORTUNIDADES\n",
      "Presidente: FRANCESCO TABACCHI\n",
      "ID: 21_3_54\n",
      "Relevancia: 0.4710\n",
      "\n",
      "Contexto:\n",
      "Blanca Zancacela es una mujer íntegra, capaz y más preparada que yo. Va a tener un rol muy importante, no solo en lo social, sino en el CERCOP, que será algo que nunca antes se le ha encargado a un vicepresidente en Ecuador. [RELEVANTE] Ella se encargará de mejorar los hospitales, fortalecer la lucha contra la insuficiencia crónica infantil y otras áreas de salud. Ahora, en cuanto a la seguridad, ¿cómo ha evolucionado su enfoque desde la campaña a la prefectura hasta ahora, con un escenario más complejo? El debate de seguridad sigue siendo el mismo, pero debemos hacer algo totalmente distinto.\n",
      "\n",
      "Número de entrevista: 3\n",
      "Tema: Motivación para postularse, respaldo del sector agropecuario, proceso interno en CREO, representación ideológica del movimiento, seguridad y lucha contra el crimen, influencia del modelo de Nayib Bukele, escuadrón de pacificación, inversión en sectores estratégicos, modernización de la agricultura, concesión de obras públicas, atracción de inversión extranjera, sistema de subsidios a combustibles, fortalecimiento del sector salud, reducción de la desnutrición infantil, endurecimiento de penas para criminales y jueces corruptos, postura sobre la Constitución, financiamiento de la campaña.\n",
      "Descripción: En esta entrevista, Francesco Tabacchi, candidato presidencial por el movimiento CREO, expone su motivación para postularse, destacando su compromiso con los sectores productivos del país. Propone un enfoque de seguridad basado en el modelo de Nayib Bukele, con un \"escuadrón de la pacificación\" de mil hombres altamente entrenados. En el ámbito económico, apuesta por la inversión privada en sectores estratégicos como petróleo, minería y energía, además de modernizar la agricultura con tecnología 4.0. También plantea concesionar obras públicas, atraer inversión extranjera y revisar el sistema de subsidios a los combustibles. En cuanto a salud, busca mejorar la eficiencia del sistema hospitalario y reducir la desnutrición infantil. Su plan incluye endurecer penas para criminales y jueces corruptos, con cadena perpetua. Rechaza modificar la Constitución por ahora, enfocándose en aplicar soluciones rápidas y eficientes. Finalmente, afirma que su campaña se financia con recursos transparentes y a través de redes sociales.\n",
      "\n",
      "Ranking: 5\n",
      "Tipo: entrevista\n",
      "Lista: 23 - Partido: PARTIDO SOCIEDAD UNIDA MÁS ACCIÓN, SUMA\n",
      "Presidente: ENRIQUE GOMEZ\n",
      "ID: 23_1_34\n",
      "Relevancia: 0.4500\n",
      "\n",
      "Contexto:\n",
      "Enrique Gómez: El plan es de todos los ecuatorianos. Hemos trabajado en un plan, el documento lo trabajamos muchas personas, no es un documento que se sentó a escribirlo, lo trabajamos muchas veces. [RELEVANTE] Pero es el plan de gobierno que acompañaba la candidatura de Llantopic. Entrevistador: Exactamente el mismo plan, entonces ¿qué rol jugaría Llantopic en un gobierno de Enrique Gómez? Enrique Gómez: Por supuesto que sí.\n",
      "\n",
      "Número de entrevista: 1\n",
      "Tema: Trayectoria en el sector público y privado, rol dentro de Suma, plan de gobierno basado en el de Jan Topic, financiamiento de campaña, inversión en seguridad, control fronterizo con tecnología, unidad élite contra el crimen, reducción de homicidios en 17 meses, fuente de financiamiento del plan, seguros para infraestructura tecnológica, captación de inversión extranjera, proyectos en salud y telemedicina.\n",
      "Descripción: Enrique Gómez, candidato presidencial por el movimiento Suma, expone su trayectoria en el sector público y privado, destacando su trabajo en organismos como la Secretaría de Gestión de Riesgos y el Consejo de la Judicatura. Aclara su rol dentro de Suma, enfatizando que lidera la propuesta de gobierno, la cual fue desarrollada de manera colectiva y se basa en el plan inicial de Jan Topic. En seguridad, propone invertir 1,200 millones de dólares en tecnología fronteriza, unidades de élite y monitoreo, con el objetivo de reducir un 30% la criminalidad en 17 meses. Financia su campaña con aportes pequeños y personales, asegurando que es de bajo costo y alto impacto. En economía, planea utilizar parte del incremento del IVA para seguridad, y buscar inversión extranjera para proyectos de salud y telemedicina.\n",
      "\n",
      "==================================================\n",
      "\n",
      "Buscando: quien es francesco tabacchi\n",
      "Cargando sistema de búsqueda...\n",
      "\n",
      "Resultados encontrados:\n",
      "\n",
      "Ranking: 1\n",
      "Tipo: biografia\n",
      "Lista: 21 - Partido: MOVIMIENTO CREO, CREANDO OPORTUNIDADES\n",
      "Presidente: FRANCESCO TABACCHI\n",
      "ID: 21_1_1\n",
      "Relevancia: 1.2125\n",
      "\n",
      "Contexto:\n",
      "Su perfil está enfocado en gestión de recursos y sostenibilidad, aportando una visión técnica a la candidatura. Su papel en la fórmula de Democracia Sí refuerza el enfoque en administración pública y lucha contra la corrupción, elementos clave de la campaña de Saquicela. [RELEVANTE] Francesco Tabacchi y Blanca Sacancela – Candidatos por el Movimiento Creando Oportunidades (CREO)\n",
      "Francesco Tabacchi\n",
      "Francesco Tabacchi, de 53 años, es un empresario ecuatoriano con amplia trayectoria en los sectores ganadero, agrícola y de la construcción. Ha sido presidente de la Asociación de Ganaderos del Litoral y de la Federación de Ganaderos del Ecuador. También es accionista y administrador de varias empresas registradas en la Superintendencia de Compañías, entre ellas:\n",
      "\n",
      "TR1 S.A.S.\n",
      "\n",
      "Ranking: 2\n",
      "Tipo: entrevista\n",
      "Lista: 21 - Partido: MOVIMIENTO CREO, CREANDO OPORTUNIDADES\n",
      "Presidente: FRANCESCO TABACCHI\n",
      "ID: 21_1_2\n",
      "Relevancia: 0.7856\n",
      "\n",
      "Contexto:\n",
      "Gracias a todos los ecuatorianos por el espacio. Entrevista a Francesco Tabacchi – Contacto Directo\n",
      "\n",
      "En el especial de elecciones, avanzamos en el diálogo con los candidatos. [RELEVANTE] Hoy está en Contacto Directo Francesco Tabacchi, el ganadero de 53 años, quien conforma con Blanca Saquicela el binomio del movimiento Creo. Blanca Saquicela, su experiencia política y la de Francesco Tabacchi en gremialismo, se resume a ser gobernador del Guayas en 2023 y candidato a prefecto de Guayas con la misma agrupación. Además, fue presidente de la Asociación de Ganaderos de Litoral y Galápagos, y también encabezó la Federación de Ganaderos de Ecuador.\n",
      "\n",
      "Número de entrevista: 1\n",
      "Tema: Inversión privada en petróleo, energía, minería y obra pública, generación de empleo, atracción de inversionistas con incentivos, fortalecimiento de la seguridad con un escuadrón especializado, comparación con el modelo de Bukele, crítica y rescate de medidas del gobierno de Lasso, eliminación de trabas burocráticas, educación y salud como pilares de desarrollo, postura sobre la participación de Lasso en su campaña.\n",
      "Descripción: En esta entrevista, Francesco Tabacchi, candidato presidencial por el movimiento CREO, expone sus principales propuestas económicas y de seguridad. Asegura que no seguirá las líneas del gobierno de Guillermo Lasso, aunque rescata algunas medidas positivas, y enfatiza la necesidad de atraer inversión privada en sectores estratégicos como petróleo, energía, minería y obra pública para generar empleo. Propone destrabar inversiones con incentivos tributarios y fortalecer la seguridad con un \"Escuadrón de Pacificación\" entrenado por fuerzas de élite. Defiende la \"mano dura y justa\" contra el crimen, inspirándose en el modelo de seguridad de Nayib Bukele en El Salvador. Sobre el expresidente Lasso, menciona que está retirado de la política y no tendría un rol en su gobierno.\n",
      "\n",
      "Ranking: 3\n",
      "Tipo: entrevista\n",
      "Lista: 21 - Partido: MOVIMIENTO CREO, CREANDO OPORTUNIDADES\n",
      "Presidente: FRANCESCO TABACCHI\n",
      "ID: 21_1_106\n",
      "Relevancia: 0.6925\n",
      "\n",
      "Contexto:\n",
      "Y lo que sí le puedo adelantar es que un presidente de la República, y esa es mi postura, debe rodearse siempre de gente más preparada y más inteligente que uno. No, con respecto a él, yo creo que ya cumplió con los ecuatorianos, creo que fue el presidente de la República y que ya está. [RELEVANTE] Francesco Tabacchi, candidato presidencial por Creo. Gracias por acompañarnos esta mañana en Contacto Directo y compartirnos algunas de sus propuestas en caso de llegar a la presidencia. Gracias, José.\n",
      "\n",
      "Número de entrevista: 1\n",
      "Tema: Inversión privada en petróleo, energía, minería y obra pública, generación de empleo, atracción de inversionistas con incentivos, fortalecimiento de la seguridad con un escuadrón especializado, comparación con el modelo de Bukele, crítica y rescate de medidas del gobierno de Lasso, eliminación de trabas burocráticas, educación y salud como pilares de desarrollo, postura sobre la participación de Lasso en su campaña.\n",
      "Descripción: En esta entrevista, Francesco Tabacchi, candidato presidencial por el movimiento CREO, expone sus principales propuestas económicas y de seguridad. Asegura que no seguirá las líneas del gobierno de Guillermo Lasso, aunque rescata algunas medidas positivas, y enfatiza la necesidad de atraer inversión privada en sectores estratégicos como petróleo, energía, minería y obra pública para generar empleo. Propone destrabar inversiones con incentivos tributarios y fortalecer la seguridad con un \"Escuadrón de Pacificación\" entrenado por fuerzas de élite. Defiende la \"mano dura y justa\" contra el crimen, inspirándose en el modelo de seguridad de Nayib Bukele en El Salvador. Sobre el expresidente Lasso, menciona que está retirado de la política y no tendría un rol en su gobierno.\n",
      "\n",
      "Ranking: 4\n",
      "Tipo: entrevista\n",
      "Lista: 21 - Partido: MOVIMIENTO CREO, CREANDO OPORTUNIDADES\n",
      "Presidente: FRANCESCO TABACCHI\n",
      "ID: 21_3_1\n",
      "Relevancia: 0.6832\n",
      "\n",
      "Contexto:\n",
      "Gracias por habernos acompañado esta mañana. Gracias a usted por la entrevista. [RELEVANTE] Entrevista a Francesco Tabacchi – Revista Vistazo\n",
      "\n",
      "¿Qué es lo que le motiva a seguir adelante en política? La misma pregunta me hacen mi familia, mi esposa, mis hijos, mis padres y mis socios. Este país ha sido muy generoso conmigo.\n",
      "\n",
      "Número de entrevista: 3\n",
      "Tema: Motivación para postularse, respaldo del sector agropecuario, proceso interno en CREO, representación ideológica del movimiento, seguridad y lucha contra el crimen, influencia del modelo de Nayib Bukele, escuadrón de pacificación, inversión en sectores estratégicos, modernización de la agricultura, concesión de obras públicas, atracción de inversión extranjera, sistema de subsidios a combustibles, fortalecimiento del sector salud, reducción de la desnutrición infantil, endurecimiento de penas para criminales y jueces corruptos, postura sobre la Constitución, financiamiento de la campaña.\n",
      "Descripción: En esta entrevista, Francesco Tabacchi, candidato presidencial por el movimiento CREO, expone su motivación para postularse, destacando su compromiso con los sectores productivos del país. Propone un enfoque de seguridad basado en el modelo de Nayib Bukele, con un \"escuadrón de la pacificación\" de mil hombres altamente entrenados. En el ámbito económico, apuesta por la inversión privada en sectores estratégicos como petróleo, minería y energía, además de modernizar la agricultura con tecnología 4.0. También plantea concesionar obras públicas, atraer inversión extranjera y revisar el sistema de subsidios a los combustibles. En cuanto a salud, busca mejorar la eficiencia del sistema hospitalario y reducir la desnutrición infantil. Su plan incluye endurecer penas para criminales y jueces corruptos, con cadena perpetua. Rechaza modificar la Constitución por ahora, enfocándose en aplicar soluciones rápidas y eficientes. Finalmente, afirma que su campaña se financia con recursos transparentes y a través de redes sociales.\n",
      "\n",
      "Ranking: 5\n",
      "Tipo: entrevista\n",
      "Lista: 21 - Partido: MOVIMIENTO CREO, CREANDO OPORTUNIDADES\n",
      "Presidente: FRANCESCO TABACCHI\n",
      "ID: 21_2_1\n",
      "Relevancia: 0.6826\n",
      "\n",
      "Contexto:\n",
      "Gracias, José. Gracias por el espacio. [RELEVANTE] Entrevista a Francesco Tabacchi – Teleamazonas\n",
      "\n",
      "Le doy la bienvenida formalmente a Francesco Tabacchi. Gracias por estar aquí esta mañana. Buenos días.\n",
      "\n",
      "Número de entrevista: 2\n",
      "Tema: Seguridad, endurecimiento de penas, lucha contra la corrupción en el sistema judicial, generación de empleo joven, incentivos fiscales para empresas, inversión extranjera en minería, energía y petróleo, reforma del sistema de salud, reestructuración del CERCOP, educación y adecuación del bachillerato a la demanda laboral, postura sobre la reducción del IVA, crisis energética y proyectos hidroeléctricos, relaciones con México y Venezuela, impacto del gobierno de Donald Trump en la política migratoria.\n",
      "Descripción: En esta entrevista, Francesco Tabacchi, candidato presidencial por el movimiento CREO, detalla su plan de gobierno basado en su lema \"Mano Dura, Mano Justa, Mano Inteligente\". Propone una lucha frontal contra la delincuencia, incluyendo penas más severas y la depuración de jueces y fiscales corruptos. En materia económica, defiende la inversión extranjera en sectores estratégicos como petróleo, minería y energía, ofreciendo incentivos fiscales para la generación de empleo joven. También plantea reformar la salud pública basándose en modelos exitosos como Solca y la Junta de Beneficencia. En el ámbito educativo, propone modificar la malla curricular del bachillerato para alinearla con la demanda laboral. Sobre el IVA, advierte que reducirlo sería un riesgo para la economía nacional. Finalmente, aborda temas de relaciones internacionales, asegurando que buscará apertura con todos los países, aunque mantiene su postura crítica hacia el régimen de Nicolás Maduro en Venezuela.\n",
      "\n",
      "==================================================\n",
      "\n",
      "Buscando: quienes proponen reducir el iva?\n",
      "Cargando sistema de búsqueda...\n",
      "\n",
      "Resultados encontrados:\n",
      "\n",
      "Ranking: 1\n",
      "Tipo: plan\n",
      "Lista: 6 - Partido: PARTIDO SOCIAL CRISTIANO\n",
      "Presidente: HENRY KRONFLE KOZHAYA\n",
      "ID: 6_26_311\n",
      "Relevancia: 0.6567\n",
      "\n",
      "Contexto:\n",
      "REFORMAS TRIBUTARIAS\n",
      "\n",
      "Eliminación del IVA para productos de la canasta familiar y otros\n",
      "\n",
      "Establecer medidas que reduzcan el impacto del encarecimiento de los productos,\n",
      "especialmente de la canasta básica que ha incrementado en más del 5% durante el último\n",
      "año. Se eliminará el IVA, es decir se establecerá IVA 0% a todos los productos de la Canasta\n",
      "Familiar, insumos médicos y herramientas agricolas. [RELEVANTE] Vamos a reducir el IVA general nuevamente al 12% y al 10% hasta el final de nuestro\n",
      "\n",
      "Gobierno. Mantendremos el 5% de IVA para la construcción que es un dinamo para la\n",
      "economía,\n",
      "\n",
      "0% IVA por 5 años para el sector del turismo, para activarlo porque hoy está muerto. Nos\n",
      "vamos a oponer a los nuevos compromisos que han adquirido de convertir lo transitorio en\n",
      "permanente, y a poner IVÁ a cosas que hoy no lo tienen.\n",
      "\n",
      "Ranking: 2\n",
      "Tipo: entrevista\n",
      "Lista: 8 - Partido: PARTIDO AVANZA\n",
      "Presidente: LUIS FELIPE TILLERIA\n",
      "ID: 8_1_72\n",
      "Relevancia: 0.4750\n",
      "\n",
      "Contexto:\n",
      "Sigo asistiendo a mis reuniones de manera telemática, pero no puedo votar de esa forma. Entrevistador: ¿No solicitó licencia para ausentarse de las reuniones? [RELEVANTE] Luis Felipe Tillería: No es necesario. Uno puede asistir de manera presencial o telemática. Yo asisto telemáticamente.\n",
      "\n",
      "Número de entrevista: 1\n",
      "Tema: Historial y cuestionamientos en Reino Unido, seguridad y control penitenciario, energía geotérmica, servicio militar obligatorio, reforma judicial y sanciones a jueces corruptos, atracción de inversión extranjera, tren de alta velocidad Quito-Guayaquil, financiamiento mediante la venta parcial de Petroecuador, propuestas económicas y empresariales, necesidad de una nueva Constitución, experiencia migrante y visión internacional.\n",
      "Descripción: En esta entrevista, Luis Felipe Tillería, candidato presidencial por Avanza, expone sus propuestas y responde a cuestionamientos sobre su historial en el Reino Unido. Aclara las multas recibidas en Londres, asegurando que fueron por temas administrativos y no por irregularidades graves. Defiende su conocimiento del país, argumentando que su experiencia en el primer mundo le permite proponer soluciones eficientes en seguridad, empleo y desarrollo económico. Entre sus planes destacan la implementación de energía geotérmica, la eliminación del SNI para crear una nueva fuerza de control penitenciario con apoyo internacional, el restablecimiento del servicio militar obligatorio y la creación de un centro financiero internacional. También propone un tren de alta velocidad entre Quito y Guayaquil, financiado mediante la venta parcial de Petroecuador. Subraya la necesidad de una nueva Constitución y un \"reseteo\" del sistema político y económico para alinear a Ecuador con estándares del primer mundo.\n",
      "\n",
      "Ranking: 3\n",
      "Tipo: entrevista\n",
      "Lista: 5 - Partido: REVOLUCIÓN CIUDADANA - RETO\n",
      "Presidente: LUISA GONZALEZ\n",
      "ID: 5_1_20\n",
      "Relevancia: 0.4732\n",
      "\n",
      "Contexto:\n",
      "El país está sumido en la desesperanza, en la tristeza, el orgullo de ser ecuatoriano se nos ha ido al piso. La violencia nos sume, no tenemos ni siquiera las opciones de conseguir trabajo, te piden vacunas, te extorsionan, ha aumentado el secuestro extorsivo, los asaltos en carretera. [RELEVANTE] Y sí, el proyecto ha cambiado. Hoy somos el país más violento de Sudamérica y Centroamérica, según Human Rights. Somos el primer país más violento de la región, y hay que devolverle la paz al Ecuador.\n",
      "\n",
      "Número de entrevista: 1\n",
      "Tema: Seguridad y plan Protege, lucha contra la delincuencia, recuperación del empleo, auditoría de la deuda pública, justicia e independencia judicial, combate a la corrupción, coordinación institucional, retorno de Rafael Correa y Jorge Glas, centralización del poder, libertad de expresión y medios de comunicación, relaciones internacionales y cooperación con Latinoamérica, EE.UU. y la UE.\n",
      "Descripción: En esta entrevista, Luisa González, candidata presidencial por la Alianza Revolución Ciudadana-Reto, expone su visión de país y sus principales propuestas de gobierno. Destaca la seguridad como eje central, con su plan Protege, el cual plantea una estrategia coordinada entre fuerzas del orden e inteligencia para combatir la delincuencia. En economía, propone recuperar el empleo con un enfoque en los derechos laborales y auditar la deuda pública desde 2017. Sobre justicia, defiende la independencia judicial, aunque aboga por una mayor coordinación entre las instituciones. Respecto a la corrupción, promete sanciones severas y un liderazgo firme para erradicarla. En relaciones internacionales, prioriza la integración latinoamericana sin descuidar la cooperación con potencias como EE.UU. y la UE. Evita comprometerse sobre el regreso de Rafael Correa y la liberación de Jorge Glas, asegurando que su enfoque es en el futuro del país y no en temas del pasado.\n",
      "\n",
      "Ranking: 4\n",
      "Tipo: entrevista\n",
      "Lista: 6 - Partido: PARTIDO SOCIAL CRISTIANO\n",
      "Presidente: HENRY KRONFLE KOZHAYA\n",
      "ID: 6_1_14\n",
      "Relevancia: 0.4414\n",
      "\n",
      "Contexto:\n",
      "Usted en su propuesta habla de no subir más impuestos. Sin embargo, su bancada propuso a inicios del año pasado, como alternativa al incremento del IVA al 15%, contribuciones temporales, que, eufemismos al margen, no son otra cosa que impuestos, y usted lo sabe bien. [RELEVANTE] Ahora bien, ¿cuál es su postura sobre el IVA? Ese IVA tiene que bajar porque no le ha dado ningún beneficio a la gente. Inclusive, cuando se observa la recaudación por parte del Servicio de Rentas Internas, ha disminuido la recaudación con el alza del IVA y nadie ha tenido beneficio por esos tres puntos porcentuales del IVA.\n",
      "\n",
      "Número de entrevista: 1\n",
      "Tema: Reducción del IVA, contribuciones temporales, reestructuración de empresas públicas, lucha contra la corrupción, reducción de la burocracia y el gasto público, aumento de la producción petrolera y minera, déficit fiscal y obra pública, confianza e inversión extranjera, seguridad jurídica, incentivos a la producción, desarrollo energético y minería responsable.\n",
      "Descripción: En esta entrevista, Henry Kronfle, candidato presidencial por el Partido Social Cristiano, expone sus propuestas económicas y de gobernanza. Defiende la reducción del IVA, argumentando que su aumento no ha generado beneficios, y justifica las contribuciones temporales para fines específicos. Plantea una reestructuración de las empresas públicas con controles estrictos, eliminación de clientelismo y castigo a la corrupción. Propone reducir el gasto público mediante la optimización de la burocracia, recuperar ingresos estatales aumentando la producción petrolera y minera, y garantizar un presupuesto enfocado en el desarrollo. En materia de inversión extranjera, destaca la necesidad de seguridad jurídica, incentivos a la producción y proyectos estratégicos en minería y energía. Afirma que con estas medidas, el déficit fiscal puede ser cubierto y el país podrá atraer inversión y crecimiento sostenible.\n",
      "\n",
      "Ranking: 5\n",
      "Tipo: entrevista\n",
      "Lista: 21 - Partido: MOVIMIENTO CREO, CREANDO OPORTUNIDADES\n",
      "Presidente: FRANCESCO TABACCHI\n",
      "ID: 21_2_65\n",
      "Relevancia: 0.3897\n",
      "\n",
      "Contexto:\n",
      "Esa herramienta cuesta 20 millones de dólares. Es plata, sí, pero el presupuesto del Ministerio de Salud Pública y del IESS es de 6,500 millones de dólares al año. [RELEVANTE] En buena hora que habla del CERCOP. Va a ser una de las tareas que llevará la vicepresidenta Blanca Secche. Ella se va a hacer cargo de esa columna vertebral del país, que es el sistema de compras públicas, de transformarlo y reformarlo.\n",
      "\n",
      "Número de entrevista: 2\n",
      "Tema: Seguridad, endurecimiento de penas, lucha contra la corrupción en el sistema judicial, generación de empleo joven, incentivos fiscales para empresas, inversión extranjera en minería, energía y petróleo, reforma del sistema de salud, reestructuración del CERCOP, educación y adecuación del bachillerato a la demanda laboral, postura sobre la reducción del IVA, crisis energética y proyectos hidroeléctricos, relaciones con México y Venezuela, impacto del gobierno de Donald Trump en la política migratoria.\n",
      "Descripción: En esta entrevista, Francesco Tabacchi, candidato presidencial por el movimiento CREO, detalla su plan de gobierno basado en su lema \"Mano Dura, Mano Justa, Mano Inteligente\". Propone una lucha frontal contra la delincuencia, incluyendo penas más severas y la depuración de jueces y fiscales corruptos. En materia económica, defiende la inversión extranjera en sectores estratégicos como petróleo, minería y energía, ofreciendo incentivos fiscales para la generación de empleo joven. También plantea reformar la salud pública basándose en modelos exitosos como Solca y la Junta de Beneficencia. En el ámbito educativo, propone modificar la malla curricular del bachillerato para alinearla con la demanda laboral. Sobre el IVA, advierte que reducirlo sería un riesgo para la economía nacional. Finalmente, aborda temas de relaciones internacionales, asegurando que buscará apertura con todos los países, aunque mantiene su postura crítica hacia el régimen de Nicolás Maduro en Venezuela.\n",
      "\n",
      "==================================================\n"
     ]
    }
   ],
   "source": [
    "if __name__ == \"__main__\":\n",
    "    print(\"Sistema de búsqueda listo.\")\n",
    "    while True:\n",
    "        print(\"\\n\" + \"=\"*50)\n",
    "        query = input(\"\\nIngrese su búsqueda (o 'salir' para terminar): \")\n",
    "        if query.lower() == 'salir':\n",
    "            break\n",
    "\n",
    "        k = input(\"Número de resultados a mostrar (Enter para usar 5): \")\n",
    "        k = int(k) if k.strip() else 5\n",
    "\n",
    "        mostrar_resultados(query, k)"
   ]
  },
  {
   "cell_type": "markdown",
   "metadata": {},
   "source": [
    "## Evaluación del sistema"
   ]
  },
  {
   "cell_type": "code",
   "execution_count": 42,
   "metadata": {},
   "outputs": [],
   "source": [
    "from sentence_transformers import SentenceTransformer\n",
    "from sklearn.metrics.pairwise import cosine_similarity\n",
    "import numpy as np\n",
    "from sklearn.metrics import precision_score, recall_score, f1_score"
   ]
  },
  {
   "cell_type": "markdown",
   "metadata": {},
   "source": [
    "Se carga el modelo de Sentence Transformer para convertir texto en vectores de embeddings para la evaluación"
   ]
  },
  {
   "cell_type": "code",
   "execution_count": 46,
   "metadata": {},
   "outputs": [],
   "source": [
    "# Cargar el modelo de embeddings\n",
    "modelo_embeddings = SentenceTransformer('paraphrase-multilingual-mpnet-base-v2')"
   ]
  },
  {
   "cell_type": "markdown",
   "metadata": {},
   "source": [
    "Diccionario que almacena referencias textuales para evaluar las respuestas, se compara los decumentos recuperados con los textos de referencia."
   ]
  },
  {
   "cell_type": "code",
   "execution_count": 45,
   "metadata": {},
   "outputs": [],
   "source": [
    "# Ground Truth basado en textos de referencia más completos\n",
    "ground_truth = {\n",
    "    \"reducción de impuestos\": [\n",
    "        \"Propuestas de reducción de impuestos, reforma fiscal, eliminación de tributos innecesarios.\",\n",
    "        \"Cómo mejorar la economía bajando los impuestos y ayudando a los contribuyentes.\"\n",
    "    ],\n",
    "    \"seguridad ciudadana\": [\n",
    "        \"Propuestas para mejorar la seguridad en el país, reducir la delincuencia y fortalecer la policía.\",\n",
    "        \"Planes para combatir el crimen organizado y mejorar la protección ciudadana.\"\n",
    "    ],\n",
    "    \"educación pública\": [\n",
    "        \"Mejoras en la educación pública, acceso a la educación gratuita y reforma educativa.\",\n",
    "        \"Planes para fortalecer el sistema educativo y garantizar educación de calidad.\"\n",
    "    ],\n",
    "    \"empleo juvenil\": [\n",
    "        \"Programas para fomentar el empleo juvenil, subsidios para jóvenes trabajadores.\",\n",
    "        \"Propuestas para mejorar las oportunidades laborales para jóvenes.\"\n",
    "    ],\n",
    "    \"cambio climático\": [\n",
    "        \"Iniciativas para combatir el cambio climático, energías renovables y sostenibilidad.\",\n",
    "        \"Planes para la protección del medio ambiente y políticas ecológicas.\"\n",
    "    ]\n",
    "}"
   ]
  },
  {
   "cell_type": "markdown",
   "metadata": {},
   "source": [
    "Función que evalua la calidad del sistema de recuperación que utiliza embeddings de similitud semántica. Compara los documentos recuperados con el ground_truth y se calculan las métricas: precisión, recall y F1-score."
   ]
  },
  {
   "cell_type": "code",
   "execution_count": 49,
   "metadata": {},
   "outputs": [],
   "source": [
    "def evaluar_sistema_embeddings(queries, k=5):\n",
    "    \"\"\"Evalúa la eficacia del sistema usando embeddings de similitud semántica.\"\"\"\n",
    "    sistema = cargar_sistema()\n",
    "\n",
    "    precision_scores = []\n",
    "    recall_scores = []\n",
    "    f1_scores = []\n",
    "\n",
    "    for query in queries:\n",
    "        print(f\"\\n🔎 Evaluando query: {query}\")\n",
    "\n",
    "        # Obtener los embeddings del ground truth de la consulta\n",
    "        embeddings_gt = modelo_embeddings.encode(ground_truth[query])\n",
    "\n",
    "        # Obtener resultados del sistema\n",
    "        resultados = buscar(query, k)\n",
    "        textos_obtenidos = [res['texto_original'] for res in resultados]\n",
    "\n",
    "        # Si no hay resultados, precisión y recall son 0\n",
    "        if not textos_obtenidos:\n",
    "            print(\"❌ No se encontraron resultados.\")\n",
    "            precision_scores.append(0)\n",
    "            recall_scores.append(0)\n",
    "            f1_scores.append(0)\n",
    "            continue\n",
    "\n",
    "        # Obtener los embeddings de los textos obtenidos\n",
    "        embeddings_resultados = modelo_embeddings.encode(textos_obtenidos)\n",
    "\n",
    "        # Calcular similitudes entre cada resultado y el ground truth\n",
    "        similitudes = cosine_similarity(embeddings_resultados, embeddings_gt)\n",
    "\n",
    "        # Se considera relevante un documento si su similitud con algún texto del ground truth es mayor a 0.7\n",
    "        y_true = [1 if np.max(similitud) > 0.7 else 0 for similitud in similitudes]\n",
    "        y_pred = [1] * len(textos_obtenidos)\n",
    "\n",
    "        # Mostrar resultados obtenidos y su similitud\n",
    "        print(\"\\n📌 **Documentos obtenidos y similitud:**\")\n",
    "        for i, (texto, similitud) in enumerate(zip(textos_obtenidos, similitudes)):\n",
    "            max_sim = np.max(similitud)\n",
    "            relevancia = \"✅ Relevante\" if max_sim > 0.7 else \"❌ No relevante\"\n",
    "            print(f\"{i+1}. {texto[:150]}... ({relevancia} - Similitud: {max_sim:.2f})\")\n",
    "\n",
    "        # Calcular métricas\n",
    "        if sum(y_true) > 0:\n",
    "            precision = precision_score(y_true, y_pred, zero_division=1)\n",
    "            recall = recall_score(y_true, y_pred, zero_division=1)\n",
    "            f1 = f1_score(y_true, y_pred, zero_division=1)\n",
    "        else:\n",
    "            precision, recall, f1 = 0, 0, 0  # Si no hay coincidencias, la métrica se mantiene en 0\n",
    "\n",
    "        precision_scores.append(precision)\n",
    "        recall_scores.append(recall)\n",
    "        f1_scores.append(f1)\n",
    "\n",
    "\n",
    "    # 🔹 Promediar métricas\n",
    "    avg_precision = np.mean(precision_scores)\n",
    "    avg_recall = np.mean(recall_scores)\n",
    "    avg_f1 = np.mean(f1_scores)\n",
    "\n",
    "    print(\"\\n📊 **Resultados Promedio**\")\n",
    "    print(f\"📌 Precision@{k}: {avg_precision:.4f}\")\n",
    "    print(f\"📌 Recall@{k}: {avg_recall:.4f}\")\n",
    "    print(f\"📌 F1-Score@{k}: {avg_f1:.4f}\")"
   ]
  },
  {
   "cell_type": "code",
   "execution_count": 50,
   "metadata": {},
   "outputs": [
    {
     "name": "stdout",
     "output_type": "stream",
     "text": [
      "Cargando sistema de búsqueda...\n",
      "\n",
      "🔎 Evaluando query: reducción de impuestos\n",
      "Cargando sistema de búsqueda...\n",
      "\n",
      "📌 **Documentos obtenidos y similitud:**\n",
      "1. Sobre la economía y la reducción de impuestos\n",
      "Ha propuesto reducir impuestos como el ISD.... (✅ Relevante - Similitud: 0.85)\n",
      "2. Economía: Reducción de impuestos especiales.... (✅ Relevante - Similitud: 0.84)\n",
      "3. Disminución del Impuesto a Consumos Especiales y del Impuesto a la\n",
      "Salida de Divisas\n",
      "Acciones:\n",
      "o Realizar un análisis de impacto fiscal para determina... (✅ Relevante - Similitud: 0.73)\n",
      "4. No más incrementos de impuestos ni amnistías tributarias: No incrementar más\n",
      "impuestos, pero sí controlar los créditos tributarios y devoluciones, sin... (✅ Relevante - Similitud: 0.82)\n",
      "5. Eliminación de impuestos como iSD, y simplificación de los\n",
      "procedimientos de presentación de declaraciones y pago de impuestos.... (✅ Relevante - Similitud: 0.75)\n",
      "\n",
      "🔎 Evaluando query: seguridad ciudadana\n",
      "Cargando sistema de búsqueda...\n",
      "\n",
      "📌 **Documentos obtenidos y similitud:**\n",
      "1. SEGURIDAD CIUDADANA\n",
      "La seguridad ciudadana se refiere a la protección de los ciudadanos\n",
      "frente a las amenazas contra su vida, su propiedad, su liberta... (❌ No relevante - Similitud: 0.54)\n",
      "2. Seguridad Ciudadana: Creemos en un enfoque integral de seguridad que garantice\n",
      "la protección de los ciudadanos frente al crimen organizado, fortalecie... (✅ Relevante - Similitud: 0.74)\n",
      "3. Restituir las Asambleas comunitarias de seguridad ciudadana como elemento de\n",
      "información, prevención y veeduría cívica de la acción policial.... (❌ No relevante - Similitud: 0.67)\n",
      "4. Depuración de la Policía, Fuerzas Armadas y SNAI\n",
      "La integridad y la confianza ciudadana en la Policía Nacional son\n",
      "esenciales para garantizar la segur... (❌ No relevante - Similitud: 0.67)\n",
      "5. La seguridad no solo es cuestión de policías en la calle o militares en las cárceles y fronteras.... (❌ No relevante - Similitud: 0.58)\n",
      "\n",
      "🔎 Evaluando query: educación pública\n",
      "Cargando sistema de búsqueda...\n",
      "❌ No se encontraron resultados.\n",
      "\n",
      "🔎 Evaluando query: empleo juvenil\n",
      "Cargando sistema de búsqueda...\n",
      "\n",
      "📌 **Documentos obtenidos y similitud:**\n",
      "1. Bolsas de empleo juvenil con pasantías pagadas como inicio\n",
      "Acciones:\n",
      "Creación de una plataforma nacional de empleo juvenil: Desarrollar una\n",
      "bolsa de e... (✅ Relevante - Similitud: 0.84)\n",
      "2. Promoción del empleo juvenil\n",
      "Implementar programas especificos para abordar el desafío del desempleo juvenil, la\n",
      "\n",
      "creación de prácticas laborales, pas... (✅ Relevante - Similitud: 0.86)\n",
      "3. Bolsas de empleo juvenil con pasantías pagadas como inicio:\n",
      "Facilitar la inserción laboral de jóvenes, brindando experiencia práctica\n",
      "y capacitación.... (✅ Relevante - Similitud: 0.87)\n",
      "4. Apoyar la generación de empleo juvenil desde los Talleres Artesanales; evitando que la\n",
      "juventud sea vea sometida ante la delincuencia y el consumo de ... (✅ Relevante - Similitud: 0.78)\n",
      "5. Incentivo a empresas que contraten nuevo personal indistintamente de\n",
      "su edad:\n",
      "Estimular la creación de empleo y reducir el desempleo juvenil y en\n",
      "otra... (✅ Relevante - Similitud: 0.79)\n",
      "\n",
      "🔎 Evaluando query: cambio climático\n",
      "Cargando sistema de búsqueda...\n",
      "\n",
      "📌 **Documentos obtenidos y similitud:**\n",
      "1. Cambio Climático: Alteraciones significativas en los patrones climáticos globales,\n",
      "principalmente atribuibles a las actividades humanas, como la quema... (❌ No relevante - Similitud: 0.61)\n",
      "2. Con el cambio climático Ecuador se encuentra en una encrucijada: por\n",
      "un lado, el país se verá desproporcionadamente afectado por las\n",
      "consecuencias neg... (❌ No relevante - Similitud: 0.45)\n",
      "3. Finalmente, el cambio climático emerge como un desafío transversal en el medio\n",
      "ambiente y el agua.... (❌ No relevante - Similitud: 0.65)\n",
      "4. Elaborar políticas de Estado para combatir el cambio climático y sus impactos,\n",
      "tanto a nivel de país como en ámbitos internacionales.... (✅ Relevante - Similitud: 0.81)\n",
      "5. Por otra parte, la Comisión Económica para\n",
      "América Latina y el Caribe (CEPAL) señala que el cambio climático ha intensificado\n",
      "fenómenos como sequías e... (❌ No relevante - Similitud: 0.51)\n",
      "\n",
      "📊 **Resultados Promedio**\n",
      "📌 Precision@5: 0.4800\n",
      "📌 Recall@5: 0.8000\n",
      "📌 F1-Score@5: 0.5333\n"
     ]
    }
   ],
   "source": [
    "# Ejecutar la evaluación con embeddings\n",
    "queries_de_prueba = [\"reducción de impuestos\", \"seguridad ciudadana\", \"educación pública\", \"empleo juvenil\", \"cambio climático\"]\n",
    "evaluar_sistema_embeddings(queries_de_prueba, k=5)"
   ]
  },
  {
   "cell_type": "markdown",
   "metadata": {},
   "source": [
    "# 3. Generación de respuestas con Ollama"
   ]
  },
  {
   "cell_type": "code",
   "execution_count": 25,
   "metadata": {},
   "outputs": [],
   "source": [
    "#Importar librerías\n",
    "import requests\n",
    "import json\n",
    "import re"
   ]
  },
  {
   "cell_type": "code",
   "execution_count": null,
   "metadata": {},
   "outputs": [],
   "source": [
    "#  Frases irrelevantes que deben ser eliminadas antes de buscar\n",
    "FRASES_IRRELEVANTES = [\n",
    "    \"que candidatos proponen\",\n",
    "    \"qué candidatos proponen\",\n",
    "    \"candidatos proponen\",\n",
    "    \"qué candidatos plantean\",\n",
    "    \"qué candidatos consideran\",\n",
    "    \"qué candidatos tienen en su plan\",\n",
    "    \"qué candidatos están a favor de\",\n",
    "    \"que propone\",\n",
    "    \"quién propone\",\n",
    "    \"quienes proponen\",\n",
    "    \"qué partido propone\",\n",
    "    \"qué candidatos impulsan\"\n",
    "]"
   ]
  },
  {
   "cell_type": "markdown",
   "metadata": {},
   "source": [
    "Función que elimina frases irrelevantes de la consulta del usuario antes de ejecutar la búsqueda."
   ]
  },
  {
   "cell_type": "code",
   "execution_count": 27,
   "metadata": {},
   "outputs": [],
   "source": [
    "def limpiar_query(query):\n",
    "    \"\"\"Limpia la consulta eliminando frases irrelevantes para mejorar la búsqueda.\"\"\"\n",
    "    query = query.lower().strip()\n",
    "    \n",
    "    # Eliminar frases completas irrelevantes\n",
    "    for frase in FRASES_IRRELEVANTES:\n",
    "        query = query.replace(frase, \"\").strip()\n",
    "\n",
    "    # Eliminar espacios dobles después de limpiar\n",
    "    query = re.sub(r'\\s+', ' ', query)\n",
    "\n",
    "    # Si después de limpiar la consulta está vacía, devolvemos la original\n",
    "    return query if query else \"No válida\""
   ]
  },
  {
   "cell_type": "markdown",
   "metadata": {},
   "source": [
    "Función que genera una respuesta estructurada basada en los documentos recuperados de la búsqueda usando el modelo mistral a través de Ollama API."
   ]
  },
  {
   "cell_type": "code",
   "execution_count": 28,
   "metadata": {},
   "outputs": [],
   "source": [
    "def generar_respuesta_ollama(query, documentos):\n",
    "    \"\"\"Genera una respuesta estrictamente basada en los documentos obtenidos en la búsqueda.\"\"\"\n",
    "\n",
    "    if not documentos:\n",
    "        return \"No se encontraron documentos relevantes para generar una respuesta.\"\n",
    "\n",
    "    # 🔹 Construcción de la lista de respuestas con información real\n",
    "    ranking_info = []\n",
    "    candidatos_info = []\n",
    "    fuentes_info = []\n",
    "    \n",
    "    for i, doc in enumerate(documentos, 1):\n",
    "        candidato = doc.get(\"presidente\", \"Candidato desconocido\")\n",
    "        partido = doc.get(\"partido\", \"Partido desconocido\")\n",
    "        tipo = doc.get(\"tipo\", \"Otro\")\n",
    "        relevancia = doc.get(\"relevancia\", 0)\n",
    "        distancia = doc.get(\"distancia_ajustada\", 0)\n",
    "        contexto = doc.get(\"texto_contexto\", \"\").strip()\n",
    "\n",
    "        # 🔹 Ranking inicial\n",
    "        ranking_info.append(\n",
    "            f\"🔍 {candidato} - TIPO: {tipo} - RELEVANCIA: {relevancia:.4f} - DISTANCIA: {distancia:.4f}\"\n",
    "        )\n",
    "\n",
    "        # 🔹 Información detallada del candidato\n",
    "        candidatos_info.append(\n",
    "            f\"📌 {candidato} ({partido}):\\n\"\n",
    "            f\"Fuente: {tipo.capitalize()}\\n\"\n",
    "            f\"📄 Declaración: \\\"{contexto}\\\"\\n\"\n",
    "        )\n",
    "\n",
    "        # 🔹 Registro de la fuente completa\n",
    "        fuentes_info.append(\n",
    "            f\"📚 {tipo.upper()} - {candidato} ({partido})\\nTexto completo:\\n{contexto}\\n\"\n",
    "        )\n",
    "\n",
    "    # 🔹 Construcción del prompt estructurado para Ollama\n",
    "    prompt = f\"\"\"Genera una respuesta detallada y clara basada ÚNICAMENTE en la información recuperada:\n",
    "\n",
    "💭 **Pregunta:** {query}\n",
    "\n",
    "🔝 **Ranking final de los resultados:**\n",
    "{chr(10).join(ranking_info)}\n",
    "\n",
    "📝 **Respuesta:**\n",
    "Se han encontrado los siguientes candidatos que mencionan la construcción de hospitales en sus propuestas:\n",
    "\n",
    "{chr(10).join(candidatos_info)}\n",
    "\n",
    "💡 **Análisis general:**  \n",
    "De acuerdo con la información recuperada, se han identificado {len(documentos)} candidatos que incluyen la construcción o mejora de hospitales en sus propuestas. Algunas propuestas destacan la construcción de hospitales en zonas rurales, mientras que otras enfatizan la modernización de infraestructuras existentes o la mejora de la atención médica.\n",
    "\n",
    "📚 **Fuentes principales consultadas:**\n",
    "{chr(10).join(fuentes_info)}\n",
    "\"\"\"\n",
    "\n",
    "    try:\n",
    "        # 🔹 Hacer la solicitud a Ollama sin streaming para recibir la respuesta completa más rápido\n",
    "        respuesta = requests.post(\n",
    "            \"http://localhost:11434/api/generate\",\n",
    "            json={\"model\": \"mistral\", \"prompt\": prompt, \"stream\": False}\n",
    "        )\n",
    "        respuesta.raise_for_status()\n",
    "\n",
    "        return respuesta.json().get(\"response\", \"No se pudo generar una respuesta.\")\n",
    "\n",
    "    except requests.exceptions.RequestException as e:\n",
    "        return f\"Error en la solicitud a Ollama: {e}\"\n",
    "    except ValueError as e:\n",
    "        return f\"Error al procesar la respuesta del modelo: {e}\"\n",
    "\n"
   ]
  },
  {
   "cell_type": "markdown",
   "metadata": {},
   "source": [
    "Función que realiza la búsqueda con el sistema RAG desarrollado y genera la respuesta basado en los documentos recuperados"
   ]
  },
  {
   "cell_type": "code",
   "execution_count": 29,
   "metadata": {},
   "outputs": [],
   "source": [
    "def buscar_y_generar_respuesta(query, k=5):\n",
    "    \"\"\"Realiza la búsqueda con el sistema y genera una respuesta solo con documentos encontrados.\"\"\"\n",
    "    \n",
    "    query_limpia = limpiar_query(query)\n",
    "    print(f\"🔍 Buscando: {query_limpia}\")\n",
    "\n",
    "    if query_limpia == \"No válida\":\n",
    "        return \"No se encontró una consulta válida para la búsqueda.\"\n",
    "\n",
    "    # 🔹 Solo usamos documentos recuperados del corpus (SIN datos inventados)\n",
    "    documentos = buscar(query_limpia, min(k, 5))  \n",
    "\n",
    "    if not documentos:\n",
    "        return \"No se encontraron documentos relevantes para generar una respuesta.\"\n",
    "\n",
    "    respuesta = generar_respuesta_ollama(query, documentos)\n",
    "\n",
    "    return respuesta"
   ]
  },
  {
   "cell_type": "markdown",
   "metadata": {},
   "source": [
    "Se ejecuta el sistema de búsqueda iterativamente a través de la terminal."
   ]
  },
  {
   "cell_type": "code",
   "execution_count": 30,
   "metadata": {},
   "outputs": [
    {
     "name": "stdout",
     "output_type": "stream",
     "text": [
      "🔎 Sistema de búsqueda optimizada con respuesta estructurada y basada en documentos.\n",
      "\n",
      "==================================================\n",
      "🔍 Buscando: quien es francesco tabacchi\n",
      "Cargando sistema de búsqueda...\n",
      "\n",
      "📢 Respuesta generada por el modelo:\n",
      "📚 PERFIL: FRANCESCO TABACCHI (MOVIMIENTO CREO, CREANDO OPORTUNIDADES)\n",
      "  ---------------------------------------------------------------\n",
      "  Nombre: Francesco Tabacchi\n",
      "  Partido: Movimiento Creando Oportunidades (CREO)\n",
      "  Edad: 53 años\n",
      "  Profesión: Empresario ecuatoriano con amplia trayectoria en los sectores ganadero, agrícola y de la construcción.\n",
      "  Cargos: Presidente de la Asociación de Ganaderos del Litoral y de la Federación de Ganaderos del Ecuador; Accionista y administrador de varias empresas registradas en la Superintendencia de Compañías, entre ellas: TR1 S.A.S.\n",
      "  Fórmula política: Forma equipo con Blanca Saquicela, quien fue gobernadora del Guayas en 2023 y es candidata a prefecto de Guayas dentro del mismo movimiento Creo.\n",
      "\n",
      "  📚 INTERVISTAS: FRANCESCO TABACCHI (MOVIMIENTO CREO, CREANDO OPORTUNIDADES)\n",
      "  ---------------------------------------------------------------------\n",
      "  Contacto Directo:\n",
      "  - En el especial de elecciones, avanzamos en el diálogo con los candidatos. [RELEVANTE] Hoy está en Contacto Directo Francesco Tabacchi, el ganadero de 53 años, quien conforma con Blanca Saquicela el binomio del movimiento Creo.\n",
      "    - Blanca Saquicela, su experiencia política y la de Francesco Tabacchi en gremialismo, se resume a ser gobernadora del Guayas en 2023 y candidata a prefecto de Guayas con la misma agrupación.\n",
      "    - Además, fue presidente de la Asociación de Ganaderos de Litoral y Galápagos, y también encabezó la Federación de Ganaderos del Ecuador.\n",
      "  - Y lo que sí le puedo adelantar es que un presidente de la República, y esa es mi postura, debe rodearse siempre de gente más preparada y más inteligente que uno. No, con respecto a él, yo creo que ya cumplió con los ecuatorianos, creo que fue el presidente de la República y que ya está. [RELEVANTE] Francesco Tabacchi, candidato presidencial por Creo. Gracias por acompañarnos esta mañana en Contacto Directo y compartirnos algunas de sus propuestas en caso de llegar a la presidencia. Gracias, José.\n",
      "  - Gracias por habernos acompañado esta mañana. Gracias a usted por la entrevista. [RELEVANTE] Entrevista a Francesco Tabacchi – Revista Vistazo\n",
      "    - ¿Qué es lo que le motiva a seguir adelante en política? La misma pregunta me hacen mi familia, mi esposa, mis hijos, mis padres y mis socios. Este país ha sido muy generoso conmigo.\n",
      "  - Gracias, José. Gracias por el espacio. [RELEVANTE] Entrevista a Francesco Tabacchi – Teleamazonas\n",
      "    - Le doy la bienvenida formalmente a Francesco Tabacchi. Gracias por estar aquí esta mañana. Buenos días.\n",
      "\n",
      "  📚 RESUMEN: FRANCESCO TABACCHI (MOVIMIENTO CREO, CREANDO OPORTUNIDADES)\n",
      "  -------------------------------------------------------------------\n",
      "  Francesco Tabacchi es un empresario ecuatoriano de 53 años con amplia trayectoria en los sectores ganadero, agrícola y de la construcción. Forma equipo político con Blanca Saquicela dentro del Movimiento Creando Oportunidades (CREO). Fue presidente de la Asociación de Ganaderos del Litoral y de la Federación de Ganaderos del Ecuador, así como accionista y administrador de varias empresas registradas en la Superintendencia de Compañías. En una entrevista para Contacto Directo, expresó que un presidente de la República debe rodearse de gente más preparada y más inteligente que él mismo. Además, mencionó que le motiva seguir adelante en política por el apoyo de su familia, esposa, hijos, padres y socios.\n",
      "\n",
      "==================================================\n"
     ]
    }
   ],
   "source": [
    "if __name__ == \"__main__\":\n",
    "    print(\"🔎 Sistema de búsqueda optimizada con respuesta estructurada y basada en documentos.\")\n",
    "\n",
    "    while True:\n",
    "        print(\"\\n\" + \"=\"*50)\n",
    "        query = input(\"\\nIngrese su pregunta (o 'salir' para terminar): \")\n",
    "        if query.lower() == 'salir':\n",
    "            break\n",
    "\n",
    "        k = input(\"Número de documentos a usar para la respuesta (Enter para usar 5): \")\n",
    "        k = int(k) if k.strip() else 5\n",
    "\n",
    "        respuesta = buscar_y_generar_respuesta(query, k)\n",
    "        print(\"\\n📢 Respuesta generada por el modelo:\")\n",
    "        print(respuesta)\n"
   ]
  },
  {
   "cell_type": "markdown",
   "metadata": {},
   "source": []
  }
 ],
 "metadata": {
  "colab": {
   "provenance": []
  },
  "kernelspec": {
   "display_name": "Python 3 (ipykernel)",
   "language": "python",
   "name": "python3"
  },
  "language_info": {
   "codemirror_mode": {
    "name": "ipython",
    "version": 3
   },
   "file_extension": ".py",
   "mimetype": "text/x-python",
   "name": "python",
   "nbconvert_exporter": "python",
   "pygments_lexer": "ipython3",
   "version": "3.10.13"
  }
 },
 "nbformat": 4,
 "nbformat_minor": 4
}
